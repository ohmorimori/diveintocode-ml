{
 "cells": [
  {
   "cell_type": "markdown",
   "metadata": {},
   "source": [
    "# Week1授業課題2 何回折ったら富士山を超えるか問題"
   ]
  },
  {
   "cell_type": "markdown",
   "metadata": {},
   "source": [
    "___\n",
    "## 【課題】富士山を超える最小の折る回数"
   ]
  },
  {
   "cell_type": "code",
   "execution_count": 33,
   "metadata": {},
   "outputs": [
    {
     "name": "stdout",
     "output_type": "stream",
     "text": [
      "26 回折ると富士山に到達\n"
     ]
    }
   ],
   "source": [
    "thickness = 0.00008 # meter\n",
    "folded_thickness = thickness #0回折られたときは初期値の厚み\n",
    "MT_FUJI = 3776\n",
    "folding_times = 0 # count用の変数\n",
    "\n",
    "while (folded_thickness < MT_FUJI):\n",
    "    folded_thickness *= 2\n",
    "    folding_times += 1\n",
    "\n",
    "print(\"%d 回折ると富士山に到達\" % folding_times)"
   ]
  },
  {
   "cell_type": "markdown",
   "metadata": {},
   "source": [
    "___\n",
    "## 【課題】任意の厚さに対応した関数を作成"
   ]
  },
  {
   "cell_type": "code",
   "execution_count": 45,
   "metadata": {},
   "outputs": [],
   "source": [
    "def times_folding_to_reach(thickness, object_to_reach):\n",
    "    folding_times = 0\n",
    "    folded_thickness = thickness\n",
    "    \n",
    "    while(folded_thickness < object_to_reach):\n",
    "        folded_thickness *= 2\n",
    "        folding_times += 1\n",
    "\n",
    "    return folding_times"
   ]
  },
  {
   "cell_type": "code",
   "execution_count": 35,
   "metadata": {},
   "outputs": [
    {
     "name": "stdout",
     "output_type": "stream",
     "text": [
      "26 回折ると 3776 mに到達\n"
     ]
    }
   ],
   "source": [
    "folding_times = times_folding_to_reach(thickness, MT_FUJI)\n",
    "print(\"%d 回折ると %d mに到達\" % (folding_times, MT_FUJI))"
   ]
  },
  {
   "cell_type": "markdown",
   "metadata": {},
   "source": [
    "___\n",
    "## 【課題】必要な紙の長さ\n",
    "\n",
    "$$\n",
    " L = \\frac{\\pi t_0}{6} (2^n + 4)(2^n - 1)\n",
    "$$\n"
   ]
  },
  {
   "cell_type": "code",
   "execution_count": 51,
   "metadata": {},
   "outputs": [],
   "source": [
    "import math\n",
    "\n",
    "def length_of_paper_to_fold( object_to_reach, t0 = 0.00008):\n",
    "    #折る回数\n",
    "    n = times_folding_to_reach(t0, object_to_reach)\n",
    "    #n回折るために必要な紙の長さ\n",
    "    L = math.pi * t0 * (2**n + 4)*(2**n - 1)/6\n",
    "    \n",
    "    return L"
   ]
  },
  {
   "cell_type": "code",
   "execution_count": 61,
   "metadata": {},
   "outputs": [],
   "source": [
    "\"\"\"\n",
    "月の場合\n",
    "\n",
    "\"\"\"\n",
    "L = length_of_paper_to_fold(384400000)"
   ]
  },
  {
   "cell_type": "code",
   "execution_count": 62,
   "metadata": {},
   "outputs": [
    {
     "data": {
      "text/plain": [
       "3.240919444170781e+21"
      ]
     },
     "execution_count": 62,
     "metadata": {},
     "output_type": "execute_result"
    }
   ],
   "source": [
    "L"
   ]
  },
  {
   "cell_type": "code",
   "execution_count": 56,
   "metadata": {},
   "outputs": [],
   "source": [
    "\"\"\"\n",
    "富士山の場合\n",
    "\n",
    "\"\"\"\n",
    "L = length_of_paper_to_fold(MT_FUJI)"
   ]
  },
  {
   "cell_type": "code",
   "execution_count": 57,
   "metadata": {},
   "outputs": [
    {
     "data": {
      "text/plain": [
       "188646348487.24014"
      ]
     },
     "execution_count": 57,
     "metadata": {},
     "output_type": "execute_result"
    }
   ],
   "source": [
    "L"
   ]
  },
  {
   "cell_type": "code",
   "execution_count": 59,
   "metadata": {},
   "outputs": [],
   "source": [
    "\"\"\"\n",
    "プロキシマケンタウリの場合\n",
    "\n",
    "\"\"\"\n",
    "L = length_of_paper_to_fold(4.243 * 9.461e+15)"
   ]
  },
  {
   "cell_type": "code",
   "execution_count": 60,
   "metadata": {},
   "outputs": [
    {
     "data": {
      "text/plain": [
       "1.4595803601100348e+37"
      ]
     },
     "execution_count": 60,
     "metadata": {},
     "output_type": "execute_result"
    }
   ],
   "source": [
    "L"
   ]
  },
  {
   "cell_type": "code",
   "execution_count": null,
   "metadata": {},
   "outputs": [],
   "source": []
  }
 ],
 "metadata": {
  "kernelspec": {
   "display_name": "Python 3",
   "language": "python",
   "name": "python3"
  },
  "language_info": {
   "codemirror_mode": {
    "name": "ipython",
    "version": 3
   },
   "file_extension": ".py",
   "mimetype": "text/x-python",
   "name": "python",
   "nbconvert_exporter": "python",
   "pygments_lexer": "ipython3",
   "version": "3.6.8"
  }
 },
 "nbformat": 4,
 "nbformat_minor": 2
}
