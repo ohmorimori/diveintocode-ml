{
 "cells": [
  {
   "cell_type": "markdown",
   "metadata": {},
   "source": [
    "# Week1授業前課題1 Pythonを使ってみよう"
   ]
  },
  {
   "cell_type": "markdown",
   "metadata": {},
   "source": [
    "___\n",
    "## 【課題】100日後の米粒の数"
   ]
  },
  {
   "cell_type": "code",
   "execution_count": 20,
   "metadata": {
    "scrolled": true
   },
   "outputs": [],
   "source": [
    "kome_initial = 1 #\n",
    "kome = []  #その日にもらえるコメの数をリストに格納\n",
    "kome_integrated = [] #その日までにもらえるコメの積算\n",
    "\n",
    "for i in range(100):\n",
    "    kome.append(kome_initial*2**(i))\n",
    "    if (kome_integrated ):\n",
    "        kome_integrated.append(kome_integrated[-1] + kome[-1])\n",
    "    else:\n",
    "        kome_integrated.append(kome[0])"
   ]
  },
  {
   "cell_type": "code",
   "execution_count": 21,
   "metadata": {},
   "outputs": [
    {
     "data": {
      "text/plain": [
       "[<matplotlib.lines.Line2D at 0x117170be0>]"
      ]
     },
     "execution_count": 21,
     "metadata": {},
     "output_type": "execute_result"
    },
    {
     "data": {
      "image/png": "[encoded data removed]",
      "text/plain": [
       "<Figure size 432x288 with 1 Axes>"
      ]
     },
     "metadata": {
      "needs_background": "light"
     },
     "output_type": "display_data"
    }
   ],
   "source": [
    "\"\"\"\n",
    "グラフを表示（その日にもらう米）\n",
    "\"\"\"\n",
    "import matplotlib.pyplot as plt\n",
    "%matplotlib inline\n",
    "\n",
    "plt.title(\"N of kome\")\n",
    "plt.xlabel(\"days\")\n",
    "plt.ylabel(\"kome\")\n",
    "plt.plot(kome)"
   ]
  },
  {
   "cell_type": "code",
   "execution_count": 22,
   "metadata": {},
   "outputs": [
    {
     "data": {
      "text/plain": [
       "[<matplotlib.lines.Line2D at 0x1171d6780>]"
      ]
     },
     "execution_count": 22,
     "metadata": {},
     "output_type": "execute_result"
    },
    {
     "data": {
      "image/png": "[encoded data removed]",
      "text/plain": [
       "<Figure size 432x288 with 1 Axes>"
      ]
     },
     "metadata": {
      "needs_background": "light"
     },
     "output_type": "display_data"
    }
   ],
   "source": [
    "\"\"\"\n",
    "グラフを表示（積算のコメの数）\n",
    "\"\"\"\n",
    "import matplotlib.pyplot as plt\n",
    "%matplotlib inline\n",
    "\n",
    "plt.title(\"N of kome\")\n",
    "plt.xlabel(\"days\")\n",
    "plt.ylabel(\"kome_integrated\")\n",
    "plt.plot(kome_integrated)"
   ]
  },
  {
   "cell_type": "markdown",
   "metadata": {},
   "source": [
    "___\n",
    "## 【課題】 100日後以外の米粒の数"
   ]
  },
  {
   "cell_type": "code",
   "execution_count": 29,
   "metadata": {},
   "outputs": [],
   "source": [
    "\"\"\"\n",
    "関数化\n",
    "\"\"\"\n",
    "def compute_sorori_shinzaemon(day=100):\n",
    "    kome_initial = 1\n",
    "    list_n_grains = []\n",
    "    list_total_grains = []\n",
    "    \n",
    "    for i in range(day):\n",
    "        list_n_grains.append(kome_initial*2**(i))\n",
    "        if (list_total_grains):\n",
    "            list_total_grains.append(list_total_grains[-1] + list_n_grains[-1])\n",
    "        else:\n",
    "            list_total_grains.append(list_n_grains[0])\n",
    "\n",
    "    return list_n_grains, list_total_grains\n",
    "\n",
    "list_n_grains, list_total_grains = compute_sorori_shinzaemon(100)\n",
    "\n",
    "\n"
   ]
  },
  {
   "cell_type": "code",
   "execution_count": 31,
   "metadata": {},
   "outputs": [
    {
     "data": {
      "text/plain": [
       "[1,\n",
       " 3,\n",
       " 7,\n",
       " 15,\n",
       " 31,\n",
       " 63,\n",
       " 127,\n",
       " 255,\n",
       " 511,\n",
       " 1023,\n",
       " 2047,\n",
       " 4095,\n",
       " 8191,\n",
       " 16383,\n",
       " 32767,\n",
       " 65535,\n",
       " 131071,\n",
       " 262143,\n",
       " 524287,\n",
       " 1048575,\n",
       " 2097151,\n",
       " 4194303,\n",
       " 8388607,\n",
       " 16777215,\n",
       " 33554431,\n",
       " 67108863,\n",
       " 134217727,\n",
       " 268435455,\n",
       " 536870911,\n",
       " 1073741823,\n",
       " 2147483647,\n",
       " 4294967295,\n",
       " 8589934591,\n",
       " 17179869183,\n",
       " 34359738367,\n",
       " 68719476735,\n",
       " 137438953471,\n",
       " 274877906943,\n",
       " 549755813887,\n",
       " 1099511627775,\n",
       " 2199023255551,\n",
       " 4398046511103,\n",
       " 8796093022207,\n",
       " 17592186044415,\n",
       " 35184372088831,\n",
       " 70368744177663,\n",
       " 140737488355327,\n",
       " 281474976710655,\n",
       " 562949953421311,\n",
       " 1125899906842623,\n",
       " 2251799813685247,\n",
       " 4503599627370495,\n",
       " 9007199254740991,\n",
       " 18014398509481983,\n",
       " 36028797018963967,\n",
       " 72057594037927935,\n",
       " 144115188075855871,\n",
       " 288230376151711743,\n",
       " 576460752303423487,\n",
       " 1152921504606846975,\n",
       " 2305843009213693951,\n",
       " 4611686018427387903,\n",
       " 9223372036854775807,\n",
       " 18446744073709551615,\n",
       " 36893488147419103231,\n",
       " 73786976294838206463,\n",
       " 147573952589676412927,\n",
       " 295147905179352825855,\n",
       " 590295810358705651711,\n",
       " 1180591620717411303423,\n",
       " 2361183241434822606847,\n",
       " 4722366482869645213695,\n",
       " 9444732965739290427391,\n",
       " 18889465931478580854783,\n",
       " 37778931862957161709567,\n",
       " 75557863725914323419135,\n",
       " 151115727451828646838271,\n",
       " 302231454903657293676543,\n",
       " 604462909807314587353087,\n",
       " 1208925819614629174706175,\n",
       " 2417851639229258349412351,\n",
       " 4835703278458516698824703,\n",
       " 9671406556917033397649407,\n",
       " 19342813113834066795298815,\n",
       " 38685626227668133590597631,\n",
       " 77371252455336267181195263,\n",
       " 154742504910672534362390527,\n",
       " 309485009821345068724781055,\n",
       " 618970019642690137449562111,\n",
       " 1237940039285380274899124223,\n",
       " 2475880078570760549798248447,\n",
       " 4951760157141521099596496895,\n",
       " 9903520314283042199192993791,\n",
       " 19807040628566084398385987583,\n",
       " 39614081257132168796771975167,\n",
       " 79228162514264337593543950335,\n",
       " 158456325028528675187087900671,\n",
       " 316912650057057350374175801343,\n",
       " 633825300114114700748351602687,\n",
       " 1267650600228229401496703205375]"
      ]
     },
     "execution_count": 31,
     "metadata": {},
     "output_type": "execute_result"
    }
   ],
   "source": [
    "list_total_grains"
   ]
  },
  {
   "cell_type": "markdown",
   "metadata": {},
   "source": [
    "___\n",
    "## 【課題】何人が何日生活できる米か"
   ]
  },
  {
   "cell_type": "code",
   "execution_count": 33,
   "metadata": {},
   "outputs": [],
   "source": [
    "\"\"\"\n",
    "何人が何日暮らせるかを算出する関数\n",
    "\"\"\"\n",
    "def how_many_days_can_survive(kome, persons):\n",
    "    #茶碗一杯１５０gで1gに21粒らしい。1人の３食分\n",
    "    kome_per_person_per_day = 3 * 150 * 21\n",
    "    days = kome/(persons*kome_per_person_per_day)\n",
    "    \n",
    "    return days\n",
    "\n",
    "persons = 13\n",
    "kome, total_kome = compute_sorori_shinzaemon(122)\n",
    "days = how_long_days_survive(total_kome[-1], persons)"
   ]
  },
  {
   "cell_type": "code",
   "execution_count": 34,
   "metadata": {},
   "outputs": [
    {
     "data": {
      "text/plain": [
       "4.327970682246368e+31"
      ]
     },
     "execution_count": 34,
     "metadata": {},
     "output_type": "execute_result"
    }
   ],
   "source": [
    "days"
   ]
  },
  {
   "cell_type": "code",
   "execution_count": null,
   "metadata": {},
   "outputs": [],
   "source": []
  }
 ],
 "metadata": {
  "kernelspec": {
   "display_name": "Python 3",
   "language": "python",
   "name": "python3"
  },
  "language_info": {
   "codemirror_mode": {
    "name": "ipython",
    "version": 3
   },
   "file_extension": ".py",
   "mimetype": "text/x-python",
   "name": "python",
   "nbconvert_exporter": "python",
   "pygments_lexer": "ipython3",
   "version": "3.6.8"
  }
 },
 "nbformat": 4,
 "nbformat_minor": 2
}
