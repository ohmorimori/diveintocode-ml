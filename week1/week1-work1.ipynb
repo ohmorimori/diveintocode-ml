{
 "cells": [
  {
   "cell_type": "code",
   "execution_count": 38,
   "metadata": {},
   "outputs": [
    {
     "name": "stdout",
     "output_type": "stream",
     "text": [
      "thickness: 703687441.77664 m\n",
      "thickness: 703687.44 km\n",
      "time:0.00038909912109375 [s]\n"
     ]
    }
   ],
   "source": [
    "import time\n",
    "start = time.time()\n",
    "\"\"\"\n",
    "紙を43回折ったときの厚さを計算するコード(べき乗)\n",
    "\"\"\"\n",
    "\n",
    "thickness = 0.00008\n",
    "\n",
    "folded_thickness = thickness*2**43\n",
    "\n",
    "print(\"thickness: {} m\".format(folded_thickness))\n",
    "#メートルをキロメートルに変換して小数点以下２桁で表示する\n",
    "print(\"thickness: {:.2f} km\".format(folded_thickness/1000))\n",
    "#月までの距離 = 384,400 km\n",
    "\n",
    "elapsed_time = time.time() - start\n",
    "print(\"time:{} [s]\".format(elapsed_time))\n"
   ]
  },
  {
   "cell_type": "code",
   "execution_count": 39,
   "metadata": {},
   "outputs": [
    {
     "name": "stdout",
     "output_type": "stream",
     "text": [
      "thicｋness: [8e-05, 0.00016, 0.00032, 0.00064, 0.00128, 0.00256, 0.00512, 0.01024, 0.02048, 0.04096, 0.08192, 0.16384, 0.32768, 0.65536, 1.31072, 2.62144, 5.24288, 10.48576, 20.97152, 41.94304, 83.88608, 167.77216, 335.54432, 671.08864, 1342.17728, 2684.35456, 5368.70912, 10737.41824, 21474.83648, 42949.67296, 85899.34592, 171798.69184, 343597.38368, 687194.76736, 1374389.53472, 2748779.06944, 5497558.13888, 10995116.27776, 21990232.55552, 43980465.11104, 87960930.22208, 175921860.44416, 351843720.88832, 703687441.77664] m\n",
      "thickness: 703687.44 km\n",
      "time:0.0004899501800537109 [s]\n"
     ]
    }
   ],
   "source": [
    "import time\n",
    "start = time.time()\n",
    "\"\"\"\n",
    "紙を43回折ったときの厚さを計算するコード(for文)\n",
    "\"\"\"\n",
    "\n",
    "thickness = 0.00008\n",
    "folded_thickness= [thickness]\n",
    "for i in range(43):\n",
    "    folded_thickness.append(folded_thickness[-1]*2)\n",
    "\n",
    "print(\"thicｋness: {} m\".format(folded_thickness))\n",
    "#メートルをキロメートルに変換して小数点以下２桁で表示する\n",
    "print(\"thickness: {:.2f} km\".format(folded_thickness[-1]/1000))\n",
    "#月までの距離 = 384,400 km\n",
    "\n",
    "elapsed_time = time.time() - start\n",
    "print(\"time:{} [s]\".format(elapsed_time))"
   ]
  },
  {
   "cell_type": "markdown",
   "metadata": {},
   "source": [
    "## 説明\n",
    "for文は繰り返し数のnが増えるほど計算コストが上がるが、べき乗はほぼ一定。べき乗を使った方が変数の変動に対して安定と思われる。ただ、べき乗はべき数が大きいとオーバーフローする。"
   ]
  },
  {
   "cell_type": "code",
   "execution_count": 29,
   "metadata": {},
   "outputs": [
    {
     "name": "stdout",
     "output_type": "stream",
     "text": [
      "N_of_elements: 44\n"
     ]
    }
   ],
   "source": [
    "n_number = len(folded_thickness)\n",
    "print(\"N_of_elements: {}\".format(n_number))"
   ]
  },
  {
   "cell_type": "code",
   "execution_count": 36,
   "metadata": {},
   "outputs": [
    {
     "data": {
      "text/plain": [
       "[<matplotlib.lines.Line2D at 0x11694c6a0>]"
      ]
     },
     "execution_count": 36,
     "metadata": {},
     "output_type": "execute_result"
    },
    {
     "data": {
      "image/png": "[encoded data removed]",
      "text/plain": [
       "<Figure size 432x288 with 1 Axes>"
      ]
     },
     "metadata": {
      "needs_background": "light"
     },
     "output_type": "display_data"
    }
   ],
   "source": [
    "\"\"\"\n",
    "グラフを教示する。タイトルと軸ラベル付き\n",
    "\"\"\"\n",
    "import matplotlib.pyplot as plt\n",
    "%matplotlib inline\n",
    "\n",
    "plt.title(\"thickness of folded papaer\")\n",
    "plt.xlabel(\"number of folds\")\n",
    "plt.ylabel(\"thickness[m]\")\n",
    "plt.plot(folded_thickness)"
   ]
  },
  {
   "cell_type": "markdown",
   "metadata": {},
   "source": [
    "## 説明\n",
    "畳んだ回数に応じて指数関数的に上昇し、畳んだ回数が40回を超えたあたりから月への距離と比較できるオーダーになる。"
   ]
  },
  {
   "cell_type": "code",
   "execution_count": 56,
   "metadata": {
    "scrolled": false
   },
   "outputs": [
    {
     "data": {
      "text/plain": [
       "[<matplotlib.lines.Line2D at 0x10b82c0b8>]"
      ]
     },
     "execution_count": 56,
     "metadata": {},
     "output_type": "execute_result"
    },
    {
     "data": {
      "image/png": "[encoded data removed]",
      "text/plain": [
       "<Figure size 432x288 with 1 Axes>"
      ]
     },
     "metadata": {
      "needs_background": "light"
     },
     "output_type": "display_data"
    }
   ],
   "source": [
    "plt.title(\"thickness of folded paper\")\n",
    "plt.xlabel(\"number of folds\")\n",
    "plt.ylabel(\"thickness[m]\")\n",
    "plt.tick_params(labelsize=15)#軸の値に関する設定\n",
    "plt.plot(\n",
    "    folded_thickness,\n",
    "    color = 'pink',\n",
    "    marker='o',\n",
    "    linestyle='dashed',\n",
    "    linewidth ='2',\n",
    "    markersize=6\n",
    ")"
   ]
  },
  {
   "cell_type": "code",
   "execution_count": null,
   "metadata": {},
   "outputs": [],
   "source": []
  }
 ],
 "metadata": {
  "kernelspec": {
   "display_name": "Python 3",
   "language": "python",
   "name": "python3"
  },
  "language_info": {
   "codemirror_mode": {
    "name": "ipython",
    "version": 3
   },
   "file_extension": ".py",
   "mimetype": "text/x-python",
   "name": "python",
   "nbconvert_exporter": "python",
   "pygments_lexer": "ipython3",
   "version": "3.6.8"
  }
 },
 "nbformat": 4,
 "nbformat_minor": 2
}
