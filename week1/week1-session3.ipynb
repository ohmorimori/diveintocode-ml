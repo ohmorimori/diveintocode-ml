{
 "cells": [
  {
   "cell_type": "markdown",
   "metadata": {},
   "source": [
    "# Week1授業課題3 栗まんじゅう問題\n",
    "\n"
   ]
  },
  {
   "cell_type": "markdown",
   "metadata": {},
   "source": [
    "___\n",
    "## 【課題】　栗まんじゅうが太陽系を覆う日\n"
   ]
  },
  {
   "cell_type": "code",
   "execution_count": 32,
   "metadata": {},
   "outputs": [],
   "source": [
    "MANJU = 10**(-4) #m^3\n",
    "TAIYO_KEI = 3*(10**80) #m^3\n",
    "TOKYO_DOME = 124*(10**4)#m^3\n",
    "ONEROOM_HOUSE = 20 #m^3"
   ]
  },
  {
   "cell_type": "code",
   "execution_count": 22,
   "metadata": {},
   "outputs": [],
   "source": [
    "def time_to_occupy(occupying, to_be_occupied):\n",
    "    num = 0\n",
    "    while occupying <= to_be_occupied:\n",
    "        occupying *= 2\n",
    "        num += 1\n",
    "\n",
    "    # 5 minutes to divide once\n",
    "    minute = 5 * num\n",
    "    return minute"
   ]
  },
  {
   "cell_type": "code",
   "execution_count": 26,
   "metadata": {},
   "outputs": [
    {
     "name": "stdout",
     "output_type": "stream",
     "text": [
      "1405 min\n"
     ]
    }
   ],
   "source": [
    "## まんじゅうが太陽系を満たすのにかかる時間（分）\n",
    "a = time_to_occupy(MANJU , TAIYO_KEI)\n",
    "print(\"{} min\".format(a))"
   ]
  },
  {
   "cell_type": "code",
   "execution_count": 29,
   "metadata": {},
   "outputs": [
    {
     "name": "stdout",
     "output_type": "stream",
     "text": [
      "170 min\n"
     ]
    }
   ],
   "source": [
    "## まんじゅうが東京ドームを満たすのにかかる時間（分）\n",
    "b = time_to_occupy(MANJU , TOKYO_DOME)\n",
    "print(\"{} min\".format(b))"
   ]
  },
  {
   "cell_type": "code",
   "execution_count": 30,
   "metadata": {},
   "outputs": [
    {
     "name": "stdout",
     "output_type": "stream",
     "text": [
      "1240 min\n"
     ]
    }
   ],
   "source": [
    "## 東京ドームが太陽系を満たすのにかかる時間（分）\n",
    "c = time_to_occupy(TOKYO_DOME , TAIYO_KEI)\n",
    "print(\"{} min\".format(c))"
   ]
  },
  {
   "cell_type": "code",
   "execution_count": 34,
   "metadata": {},
   "outputs": [
    {
     "name": "stdout",
     "output_type": "stream",
     "text": [
      "90 min\n"
     ]
    }
   ],
   "source": [
    "## まんじゅうが６畳の部屋を満たすのにかかる時間（分）\n",
    "d = time_to_occupy(MANJU , ONEROOM_HOUSE)\n",
    "print(\"{} min\".format(d))"
   ]
  }
 ],
 "metadata": {
  "kernelspec": {
   "display_name": "Python 3",
   "language": "python",
   "name": "python3"
  },
  "language_info": {
   "codemirror_mode": {
    "name": "ipython",
    "version": 3
   },
   "file_extension": ".py",
   "mimetype": "text/x-python",
   "name": "python",
   "nbconvert_exporter": "python",
   "pygments_lexer": "ipython3",
   "version": "3.6.8"
  }
 },
 "nbformat": 4,
 "nbformat_minor": 2
}
