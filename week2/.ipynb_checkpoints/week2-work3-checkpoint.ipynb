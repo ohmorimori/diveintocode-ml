{
 "cells": [
  {
   "cell_type": "markdown",
   "metadata": {},
   "source": [
    "# Week2授業前課題3\n",
    "## 【課題1】内積を手計算しよう\n",
    "___"
   ]
  },
  {
   "cell_type": "markdown",
   "metadata": {},
   "source": [
    "$$\n",
    "A=\n",
    "\\begin{bmatrix}\n",
    "-1&2&3\\\\\n",
    "4&-5&6\\\\\n",
    "7&8&-9\n",
    "\\end{bmatrix}\n",
    ",B=\n",
    "\\begin{bmatrix}\n",
    "0&2&1\\\\\n",
    "0&2&-8\\\\\n",
    "2&9&-1\n",
    "\\end{bmatrix}\n",
    "$$  \n",
    "$$\n",
    "AB =\n",
    "\\begin{bmatrix}\n",
    "6 &29&-20\\\\\n",
    "12&52&38\\\\\n",
    "-18&-51&-48\n",
    "\\end{bmatrix}\n",
    "$$"
   ]
  },
  {
   "cell_type": "markdown",
   "metadata": {},
   "source": [
    "## 【課題2】1次元配列の内積をfor文で計算しよう\n",
    "___"
   ]
  },
  {
   "cell_type": "code",
   "execution_count": 56,
   "metadata": {},
   "outputs": [],
   "source": [
    "import numpy as np\n",
    "A1 = np.array([\n",
    "    [-1, 2, 3]\n",
    "])\n",
    "\n",
    "B1 = np.array([\n",
    "    [0],\n",
    "    [0],\n",
    "    [2]\n",
    "])"
   ]
  },
  {
   "cell_type": "code",
   "execution_count": 47,
   "metadata": {},
   "outputs": [
    {
     "name": "stdout",
     "output_type": "stream",
     "text": [
      "6\n"
     ]
    }
   ],
   "source": [
    "s = 0\n",
    "for j in range (B1.shape[0]):\n",
    "    s += A1[0, j] *B1[j,0]\n",
    "print(s)"
   ]
  },
  {
   "cell_type": "markdown",
   "metadata": {},
   "source": [
    "## 【課題3】多次元配列の内積をfor文で計算しよう\n",
    "___"
   ]
  },
  {
   "cell_type": "code",
   "execution_count": 57,
   "metadata": {},
   "outputs": [],
   "source": [
    "A2 = np.array([\n",
    "    [-1, 2, 3],\n",
    "    [4, -5, 6],\n",
    "    [7, 8, -9]\n",
    "])\n",
    "\n",
    "B2 =np.array([\n",
    "    [0, 2, 1],\n",
    "    [0, 2, -8],\n",
    "    [2, 9, -1]\n",
    "])"
   ]
  },
  {
   "cell_type": "code",
   "execution_count": 58,
   "metadata": {},
   "outputs": [],
   "source": [
    "def matrix_product(A, B):\n",
    "    C = np.full((A.shape[1], B.shape[0]), 0)\n",
    "    if (A.shape[1] != B.shape[0]):\n",
    "        print(\"Unable to calculate\")\n",
    "        return\n",
    "    for i in range (A.shape[0]):\n",
    "        for j in range (B.shape[1]):\n",
    "            s = 0\n",
    "            for k in range(B.shape[0]):\n",
    "                s += A[i, k] *B[k, j]\n",
    "            C[i, j] = s\n",
    "    return C"
   ]
  },
  {
   "cell_type": "code",
   "execution_count": 59,
   "metadata": {},
   "outputs": [
    {
     "name": "stdout",
     "output_type": "stream",
     "text": [
      "[[  6  29 -20]\n",
      " [ 12  52  38]\n",
      " [-18 -51 -48]]\n"
     ]
    }
   ],
   "source": [
    "C = matrix_product(A2, B2)\n",
    "print(C)"
   ]
  },
  {
   "cell_type": "markdown",
   "metadata": {},
   "source": [
    "## 【課題4】内積をnp.dotで計算しよう\n",
    "___"
   ]
  },
  {
   "cell_type": "code",
   "execution_count": 61,
   "metadata": {},
   "outputs": [
    {
     "name": "stdout",
     "output_type": "stream",
     "text": [
      "[[  6  29 -20]\n",
      " [ 12  52  38]\n",
      " [-18 -51 -48]]\n"
     ]
    }
   ],
   "source": [
    "C = np.dot(A2, B2)\n",
    "print(C)"
   ]
  },
  {
   "cell_type": "markdown",
   "metadata": {},
   "source": [
    "## 【課題5】内積ができないときはどうするか\n",
    "___"
   ]
  },
  {
   "cell_type": "markdown",
   "metadata": {},
   "source": [
    "$$\n",
    "A=\n",
    "\\begin{bmatrix}\n",
    "a&2&3\\\\\n",
    "4&-5&6\n",
    "\\end{bmatrix}\n",
    ",\n",
    "B =\n",
    "\\begin{bmatrix}\n",
    "-9&8&7\\\\\n",
    "6&-5&4\n",
    "\\end{bmatrix}\n",
    "$$"
   ]
  },
  {
   "cell_type": "code",
   "execution_count": 73,
   "metadata": {},
   "outputs": [],
   "source": [
    "A3 = np.array([\n",
    "    [-1, 2, 3],\n",
    "    [4, -5, 6]\n",
    "])\n",
    "\n",
    "B3 = np.array([\n",
    "    [-9, 8, 7],\n",
    "    [6, -5, 4]\n",
    "])"
   ]
  },
  {
   "cell_type": "markdown",
   "metadata": {},
   "source": [
    "エラーが出る理由：  \n",
    "２つの行列A, Bの積ABを計算するには、Aの列数とBの行数が一致している必要があるため。つまり、AとBのサイズを表した時に(i, k), (k, j)のようにkが一致していることが積を計算できる条件だが、(2,3) ,  (2,3)だと一致していないので計算できない。 "
   ]
  },
  {
   "cell_type": "code",
   "execution_count": 70,
   "metadata": {},
   "outputs": [
    {
     "ename": "ValueError",
     "evalue": "shapes (2,3) and (2,3) not aligned: 3 (dim 1) != 2 (dim 0)",
     "output_type": "error",
     "traceback": [
      "\u001b[0;31m---------------------------------------------------------------------------\u001b[0m",
      "\u001b[0;31mValueError\u001b[0m                                Traceback (most recent call last)",
      "\u001b[0;32m<ipython-input-70-85ce9e399939>\u001b[0m in \u001b[0;36m<module>\u001b[0;34m\u001b[0m\n\u001b[0;32m----> 1\u001b[0;31m \u001b[0mC\u001b[0m \u001b[0;34m=\u001b[0m \u001b[0mnp\u001b[0m\u001b[0;34m.\u001b[0m\u001b[0mdot\u001b[0m\u001b[0;34m(\u001b[0m\u001b[0mA3\u001b[0m\u001b[0;34m,\u001b[0m \u001b[0mB3\u001b[0m\u001b[0;34m)\u001b[0m\u001b[0;34m\u001b[0m\u001b[0;34m\u001b[0m\u001b[0m\n\u001b[0m",
      "\u001b[0;31mValueError\u001b[0m: shapes (2,3) and (2,3) not aligned: 3 (dim 1) != 2 (dim 0)"
     ]
    }
   ],
   "source": [
    "C = np.dot(A3, B3)"
   ]
  },
  {
   "cell_type": "markdown",
   "metadata": {},
   "source": [
    "行列A, Bのどちらかの転置行列を取れば、(2, 3), (3, 2)もしくは(3, 2), (2, 3)となり、kが一致するため積を計算できる。サイズ(i, k), (k, j)の２つの行列の積の結果として得られる行列のサイズは(i, j)となる。"
   ]
  },
  {
   "cell_type": "code",
   "execution_count": 76,
   "metadata": {},
   "outputs": [],
   "source": [
    "A4 = A3\n",
    "B4 = B3.transpose()"
   ]
  },
  {
   "cell_type": "code",
   "execution_count": 75,
   "metadata": {},
   "outputs": [
    {
     "name": "stdout",
     "output_type": "stream",
     "text": [
      "[[ 46  -4]\n",
      " [-34  73]]\n"
     ]
    }
   ],
   "source": [
    "C = np.dot(A4, B4)\n",
    "print(C)"
   ]
  },
  {
   "cell_type": "code",
   "execution_count": null,
   "metadata": {},
   "outputs": [],
   "source": []
  }
 ],
 "metadata": {
  "kernelspec": {
   "display_name": "Python 3",
   "language": "python",
   "name": "python3"
  },
  "language_info": {
   "codemirror_mode": {
    "name": "ipython",
    "version": 3
   },
   "file_extension": ".py",
   "mimetype": "text/x-python",
   "name": "python",
   "nbconvert_exporter": "python",
   "pygments_lexer": "ipython3",
   "version": "3.6.8"
  }
 },
 "nbformat": 4,
 "nbformat_minor": 2
}
