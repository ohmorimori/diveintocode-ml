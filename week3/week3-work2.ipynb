{
 "cells": [
  {
   "cell_type": "markdown",
   "metadata": {},
   "source": [
    "# Week3授業前課題2 住宅価格を予測しよう\n",
    "\n"
   ]
  },
  {
   "cell_type": "markdown",
   "metadata": {},
   "source": [
    "## 【課題1】データセットの取得\n",
    "pd.read_csv()を使用して、変数に格納してください。"
   ]
  },
  {
   "cell_type": "code",
   "execution_count": 1,
   "metadata": {},
   "outputs": [],
   "source": [
    "import pandas as pd\n",
    "train_df = pd.read_csv('train.csv')"
   ]
  },
  {
   "cell_type": "markdown",
   "metadata": {},
   "source": [
    "## 【課題2】データセット自体の調査\n",
    "KaggleのOverviewページや、Dataページの「Data fields」などを読みながら、どのようなデータセットかを説明してください。前回扱ったirisデータセットとの比較もすると良いでしょう。"
   ]
  },
  {
   "cell_type": "markdown",
   "metadata": {},
   "source": [
    "家の広さ、売値、築年数、付帯設備、面している道路などの情報が物件毎にまとまっているデータセット"
   ]
  },
  {
   "cell_type": "markdown",
   "metadata": {},
   "source": [
    "## 【課題3】データの確認\n",
    "「Week3授業前課題1アヤメを分析しよう」と同様に、データを確認していきます。コードとマークダウンを組み合わせてレポートしてください。\n"
   ]
  },
  {
   "cell_type": "markdown",
   "metadata": {},
   "source": [
    "* 各特徴量がどういったものかを見る。（数値データか文字データなど）"
   ]
  },
  {
   "cell_type": "code",
   "execution_count": 2,
   "metadata": {},
   "outputs": [
    {
     "data": {
      "text/plain": [
       "Id                 int64\n",
       "MSSubClass         int64\n",
       "MSZoning          object\n",
       "LotFrontage      float64\n",
       "LotArea            int64\n",
       "Street            object\n",
       "Alley             object\n",
       "LotShape          object\n",
       "LandContour       object\n",
       "Utilities         object\n",
       "LotConfig         object\n",
       "LandSlope         object\n",
       "Neighborhood      object\n",
       "Condition1        object\n",
       "Condition2        object\n",
       "BldgType          object\n",
       "HouseStyle        object\n",
       "OverallQual        int64\n",
       "OverallCond        int64\n",
       "YearBuilt          int64\n",
       "YearRemodAdd       int64\n",
       "RoofStyle         object\n",
       "RoofMatl          object\n",
       "Exterior1st       object\n",
       "Exterior2nd       object\n",
       "MasVnrType        object\n",
       "MasVnrArea       float64\n",
       "ExterQual         object\n",
       "ExterCond         object\n",
       "Foundation        object\n",
       "                  ...   \n",
       "BedroomAbvGr       int64\n",
       "KitchenAbvGr       int64\n",
       "KitchenQual       object\n",
       "TotRmsAbvGrd       int64\n",
       "Functional        object\n",
       "Fireplaces         int64\n",
       "FireplaceQu       object\n",
       "GarageType        object\n",
       "GarageYrBlt      float64\n",
       "GarageFinish      object\n",
       "GarageCars         int64\n",
       "GarageArea         int64\n",
       "GarageQual        object\n",
       "GarageCond        object\n",
       "PavedDrive        object\n",
       "WoodDeckSF         int64\n",
       "OpenPorchSF        int64\n",
       "EnclosedPorch      int64\n",
       "3SsnPorch          int64\n",
       "ScreenPorch        int64\n",
       "PoolArea           int64\n",
       "PoolQC            object\n",
       "Fence             object\n",
       "MiscFeature       object\n",
       "MiscVal            int64\n",
       "MoSold             int64\n",
       "YrSold             int64\n",
       "SaleType          object\n",
       "SaleCondition     object\n",
       "SalePrice          int64\n",
       "Length: 81, dtype: object"
      ]
     },
     "execution_count": 2,
     "metadata": {},
     "output_type": "execute_result"
    }
   ],
   "source": [
    "train_df.dtypes"
   ]
  },
  {
   "cell_type": "markdown",
   "metadata": {},
   "source": [
    "* 今回の目的変数はどの列か確認する。"
   ]
  },
  {
   "cell_type": "markdown",
   "metadata": {},
   "source": [
    "SalePrice (家の売値)"
   ]
  },
  {
   "cell_type": "markdown",
   "metadata": {},
   "source": [
    "* 特徴量の平均値と標準偏差、四分位数を一度に表示させる。"
   ]
  },
  {
   "cell_type": "code",
   "execution_count": 3,
   "metadata": {},
   "outputs": [
    {
     "data": {
      "text/html": [
       "<div>\n",
       "<style scoped>\n",
       "    .dataframe tbody tr th:only-of-type {\n",
       "        vertical-align: middle;\n",
       "    }\n",
       "\n",
       "    .dataframe tbody tr th {\n",
       "        vertical-align: top;\n",
       "    }\n",
       "\n",
       "    .dataframe thead th {\n",
       "        text-align: right;\n",
       "    }\n",
       "</style>\n",
       "<table border=\"1\" class=\"dataframe\">\n",
       "  <thead>\n",
       "    <tr style=\"text-align: right;\">\n",
       "      <th></th>\n",
       "      <th>Id</th>\n",
       "      <th>MSSubClass</th>\n",
       "      <th>LotFrontage</th>\n",
       "      <th>LotArea</th>\n",
       "      <th>OverallQual</th>\n",
       "      <th>OverallCond</th>\n",
       "      <th>YearBuilt</th>\n",
       "      <th>YearRemodAdd</th>\n",
       "      <th>MasVnrArea</th>\n",
       "      <th>BsmtFinSF1</th>\n",
       "      <th>...</th>\n",
       "      <th>WoodDeckSF</th>\n",
       "      <th>OpenPorchSF</th>\n",
       "      <th>EnclosedPorch</th>\n",
       "      <th>3SsnPorch</th>\n",
       "      <th>ScreenPorch</th>\n",
       "      <th>PoolArea</th>\n",
       "      <th>MiscVal</th>\n",
       "      <th>MoSold</th>\n",
       "      <th>YrSold</th>\n",
       "      <th>SalePrice</th>\n",
       "    </tr>\n",
       "  </thead>\n",
       "  <tbody>\n",
       "    <tr>\n",
       "      <th>count</th>\n",
       "      <td>1460.000000</td>\n",
       "      <td>1460.000000</td>\n",
       "      <td>1201.000000</td>\n",
       "      <td>1460.000000</td>\n",
       "      <td>1460.000000</td>\n",
       "      <td>1460.000000</td>\n",
       "      <td>1460.000000</td>\n",
       "      <td>1460.000000</td>\n",
       "      <td>1452.000000</td>\n",
       "      <td>1460.000000</td>\n",
       "      <td>...</td>\n",
       "      <td>1460.000000</td>\n",
       "      <td>1460.000000</td>\n",
       "      <td>1460.000000</td>\n",
       "      <td>1460.000000</td>\n",
       "      <td>1460.000000</td>\n",
       "      <td>1460.000000</td>\n",
       "      <td>1460.000000</td>\n",
       "      <td>1460.000000</td>\n",
       "      <td>1460.000000</td>\n",
       "      <td>1460.000000</td>\n",
       "    </tr>\n",
       "    <tr>\n",
       "      <th>mean</th>\n",
       "      <td>730.500000</td>\n",
       "      <td>56.897260</td>\n",
       "      <td>70.049958</td>\n",
       "      <td>10516.828082</td>\n",
       "      <td>6.099315</td>\n",
       "      <td>5.575342</td>\n",
       "      <td>1971.267808</td>\n",
       "      <td>1984.865753</td>\n",
       "      <td>103.685262</td>\n",
       "      <td>443.639726</td>\n",
       "      <td>...</td>\n",
       "      <td>94.244521</td>\n",
       "      <td>46.660274</td>\n",
       "      <td>21.954110</td>\n",
       "      <td>3.409589</td>\n",
       "      <td>15.060959</td>\n",
       "      <td>2.758904</td>\n",
       "      <td>43.489041</td>\n",
       "      <td>6.321918</td>\n",
       "      <td>2007.815753</td>\n",
       "      <td>180921.195890</td>\n",
       "    </tr>\n",
       "    <tr>\n",
       "      <th>std</th>\n",
       "      <td>421.610009</td>\n",
       "      <td>42.300571</td>\n",
       "      <td>24.284752</td>\n",
       "      <td>9981.264932</td>\n",
       "      <td>1.382997</td>\n",
       "      <td>1.112799</td>\n",
       "      <td>30.202904</td>\n",
       "      <td>20.645407</td>\n",
       "      <td>181.066207</td>\n",
       "      <td>456.098091</td>\n",
       "      <td>...</td>\n",
       "      <td>125.338794</td>\n",
       "      <td>66.256028</td>\n",
       "      <td>61.119149</td>\n",
       "      <td>29.317331</td>\n",
       "      <td>55.757415</td>\n",
       "      <td>40.177307</td>\n",
       "      <td>496.123024</td>\n",
       "      <td>2.703626</td>\n",
       "      <td>1.328095</td>\n",
       "      <td>79442.502883</td>\n",
       "    </tr>\n",
       "    <tr>\n",
       "      <th>min</th>\n",
       "      <td>1.000000</td>\n",
       "      <td>20.000000</td>\n",
       "      <td>21.000000</td>\n",
       "      <td>1300.000000</td>\n",
       "      <td>1.000000</td>\n",
       "      <td>1.000000</td>\n",
       "      <td>1872.000000</td>\n",
       "      <td>1950.000000</td>\n",
       "      <td>0.000000</td>\n",
       "      <td>0.000000</td>\n",
       "      <td>...</td>\n",
       "      <td>0.000000</td>\n",
       "      <td>0.000000</td>\n",
       "      <td>0.000000</td>\n",
       "      <td>0.000000</td>\n",
       "      <td>0.000000</td>\n",
       "      <td>0.000000</td>\n",
       "      <td>0.000000</td>\n",
       "      <td>1.000000</td>\n",
       "      <td>2006.000000</td>\n",
       "      <td>34900.000000</td>\n",
       "    </tr>\n",
       "    <tr>\n",
       "      <th>25%</th>\n",
       "      <td>365.750000</td>\n",
       "      <td>20.000000</td>\n",
       "      <td>59.000000</td>\n",
       "      <td>7553.500000</td>\n",
       "      <td>5.000000</td>\n",
       "      <td>5.000000</td>\n",
       "      <td>1954.000000</td>\n",
       "      <td>1967.000000</td>\n",
       "      <td>0.000000</td>\n",
       "      <td>0.000000</td>\n",
       "      <td>...</td>\n",
       "      <td>0.000000</td>\n",
       "      <td>0.000000</td>\n",
       "      <td>0.000000</td>\n",
       "      <td>0.000000</td>\n",
       "      <td>0.000000</td>\n",
       "      <td>0.000000</td>\n",
       "      <td>0.000000</td>\n",
       "      <td>5.000000</td>\n",
       "      <td>2007.000000</td>\n",
       "      <td>129975.000000</td>\n",
       "    </tr>\n",
       "    <tr>\n",
       "      <th>50%</th>\n",
       "      <td>730.500000</td>\n",
       "      <td>50.000000</td>\n",
       "      <td>69.000000</td>\n",
       "      <td>9478.500000</td>\n",
       "      <td>6.000000</td>\n",
       "      <td>5.000000</td>\n",
       "      <td>1973.000000</td>\n",
       "      <td>1994.000000</td>\n",
       "      <td>0.000000</td>\n",
       "      <td>383.500000</td>\n",
       "      <td>...</td>\n",
       "      <td>0.000000</td>\n",
       "      <td>25.000000</td>\n",
       "      <td>0.000000</td>\n",
       "      <td>0.000000</td>\n",
       "      <td>0.000000</td>\n",
       "      <td>0.000000</td>\n",
       "      <td>0.000000</td>\n",
       "      <td>6.000000</td>\n",
       "      <td>2008.000000</td>\n",
       "      <td>163000.000000</td>\n",
       "    </tr>\n",
       "    <tr>\n",
       "      <th>75%</th>\n",
       "      <td>1095.250000</td>\n",
       "      <td>70.000000</td>\n",
       "      <td>80.000000</td>\n",
       "      <td>11601.500000</td>\n",
       "      <td>7.000000</td>\n",
       "      <td>6.000000</td>\n",
       "      <td>2000.000000</td>\n",
       "      <td>2004.000000</td>\n",
       "      <td>166.000000</td>\n",
       "      <td>712.250000</td>\n",
       "      <td>...</td>\n",
       "      <td>168.000000</td>\n",
       "      <td>68.000000</td>\n",
       "      <td>0.000000</td>\n",
       "      <td>0.000000</td>\n",
       "      <td>0.000000</td>\n",
       "      <td>0.000000</td>\n",
       "      <td>0.000000</td>\n",
       "      <td>8.000000</td>\n",
       "      <td>2009.000000</td>\n",
       "      <td>214000.000000</td>\n",
       "    </tr>\n",
       "    <tr>\n",
       "      <th>max</th>\n",
       "      <td>1460.000000</td>\n",
       "      <td>190.000000</td>\n",
       "      <td>313.000000</td>\n",
       "      <td>215245.000000</td>\n",
       "      <td>10.000000</td>\n",
       "      <td>9.000000</td>\n",
       "      <td>2010.000000</td>\n",
       "      <td>2010.000000</td>\n",
       "      <td>1600.000000</td>\n",
       "      <td>5644.000000</td>\n",
       "      <td>...</td>\n",
       "      <td>857.000000</td>\n",
       "      <td>547.000000</td>\n",
       "      <td>552.000000</td>\n",
       "      <td>508.000000</td>\n",
       "      <td>480.000000</td>\n",
       "      <td>738.000000</td>\n",
       "      <td>15500.000000</td>\n",
       "      <td>12.000000</td>\n",
       "      <td>2010.000000</td>\n",
       "      <td>755000.000000</td>\n",
       "    </tr>\n",
       "  </tbody>\n",
       "</table>\n",
       "<p>8 rows × 38 columns</p>\n",
       "</div>"
      ],
      "text/plain": [
       "                Id   MSSubClass  LotFrontage        LotArea  OverallQual  \\\n",
       "count  1460.000000  1460.000000  1201.000000    1460.000000  1460.000000   \n",
       "mean    730.500000    56.897260    70.049958   10516.828082     6.099315   \n",
       "std     421.610009    42.300571    24.284752    9981.264932     1.382997   \n",
       "min       1.000000    20.000000    21.000000    1300.000000     1.000000   \n",
       "25%     365.750000    20.000000    59.000000    7553.500000     5.000000   \n",
       "50%     730.500000    50.000000    69.000000    9478.500000     6.000000   \n",
       "75%    1095.250000    70.000000    80.000000   11601.500000     7.000000   \n",
       "max    1460.000000   190.000000   313.000000  215245.000000    10.000000   \n",
       "\n",
       "       OverallCond    YearBuilt  YearRemodAdd   MasVnrArea   BsmtFinSF1  ...  \\\n",
       "count  1460.000000  1460.000000   1460.000000  1452.000000  1460.000000  ...   \n",
       "mean      5.575342  1971.267808   1984.865753   103.685262   443.639726  ...   \n",
       "std       1.112799    30.202904     20.645407   181.066207   456.098091  ...   \n",
       "min       1.000000  1872.000000   1950.000000     0.000000     0.000000  ...   \n",
       "25%       5.000000  1954.000000   1967.000000     0.000000     0.000000  ...   \n",
       "50%       5.000000  1973.000000   1994.000000     0.000000   383.500000  ...   \n",
       "75%       6.000000  2000.000000   2004.000000   166.000000   712.250000  ...   \n",
       "max       9.000000  2010.000000   2010.000000  1600.000000  5644.000000  ...   \n",
       "\n",
       "        WoodDeckSF  OpenPorchSF  EnclosedPorch    3SsnPorch  ScreenPorch  \\\n",
       "count  1460.000000  1460.000000    1460.000000  1460.000000  1460.000000   \n",
       "mean     94.244521    46.660274      21.954110     3.409589    15.060959   \n",
       "std     125.338794    66.256028      61.119149    29.317331    55.757415   \n",
       "min       0.000000     0.000000       0.000000     0.000000     0.000000   \n",
       "25%       0.000000     0.000000       0.000000     0.000000     0.000000   \n",
       "50%       0.000000    25.000000       0.000000     0.000000     0.000000   \n",
       "75%     168.000000    68.000000       0.000000     0.000000     0.000000   \n",
       "max     857.000000   547.000000     552.000000   508.000000   480.000000   \n",
       "\n",
       "          PoolArea       MiscVal       MoSold       YrSold      SalePrice  \n",
       "count  1460.000000   1460.000000  1460.000000  1460.000000    1460.000000  \n",
       "mean      2.758904     43.489041     6.321918  2007.815753  180921.195890  \n",
       "std      40.177307    496.123024     2.703626     1.328095   79442.502883  \n",
       "min       0.000000      0.000000     1.000000  2006.000000   34900.000000  \n",
       "25%       0.000000      0.000000     5.000000  2007.000000  129975.000000  \n",
       "50%       0.000000      0.000000     6.000000  2008.000000  163000.000000  \n",
       "75%       0.000000      0.000000     8.000000  2009.000000  214000.000000  \n",
       "max     738.000000  15500.000000    12.000000  2010.000000  755000.000000  \n",
       "\n",
       "[8 rows x 38 columns]"
      ]
     },
     "execution_count": 3,
     "metadata": {},
     "output_type": "execute_result"
    }
   ],
   "source": [
    "train_df.describe()"
   ]
  },
  {
   "cell_type": "markdown",
   "metadata": {},
   "source": [
    "## 【課題4】欠損値への対応\n",
    "欠損値に関して以下のことを行い、レポートしてください。\n"
   ]
  },
  {
   "cell_type": "markdown",
   "metadata": {},
   "source": [
    "* 各特徴量の欠損値の有無を確認する。\n",
    "欠損値の確認にはmissingnoというライブラリを活用しましょう。このライブラリにより欠損値の有無が可視化できます。インストールや使い方に関しては以下のページをご覧ください。\n",
    "\n",
    "ResidentMario/missingno: Missing data visualization module for Python.\n"
   ]
  },
  {
   "cell_type": "code",
   "execution_count": 4,
   "metadata": {},
   "outputs": [
    {
     "data": {
      "image/png": "[encoded data removed]",
      "text/plain": [
       "<Figure size 1728x720 with 2 Axes>"
      ]
     },
     "metadata": {
      "needs_background": "light"
     },
     "output_type": "display_data"
    }
   ],
   "source": [
    "import missingno as msno\n",
    "%matplotlib inline\n",
    "msno.bar(train_df);"
   ]
  },
  {
   "cell_type": "markdown",
   "metadata": {},
   "source": [
    "* 欠損値が何パーセント含まれるかを確認する。"
   ]
  },
  {
   "cell_type": "code",
   "execution_count": 5,
   "metadata": {},
   "outputs": [
    {
     "name": "stdout",
     "output_type": "stream",
     "text": [
      "Id: 0 percent data missing\n",
      "MSSubClass: 0 percent data missing\n",
      "MSZoning: 0 percent data missing\n",
      "LotFrontage: 17 percent data missing\n",
      "LotArea: 0 percent data missing\n",
      "Street: 0 percent data missing\n",
      "Alley: 93 percent data missing\n",
      "LotShape: 0 percent data missing\n",
      "LandContour: 0 percent data missing\n",
      "Utilities: 0 percent data missing\n",
      "LotConfig: 0 percent data missing\n",
      "LandSlope: 0 percent data missing\n",
      "Neighborhood: 0 percent data missing\n",
      "Condition1: 0 percent data missing\n",
      "Condition2: 0 percent data missing\n",
      "BldgType: 0 percent data missing\n",
      "HouseStyle: 0 percent data missing\n",
      "OverallQual: 0 percent data missing\n",
      "OverallCond: 0 percent data missing\n",
      "YearBuilt: 0 percent data missing\n",
      "YearRemodAdd: 0 percent data missing\n",
      "RoofStyle: 0 percent data missing\n",
      "RoofMatl: 0 percent data missing\n",
      "Exterior1st: 0 percent data missing\n",
      "Exterior2nd: 0 percent data missing\n",
      "MasVnrType: 0 percent data missing\n",
      "MasVnrArea: 0 percent data missing\n",
      "ExterQual: 0 percent data missing\n",
      "ExterCond: 0 percent data missing\n",
      "Foundation: 0 percent data missing\n",
      "BsmtQual: 2 percent data missing\n",
      "BsmtCond: 2 percent data missing\n",
      "BsmtExposure: 2 percent data missing\n",
      "BsmtFinType1: 2 percent data missing\n",
      "BsmtFinSF1: 0 percent data missing\n",
      "BsmtFinType2: 2 percent data missing\n",
      "BsmtFinSF2: 0 percent data missing\n",
      "BsmtUnfSF: 0 percent data missing\n",
      "TotalBsmtSF: 0 percent data missing\n",
      "Heating: 0 percent data missing\n",
      "HeatingQC: 0 percent data missing\n",
      "CentralAir: 0 percent data missing\n",
      "Electrical: 0 percent data missing\n",
      "1stFlrSF: 0 percent data missing\n",
      "2ndFlrSF: 0 percent data missing\n",
      "LowQualFinSF: 0 percent data missing\n",
      "GrLivArea: 0 percent data missing\n",
      "BsmtFullBath: 0 percent data missing\n",
      "BsmtHalfBath: 0 percent data missing\n",
      "FullBath: 0 percent data missing\n",
      "HalfBath: 0 percent data missing\n",
      "BedroomAbvGr: 0 percent data missing\n",
      "KitchenAbvGr: 0 percent data missing\n",
      "KitchenQual: 0 percent data missing\n",
      "TotRmsAbvGrd: 0 percent data missing\n",
      "Functional: 0 percent data missing\n",
      "Fireplaces: 0 percent data missing\n",
      "FireplaceQu: 47 percent data missing\n",
      "GarageType: 5 percent data missing\n",
      "GarageYrBlt: 5 percent data missing\n",
      "GarageFinish: 5 percent data missing\n",
      "GarageCars: 0 percent data missing\n",
      "GarageArea: 0 percent data missing\n",
      "GarageQual: 5 percent data missing\n",
      "GarageCond: 5 percent data missing\n",
      "PavedDrive: 0 percent data missing\n",
      "WoodDeckSF: 0 percent data missing\n",
      "OpenPorchSF: 0 percent data missing\n",
      "EnclosedPorch: 0 percent data missing\n",
      "3SsnPorch: 0 percent data missing\n",
      "ScreenPorch: 0 percent data missing\n",
      "PoolArea: 0 percent data missing\n",
      "PoolQC: 99 percent data missing\n",
      "Fence: 80 percent data missing\n",
      "MiscFeature: 96 percent data missing\n",
      "MiscVal: 0 percent data missing\n",
      "MoSold: 0 percent data missing\n",
      "YrSold: 0 percent data missing\n",
      "SaleType: 0 percent data missing\n",
      "SaleCondition: 0 percent data missing\n",
      "SalePrice: 0 percent data missing\n"
     ]
    }
   ],
   "source": [
    "isnull_train_df = train_df.isnull()\n",
    "for col_name, item in isnull_train_df.iteritems():\n",
    "    print(\"%s: %d percent data missing\" % (col_name, sum(item)/len(item)*100))"
   ]
  },
  {
   "cell_type": "markdown",
   "metadata": {},
   "source": [
    "* 5つ以上欠損値がある特徴量（列）は削除する。"
   ]
  },
  {
   "cell_type": "code",
   "execution_count": 6,
   "metadata": {},
   "outputs": [
    {
     "data": {
      "text/plain": [
       "['LotFrontage',\n",
       " 'Alley',\n",
       " 'MasVnrType',\n",
       " 'MasVnrArea',\n",
       " 'BsmtQual',\n",
       " 'BsmtCond',\n",
       " 'BsmtExposure',\n",
       " 'BsmtFinType1',\n",
       " 'BsmtFinType2',\n",
       " 'FireplaceQu',\n",
       " 'GarageType',\n",
       " 'GarageYrBlt',\n",
       " 'GarageFinish',\n",
       " 'GarageQual',\n",
       " 'GarageCond',\n",
       " 'PoolQC',\n",
       " 'Fence',\n",
       " 'MiscFeature']"
      ]
     },
     "execution_count": 6,
     "metadata": {},
     "output_type": "execute_result"
    }
   ],
   "source": [
    "isnull_train_df = train_df.isnull()\n",
    "null_col = []\n",
    "\n",
    "#ColumnのNullが５以上のColumn名を保管\n",
    "for col_name, item in isnull_train_df.iteritems():\n",
    "    if (item.sum() > 5):\n",
    "        null_col.append(col_name)\n",
    "null_col"
   ]
  },
  {
   "cell_type": "code",
   "execution_count": 7,
   "metadata": {},
   "outputs": [],
   "source": [
    "#Nullが５個以上の列をdrop\n",
    "train_df = train_df.drop(null_col, axis=1)"
   ]
  },
  {
   "cell_type": "markdown",
   "metadata": {},
   "source": [
    "* 欠損値があるサンプル（行）は削除する。  \n",
    "列削除後のDataFrameに対し、nullがあるのは以下の項目なのでこれらを含む行が削除されることになる。  \n",
    "Electrical:   0.068493 percent data missing"
   ]
  },
  {
   "cell_type": "code",
   "execution_count": 8,
   "metadata": {},
   "outputs": [],
   "source": [
    "# nullのitemをTrueに、それ以外をFalseに\n",
    "isnull_train_df = train_df.isnull()\n",
    "\n",
    "# nullがある行のインデックスを格納していく\n",
    "null_row_index = []\n",
    "\n",
    "#DataFrameの行方向に対して、\n",
    "#行番号をindexに、行の値をrowに代入\n",
    "for index, row in isnull_train_df.iterrows():\n",
    "    #rowが一つでもTrueならそのインデックス番号を記録する\n",
    "    if (row.any() == True):\n",
    "        null_row_index.append(index)"
   ]
  },
  {
   "cell_type": "code",
   "execution_count": 9,
   "metadata": {},
   "outputs": [
    {
     "data": {
      "text/plain": [
       "[1379]"
      ]
     },
     "execution_count": 9,
     "metadata": {},
     "output_type": "execute_result"
    }
   ],
   "source": [
    "#一行だけNullがあると判明\n",
    "null_row_index"
   ]
  },
  {
   "cell_type": "code",
   "execution_count": 10,
   "metadata": {},
   "outputs": [
    {
     "data": {
      "text/html": [
       "<div>\n",
       "<style scoped>\n",
       "    .dataframe tbody tr th:only-of-type {\n",
       "        vertical-align: middle;\n",
       "    }\n",
       "\n",
       "    .dataframe tbody tr th {\n",
       "        vertical-align: top;\n",
       "    }\n",
       "\n",
       "    .dataframe thead th {\n",
       "        text-align: right;\n",
       "    }\n",
       "</style>\n",
       "<table border=\"1\" class=\"dataframe\">\n",
       "  <thead>\n",
       "    <tr style=\"text-align: right;\">\n",
       "      <th></th>\n",
       "      <th>Id</th>\n",
       "      <th>MSSubClass</th>\n",
       "      <th>MSZoning</th>\n",
       "      <th>LotArea</th>\n",
       "      <th>Street</th>\n",
       "      <th>LotShape</th>\n",
       "      <th>LandContour</th>\n",
       "      <th>Utilities</th>\n",
       "      <th>LotConfig</th>\n",
       "      <th>LandSlope</th>\n",
       "      <th>...</th>\n",
       "      <th>EnclosedPorch</th>\n",
       "      <th>3SsnPorch</th>\n",
       "      <th>ScreenPorch</th>\n",
       "      <th>PoolArea</th>\n",
       "      <th>MiscVal</th>\n",
       "      <th>MoSold</th>\n",
       "      <th>YrSold</th>\n",
       "      <th>SaleType</th>\n",
       "      <th>SaleCondition</th>\n",
       "      <th>SalePrice</th>\n",
       "    </tr>\n",
       "  </thead>\n",
       "  <tbody>\n",
       "    <tr>\n",
       "      <th>1376</th>\n",
       "      <td>1377</td>\n",
       "      <td>30</td>\n",
       "      <td>RL</td>\n",
       "      <td>6292</td>\n",
       "      <td>Pave</td>\n",
       "      <td>Reg</td>\n",
       "      <td>Bnk</td>\n",
       "      <td>AllPub</td>\n",
       "      <td>Inside</td>\n",
       "      <td>Gtl</td>\n",
       "      <td>...</td>\n",
       "      <td>0</td>\n",
       "      <td>0</td>\n",
       "      <td>0</td>\n",
       "      <td>0</td>\n",
       "      <td>0</td>\n",
       "      <td>4</td>\n",
       "      <td>2008</td>\n",
       "      <td>WD</td>\n",
       "      <td>Normal</td>\n",
       "      <td>91000</td>\n",
       "    </tr>\n",
       "    <tr>\n",
       "      <th>1377</th>\n",
       "      <td>1378</td>\n",
       "      <td>50</td>\n",
       "      <td>RL</td>\n",
       "      <td>10998</td>\n",
       "      <td>Pave</td>\n",
       "      <td>Reg</td>\n",
       "      <td>Lvl</td>\n",
       "      <td>AllPub</td>\n",
       "      <td>Inside</td>\n",
       "      <td>Gtl</td>\n",
       "      <td>...</td>\n",
       "      <td>0</td>\n",
       "      <td>0</td>\n",
       "      <td>0</td>\n",
       "      <td>0</td>\n",
       "      <td>0</td>\n",
       "      <td>7</td>\n",
       "      <td>2009</td>\n",
       "      <td>WD</td>\n",
       "      <td>Normal</td>\n",
       "      <td>117000</td>\n",
       "    </tr>\n",
       "    <tr>\n",
       "      <th>1378</th>\n",
       "      <td>1379</td>\n",
       "      <td>160</td>\n",
       "      <td>RM</td>\n",
       "      <td>1953</td>\n",
       "      <td>Pave</td>\n",
       "      <td>Reg</td>\n",
       "      <td>Lvl</td>\n",
       "      <td>AllPub</td>\n",
       "      <td>Inside</td>\n",
       "      <td>Gtl</td>\n",
       "      <td>...</td>\n",
       "      <td>0</td>\n",
       "      <td>0</td>\n",
       "      <td>0</td>\n",
       "      <td>0</td>\n",
       "      <td>0</td>\n",
       "      <td>6</td>\n",
       "      <td>2006</td>\n",
       "      <td>WD</td>\n",
       "      <td>Normal</td>\n",
       "      <td>83000</td>\n",
       "    </tr>\n",
       "    <tr>\n",
       "      <th>1380</th>\n",
       "      <td>1381</td>\n",
       "      <td>30</td>\n",
       "      <td>RL</td>\n",
       "      <td>8212</td>\n",
       "      <td>Pave</td>\n",
       "      <td>Reg</td>\n",
       "      <td>Lvl</td>\n",
       "      <td>AllPub</td>\n",
       "      <td>Inside</td>\n",
       "      <td>Gtl</td>\n",
       "      <td>...</td>\n",
       "      <td>96</td>\n",
       "      <td>0</td>\n",
       "      <td>0</td>\n",
       "      <td>0</td>\n",
       "      <td>0</td>\n",
       "      <td>6</td>\n",
       "      <td>2010</td>\n",
       "      <td>WD</td>\n",
       "      <td>Normal</td>\n",
       "      <td>58500</td>\n",
       "    </tr>\n",
       "    <tr>\n",
       "      <th>1381</th>\n",
       "      <td>1382</td>\n",
       "      <td>20</td>\n",
       "      <td>RL</td>\n",
       "      <td>12925</td>\n",
       "      <td>Pave</td>\n",
       "      <td>IR1</td>\n",
       "      <td>Lvl</td>\n",
       "      <td>AllPub</td>\n",
       "      <td>Corner</td>\n",
       "      <td>Gtl</td>\n",
       "      <td>...</td>\n",
       "      <td>0</td>\n",
       "      <td>0</td>\n",
       "      <td>0</td>\n",
       "      <td>0</td>\n",
       "      <td>0</td>\n",
       "      <td>5</td>\n",
       "      <td>2008</td>\n",
       "      <td>WD</td>\n",
       "      <td>Normal</td>\n",
       "      <td>237500</td>\n",
       "    </tr>\n",
       "    <tr>\n",
       "      <th>1382</th>\n",
       "      <td>1383</td>\n",
       "      <td>70</td>\n",
       "      <td>RM</td>\n",
       "      <td>7200</td>\n",
       "      <td>Pave</td>\n",
       "      <td>Reg</td>\n",
       "      <td>Lvl</td>\n",
       "      <td>AllPub</td>\n",
       "      <td>Corner</td>\n",
       "      <td>Gtl</td>\n",
       "      <td>...</td>\n",
       "      <td>221</td>\n",
       "      <td>0</td>\n",
       "      <td>0</td>\n",
       "      <td>0</td>\n",
       "      <td>0</td>\n",
       "      <td>10</td>\n",
       "      <td>2006</td>\n",
       "      <td>WD</td>\n",
       "      <td>Normal</td>\n",
       "      <td>157000</td>\n",
       "    </tr>\n",
       "    <tr>\n",
       "      <th>1383</th>\n",
       "      <td>1384</td>\n",
       "      <td>30</td>\n",
       "      <td>RL</td>\n",
       "      <td>25339</td>\n",
       "      <td>Pave</td>\n",
       "      <td>Reg</td>\n",
       "      <td>Lvl</td>\n",
       "      <td>AllPub</td>\n",
       "      <td>Inside</td>\n",
       "      <td>Gtl</td>\n",
       "      <td>...</td>\n",
       "      <td>112</td>\n",
       "      <td>0</td>\n",
       "      <td>0</td>\n",
       "      <td>0</td>\n",
       "      <td>0</td>\n",
       "      <td>8</td>\n",
       "      <td>2007</td>\n",
       "      <td>WD</td>\n",
       "      <td>Normal</td>\n",
       "      <td>112000</td>\n",
       "    </tr>\n",
       "    <tr>\n",
       "      <th>1384</th>\n",
       "      <td>1385</td>\n",
       "      <td>50</td>\n",
       "      <td>RL</td>\n",
       "      <td>9060</td>\n",
       "      <td>Pave</td>\n",
       "      <td>Reg</td>\n",
       "      <td>Lvl</td>\n",
       "      <td>AllPub</td>\n",
       "      <td>Inside</td>\n",
       "      <td>Gtl</td>\n",
       "      <td>...</td>\n",
       "      <td>0</td>\n",
       "      <td>0</td>\n",
       "      <td>0</td>\n",
       "      <td>0</td>\n",
       "      <td>0</td>\n",
       "      <td>10</td>\n",
       "      <td>2009</td>\n",
       "      <td>WD</td>\n",
       "      <td>Normal</td>\n",
       "      <td>105000</td>\n",
       "    </tr>\n",
       "    <tr>\n",
       "      <th>1385</th>\n",
       "      <td>1386</td>\n",
       "      <td>50</td>\n",
       "      <td>RM</td>\n",
       "      <td>5436</td>\n",
       "      <td>Pave</td>\n",
       "      <td>Reg</td>\n",
       "      <td>Lvl</td>\n",
       "      <td>AllPub</td>\n",
       "      <td>Inside</td>\n",
       "      <td>Gtl</td>\n",
       "      <td>...</td>\n",
       "      <td>0</td>\n",
       "      <td>0</td>\n",
       "      <td>0</td>\n",
       "      <td>0</td>\n",
       "      <td>0</td>\n",
       "      <td>5</td>\n",
       "      <td>2010</td>\n",
       "      <td>WD</td>\n",
       "      <td>Normal</td>\n",
       "      <td>125500</td>\n",
       "    </tr>\n",
       "  </tbody>\n",
       "</table>\n",
       "<p>9 rows × 63 columns</p>\n",
       "</div>"
      ],
      "text/plain": [
       "        Id  MSSubClass MSZoning  LotArea Street LotShape LandContour  \\\n",
       "1376  1377          30       RL     6292   Pave      Reg         Bnk   \n",
       "1377  1378          50       RL    10998   Pave      Reg         Lvl   \n",
       "1378  1379         160       RM     1953   Pave      Reg         Lvl   \n",
       "1380  1381          30       RL     8212   Pave      Reg         Lvl   \n",
       "1381  1382          20       RL    12925   Pave      IR1         Lvl   \n",
       "1382  1383          70       RM     7200   Pave      Reg         Lvl   \n",
       "1383  1384          30       RL    25339   Pave      Reg         Lvl   \n",
       "1384  1385          50       RL     9060   Pave      Reg         Lvl   \n",
       "1385  1386          50       RM     5436   Pave      Reg         Lvl   \n",
       "\n",
       "     Utilities LotConfig LandSlope  ... EnclosedPorch 3SsnPorch ScreenPorch  \\\n",
       "1376    AllPub    Inside       Gtl  ...             0         0           0   \n",
       "1377    AllPub    Inside       Gtl  ...             0         0           0   \n",
       "1378    AllPub    Inside       Gtl  ...             0         0           0   \n",
       "1380    AllPub    Inside       Gtl  ...            96         0           0   \n",
       "1381    AllPub    Corner       Gtl  ...             0         0           0   \n",
       "1382    AllPub    Corner       Gtl  ...           221         0           0   \n",
       "1383    AllPub    Inside       Gtl  ...           112         0           0   \n",
       "1384    AllPub    Inside       Gtl  ...             0         0           0   \n",
       "1385    AllPub    Inside       Gtl  ...             0         0           0   \n",
       "\n",
       "     PoolArea MiscVal  MoSold  YrSold  SaleType  SaleCondition SalePrice  \n",
       "1376        0       0       4    2008        WD         Normal     91000  \n",
       "1377        0       0       7    2009        WD         Normal    117000  \n",
       "1378        0       0       6    2006        WD         Normal     83000  \n",
       "1380        0       0       6    2010        WD         Normal     58500  \n",
       "1381        0       0       5    2008        WD         Normal    237500  \n",
       "1382        0       0      10    2006        WD         Normal    157000  \n",
       "1383        0       0       8    2007        WD         Normal    112000  \n",
       "1384        0       0      10    2009        WD         Normal    105000  \n",
       "1385        0       0       5    2010        WD         Normal    125500  \n",
       "\n",
       "[9 rows x 63 columns]"
      ]
     },
     "execution_count": 10,
     "metadata": {},
     "output_type": "execute_result"
    }
   ],
   "source": [
    "#削除および、削除後の列を確認\n",
    "train_df = train_df.drop(null_row_index, axis=0)\n",
    "train_df.loc[1376:1385, :]"
   ]
  },
  {
   "cell_type": "markdown",
   "metadata": {},
   "source": [
    "## 【課題5】用語の調査\n",
    "以下の２つの単語を知る必要があります。これらを調査してまとめてください。"
   ]
  },
  {
   "cell_type": "markdown",
   "metadata": {},
   "source": [
    "$n$個のデータの集合$x$に対して、標準偏差を$s$、平均値を$\\bar{x}$とする。\n",
    "* 尖度  \n",
    "以下の式で表される。。  確率密度関数や頻度分布の鋭さを表す。尖度が大きいと尖った分布になる。この式では正規分布の尖度が3になる。\n",
    "$$\n",
    "\\beta = \\frac{1}{n}\\sum_{i=1}^{n}{\\Bigl(\\frac{x_i - \\bar{x}}{s}\\Bigr)^4}\n",
    "$$\n",
    "\n",
    "\n",
    "* 歪度  \n",
    "以下の式で表される。分布が正規分布からどれだけ歪んでいるかを表す統計量。左右対称性を示す指標。左に偏ると正の値、右に偏ると負の値をとる。  \n",
    "$$\n",
    "\\gamma = \\frac {1}{n} \\sum_{i=1}^{n} \\Bigl(\\frac{x_i -\\bar{x}}{s}\\Bigr)^3\n",
    "$$"
   ]
  },
  {
   "cell_type": "code",
   "execution_count": 11,
   "metadata": {},
   "outputs": [
    {
     "ename": "NameError",
     "evalue": "name 'sns' is not defined",
     "output_type": "error",
     "traceback": [
      "\u001b[0;31m---------------------------------------------------------------------------\u001b[0m",
      "\u001b[0;31mNameError\u001b[0m                                 Traceback (most recent call last)",
      "\u001b[0;32m<ipython-input-11-231d13f4c663>\u001b[0m in \u001b[0;36m<module>\u001b[0;34m\u001b[0m\n\u001b[1;32m      3\u001b[0m \u001b[0;34m\u001b[0m\u001b[0m\n\u001b[1;32m      4\u001b[0m \u001b[0mdst1\u001b[0m \u001b[0;34m=\u001b[0m \u001b[0mnp\u001b[0m\u001b[0;34m.\u001b[0m\u001b[0mrandom\u001b[0m\u001b[0;34m.\u001b[0m\u001b[0mnormal\u001b[0m\u001b[0;34m(\u001b[0m\u001b[0;36m0\u001b[0m\u001b[0;34m,\u001b[0m \u001b[0;36m1\u001b[0m\u001b[0;34m,\u001b[0m \u001b[0;36m100000\u001b[0m\u001b[0;34m)\u001b[0m\u001b[0;34m\u001b[0m\u001b[0;34m\u001b[0m\u001b[0m\n\u001b[0;32m----> 5\u001b[0;31m \u001b[0msns\u001b[0m\u001b[0;34m.\u001b[0m\u001b[0mdistplot\u001b[0m\u001b[0;34m(\u001b[0m\u001b[0mdst1\u001b[0m\u001b[0;34m)\u001b[0m\u001b[0;34m;\u001b[0m\u001b[0;34m\u001b[0m\u001b[0;34m\u001b[0m\u001b[0m\n\u001b[0m",
      "\u001b[0;31mNameError\u001b[0m: name 'sns' is not defined"
     ]
    }
   ],
   "source": [
    "#標準正規分布と尖度、歪度\n",
    "import numpy as np\n",
    "\n",
    "dst1 = np.random.normal(0, 1, 100000)\n",
    "sns.distplot(dst1);"
   ]
  },
  {
   "cell_type": "code",
   "execution_count": null,
   "metadata": {},
   "outputs": [],
   "source": [
    "import scipy.stats as st\n",
    "\n",
    "#正規分布の尖度と歪度\n",
    "print(\"methodで計算\")\n",
    "print(\"Kurtosis: %f\" % st.kurtosis(dst1))\n",
    "print(\"Skewness: %f\" % st.skew(dst1))\n",
    "\n",
    "#尖度と歪度をstdevとmeanから算出\n",
    "ndst_std = np.std(dst1)\n",
    "ndst_mean = np.mean(dst1)\n",
    "ndst_len = dst1.shape[0]\n",
    "\n",
    "# 尖度\n",
    "sgm_kurt = 0\n",
    "for xi in dst1:\n",
    "    sgm_kurt += ((xi - ndst_mean)/ndst_std)**4\n",
    "\n",
    "kurtosis = (sgm_kurt/ndst_len) - 3\n",
    "\n",
    "# 歪度\n",
    "sgm_skew = 0\n",
    "for xi in dst1:\n",
    "    sgm_skew += ((xi - ndst_mean)/ndst_std)**3\n",
    "\n",
    "skewness = sgm_skew/ndst_len\n",
    "\n",
    "print(\"\\nstdevとmeanから算出\")\n",
    "print(\"Kurtosis: %f\" % kurtosis)\n",
    "print(\"Skewness: %f\" % skewness)"
   ]
  },
  {
   "cell_type": "markdown",
   "metadata": {},
   "source": [
    "## 【課題6】分布の確認\n",
    "* seabornのsns.distplot()を使い目的変数の分布を表示し、「尖度」と「歪度」も算出する。  "
   ]
  },
  {
   "cell_type": "code",
   "execution_count": null,
   "metadata": {},
   "outputs": [],
   "source": [
    "import seaborn as sns\n",
    "sns.distplot(train_df.SalePrice);"
   ]
  },
  {
   "cell_type": "code",
   "execution_count": null,
   "metadata": {},
   "outputs": [],
   "source": [
    "#尖度\n",
    "print(\"Kurtosis: %f\" % train_df['SalePrice'].kurt())\n",
    "#歪度\n",
    "print(\"Skewness: %f\" % train_df['SalePrice'].skew())"
   ]
  },
  {
   "cell_type": "markdown",
   "metadata": {},
   "source": [
    "* 目的変数に対して対数変換を行う。  "
   ]
  },
  {
   "cell_type": "code",
   "execution_count": null,
   "metadata": {},
   "outputs": [],
   "source": [
    "# DataFrameにlog(SalePrice)を追加\n",
    "train_df['SalePriceLog'] = np.log(train_df['SalePrice'])"
   ]
  },
  {
   "cell_type": "markdown",
   "metadata": {},
   "source": [
    "* 対数変換したものに対して分布を表示し、「尖度」と「歪度」も算出する。  \n",
    "対数変換の前後での変化を「正規分布」という言葉を含めて説明してください。このように加工することで予測時の精度を上げることができます。"
   ]
  },
  {
   "cell_type": "code",
   "execution_count": null,
   "metadata": {},
   "outputs": [],
   "source": [
    "sns.distplot(train_df['SalePriceLog']);"
   ]
  },
  {
   "cell_type": "code",
   "execution_count": null,
   "metadata": {},
   "outputs": [],
   "source": [
    "print(\"Kurtosis: %f\" % train_df['SalePriceLog'].kurt())\n",
    "print(\"Skewness: %f\" % train_df['SalePriceLog'].skew())"
   ]
  },
  {
   "cell_type": "markdown",
   "metadata": {},
   "source": [
    "Logをとることで、分布が歪度がゼロに近づき正規分布に近い形になった。尖度も小さくなったがゼロではないので、裾野が狭く中央が尖った形になっている。  \n",
    "一般に、正規分布  \n",
    "$$\n",
    "f(x) = \\frac{1}{\\sqrt{2\\pi\\sigma^2}}exp\\Bigl({-\\frac{(x-\\mu)^2}{2\\sigma^2}}\\Bigr)\n",
    "$$  \n",
    "に対して、$x=\\log{t}$の関係が成り立つ時、$t$は対数正規分布に従う、という。　　\n",
    "今回の結果から、厳密に$x=\\log{t}$の関係になくても、歪度が大きい分布に対して対数をとることで正規分布に近い形に変換できると考えられる。  \n",
    "この理由を考える。定義から、$x$の平均値$\\mu$は\n",
    "$$\n",
    "\\mu = \\frac{1}{n}\\sum_{i=1}^{n} {x_i}\n",
    "=\\frac{1}{n}\\sum_{i=1}^{n} {\\log{t_i}}\n",
    "=\\frac{1}{n}\\log\\prod_{i=1}^{n}{t_i}\n",
    "$$\n",
    "と表せるが、これより変数の相乗平均に意味がある場合に対数を取ると有効と考えられる。 "
   ]
  },
  {
   "cell_type": "markdown",
   "metadata": {},
   "source": [
    "## 【課題7】相関係数の確認\n",
    "特徴量の確認をしていきます。それぞれに対してマークダウンで説明や考察を書いてください。\n",
    "\n",
    "* 相関係数行列のヒートマップを作り、相関係数の高い関係を見つける。  "
   ]
  },
  {
   "cell_type": "code",
   "execution_count": null,
   "metadata": {},
   "outputs": [],
   "source": [
    "train_df_corr = train_df.corr()\n",
    "train_df_corr"
   ]
  },
  {
   "cell_type": "markdown",
   "metadata": {},
   "source": [
    "* 目的変数との相関の高い特徴量10個を選び、これらだけの相関係数行列ヒートマップを作る。  "
   ]
  },
  {
   "cell_type": "code",
   "execution_count": null,
   "metadata": {},
   "outputs": [],
   "source": [
    "sale_price_log_corr = train_df_corr['SalePriceLog'].sort_values(ascending=False)\n",
    "sale_price_log_corr[0:10]\n"
   ]
  },
  {
   "cell_type": "code",
   "execution_count": null,
   "metadata": {},
   "outputs": [],
   "source": [
    "#SalePriceは意味がないので削る\n",
    "sale_price_log_corr = sale_price_log_corr.drop(['SalePrice'], axis=0)\n",
    "sale_price_log_corr"
   ]
  },
  {
   "cell_type": "code",
   "execution_count": null,
   "metadata": {},
   "outputs": [],
   "source": [
    "#SalePriceLogと、上位10の項目の相関係数を計算\n",
    "train_df_corr = train_df[sale_price_log_corr[0:11].index].corr()\n",
    "train_df_corr"
   ]
  },
  {
   "cell_type": "markdown",
   "metadata": {},
   "source": [
    "* 選んだ10個の特徴量が何か表しているかをKaggleのDataDescriptionの記述を参考に日本語でまとめる。  "
   ]
  },
  {
   "cell_type": "markdown",
   "metadata": {},
   "source": [
    "| Feature | Description |\n",
    "| :------: | :------: |\n",
    "| SalePriceLog | log(SalePrice) |\n",
    "| OverallQual | 家全体に関して、素材と仕上がりの十段階評価 (10: 最高, 1: 最低)|\n",
    "| GrLivArea | 地上階のフロア面積の合計 (feet$^2$) |\n",
    "| GarageCars | ガレージのサイズ（車の収納可能台数） |\n",
    "| GarageArea | ガレージのサイズ（面積 feet$^2$） |\n",
    "| TotalBsmtSF | 地下階のフロア面積の合計 (feet$^2$) |\n",
    "| 1stFlrSF | 地上1階のフロア面積 (feet$^2$) |\n",
    "| FullBath | 地上階にある風呂場数 |\n",
    "| YearBuilt | 建築された年 |\n",
    "| YearRemodAdd | リフォーム年（リフォームされていなければYearBuiltと同じ） |\n",
    "| TotRmsAbvGrd | 地上階にある部屋数 （風呂場は除く） |\n"
   ]
  },
  {
   "cell_type": "markdown",
   "metadata": {},
   "source": [
    "* 選んだ10個の特徴量の中でお互いの相関係数が高い組み合わせを3つ探し出す。  "
   ]
  },
  {
   "cell_type": "markdown",
   "metadata": {},
   "source": [
    "| Feature 1 | Feature 2 | Correlation | Discussion |\n",
    "|:---|:---|:---|:---|\n",
    "| GarageCars | GarageArea | 0.882613 |　車庫の面積が広ければ収容可能な車の台数も多そう（逆もまた然り） |\n",
    "| GrLivArea | TotRmsAbvGrd | 0.825576 |　地上階の面積が大きければ、地上階の部屋数も多そう（逆もまた然り）　|\n",
    "| 1stFlrSF | TotalBsmtSF | 0.819393 |　家の構造は上下の階でAreaは変わらなそう（上に行くにつれて大きくなるとか小さくなるとかはあまりなさそう）。地下階はだいたいB1階までしかないことが多いと思われるので、1Fと地下階の面積の相関が高いと思われる。|"
   ]
  },
  {
   "cell_type": "code",
   "execution_count": 17,
   "metadata": {},
   "outputs": [
    {
     "data": {
      "text/plain": [
       "Text(0, 0.5, 'GarageCars')"
      ]
     },
     "execution_count": 17,
     "metadata": {},
     "output_type": "execute_result"
    },
    {
     "data": {
      "image/png": "[encoded data removed]",
      "text/plain": [
       "<Figure size 432x288 with 1 Axes>"
      ]
     },
     "metadata": {
      "needs_background": "light"
     },
     "output_type": "display_data"
    }
   ],
   "source": [
    "import matplotlib.pyplot as plt\n",
    "\n",
    "plt.scatter(x=train_df['GarageArea'], y=train_df['GarageCars'])\n",
    "plt.xlabel('GarageArea')\n",
    "plt.ylabel('GarageCars')\n"
   ]
  },
  {
   "cell_type": "code",
   "execution_count": 18,
   "metadata": {},
   "outputs": [
    {
     "data": {
      "text/plain": [
       "Text(0, 0.5, 'TotRmsAbvGrd')"
      ]
     },
     "execution_count": 18,
     "metadata": {},
     "output_type": "execute_result"
    },
    {
     "data": {
      "image/png": "[encoded data removed]",
      "text/plain": [
       "<Figure size 432x288 with 1 Axes>"
      ]
     },
     "metadata": {
      "needs_background": "light"
     },
     "output_type": "display_data"
    }
   ],
   "source": [
    "plt.scatter(x=train_df['GrLivArea'], y=train_df['TotRmsAbvGrd']);\n",
    "plt.xlabel('GrLivArea')\n",
    "plt.ylabel('TotRmsAbvGrd')"
   ]
  },
  {
   "cell_type": "code",
   "execution_count": 19,
   "metadata": {},
   "outputs": [
    {
     "data": {
      "text/plain": [
       "Text(0, 0.5, 'TotalBsmtSF')"
      ]
     },
     "execution_count": 19,
     "metadata": {},
     "output_type": "execute_result"
    },
    {
     "data": {
      "image/png": "[encoded data removed]",
      "text/plain": [
       "<Figure size 432x288 with 1 Axes>"
      ]
     },
     "metadata": {
      "needs_background": "light"
     },
     "output_type": "display_data"
    }
   ],
   "source": [
    "plt.scatter(x=train_df['1stFlrSF'], y=train_df['TotalBsmtSF']);\n",
    "plt.xlabel('1stFlrSF')\n",
    "plt.ylabel('TotalBsmtSF')"
   ]
  },
  {
   "cell_type": "markdown",
   "metadata": {},
   "source": [
    "一直線上に乗っている点の集合は地下階がB1階までの家と思われる。1FとBasement Floorの面積がほぼ同じためだろうか。そこから外れているのは地下階がない家や、地下階が数Floarある家だろうか"
   ]
  },
  {
   "cell_type": "markdown",
   "metadata": {},
   "source": [
    "## 【課題8】重要度の算出\n",
    "ランダムフォレストという機械学習手法を用いることで、重要度の値を算出できます。この値は推定を行った時に、各特徴量がどれだけ推定値に寄与しているかを表すものです。ランダムフォレストは推定によく使われる手法ですが、ここでは推定自体が目的ではなく、あくまで重要度を算出するために使います"
   ]
  },
  {
   "cell_type": "markdown",
   "metadata": {},
   "source": [
    "[参考](http://aiweeklynews.com/archives/50653819.html)"
   ]
  },
  {
   "cell_type": "markdown",
   "metadata": {},
   "source": [
    "## 【課題9】さらなる探索\n",
    "Kaggleのカーネルを参考に、ここまでの課題にないことにも挑戦し、ノートブックにまとめてください。"
   ]
  },
  {
   "cell_type": "code",
   "execution_count": null,
   "metadata": {},
   "outputs": [],
   "source": []
  }
 ],
 "metadata": {
  "kernelspec": {
   "display_name": "Python 3",
   "language": "python",
   "name": "python3"
  },
  "language_info": {
   "codemirror_mode": {
    "name": "ipython",
    "version": 3
   },
   "file_extension": ".py",
   "mimetype": "text/x-python",
   "name": "python",
   "nbconvert_exporter": "python",
   "pygments_lexer": "ipython3",
   "version": "3.6.8"
  }
 },
 "nbformat": 4,
 "nbformat_minor": 2
}
