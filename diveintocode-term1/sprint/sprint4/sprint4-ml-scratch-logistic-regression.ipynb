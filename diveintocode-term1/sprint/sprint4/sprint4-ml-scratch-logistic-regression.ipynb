{
 "cells": [
  {
   "cell_type": "markdown",
   "metadata": {},
   "source": [
    "# Sprint4課題 機械学習スクラッチロジスティック回帰"
   ]
  },
  {
   "cell_type": "markdown",
   "metadata": {},
   "source": [
    "## 【問題1】ロジスティック回帰のクラスを作成する\n",
    "ロジスティック回帰のクラスを作成し、Sprint2で作成した分類のパイプラインに組み込んでください。\n",
    "\n",
    "クラスの基本構造はSprint3の線形回帰を参考にし、名前はScratchLogisticRegressionとしてください。\n",
    "\n",
    "メソッドやパラメータなどはscikit-learnを参考にしてください。推定関係ではラベルを出力するpredictメソッドと、確率を出力するpredict_probaメソッドの2種類を作成します。\n",
    "\n",
    "sklearn.linear_model.LinearRegression — scikit-learn 0.20.0 documentation\n",
    "\n",
    "検証段階ではJupyter Notebook上で書いていき、最終的にはpyファイルにモジュールとしてまとめてください。\n",
    "\n",
    "シグモイド関数\n",
    "コーディング\n",
    "\n",
    "シグモイド関数を実装しましょう。\n",
    "\n",
    "正しく動作しているかを確認するために、この関数に-10から10の値を入力したときの出力をプロットしておいてください。\n",
    "\n",
    "目的関数\n",
    "以下の数式で表されるロジスティック回帰の目的関数Jを実装してください。この数式には正則化項が含まれています。\n",
    "\n",
    "数式が見切れる場合、DIVERを全画面にして御覧ください\n",
    "\n",
    "最急降下法\n",
    "最急降下法により学習させてください。バイアス項およびj番目のパラメータの更新には以下の式を使います。"
   ]
  },
  {
   "cell_type": "code",
   "execution_count": null,
   "metadata": {},
   "outputs": [],
   "source": [
    "#まずはイメージを固める"
   ]
  },
  {
   "cell_type": "code",
   "execution_count": 370,
   "metadata": {},
   "outputs": [
    {
     "data": {
      "text/plain": [
       "array([[ 1,  1,  2],\n",
       "       [ 1,  3,  4],\n",
       "       [ 1,  5,  6],\n",
       "       [ 1,  7,  8],\n",
       "       [ 1,  9, 10]])"
      ]
     },
     "execution_count": 370,
     "metadata": {},
     "output_type": "execute_result"
    }
   ],
   "source": [
    "#特徴量X (n_samples, n_features)\n",
    "#x_0: intercept, x_1: first feature, x_2: second feature)\n",
    "import numpy as np\n",
    "X = np.array([\n",
    "    [1, 1, 2],\n",
    "    [1, 3, 4],\n",
    "    [1, 5, 6],\n",
    "    [1, 7, 8],\n",
    "    [1, 9, 10]\n",
    "])\n",
    "X"
   ]
  },
  {
   "cell_type": "code",
   "execution_count": 371,
   "metadata": {},
   "outputs": [
    {
     "data": {
      "text/plain": [
       "array([[0],\n",
       "       [1],\n",
       "       [1],\n",
       "       [0],\n",
       "       [1]])"
      ]
     },
     "execution_count": 371,
     "metadata": {},
     "output_type": "execute_result"
    }
   ],
   "source": [
    "#目的変数y(n_samples)\n",
    "y = np.array([0, 1, 1, 0, 1]).reshape(-1, 1)\n",
    "y"
   ]
  },
  {
   "cell_type": "code",
   "execution_count": 372,
   "metadata": {},
   "outputs": [
    {
     "data": {
      "text/plain": [
       "array([[0., 0., 0.]])"
      ]
     },
     "execution_count": 372,
     "metadata": {},
     "output_type": "execute_result"
    }
   ],
   "source": [
    "#Xの係数theta(n_features)\n",
    "theta = np.empty((0,3))\n",
    "theta = np.append(theta, np.array([[0,0,0]]), axis=0)\n",
    "theta"
   ]
  },
  {
   "cell_type": "code",
   "execution_count": 373,
   "metadata": {},
   "outputs": [],
   "source": [
    "#sigmoid function\n",
    "\n",
    "def convert_sigmoid(z):\n",
    "    \"\"\"\n",
    "    Parameters\n",
    "    -----------\n",
    "    z: ndarray of shape(any, any)\n",
    "    \n",
    "    Returns\n",
    "    -----------\n",
    "    sigmoid_z: ndarray of shape z\n",
    "        sigmoid_z = 1/(1 + exp(-z))\n",
    "    \n",
    "    Note\n",
    "    -----------\n",
    "    \"\"\"\n",
    "    sigmoid_z = 1/(1 +np.exp(-z))\n",
    "    \n",
    "    \n",
    "    return sigmoid_z"
   ]
  },
  {
   "cell_type": "code",
   "execution_count": 374,
   "metadata": {},
   "outputs": [
    {
     "data": {
      "text/plain": [
       "array([[0.5       ],\n",
       "       [0.73105858],\n",
       "       [0.73105858],\n",
       "       [0.5       ],\n",
       "       [0.73105858]])"
      ]
     },
     "execution_count": 374,
     "metadata": {},
     "output_type": "execute_result"
    }
   ],
   "source": [
    "#シグモイドの確認\n",
    "convert_sigmoid(y)"
   ]
  },
  {
   "cell_type": "code",
   "execution_count": 375,
   "metadata": {},
   "outputs": [
    {
     "data": {
      "text/plain": [
       "(200,)"
      ]
     },
     "execution_count": 375,
     "metadata": {},
     "output_type": "execute_result"
    }
   ],
   "source": [
    "test = np.arange(-10, 10, 0.1)\n",
    "test.shape"
   ]
  },
  {
   "cell_type": "code",
   "execution_count": 376,
   "metadata": {},
   "outputs": [
    {
     "data": {
      "text/plain": [
       "[<matplotlib.lines.Line2D at 0x1a21dbe6d8>]"
      ]
     },
     "execution_count": 376,
     "metadata": {},
     "output_type": "execute_result"
    },
    {
     "data": {
      "image/png": "[encoded data removed]",
      "text/plain": [
       "<Figure size 288x288 with 1 Axes>"
      ]
     },
     "metadata": {
      "needs_background": "light"
     },
     "output_type": "display_data"
    }
   ],
   "source": [
    "import matplotlib.pyplot as plt\n",
    "\n",
    "fig, ax = plt.subplots(1, 1, figsize=(4, 4))\n",
    "ax.plot(test, convert_sigmoid(test), '-')"
   ]
  },
  {
   "cell_type": "code",
   "execution_count": 377,
   "metadata": {},
   "outputs": [
    {
     "data": {
      "text/plain": [
       "array([[0.5],\n",
       "       [0.5],\n",
       "       [0.5],\n",
       "       [0.5],\n",
       "       [0.5]])"
      ]
     },
     "execution_count": 377,
     "metadata": {},
     "output_type": "execute_result"
    }
   ],
   "source": [
    "#Hypothesis function\n",
    "#thetaとxから求めたyの予測値\n",
    "h = convert_sigmoid(np.dot(X, theta.reshape(-1, 1)))\n",
    "h"
   ]
  },
  {
   "cell_type": "code",
   "execution_count": 378,
   "metadata": {},
   "outputs": [
    {
     "data": {
      "text/plain": [
       "array([[-0.69314718],\n",
       "       [-0.69314718],\n",
       "       [-0.69314718],\n",
       "       [-0.69314718],\n",
       "       [-0.69314718]])"
      ]
     },
     "execution_count": 378,
     "metadata": {},
     "output_type": "execute_result"
    }
   ],
   "source": [
    "#Cost functionを順を追って計算\n",
    "#np.logの確認\n",
    "np.log(h)"
   ]
  },
  {
   "cell_type": "code",
   "execution_count": 379,
   "metadata": {},
   "outputs": [
    {
     "data": {
      "text/plain": [
       "array([[-0.        ],\n",
       "       [ 0.69314718],\n",
       "       [ 0.69314718],\n",
       "       [-0.        ],\n",
       "       [ 0.69314718]])"
      ]
     },
     "execution_count": 379,
     "metadata": {},
     "output_type": "execute_result"
    }
   ],
   "source": [
    "# y = 1の時に h ≒ 0と予測するとコスト無限大になり、h ≒ 1と予測するとコスト最小となる項\n",
    "-y*np.log(h)"
   ]
  },
  {
   "cell_type": "code",
   "execution_count": 380,
   "metadata": {},
   "outputs": [
    {
     "data": {
      "text/plain": [
       "array([[-0.69314718],\n",
       "       [-0.        ],\n",
       "       [-0.        ],\n",
       "       [-0.69314718],\n",
       "       [-0.        ]])"
      ]
     },
     "execution_count": 380,
     "metadata": {},
     "output_type": "execute_result"
    }
   ],
   "source": [
    "# y = 0の時に h ≒ 1と予測するとコスト無限大になり、h ≒ 0と予測するとコスト最小となる項\n",
    "(1-y)*np.log(1-h)"
   ]
  },
  {
   "cell_type": "code",
   "execution_count": 381,
   "metadata": {},
   "outputs": [
    {
     "data": {
      "text/plain": [
       "array([0.])"
      ]
     },
     "execution_count": 381,
     "metadata": {},
     "output_type": "execute_result"
    }
   ],
   "source": [
    "#正則化項の確認\n",
    "\n",
    "lmd = 1\n",
    "lmd*(theta[:, 1:]**2).sum(axis=1)"
   ]
  },
  {
   "cell_type": "code",
   "execution_count": 382,
   "metadata": {},
   "outputs": [
    {
     "data": {
      "text/plain": [
       "array([0.69314718])"
      ]
     },
     "execution_count": 382,
     "metadata": {},
     "output_type": "execute_result"
    }
   ],
   "source": [
    "#Cost関数Jの確認\n",
    "J = (-y*np.log(h) -(1-y)*np.log(1-h)).sum(axis=0)/len(X) + lmd*(theta[:, 1:]**2).sum(axis=1)/len(X)\n",
    "J"
   ]
  },
  {
   "cell_type": "code",
   "execution_count": 383,
   "metadata": {},
   "outputs": [
    {
     "data": {
      "text/plain": [
       "array([[0.69314718]])"
      ]
     },
     "execution_count": 383,
     "metadata": {},
     "output_type": "execute_result"
    }
   ],
   "source": [
    "#sumの計算を内積にする\n",
    "#出力が一致したのでOK\n",
    "J = (-np.dot(y.T, np.log(h)) -np.dot((1-y).T, np.log(1-h)))/len(X) + lmd*np.dot(theta[:,1:], theta[:, 1:].T)/len(X)\n",
    "J"
   ]
  },
  {
   "cell_type": "code",
   "execution_count": null,
   "metadata": {},
   "outputs": [],
   "source": [
    "#イメージできたのでクラスを作る"
   ]
  },
  {
   "cell_type": "code",
   "execution_count": 697,
   "metadata": {},
   "outputs": [],
   "source": [
    "import numpy as np\n",
    "import matplotlib.pyplot as plt\n",
    "\n",
    "class ScratchLogisticRegression():\n",
    "    \"\"\"\n",
    "    Logistic回帰のスクラッチ実装\n",
    "\n",
    "    Parameters\n",
    "    ----------\n",
    "    num_iter : int\n",
    "      イテレーション数\n",
    "    lr: float\n",
    "        学習率learning rate\n",
    "    lmbd: float\n",
    "        正則化パラメータ lambda\n",
    "    no_bias : bool\n",
    "        バイアス項を入れない場合はTrue\n",
    "    unique_value: ndarray of unique element in y\n",
    "        yの要素を重複なしで抜き出したndarray（yの値を0, 1に変換するために利用）\n",
    "    Attributes\n",
    "    ----------\n",
    "    self.coef_ : 次の形のndarray, shape (n_features,)\n",
    "      パラメータ\n",
    "    self.loss : 次の形のndarray, shape (self.iter,)\n",
    "      学習用データに対する損失の記録\n",
    "    self.val_loss : 次の形のndarray, shape (self.iter,)\n",
    "      検証用データに対する損失の記録\n",
    "\n",
    "    \"\"\"\n",
    "\n",
    "    def __init__(self, num_iter, lr, lmbd, bias=1):\n",
    "        # ハイパーパラメータを属性として記録\n",
    "        self.iter = num_iter\n",
    "        self.lr = lr\n",
    "        self.lmbd = lmbd\n",
    "        self.bias = bias\n",
    "        self.unique_value = []\n",
    "        # 損失を記録する配列を用意\n",
    "        self.loss = np.zeros(self.iter)\n",
    "        self.val_loss = np.zeros(self.iter)\n",
    "\n",
    "    def fit(self, X, y, X_val=None, y_val=None):\n",
    "        \"\"\"\n",
    "        ロジスティック回帰を学習する。検証用データが入力された場合はそれに対する損失と精度もイテレーションごとに計算する。\n",
    "\n",
    "        Parameters\n",
    "        ----------\n",
    "        X : 次の形のndarray, shape (n_samples, n_features)\n",
    "            学習用データの特徴量\n",
    "        y : 次の形のndarray, shape (n_samples, )\n",
    "            学習用データの正解値\n",
    "        X_val : 次の形のndarray, shape (n_samples, n_features)\n",
    "            検証用データの特徴量\n",
    "        y_val : 次の形のndarray, shape (n_samples, )\n",
    "            検証用データの正解値\n",
    "        \"\"\"\n",
    "\n",
    "        #XにX_0の列をbias埋めで追加（切片の項を追加）\n",
    "        X = np.concatenate((np.full((len(X), 1), self.bias), X), axis=1)\n",
    "                \n",
    "        # yのshapeを(n_samples, )から(n_samples, 1)にする\n",
    "        y = y.reshape(-1,1)\n",
    "        \n",
    "        #0, 1以外の２値で入力された場合への対応（例：a, bを0, 1に変換）\n",
    "        #yの中のユニークな値を重複無しのndarrayに（[a, b, a, a, b, b] を[a, b]に ）\n",
    "        self.unique_value = np.unique(y_train)\n",
    "        #yを0, 1に変換（[a, b, a, a, b, b] がaとなる場合に0(False), bとなる場合に1(True)に ）\n",
    "        y = (y != self.unique_value[0]).astype(np.int64)\n",
    "        \n",
    "        #validation dataに対して同様の前処理\n",
    "        if not ((X_val is None) or (y_val is None)):\n",
    "            X_val = np.concatenate((np.full((len(X_val), 1), self.bias), X_val), axis=1)\n",
    "            y_val = y_val.reshape(-1,1)\n",
    "            y_val = (y_val != self.unique_value[0]).astype(np.int64)\n",
    "            \n",
    "        #coef_ (theta)を初期化 (1, n_features)\n",
    "        #-1 ~ 1の乱数で\n",
    "        a = -1\n",
    "        b = 1\n",
    "        self.coef_ = (b - a) * np.random.rand(X.shape[1]).reshape(1,-1)  + a     \n",
    "        \n",
    "        #self.iterの回数だけself.coef_を更新しながらhも更新していく\n",
    "        for i in range(self.iter):\n",
    "            #予測値h\n",
    "            h = self._hypothesis(X)\n",
    "            \n",
    "            #hを元にしてCostの計算\n",
    "            mse, error = self._cost(h, y)\n",
    "            \n",
    "            #costをval_lossに記録\n",
    "            self.loss[i] = mse\n",
    "            \n",
    "            #validation dataに対して同様の処理\n",
    "            if not ((X_val is None) or (y_val is None)):\n",
    "                h_val = self._hypothesis(X_val)\n",
    "                J_val, error_val = self._cost(h_val, y_val)\n",
    "                self.val_loss[i] = J_val\n",
    "                \n",
    "            #errorを元にgradを計算してself.coef_を更新\n",
    "            self._gradient_descent(X, error)\n",
    "    \n",
    "    def predict_proba(self, X_test):\n",
    "        \"\"\"\n",
    "        線形回帰を使い推定する。\n",
    "\n",
    "        Parameters\n",
    "        ----------\n",
    "        X : 次の形のndarray, shape (n_samples, n_features)\n",
    "            サンプル\n",
    "\n",
    "        Returns\n",
    "        -------\n",
    "            次の形のndarray, shape (n_samples, 1)\n",
    "            線形回帰による推定結果\n",
    "        \"\"\"\n",
    "        #XにX_0の列を追加（切片の項を追加）\n",
    "        X_test = np.concatenate((np.full((len(X_test), 1), self.bias), X_test), axis=1)\n",
    "\n",
    "        #a.dot(b)よりもnp.dot(a, b)の方が早い(np.dotはC言語、a.dotはPythonでの処理なので)\n",
    "        prob = self._convert_sigmoid(np.dot(X_test, (self.coef_).T))\n",
    "        return prob\n",
    "    \n",
    "    def predict(self, X_test):\n",
    "        prob = (self.predict_proba(X_test) >= 0.5).astype(np.int64)\n",
    "        prob = prob[:, 0]\n",
    "        pred = self.unique_value[prob]\n",
    "        return pred\n",
    "\n",
    "    def _convert_sigmoid(self, z):\n",
    "        \"\"\"\n",
    "        Parameters\n",
    "        -----------\n",
    "        z: ndarray of shape(any, any)\n",
    "\n",
    "        Returns\n",
    "        -----------\n",
    "        sigmoid_z: ndarray of shape z\n",
    "            sigmoid_z = 1/(1 + exp(-z))\n",
    "\n",
    "        Note\n",
    "        -----------\n",
    "        \"\"\"\n",
    "        sigmoid_z = 1/(1 +np.exp(-z))\n",
    "        return sigmoid_z\n",
    "    \n",
    "    def _hypothesis(self, X):\n",
    "        \"\"\"\n",
    "        線形の仮定関数を計算する\n",
    "\n",
    "        Parameters\n",
    "        ----------\n",
    "        X : ndarray of shape (n_samples, n_features)\n",
    "          学習データ\n",
    "\n",
    "        Returns\n",
    "        -------\n",
    "          ndarray of shape (n_samples, 1)\n",
    "          線形の仮定関数による推定結果\n",
    "\n",
    "        \"\"\"\n",
    "        h = self._convert_sigmoid(np.dot(X, (self.coef_).T))\n",
    "        \n",
    "        return h\n",
    "      \n",
    "    def _cost(self, h, y):\n",
    "        \"\"\"\n",
    "        costの計算\n",
    "\n",
    "        Parameters\n",
    "        ----------\n",
    "        h : ndarray of shape (n_samples,)\n",
    "          推定した値\n",
    "        y : ndarray of shape (n_samples,)\n",
    "          正解値\n",
    "\n",
    "        Returns\n",
    "        ----------\n",
    "        J : np.float\n",
    "        \"\"\"\n",
    "        \n",
    "        #コストのメイン部分\n",
    "        #(1/m) * sigma(-y*log(h(x)) - (1-y)*log(1-h(x)))\n",
    "        J = (-np.dot(y.T, np.log(h)) -np.dot((1-y).T, np.log(1-h)))/len(X)\n",
    "        \n",
    "        #正則化項\n",
    "        #(lambda/m)* sigma(theta^2)\n",
    "        #theta = 0は除外して足し合わせる\n",
    "        reg_term =  self.lmbd*np.dot(self.coef_, self.coef_.T)/len(X)\n",
    "        \n",
    "        #コスト（メイン + 正則化項）\n",
    "        J = J + reg_term\n",
    "        \n",
    "        #誤差(Jの勾配の計算用に)\n",
    "        error = h - y\n",
    "        \n",
    "        return J, error\n",
    "\n",
    "    def _gradient_descent(self, X, error):\n",
    "        \"\"\"\n",
    "        Parameters\n",
    "        ----------\n",
    "        X: ndarray of shape (n_samples, n_features)\n",
    "          学習データ\n",
    "\n",
    "        error: y_pred - y\n",
    "           予測値と実際のyの差\n",
    "        Returns\n",
    "        ----------\n",
    "        インスタンス変数のtheta (self.coef_)を更新\n",
    "\n",
    "        \"\"\"\n",
    "        #grad = (error * X).sum(axis=0)/len(X)\n",
    "        #上の計算と同義。早い方で\n",
    "        \n",
    "        #theta = 0の場合\n",
    "        grad_0 = np.dot(error.T, X[:, 0])/len(X)\n",
    "        self.coef_[:, 0] =  self.coef_[:, 0] - self.lr * grad_0\n",
    "        \n",
    "        #theta = 1の場合\n",
    "        grad_j =  np.dot(error.T, X[:, 1:])/len(X) - self.lmbd*self.coef_[:, 1:]/len(X)\n",
    "        self.coef_[:, 1:] =  self.coef_[:, 1:] - self.lr * grad_j\n",
    "\n",
    "    #学習曲線Plot用の関数\n",
    "    def plot_learning_curve(self):\n",
    "        fig, ax = plt.subplots(1,1, figsize=(4,4 ))\n",
    "        ax.plot(np.array(range(self.iter)), self.loss, \"-\", label = 'train')\n",
    "        ax.plot(np.array(range(self.iter)), self.val_loss, \"-\", label = 'validation')\n",
    "\n",
    "        #label\n",
    "        ax.set_title('Learning Curve')\n",
    "        ax.set_xlabel('n of iterations')\n",
    "        ax.set_ylabel('Cost')\n",
    "        ax.legend()\n",
    "    \n",
    "    #学習過程を表示\n",
    "    def return_process(self):\n",
    "        #学習曲線\n",
    "        self.plot_learning_curve()\n",
    "        return self.loss, self.val_loss"
   ]
  },
  {
   "cell_type": "code",
   "execution_count": 699,
   "metadata": {},
   "outputs": [
    {
     "name": "stdout",
     "output_type": "stream",
     "text": [
      "dict_keys(['data', 'target', 'target_names', 'DESCR', 'feature_names', 'filename'])\n",
      "['setosa' 'versicolor' 'virginica']\n"
     ]
    }
   ],
   "source": [
    "from sklearn.datasets import load_iris\n",
    "dataset = load_iris()\n",
    "print(dataset.keys())\n",
    "print(dataset.target_names)"
   ]
  },
  {
   "cell_type": "code",
   "execution_count": 700,
   "metadata": {},
   "outputs": [
    {
     "data": {
      "text/html": [
       "<div>\n",
       "<style scoped>\n",
       "    .dataframe tbody tr th:only-of-type {\n",
       "        vertical-align: middle;\n",
       "    }\n",
       "\n",
       "    .dataframe tbody tr th {\n",
       "        vertical-align: top;\n",
       "    }\n",
       "\n",
       "    .dataframe thead th {\n",
       "        text-align: right;\n",
       "    }\n",
       "</style>\n",
       "<table border=\"1\" class=\"dataframe\">\n",
       "  <thead>\n",
       "    <tr style=\"text-align: right;\">\n",
       "      <th></th>\n",
       "      <th>sepal length (cm)</th>\n",
       "      <th>sepal width (cm)</th>\n",
       "      <th>petal length (cm)</th>\n",
       "      <th>petal width (cm)</th>\n",
       "    </tr>\n",
       "  </thead>\n",
       "  <tbody>\n",
       "    <tr>\n",
       "      <th>0</th>\n",
       "      <td>5.1</td>\n",
       "      <td>3.5</td>\n",
       "      <td>1.4</td>\n",
       "      <td>0.2</td>\n",
       "    </tr>\n",
       "    <tr>\n",
       "      <th>1</th>\n",
       "      <td>4.9</td>\n",
       "      <td>3.0</td>\n",
       "      <td>1.4</td>\n",
       "      <td>0.2</td>\n",
       "    </tr>\n",
       "    <tr>\n",
       "      <th>2</th>\n",
       "      <td>4.7</td>\n",
       "      <td>3.2</td>\n",
       "      <td>1.3</td>\n",
       "      <td>0.2</td>\n",
       "    </tr>\n",
       "    <tr>\n",
       "      <th>3</th>\n",
       "      <td>4.6</td>\n",
       "      <td>3.1</td>\n",
       "      <td>1.5</td>\n",
       "      <td>0.2</td>\n",
       "    </tr>\n",
       "    <tr>\n",
       "      <th>4</th>\n",
       "      <td>5.0</td>\n",
       "      <td>3.6</td>\n",
       "      <td>1.4</td>\n",
       "      <td>0.2</td>\n",
       "    </tr>\n",
       "  </tbody>\n",
       "</table>\n",
       "</div>"
      ],
      "text/plain": [
       "   sepal length (cm)  sepal width (cm)  petal length (cm)  petal width (cm)\n",
       "0                5.1               3.5                1.4               0.2\n",
       "1                4.9               3.0                1.4               0.2\n",
       "2                4.7               3.2                1.3               0.2\n",
       "3                4.6               3.1                1.5               0.2\n",
       "4                5.0               3.6                1.4               0.2"
      ]
     },
     "execution_count": 700,
     "metadata": {},
     "output_type": "execute_result"
    }
   ],
   "source": [
    "import pandas as pd\n",
    "\n",
    "#import features\n",
    "x = pd.DataFrame(dataset.data, columns = dataset.feature_names)\n",
    "x.head()"
   ]
  },
  {
   "cell_type": "code",
   "execution_count": 701,
   "metadata": {},
   "outputs": [
    {
     "data": {
      "text/html": [
       "<div>\n",
       "<style scoped>\n",
       "    .dataframe tbody tr th:only-of-type {\n",
       "        vertical-align: middle;\n",
       "    }\n",
       "\n",
       "    .dataframe tbody tr th {\n",
       "        vertical-align: top;\n",
       "    }\n",
       "\n",
       "    .dataframe thead th {\n",
       "        text-align: right;\n",
       "    }\n",
       "</style>\n",
       "<table border=\"1\" class=\"dataframe\">\n",
       "  <thead>\n",
       "    <tr style=\"text-align: right;\">\n",
       "      <th></th>\n",
       "      <th>species</th>\n",
       "    </tr>\n",
       "  </thead>\n",
       "  <tbody>\n",
       "    <tr>\n",
       "      <th>0</th>\n",
       "      <td>0</td>\n",
       "    </tr>\n",
       "    <tr>\n",
       "      <th>1</th>\n",
       "      <td>0</td>\n",
       "    </tr>\n",
       "    <tr>\n",
       "      <th>2</th>\n",
       "      <td>0</td>\n",
       "    </tr>\n",
       "    <tr>\n",
       "      <th>3</th>\n",
       "      <td>0</td>\n",
       "    </tr>\n",
       "    <tr>\n",
       "      <th>4</th>\n",
       "      <td>0</td>\n",
       "    </tr>\n",
       "  </tbody>\n",
       "</table>\n",
       "</div>"
      ],
      "text/plain": [
       "   species\n",
       "0        0\n",
       "1        0\n",
       "2        0\n",
       "3        0\n",
       "4        0"
      ]
     },
     "execution_count": 701,
     "metadata": {},
     "output_type": "execute_result"
    }
   ],
   "source": [
    "#import target value\n",
    "y = pd.DataFrame(dataset.target, columns = {'species'})\n",
    "y.head()"
   ]
  },
  {
   "cell_type": "code",
   "execution_count": 702,
   "metadata": {},
   "outputs": [
    {
     "data": {
      "text/html": [
       "<div>\n",
       "<style scoped>\n",
       "    .dataframe tbody tr th:only-of-type {\n",
       "        vertical-align: middle;\n",
       "    }\n",
       "\n",
       "    .dataframe tbody tr th {\n",
       "        vertical-align: top;\n",
       "    }\n",
       "\n",
       "    .dataframe thead th {\n",
       "        text-align: right;\n",
       "    }\n",
       "</style>\n",
       "<table border=\"1\" class=\"dataframe\">\n",
       "  <thead>\n",
       "    <tr style=\"text-align: right;\">\n",
       "      <th></th>\n",
       "      <th>sepal length (cm)</th>\n",
       "      <th>sepal width (cm)</th>\n",
       "      <th>petal length (cm)</th>\n",
       "      <th>petal width (cm)</th>\n",
       "      <th>species</th>\n",
       "    </tr>\n",
       "  </thead>\n",
       "  <tbody>\n",
       "    <tr>\n",
       "      <th>0</th>\n",
       "      <td>5.1</td>\n",
       "      <td>3.5</td>\n",
       "      <td>1.4</td>\n",
       "      <td>0.2</td>\n",
       "      <td>0</td>\n",
       "    </tr>\n",
       "    <tr>\n",
       "      <th>1</th>\n",
       "      <td>4.9</td>\n",
       "      <td>3.0</td>\n",
       "      <td>1.4</td>\n",
       "      <td>0.2</td>\n",
       "      <td>0</td>\n",
       "    </tr>\n",
       "    <tr>\n",
       "      <th>2</th>\n",
       "      <td>4.7</td>\n",
       "      <td>3.2</td>\n",
       "      <td>1.3</td>\n",
       "      <td>0.2</td>\n",
       "      <td>0</td>\n",
       "    </tr>\n",
       "    <tr>\n",
       "      <th>3</th>\n",
       "      <td>4.6</td>\n",
       "      <td>3.1</td>\n",
       "      <td>1.5</td>\n",
       "      <td>0.2</td>\n",
       "      <td>0</td>\n",
       "    </tr>\n",
       "    <tr>\n",
       "      <th>4</th>\n",
       "      <td>5.0</td>\n",
       "      <td>3.6</td>\n",
       "      <td>1.4</td>\n",
       "      <td>0.2</td>\n",
       "      <td>0</td>\n",
       "    </tr>\n",
       "  </tbody>\n",
       "</table>\n",
       "</div>"
      ],
      "text/plain": [
       "   sepal length (cm)  sepal width (cm)  petal length (cm)  petal width (cm)  \\\n",
       "0                5.1               3.5                1.4               0.2   \n",
       "1                4.9               3.0                1.4               0.2   \n",
       "2                4.7               3.2                1.3               0.2   \n",
       "3                4.6               3.1                1.5               0.2   \n",
       "4                5.0               3.6                1.4               0.2   \n",
       "\n",
       "   species  \n",
       "0        0  \n",
       "1        0  \n",
       "2        0  \n",
       "3        0  \n",
       "4        0  "
      ]
     },
     "execution_count": 702,
     "metadata": {},
     "output_type": "execute_result"
    }
   ],
   "source": [
    "#concatenate x and y\n",
    "df = pd.concat((x, y), axis=1)\n",
    "df.head()"
   ]
  },
  {
   "cell_type": "code",
   "execution_count": 703,
   "metadata": {},
   "outputs": [],
   "source": [
    "#extract only sepal_length and petal_length\n",
    "\n",
    "#drop sepal width and petal width columns\n",
    "df = df.drop([dataset.feature_names[1], dataset.feature_names[3]], axis=1)\n",
    "\n",
    "#extract only versicolor and virginica\n",
    "#drop setosa rows(label: 0)\n",
    "setosa_row = df[df['species'] == 0].index\n",
    "df = df.drop(setosa_row, axis=0)"
   ]
  },
  {
   "cell_type": "code",
   "execution_count": 704,
   "metadata": {},
   "outputs": [
    {
     "data": {
      "text/html": [
       "<div>\n",
       "<style scoped>\n",
       "    .dataframe tbody tr th:only-of-type {\n",
       "        vertical-align: middle;\n",
       "    }\n",
       "\n",
       "    .dataframe tbody tr th {\n",
       "        vertical-align: top;\n",
       "    }\n",
       "\n",
       "    .dataframe thead th {\n",
       "        text-align: right;\n",
       "    }\n",
       "</style>\n",
       "<table border=\"1\" class=\"dataframe\">\n",
       "  <thead>\n",
       "    <tr style=\"text-align: right;\">\n",
       "      <th></th>\n",
       "      <th>sepal length (cm)</th>\n",
       "      <th>petal length (cm)</th>\n",
       "      <th>species</th>\n",
       "    </tr>\n",
       "  </thead>\n",
       "  <tbody>\n",
       "    <tr>\n",
       "      <th>145</th>\n",
       "      <td>6.7</td>\n",
       "      <td>5.2</td>\n",
       "      <td>2</td>\n",
       "    </tr>\n",
       "    <tr>\n",
       "      <th>146</th>\n",
       "      <td>6.3</td>\n",
       "      <td>5.0</td>\n",
       "      <td>2</td>\n",
       "    </tr>\n",
       "    <tr>\n",
       "      <th>147</th>\n",
       "      <td>6.5</td>\n",
       "      <td>5.2</td>\n",
       "      <td>2</td>\n",
       "    </tr>\n",
       "    <tr>\n",
       "      <th>148</th>\n",
       "      <td>6.2</td>\n",
       "      <td>5.4</td>\n",
       "      <td>2</td>\n",
       "    </tr>\n",
       "    <tr>\n",
       "      <th>149</th>\n",
       "      <td>5.9</td>\n",
       "      <td>5.1</td>\n",
       "      <td>2</td>\n",
       "    </tr>\n",
       "  </tbody>\n",
       "</table>\n",
       "</div>"
      ],
      "text/plain": [
       "     sepal length (cm)  petal length (cm)  species\n",
       "145                6.7                5.2        2\n",
       "146                6.3                5.0        2\n",
       "147                6.5                5.2        2\n",
       "148                6.2                5.4        2\n",
       "149                5.9                5.1        2"
      ]
     },
     "execution_count": 704,
     "metadata": {},
     "output_type": "execute_result"
    }
   ],
   "source": [
    "#dropできた\n",
    "df.tail()"
   ]
  },
  {
   "cell_type": "code",
   "execution_count": 705,
   "metadata": {},
   "outputs": [],
   "source": [
    "#Splitして標準化する\n",
    "from sklearn.model_selection import train_test_split\n",
    "from sklearn.preprocessing import StandardScaler\n",
    "\n",
    "#split\n",
    "X_train, X_test, y_train, y_test = train_test_split(df.loc[:, df.columns != 'species'].values, df.loc[:, df.columns == 'species'].values, train_size=3/4, test_size=1/4)\n",
    "\n",
    "#standardize\n",
    "scaler = StandardScaler()\n",
    "scaler.fit(X_train)\n",
    "X_train_z = scaler.transform(X_train)\n",
    "X_test_z = scaler.transform(X_test)"
   ]
  },
  {
   "cell_type": "code",
   "execution_count": 706,
   "metadata": {},
   "outputs": [],
   "source": [
    "#スクラッチした線形回帰クラスのインスタンスを生成\n",
    "reg = ScratchLogisticRegression(num_iter=500, lr=0.01, lmbd = 1,  bias=1)"
   ]
  },
  {
   "cell_type": "code",
   "execution_count": 707,
   "metadata": {},
   "outputs": [],
   "source": [
    "#fit with train data\n",
    "reg.fit(X_train_z, y_train, X_test_z, y_test)\n",
    "#reg.fit(X_train_z, y_train)"
   ]
  },
  {
   "cell_type": "code",
   "execution_count": 708,
   "metadata": {},
   "outputs": [
    {
     "data": {
      "text/plain": [
       "array([2, 1, 1, 2, 1, 1, 2, 2, 1, 2, 2, 1, 1, 1, 1, 2, 2, 2, 2, 1, 2, 1,\n",
       "       1, 1, 2])"
      ]
     },
     "execution_count": 708,
     "metadata": {},
     "output_type": "execute_result"
    }
   ],
   "source": [
    "#predict test data\n",
    "scrach_pred = reg.predict(X_test_z)\n",
    "scrach_pred"
   ]
  },
  {
   "cell_type": "code",
   "execution_count": 709,
   "metadata": {},
   "outputs": [
    {
     "data": {
      "text/plain": [
       "array([[2, 2, 1, 2, 1, 1, 2, 2, 1, 1, 2, 1, 1, 1, 1, 2, 2, 2, 1, 1, 2, 1,\n",
       "        1, 1, 2]])"
      ]
     },
     "execution_count": 709,
     "metadata": {},
     "output_type": "execute_result"
    }
   ],
   "source": [
    "y_test.reshape(1, -1)"
   ]
  },
  {
   "cell_type": "code",
   "execution_count": 710,
   "metadata": {},
   "outputs": [
    {
     "data": {
      "text/plain": [
       "array([[ True, False,  True,  True,  True,  True,  True,  True,  True,\n",
       "        False,  True,  True,  True,  True,  True,  True,  True,  True,\n",
       "        False,  True,  True,  True,  True,  True,  True]])"
      ]
     },
     "execution_count": 710,
     "metadata": {},
     "output_type": "execute_result"
    }
   ],
   "source": [
    "scrach_pred ==y_test.reshape(1, -1)"
   ]
  },
  {
   "cell_type": "markdown",
   "metadata": {},
   "source": [
    "## 【問題2】学習曲線のプロット\n",
    "学習曲線をプロットしてください。"
   ]
  },
  {
   "cell_type": "code",
   "execution_count": 711,
   "metadata": {},
   "outputs": [
    {
     "data": {
      "image/png": "[encoded data removed]",
      "text/plain": [
       "<Figure size 288x288 with 1 Axes>"
      ]
     },
     "metadata": {
      "needs_background": "light"
     },
     "output_type": "display_data"
    }
   ],
   "source": [
    "reg.return_process();"
   ]
  },
  {
   "cell_type": "markdown",
   "metadata": {},
   "source": [
    "## 【問題3】指標値の算出\n",
    "分類に関する指標値で精度を確認してください。"
   ]
  },
  {
   "cell_type": "markdown",
   "metadata": {},
   "source": [
    "## 【問題4】決定領域の可視化\n",
    "2値分類のデータセットに対して決定領域を可視化してください。"
   ]
  },
  {
   "cell_type": "code",
   "execution_count": 712,
   "metadata": {},
   "outputs": [],
   "source": [
    "import matplotlib.pyplot as plt\n",
    "from matplotlib.colors import ListedColormap\n",
    "import matplotlib.patches as mpatches\n",
    "\n",
    "def decision_region(X_train, y_train, model, step=0.01, title='decision region', xlabel='xlabel', ylabel='ylabel',  target_names=['versicolor', 'virginica']):\n",
    "    \"\"\"\n",
    "    ２値分類を２次元の特徴量で学習したモデルの決定領域を描く\n",
    "    背景の色が学習したモデルによる推定値から描画される\n",
    "    散布図の点は学習用のデータである。\n",
    "    \n",
    "    Parameters\n",
    "    ---------------\n",
    "    X_train: ndarray, shape(n_samples, 2)\n",
    "        学習用データの特徴量\n",
    "    y_train: ndarray, shape(n_samples,)\n",
    "        学習用データの正解値\n",
    "    model: object\n",
    "        学習したモデルのインスタンスを入れる\n",
    "    step: float, (default: 0.1)\n",
    "        推定値を計算する間隔を設定する\n",
    "    title: str\n",
    "        グラフのタイトルの文章を与える\n",
    "    xlabel, ylabel: str\n",
    "        軸ラベルの文章を与える\n",
    "    target_names=: list of str\n",
    "        凡例の一覧を与える\n",
    "    ---------------\n",
    "    \"\"\"\n",
    "    #setting\n",
    "    scatter_color = ['red', 'blue']\n",
    "    contourf_color = ['pink','skyblue']\n",
    "    n_class = 2\n",
    "    \n",
    "    #pred\n",
    "    #各特徴量に対してメッシュを生成（a=(a1, a2, a3), b=(b1, b2, b3)に対して[[a1, b1], [a1, b2], [a1, b3]], [[a2, b1], [a2, b2], [a2, b3]], [[a3, b1], [a3, b2], [a3, b3]]を生成）\n",
    "    mesh_f0, mesh_f1 = np.meshgrid(np.arange(np.min(X_train[:,0])-0.5, np.max(X_train[:,0])+0.5, step), np.arange(np.min(X_train[:,1])-0.5, np.max(X_train[:,1])+0.5, step))\n",
    "    \n",
    "    #多次元を一次元配列に\n",
    "    mesh = np.c_[np.ravel(mesh_f0),np.ravel(mesh_f1)]\n",
    "    pred = model.predict(mesh).reshape(mesh_f0.shape)\n",
    "    \n",
    "    #plot\n",
    "    plt.title(title)\n",
    "    plt.xlabel(xlabel)\n",
    "    plt.ylabel(ylabel)\n",
    "    #等高線塗りつぶし\n",
    "    plt.contourf(mesh_f0, mesh_f1, pred, n_class-1, cmap=ListedColormap(contourf_color))\n",
    "    #等高線塗りつぶし\n",
    "    plt.contour(mesh_f0, mesh_f1, pred, n_class-1, colors='y', linewidths=3, alpha = 0.5)\n",
    "    #重複しない要素に対して, 答えをプロット\n",
    "    for i, target in enumerate(set(np.unique(y_train))):\n",
    "        plt.scatter(X_train[y_train==target][:, 0], X_train[y_train==target][:, 1], s=80, color=scatter_color[i], label=target_names[i], marker='o')\n",
    "    patches = [mpatches.Patch(color=scatter_color[i], label=target_names[i]) for i in range(n_class)]\n",
    "    plt.legend(handles=patches)\n",
    "    plt.legend()\n",
    "    plt.show"
   ]
  },
  {
   "cell_type": "code",
   "execution_count": 713,
   "metadata": {},
   "outputs": [
    {
     "data": {
      "text/plain": [
       "(75, 2)"
      ]
     },
     "execution_count": 713,
     "metadata": {},
     "output_type": "execute_result"
    }
   ],
   "source": [
    "X_train_z.shape"
   ]
  },
  {
   "cell_type": "code",
   "execution_count": 714,
   "metadata": {},
   "outputs": [
    {
     "data": {
      "image/png": "[encoded data removed]",
      "text/plain": [
       "<Figure size 432x288 with 1 Axes>"
      ]
     },
     "metadata": {
      "needs_background": "light"
     },
     "output_type": "display_data"
    }
   ],
   "source": [
    "#trainデータの学習結果\n",
    "decision_region(X_train_z, y_train[:,0], reg)"
   ]
  },
  {
   "cell_type": "code",
   "execution_count": 715,
   "metadata": {},
   "outputs": [
    {
     "data": {
      "image/png": "[encoded data removed]",
      "text/plain": [
       "<Figure size 432x288 with 1 Axes>"
      ]
     },
     "metadata": {
      "needs_background": "light"
     },
     "output_type": "display_data"
    }
   ],
   "source": [
    "#testデータの評価結果\n",
    "decision_region(X_test_z, y_test[:,0], reg)"
   ]
  },
  {
   "cell_type": "markdown",
   "metadata": {},
   "source": [
    "## 【問題5】（アドバンス課題）重みの保存\n",
    "検証が容易になるように、学習した重みを保存および読み込みができるようにしましょう。pickleモジュールやnumpy.savezを利用します。\n",
    "\n",
    "pickle — Python オブジェクトの直列化 — Python 3.7.1 ドキュメント\n",
    "\n",
    "numpy.savez — NumPy v1.15 Manual"
   ]
  },
  {
   "cell_type": "markdown",
   "metadata": {},
   "source": [
    "## 【問題6】分類と回帰\n",
    "最終発表時に以下の内容についてディスカッションを行います。自分なりの意見を用意しておいてください。\n",
    "\n",
    "分類問題と回帰問題は本質的に何が異なっているか\n",
    "注意点\n",
    "\n",
    "答えがある問いではありません。いろいろな視点から見て理解を深めていきましょう。"
   ]
  },
  {
   "cell_type": "code",
   "execution_count": null,
   "metadata": {},
   "outputs": [],
   "source": []
  }
 ],
 "metadata": {
  "kernelspec": {
   "display_name": "Python 3",
   "language": "python",
   "name": "python3"
  },
  "language_info": {
   "codemirror_mode": {
    "name": "ipython",
    "version": 3
   },
   "file_extension": ".py",
   "mimetype": "text/x-python",
   "name": "python",
   "nbconvert_exporter": "python",
   "pygments_lexer": "ipython3",
   "version": "3.6.8"
  }
 },
 "nbformat": 4,
 "nbformat_minor": 2
}
