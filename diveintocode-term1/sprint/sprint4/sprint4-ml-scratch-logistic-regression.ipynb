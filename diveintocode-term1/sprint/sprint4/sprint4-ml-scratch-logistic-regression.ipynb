{
 "cells": [
  {
   "cell_type": "markdown",
   "metadata": {},
   "source": [
    "# Sprint4課題 機械学習スクラッチロジスティック回帰"
   ]
  },
  {
   "cell_type": "markdown",
   "metadata": {},
   "source": [
    "## 【問題1】ロジスティック回帰のクラスを作成する\n",
    "ロジスティック回帰のクラスを作成し、Sprint2で作成した分類のパイプラインに組み込んでください。\n",
    "\n",
    "クラスの基本構造はSprint3の線形回帰を参考にし、名前はScratchLogisticRegressionとしてください。\n",
    "\n",
    "メソッドやパラメータなどはscikit-learnを参考にしてください。推定関係ではラベルを出力するpredictメソッドと、確率を出力するpredict_probaメソッドの2種類を作成します。\n",
    "\n",
    "sklearn.linear_model.LinearRegression — scikit-learn 0.20.0 documentation\n",
    "\n",
    "検証段階ではJupyter Notebook上で書いていき、最終的にはpyファイルにモジュールとしてまとめてください。\n",
    "\n",
    "シグモイド関数\n",
    "コーディング\n",
    "\n",
    "シグモイド関数を実装しましょう。\n",
    "\n",
    "正しく動作しているかを確認するために、この関数に-10から10の値を入力したときの出力をプロットしておいてください。\n",
    "\n",
    "目的関数\n",
    "以下の数式で表されるロジスティック回帰の目的関数Jを実装してください。この数式には正則化項が含まれています。\n",
    "\n",
    "数式が見切れる場合、DIVERを全画面にして御覧ください\n",
    "\n",
    "最急降下法\n",
    "最急降下法により学習させてください。バイアス項およびj番目のパラメータの更新には以下の式を使います。"
   ]
  },
  {
   "cell_type": "code",
   "execution_count": null,
   "metadata": {},
   "outputs": [],
   "source": [
    "#まずはイメージを固める"
   ]
  },
  {
   "cell_type": "code",
   "execution_count": 6,
   "metadata": {},
   "outputs": [
    {
     "data": {
      "text/plain": [
       "array([[ 1,  1,  2],\n",
       "       [ 1,  3,  4],\n",
       "       [ 1,  5,  6],\n",
       "       [ 1,  7,  8],\n",
       "       [ 1,  9, 10]])"
      ]
     },
     "execution_count": 6,
     "metadata": {},
     "output_type": "execute_result"
    }
   ],
   "source": [
    "#特徴量X (n_samples, n_features)\n",
    "#x_0: intercept, x_1: first feature, x_2: second feature)\n",
    "import numpy as np\n",
    "X = np.array([\n",
    "    [1, 1, 2],\n",
    "    [1, 3, 4],\n",
    "    [1, 5, 6],\n",
    "    [1, 7, 8],\n",
    "    [1, 9, 10]\n",
    "])\n",
    "X"
   ]
  },
  {
   "cell_type": "code",
   "execution_count": 18,
   "metadata": {},
   "outputs": [
    {
     "data": {
      "text/plain": [
       "array([[0],\n",
       "       [1],\n",
       "       [1],\n",
       "       [0],\n",
       "       [1]])"
      ]
     },
     "execution_count": 18,
     "metadata": {},
     "output_type": "execute_result"
    }
   ],
   "source": [
    "#目的変数y(n_samples)\n",
    "y = np.array([0, 1, 1, 0, 1]).reshape(-1, 1)\n",
    "y"
   ]
  },
  {
   "cell_type": "code",
   "execution_count": 75,
   "metadata": {},
   "outputs": [
    {
     "data": {
      "text/plain": [
       "array([[0., 0., 0.]])"
      ]
     },
     "execution_count": 75,
     "metadata": {},
     "output_type": "execute_result"
    }
   ],
   "source": [
    "#Xの係数theta(n_features)\n",
    "theta = np.empty((0,3))\n",
    "theta = np.append(theta, np.array([[0,0,0]]), axis=0)\n",
    "theta"
   ]
  },
  {
   "cell_type": "code",
   "execution_count": 76,
   "metadata": {},
   "outputs": [],
   "source": [
    "#sigmoid function\n",
    "\n",
    "def convert_sigmoid(z):\n",
    "    \"\"\"\n",
    "    Parameters\n",
    "    -----------\n",
    "    z: ndarray of shape(any, any)\n",
    "    \n",
    "    Returns\n",
    "    -----------\n",
    "    sigmoid_z: ndarray of shape z\n",
    "        sigmoid_z = 1/(1 + exp(-z))\n",
    "    \n",
    "    Note\n",
    "    -----------\n",
    "    \"\"\"\n",
    "    sigmoid_z = 1/(1 +np.exp(-z))\n",
    "    \n",
    "    \n",
    "    return sigmoid_z"
   ]
  },
  {
   "cell_type": "code",
   "execution_count": 77,
   "metadata": {},
   "outputs": [
    {
     "data": {
      "text/plain": [
       "array([[0.5       ],\n",
       "       [0.73105858],\n",
       "       [0.73105858],\n",
       "       [0.5       ],\n",
       "       [0.73105858]])"
      ]
     },
     "execution_count": 77,
     "metadata": {},
     "output_type": "execute_result"
    }
   ],
   "source": [
    "#シグモイドの確認\n",
    "convert_sigmoid(y)"
   ]
  },
  {
   "cell_type": "code",
   "execution_count": 78,
   "metadata": {},
   "outputs": [
    {
     "data": {
      "text/plain": [
       "(200,)"
      ]
     },
     "execution_count": 78,
     "metadata": {},
     "output_type": "execute_result"
    }
   ],
   "source": [
    "test = np.arange(-10, 10, 0.1)\n",
    "test.shape"
   ]
  },
  {
   "cell_type": "code",
   "execution_count": 79,
   "metadata": {},
   "outputs": [
    {
     "data": {
      "text/plain": [
       "[<matplotlib.lines.Line2D at 0x117aef6d8>]"
      ]
     },
     "execution_count": 79,
     "metadata": {},
     "output_type": "execute_result"
    },
    {
     "data": {
      "image/png": "[encoded data removed]",
      "text/plain": [
       "<Figure size 288x288 with 1 Axes>"
      ]
     },
     "metadata": {
      "needs_background": "light"
     },
     "output_type": "display_data"
    }
   ],
   "source": [
    "import matplotlib.pyplot as plt\n",
    "\n",
    "fig, ax = plt.subplots(1, 1, figsize=(4, 4))\n",
    "ax.plot(test, convert_sigmoid(test), '-')"
   ]
  },
  {
   "cell_type": "code",
   "execution_count": 80,
   "metadata": {},
   "outputs": [
    {
     "data": {
      "text/plain": [
       "array([[0.5],\n",
       "       [0.5],\n",
       "       [0.5],\n",
       "       [0.5],\n",
       "       [0.5]])"
      ]
     },
     "execution_count": 80,
     "metadata": {},
     "output_type": "execute_result"
    }
   ],
   "source": [
    "#Hypothesis function\n",
    "#thetaとxから求めたyの予測値\n",
    "h = convert_sigmoid(np.dot(X, theta.reshape(-1, 1)))\n",
    "h"
   ]
  },
  {
   "cell_type": "code",
   "execution_count": 81,
   "metadata": {},
   "outputs": [
    {
     "data": {
      "text/plain": [
       "array([[-0.69314718],\n",
       "       [-0.69314718],\n",
       "       [-0.69314718],\n",
       "       [-0.69314718],\n",
       "       [-0.69314718]])"
      ]
     },
     "execution_count": 81,
     "metadata": {},
     "output_type": "execute_result"
    }
   ],
   "source": [
    "#Cost functionを順を追って計算\n",
    "#np.logの確認\n",
    "np.log(h)"
   ]
  },
  {
   "cell_type": "code",
   "execution_count": 82,
   "metadata": {},
   "outputs": [
    {
     "data": {
      "text/plain": [
       "array([[-0.        ],\n",
       "       [ 0.69314718],\n",
       "       [ 0.69314718],\n",
       "       [-0.        ],\n",
       "       [ 0.69314718]])"
      ]
     },
     "execution_count": 82,
     "metadata": {},
     "output_type": "execute_result"
    }
   ],
   "source": [
    "# y = 1の時に h ≒ 0と予測するとコスト無限大になり、h ≒ 1と予測するとコスト最小となる項\n",
    "-y*np.log(h)"
   ]
  },
  {
   "cell_type": "code",
   "execution_count": 83,
   "metadata": {},
   "outputs": [
    {
     "data": {
      "text/plain": [
       "array([[-0.69314718],\n",
       "       [-0.        ],\n",
       "       [-0.        ],\n",
       "       [-0.69314718],\n",
       "       [-0.        ]])"
      ]
     },
     "execution_count": 83,
     "metadata": {},
     "output_type": "execute_result"
    }
   ],
   "source": [
    "# y = 0の時に h ≒ 1と予測するとコスト無限大になり、h ≒ 0と予測するとコスト最小となる項\n",
    "(1-y)*np.log(1-h)"
   ]
  },
  {
   "cell_type": "code",
   "execution_count": 84,
   "metadata": {},
   "outputs": [
    {
     "data": {
      "text/plain": [
       "array([0.])"
      ]
     },
     "execution_count": 84,
     "metadata": {},
     "output_type": "execute_result"
    }
   ],
   "source": [
    "#正則化項の確認\n",
    "\n",
    "lmd = 1\n",
    "lmd*(theta[:, 1:]**2).sum(axis=1)"
   ]
  },
  {
   "cell_type": "code",
   "execution_count": 85,
   "metadata": {},
   "outputs": [
    {
     "data": {
      "text/plain": [
       "array([0.69314718])"
      ]
     },
     "execution_count": 85,
     "metadata": {},
     "output_type": "execute_result"
    }
   ],
   "source": [
    "#Cost関数Jの確認\n",
    "J = (-y*np.log(h) -(1-y)*np.log(1-h)).sum(axis=0)/len(X) + lmd*(theta[:, 1:]**2).sum(axis=1)/len(X)\n",
    "J"
   ]
  },
  {
   "cell_type": "code",
   "execution_count": 89,
   "metadata": {},
   "outputs": [
    {
     "data": {
      "text/plain": [
       "array([], shape=(0, 0), dtype=float64)"
      ]
     },
     "execution_count": 89,
     "metadata": {},
     "output_type": "execute_result"
    }
   ],
   "source": [
    "#sumの計算を内積にする\n",
    "#出力が一致したのでOK\n",
    "J = (-np.dot(y.T, np.log(h)) -np.dot((1-y).T, np.log(1-h)))/len(X) + lmd*np.dot(theta[:,1:], theta[:, 1:].T)/len(X)\n",
    "J"
   ]
  },
  {
   "cell_type": "code",
   "execution_count": null,
   "metadata": {},
   "outputs": [],
   "source": [
    "#イメージできたのでクラスを作る"
   ]
  },
  {
   "cell_type": "code",
   "execution_count": 255,
   "metadata": {},
   "outputs": [],
   "source": [
    "import numpy as np\n",
    "import matplotlib.pyplot as plt\n",
    "\n",
    "class ScratchLogisticRegression():\n",
    "    \"\"\"\n",
    "    Logistic回帰のスクラッチ実装\n",
    "\n",
    "    Parameters\n",
    "    ----------\n",
    "    num_iter : int\n",
    "      イテレーション数\n",
    "    lr: float\n",
    "        学習率learning rate\n",
    "    lmbd: float\n",
    "        正則化パラメータ lambda\n",
    "    no_bias : bool\n",
    "      バイアス項を入れない場合はTrue\n",
    "    verbose : bool\n",
    "      学習過程を出力する場合はTrue\n",
    "\n",
    "    Attributes\n",
    "    ----------\n",
    "    self.coef_ : 次の形のndarray, shape (n_features,)\n",
    "      パラメータ\n",
    "    self.loss : 次の形のndarray, shape (self.iter,)\n",
    "      学習用データに対する損失の記録\n",
    "    self.val_loss : 次の形のndarray, shape (self.iter,)\n",
    "      検証用データに対する損失の記録\n",
    "\n",
    "    \"\"\"\n",
    "\n",
    "    def __init__(self, num_iter, lr, lmbd, bias=1, verbose=False):\n",
    "        # ハイパーパラメータを属性として記録\n",
    "        self.iter = num_iter\n",
    "        self.lr = lr\n",
    "        self.lmbd = lmbd\n",
    "        self.bias = bias\n",
    "        self.verbose = verbose\n",
    "        # 損失を記録する配列を用意\n",
    "        self.loss = np.zeros(self.iter)\n",
    "        self.val_loss = np.zeros(self.iter)\n",
    "\n",
    "    def fit(self, X, y, X_val=None, y_val=None):\n",
    "        \"\"\"\n",
    "        ロジスティック回帰を学習する。検証用データが入力された場合はそれに対する損失と精度もイテレーションごとに計算する。\n",
    "\n",
    "        Parameters\n",
    "        ----------\n",
    "        X : 次の形のndarray, shape (n_samples, n_features)\n",
    "            学習用データの特徴量\n",
    "        y : 次の形のndarray, shape (n_samples, )\n",
    "            学習用データの正解値\n",
    "        X_val : 次の形のndarray, shape (n_samples, n_features)\n",
    "            検証用データの特徴量\n",
    "        y_val : 次の形のndarray, shape (n_samples, )\n",
    "            検証用データの正解値\n",
    "        \"\"\"\n",
    "\n",
    "        #XにX_0の列をbias埋めで追加（切片の項を追加）\n",
    "        X = np.concatenate((np.full((len(X), 1), self.bias), X), axis=1)\n",
    "                \n",
    "        # yのshapeを(n_samples, )から(n_samples, 1)にする\n",
    "        y = y.reshape(-1,1)\n",
    "        \n",
    "        #validation dataに対して同様の前処理\n",
    "        if not ((X_val is None) or (y_val is None)):\n",
    "            X_val = np.concatenate((np.full((len(X_val), 1), self.bias), X_val), axis=1)\n",
    "            y_val = y_val.reshape(-1,1)\n",
    "        \n",
    "        #coef_ (theta)を初期化 (1, n_features)\n",
    "        #-1 ~ 1の乱数で\n",
    "        a = -1\n",
    "        b = 1\n",
    "        self.coef_ = (b - a) * np.random.rand(X.shape[1]).reshape(1,-1)  + a     \n",
    "        \n",
    "        #self.iterの回数だけself.coef_を更新しながらhも更新していく\n",
    "        for i in range(self.iter):\n",
    "            #予測値h\n",
    "            h = self._hypothesis(X)\n",
    "            \n",
    "            #hを元にしてCostの計算\n",
    "            mse, error = self._cost(h, y)\n",
    "            \n",
    "            #costをval_lossに記録\n",
    "            self.loss[i] = mse\n",
    "            \n",
    "            #validation dataに対して同様の処理\n",
    "            if not ((X_val is None) or (y_val is None)):\n",
    "                h_val = self._hypothesis(X_val)\n",
    "                J_val, error_val = self._cost(h_val, y_val)\n",
    "                self.val_loss[i] = J_val\n",
    "                \n",
    "            #errorを元にgradを計算してself.coef_を更新\n",
    "            self._gradient_descent(X, error)\n",
    "        \n",
    "        if self.verbose:\n",
    "            #verboseをTrueにした際は学習過程を出力\n",
    "            print(self.loss)\n",
    "            print(self.val_loss)\n",
    "    def predict_proba(self, X_test):\n",
    "        \"\"\"\n",
    "        線形回帰を使い推定する。\n",
    "\n",
    "        Parameters\n",
    "        ----------\n",
    "        X : 次の形のndarray, shape (n_samples, n_features)\n",
    "            サンプル\n",
    "\n",
    "        Returns\n",
    "        -------\n",
    "            次の形のndarray, shape (n_samples, 1)\n",
    "            線形回帰による推定結果\n",
    "        \"\"\"\n",
    "        #XにX_0の列を追加（切片の項を追加）\n",
    "        X_test = np.concatenate((np.full((len(X_test), 1), self.bias), X_test), axis=1)\n",
    "        \n",
    "        #a.dot(b)よりもnp.dot(a, b)の方が早い(np.dotはC言語、a.dotはPythonでの処理なので)\n",
    "        prob = self._convert_sigmoid(np.dot(X_test, (self.coef_).T))\n",
    "        return prob\n",
    "    \n",
    "    def predict(self, X_test):\n",
    "        pred = (self.predict_proba(X_test) >= 0.5) + 0\n",
    "        pred = pred.reshape(1, -1)\n",
    "        \n",
    "        return pred\n",
    "\n",
    "    def _convert_sigmoid(self, z):\n",
    "        \"\"\"\n",
    "        Parameters\n",
    "        -----------\n",
    "        z: ndarray of shape(any, any)\n",
    "\n",
    "        Returns\n",
    "        -----------\n",
    "        sigmoid_z: ndarray of shape z\n",
    "            sigmoid_z = 1/(1 + exp(-z))\n",
    "\n",
    "        Note\n",
    "        -----------\n",
    "        \"\"\"\n",
    "        sigmoid_z = 1/(1 +np.exp(-z))\n",
    "        return sigmoid_z\n",
    "    \n",
    "    def _hypothesis(self, X):\n",
    "        \"\"\"\n",
    "        線形の仮定関数を計算する\n",
    "\n",
    "        Parameters\n",
    "        ----------\n",
    "        X : ndarray of shape (n_samples, n_features)\n",
    "          学習データ\n",
    "\n",
    "        Returns\n",
    "        -------\n",
    "          ndarray of shape (n_samples, 1)\n",
    "          線形の仮定関数による推定結果\n",
    "\n",
    "        \"\"\"\n",
    "        h = self._convert_sigmoid(np.dot(X, (self.coef_).T))\n",
    "        \n",
    "        return h\n",
    "      \n",
    "    def _cost(self, h, y):\n",
    "        \"\"\"\n",
    "        costの計算\n",
    "\n",
    "        Parameters\n",
    "        ----------\n",
    "        h : ndarray of shape (n_samples,)\n",
    "          推定した値\n",
    "        y : ndarray of shape (n_samples,)\n",
    "          正解値\n",
    "\n",
    "        Returns\n",
    "        ----------\n",
    "        J : np.float\n",
    "        \"\"\"\n",
    "        \n",
    "        #コストのメイン部分\n",
    "        #(1/m) * sigma(-y*log(h(x)) - (1-y)*log(1-h(x)))\n",
    "        J = (-np.dot(y.T, np.log(h)) -np.dot((1-y).T, np.log(1-h)))/len(X)\n",
    "        \n",
    "        #正則化項\n",
    "        #(lambda/m)* sigma(theta^2)\n",
    "        #theta = 0は除外して足し合わせる\n",
    "        reg_term =  self.lmbd*np.dot(self.coef_, self.coef_.T)/len(X)\n",
    "        \n",
    "        #コスト（メイン + 正則化項）\n",
    "        J = J + reg_term\n",
    "        \n",
    "        #誤差(Jの勾配の計算用に)\n",
    "        error = h - y\n",
    "        \n",
    "        return J, error\n",
    "\n",
    "    def _gradient_descent(self, X, error):\n",
    "        \"\"\"\n",
    "        Parameters\n",
    "        ----------\n",
    "        X: ndarray of shape (n_samples, n_features)\n",
    "          学習データ\n",
    "\n",
    "        error: y_pred - y\n",
    "           予測値と実際のyの差\n",
    "        Returns\n",
    "        ----------\n",
    "        インスタンス変数のtheta (self.coef_)を更新\n",
    "\n",
    "        \"\"\"\n",
    "        #grad = (error * X).sum(axis=0)/len(X)\n",
    "        #上の計算と同義。早い方で\n",
    "        \n",
    "        #theta = 0の場合\n",
    "        grad_0 = np.dot(error.T, X[:, 0])/len(X)\n",
    "        self.coef_[:, 0] =  self.coef_[:, 0] - self.lr * grad_0\n",
    "        \n",
    "        #theta = 1の場合\n",
    "        grad_j =  np.dot(error.T, X[:, 1:])/len(X) - self.lmbd*self.coef_[:, 1:]/len(X)\n",
    "        self.coef_[:, 1:] =  self.coef_[:, 1:] - self.lr * grad_j\n",
    "\n",
    "    #学習曲線Plot用の関数\n",
    "    def plot_learning_curve(self):\n",
    "        fig, ax = plt.subplots(1,1, figsize=(4,4 ))\n",
    "        ax.plot(np.array(range(self.iter)), self.loss, \"-\", label = 'train')\n",
    "        ax.plot(np.array(range(self.iter)), self.val_loss, \"-\", label = 'validation')\n",
    "\n",
    "        #label\n",
    "        ax.set_title('Learning Curve')\n",
    "        ax.set_xlabel('n of iterations')\n",
    "        ax.set_ylabel('Cost')\n",
    "        ax.legend()"
   ]
  },
  {
   "cell_type": "markdown",
   "metadata": {},
   "source": [
    "# 1, 2を0, 1に変えるのも必要"
   ]
  },
  {
   "cell_type": "code",
   "execution_count": 256,
   "metadata": {},
   "outputs": [
    {
     "name": "stdout",
     "output_type": "stream",
     "text": [
      "dict_keys(['data', 'target', 'target_names', 'DESCR', 'feature_names', 'filename'])\n",
      "['setosa' 'versicolor' 'virginica']\n"
     ]
    }
   ],
   "source": [
    "from sklearn.datasets import load_iris\n",
    "dataset = load_iris()\n",
    "print(dataset.keys())\n",
    "print(dataset.target_names)"
   ]
  },
  {
   "cell_type": "code",
   "execution_count": 257,
   "metadata": {},
   "outputs": [
    {
     "data": {
      "text/html": [
       "<div>\n",
       "<style scoped>\n",
       "    .dataframe tbody tr th:only-of-type {\n",
       "        vertical-align: middle;\n",
       "    }\n",
       "\n",
       "    .dataframe tbody tr th {\n",
       "        vertical-align: top;\n",
       "    }\n",
       "\n",
       "    .dataframe thead th {\n",
       "        text-align: right;\n",
       "    }\n",
       "</style>\n",
       "<table border=\"1\" class=\"dataframe\">\n",
       "  <thead>\n",
       "    <tr style=\"text-align: right;\">\n",
       "      <th></th>\n",
       "      <th>sepal length (cm)</th>\n",
       "      <th>sepal width (cm)</th>\n",
       "      <th>petal length (cm)</th>\n",
       "      <th>petal width (cm)</th>\n",
       "    </tr>\n",
       "  </thead>\n",
       "  <tbody>\n",
       "    <tr>\n",
       "      <th>0</th>\n",
       "      <td>5.1</td>\n",
       "      <td>3.5</td>\n",
       "      <td>1.4</td>\n",
       "      <td>0.2</td>\n",
       "    </tr>\n",
       "    <tr>\n",
       "      <th>1</th>\n",
       "      <td>4.9</td>\n",
       "      <td>3.0</td>\n",
       "      <td>1.4</td>\n",
       "      <td>0.2</td>\n",
       "    </tr>\n",
       "    <tr>\n",
       "      <th>2</th>\n",
       "      <td>4.7</td>\n",
       "      <td>3.2</td>\n",
       "      <td>1.3</td>\n",
       "      <td>0.2</td>\n",
       "    </tr>\n",
       "    <tr>\n",
       "      <th>3</th>\n",
       "      <td>4.6</td>\n",
       "      <td>3.1</td>\n",
       "      <td>1.5</td>\n",
       "      <td>0.2</td>\n",
       "    </tr>\n",
       "    <tr>\n",
       "      <th>4</th>\n",
       "      <td>5.0</td>\n",
       "      <td>3.6</td>\n",
       "      <td>1.4</td>\n",
       "      <td>0.2</td>\n",
       "    </tr>\n",
       "  </tbody>\n",
       "</table>\n",
       "</div>"
      ],
      "text/plain": [
       "   sepal length (cm)  sepal width (cm)  petal length (cm)  petal width (cm)\n",
       "0                5.1               3.5                1.4               0.2\n",
       "1                4.9               3.0                1.4               0.2\n",
       "2                4.7               3.2                1.3               0.2\n",
       "3                4.6               3.1                1.5               0.2\n",
       "4                5.0               3.6                1.4               0.2"
      ]
     },
     "execution_count": 257,
     "metadata": {},
     "output_type": "execute_result"
    }
   ],
   "source": [
    "import pandas as pd\n",
    "\n",
    "#import features\n",
    "x = pd.DataFrame(dataset.data, columns = dataset.feature_names)\n",
    "x.head()"
   ]
  },
  {
   "cell_type": "code",
   "execution_count": 258,
   "metadata": {},
   "outputs": [
    {
     "data": {
      "text/html": [
       "<div>\n",
       "<style scoped>\n",
       "    .dataframe tbody tr th:only-of-type {\n",
       "        vertical-align: middle;\n",
       "    }\n",
       "\n",
       "    .dataframe tbody tr th {\n",
       "        vertical-align: top;\n",
       "    }\n",
       "\n",
       "    .dataframe thead th {\n",
       "        text-align: right;\n",
       "    }\n",
       "</style>\n",
       "<table border=\"1\" class=\"dataframe\">\n",
       "  <thead>\n",
       "    <tr style=\"text-align: right;\">\n",
       "      <th></th>\n",
       "      <th>species</th>\n",
       "    </tr>\n",
       "  </thead>\n",
       "  <tbody>\n",
       "    <tr>\n",
       "      <th>0</th>\n",
       "      <td>0</td>\n",
       "    </tr>\n",
       "    <tr>\n",
       "      <th>1</th>\n",
       "      <td>0</td>\n",
       "    </tr>\n",
       "    <tr>\n",
       "      <th>2</th>\n",
       "      <td>0</td>\n",
       "    </tr>\n",
       "    <tr>\n",
       "      <th>3</th>\n",
       "      <td>0</td>\n",
       "    </tr>\n",
       "    <tr>\n",
       "      <th>4</th>\n",
       "      <td>0</td>\n",
       "    </tr>\n",
       "  </tbody>\n",
       "</table>\n",
       "</div>"
      ],
      "text/plain": [
       "   species\n",
       "0        0\n",
       "1        0\n",
       "2        0\n",
       "3        0\n",
       "4        0"
      ]
     },
     "execution_count": 258,
     "metadata": {},
     "output_type": "execute_result"
    }
   ],
   "source": [
    "#import target value\n",
    "y = pd.DataFrame(dataset.target, columns = {'species'})\n",
    "y.head()"
   ]
  },
  {
   "cell_type": "code",
   "execution_count": 259,
   "metadata": {},
   "outputs": [
    {
     "data": {
      "text/html": [
       "<div>\n",
       "<style scoped>\n",
       "    .dataframe tbody tr th:only-of-type {\n",
       "        vertical-align: middle;\n",
       "    }\n",
       "\n",
       "    .dataframe tbody tr th {\n",
       "        vertical-align: top;\n",
       "    }\n",
       "\n",
       "    .dataframe thead th {\n",
       "        text-align: right;\n",
       "    }\n",
       "</style>\n",
       "<table border=\"1\" class=\"dataframe\">\n",
       "  <thead>\n",
       "    <tr style=\"text-align: right;\">\n",
       "      <th></th>\n",
       "      <th>sepal length (cm)</th>\n",
       "      <th>sepal width (cm)</th>\n",
       "      <th>petal length (cm)</th>\n",
       "      <th>petal width (cm)</th>\n",
       "      <th>species</th>\n",
       "    </tr>\n",
       "  </thead>\n",
       "  <tbody>\n",
       "    <tr>\n",
       "      <th>0</th>\n",
       "      <td>5.1</td>\n",
       "      <td>3.5</td>\n",
       "      <td>1.4</td>\n",
       "      <td>0.2</td>\n",
       "      <td>0</td>\n",
       "    </tr>\n",
       "    <tr>\n",
       "      <th>1</th>\n",
       "      <td>4.9</td>\n",
       "      <td>3.0</td>\n",
       "      <td>1.4</td>\n",
       "      <td>0.2</td>\n",
       "      <td>0</td>\n",
       "    </tr>\n",
       "    <tr>\n",
       "      <th>2</th>\n",
       "      <td>4.7</td>\n",
       "      <td>3.2</td>\n",
       "      <td>1.3</td>\n",
       "      <td>0.2</td>\n",
       "      <td>0</td>\n",
       "    </tr>\n",
       "    <tr>\n",
       "      <th>3</th>\n",
       "      <td>4.6</td>\n",
       "      <td>3.1</td>\n",
       "      <td>1.5</td>\n",
       "      <td>0.2</td>\n",
       "      <td>0</td>\n",
       "    </tr>\n",
       "    <tr>\n",
       "      <th>4</th>\n",
       "      <td>5.0</td>\n",
       "      <td>3.6</td>\n",
       "      <td>1.4</td>\n",
       "      <td>0.2</td>\n",
       "      <td>0</td>\n",
       "    </tr>\n",
       "  </tbody>\n",
       "</table>\n",
       "</div>"
      ],
      "text/plain": [
       "   sepal length (cm)  sepal width (cm)  petal length (cm)  petal width (cm)  \\\n",
       "0                5.1               3.5                1.4               0.2   \n",
       "1                4.9               3.0                1.4               0.2   \n",
       "2                4.7               3.2                1.3               0.2   \n",
       "3                4.6               3.1                1.5               0.2   \n",
       "4                5.0               3.6                1.4               0.2   \n",
       "\n",
       "   species  \n",
       "0        0  \n",
       "1        0  \n",
       "2        0  \n",
       "3        0  \n",
       "4        0  "
      ]
     },
     "execution_count": 259,
     "metadata": {},
     "output_type": "execute_result"
    }
   ],
   "source": [
    "#concatenate x and y\n",
    "df = pd.concat((x, y), axis=1)\n",
    "df.head()"
   ]
  },
  {
   "cell_type": "code",
   "execution_count": 260,
   "metadata": {},
   "outputs": [],
   "source": [
    "#extract only setosa and versicolor\n",
    "#drop virginica rows(label: 2)\n",
    "drop_row = df[df['species'] == 2].index\n",
    "df = df.drop(drop_row, axis=0)"
   ]
  },
  {
   "cell_type": "code",
   "execution_count": 261,
   "metadata": {},
   "outputs": [
    {
     "data": {
      "text/html": [
       "<div>\n",
       "<style scoped>\n",
       "    .dataframe tbody tr th:only-of-type {\n",
       "        vertical-align: middle;\n",
       "    }\n",
       "\n",
       "    .dataframe tbody tr th {\n",
       "        vertical-align: top;\n",
       "    }\n",
       "\n",
       "    .dataframe thead th {\n",
       "        text-align: right;\n",
       "    }\n",
       "</style>\n",
       "<table border=\"1\" class=\"dataframe\">\n",
       "  <thead>\n",
       "    <tr style=\"text-align: right;\">\n",
       "      <th></th>\n",
       "      <th>sepal length (cm)</th>\n",
       "      <th>sepal width (cm)</th>\n",
       "      <th>petal length (cm)</th>\n",
       "      <th>petal width (cm)</th>\n",
       "      <th>species</th>\n",
       "    </tr>\n",
       "  </thead>\n",
       "  <tbody>\n",
       "    <tr>\n",
       "      <th>95</th>\n",
       "      <td>5.7</td>\n",
       "      <td>3.0</td>\n",
       "      <td>4.2</td>\n",
       "      <td>1.2</td>\n",
       "      <td>1</td>\n",
       "    </tr>\n",
       "    <tr>\n",
       "      <th>96</th>\n",
       "      <td>5.7</td>\n",
       "      <td>2.9</td>\n",
       "      <td>4.2</td>\n",
       "      <td>1.3</td>\n",
       "      <td>1</td>\n",
       "    </tr>\n",
       "    <tr>\n",
       "      <th>97</th>\n",
       "      <td>6.2</td>\n",
       "      <td>2.9</td>\n",
       "      <td>4.3</td>\n",
       "      <td>1.3</td>\n",
       "      <td>1</td>\n",
       "    </tr>\n",
       "    <tr>\n",
       "      <th>98</th>\n",
       "      <td>5.1</td>\n",
       "      <td>2.5</td>\n",
       "      <td>3.0</td>\n",
       "      <td>1.1</td>\n",
       "      <td>1</td>\n",
       "    </tr>\n",
       "    <tr>\n",
       "      <th>99</th>\n",
       "      <td>5.7</td>\n",
       "      <td>2.8</td>\n",
       "      <td>4.1</td>\n",
       "      <td>1.3</td>\n",
       "      <td>1</td>\n",
       "    </tr>\n",
       "  </tbody>\n",
       "</table>\n",
       "</div>"
      ],
      "text/plain": [
       "    sepal length (cm)  sepal width (cm)  petal length (cm)  petal width (cm)  \\\n",
       "95                5.7               3.0                4.2               1.2   \n",
       "96                5.7               2.9                4.2               1.3   \n",
       "97                6.2               2.9                4.3               1.3   \n",
       "98                5.1               2.5                3.0               1.1   \n",
       "99                5.7               2.8                4.1               1.3   \n",
       "\n",
       "    species  \n",
       "95        1  \n",
       "96        1  \n",
       "97        1  \n",
       "98        1  \n",
       "99        1  "
      ]
     },
     "execution_count": 261,
     "metadata": {},
     "output_type": "execute_result"
    }
   ],
   "source": [
    "#dropできた\n",
    "df.tail()"
   ]
  },
  {
   "cell_type": "code",
   "execution_count": 263,
   "metadata": {},
   "outputs": [],
   "source": [
    "#Splitして標準化する\n",
    "from sklearn.model_selection import train_test_split\n",
    "from sklearn.preprocessing import StandardScaler\n",
    "\n",
    "#split\n",
    "X_train, X_test, y_train, y_test = train_test_split(df.loc[:, df.columns != 'species'].values, df.loc[:, df.columns == 'species'].values, train_size=3/4, test_size=1/4)\n",
    "\n",
    "#standardize\n",
    "scaler = StandardScaler()\n",
    "scaler.fit(X_train)\n",
    "X_train_z = scaler.transform(X_train)\n",
    "X_test_z = scaler.transform(X_test)"
   ]
  },
  {
   "cell_type": "code",
   "execution_count": 270,
   "metadata": {},
   "outputs": [],
   "source": [
    "#スクラッチした線形回帰クラスのインスタンスを生成\n",
    "reg = ScratchLogisticRegression(num_iter=500, lr=0.01, lmbd = 1,  bias=1, verbose=True)"
   ]
  },
  {
   "cell_type": "code",
   "execution_count": 271,
   "metadata": {},
   "outputs": [
    {
     "name": "stdout",
     "output_type": "stream",
     "text": [
      "[8.66141999 8.57956763 8.49895206 8.41955234 8.34134783 8.2643182\n",
      " 8.18844342 8.11370373 8.0400797  7.96755219 7.89610234 7.8257116\n",
      " 7.75636173 7.68803475 7.620713   7.5543791  7.48901596 7.42460678\n",
      " 7.36113502 7.29858446 7.23693912 7.17618333 7.11630167 7.05727898\n",
      " 6.99910041 6.94175132 6.88521737 6.82948445 6.77453872 6.72036659\n",
      " 6.66695471 6.61428996 6.56235949 6.51115066 6.46065107 6.41084856\n",
      " 6.36173116 6.31328717 6.26550508 6.21837359 6.17188162 6.12601829\n",
      " 6.08077294 6.03613509 5.99209448 5.94864101 5.90576479 5.86345613\n",
      " 5.8217055  5.78050355 5.73984112 5.69970921 5.66009901 5.62100184\n",
      " 5.58240923 5.54431284 5.50670449 5.46957616 5.43291997 5.39672822\n",
      " 5.36099331 5.32570783 5.29086447 5.25645608 5.22247564 5.18891626\n",
      " 5.15577117 5.12303376 5.09069749 5.058756   5.02720301 4.99603237\n",
      " 4.96523805 4.93481412 4.90475476 4.87505428 4.84570707 4.81670763\n",
      " 4.78805058 4.75973061 4.73174253 4.70408123 4.67674171 4.64971905\n",
      " 4.62300843 4.5966051  4.57050441 4.5447018  4.51919278 4.49397294\n",
      " 4.46903796 4.4443836  4.42000568 4.39590011 4.37206287 4.34849001\n",
      " 4.32517765 4.30212197 4.27931925 4.25676579 4.23445798 4.21239229\n",
      " 4.19056522 4.16897335 4.14761332 4.12648182 4.1055756  4.08489147\n",
      " 4.0644263  4.044177   4.02414054 4.00431395 3.9846943  3.96527872\n",
      " 3.94606438 3.9270485  3.90822835 3.88960124 3.87116454 3.85291566\n",
      " 3.83485203 3.81697115 3.79927056 3.78174782 3.76440056 3.74722643\n",
      " 3.73022312 3.71338836 3.69671993 3.68021562 3.66387328 3.64769078\n",
      " 3.63166604 3.615797   3.60008164 3.58451797 3.56910403 3.5538379\n",
      " 3.53871768 3.52374151 3.50890755 3.49421399 3.47965907 3.46524103\n",
      " 3.45095814 3.43680872 3.4227911  3.40890364 3.39514471 3.38151273\n",
      " 3.36800613 3.35462337 3.34136293 3.32822331 3.31520305 3.30230069\n",
      " 3.2895148  3.27684399 3.26428686 3.25184205 3.23950822 3.22728404\n",
      " 3.21516822 3.20315946 3.1912565  3.17945811 3.16776304 3.15617009\n",
      " 3.14467808 3.13328582 3.12199215 3.11079595 3.09969608 3.08869144\n",
      " 3.07778094 3.06696351 3.05623807 3.0456036  3.03505906 3.02460343\n",
      " 3.01423572 3.00395494 2.99376012 2.98365029 2.97362452 2.96368188\n",
      " 2.95382144 2.94404229 2.93434356 2.92472435 2.9151838  2.90572106\n",
      " 2.89633527 2.8870256  2.87779124 2.86863137 2.8595452  2.85053193\n",
      " 2.84159079 2.83272102 2.82392185 2.81519253 2.80653234 2.79794055\n",
      " 2.78941643 2.78095929 2.77256842 2.76424313 2.75598276 2.74778661\n",
      " 2.73965404 2.73158439 2.72357702 2.71563128 2.70774656 2.69992223\n",
      " 2.69215767 2.6844523  2.67680551 2.6692167  2.66168531 2.65421076\n",
      " 2.64679247 2.63942991 2.6321225  2.6248697  2.61767099 2.61052582\n",
      " 2.60343367 2.59639403 2.58940637 2.58247021 2.57558503 2.56875035\n",
      " 2.56196568 2.55523053 2.54854444 2.54190693 2.53531754 2.52877582\n",
      " 2.52228131 2.51583356 2.50943213 2.50307659 2.49676651 2.49050146\n",
      " 2.48428102 2.47810478 2.47197232 2.46588324 2.45983714 2.45383362\n",
      " 2.4478723  2.44195278 2.43607468 2.43023763 2.42444125 2.41868518\n",
      " 2.41296904 2.40729248 2.40165514 2.39605668 2.39049673 2.38497496\n",
      " 2.37949103 2.37404461 2.36863535 2.36326293 2.35792702 2.35262731\n",
      " 2.34736348 2.34213521 2.33694219 2.33178412 2.32666068 2.32157159\n",
      " 2.31651655 2.31149525 2.30650741 2.30155275 2.29663098 2.29174181\n",
      " 2.28688498 2.2820602  2.27726721 2.27250573 2.2677755  2.26307626\n",
      " 2.25840774 2.2537697  2.24916187 2.244584   2.24003584 2.23551716\n",
      " 2.23102769 2.22656721 2.22213547 2.21773224 2.21335729 2.20901038\n",
      " 2.20469128 2.20039977 2.19613562 2.19189861 2.18768853 2.18350515\n",
      " 2.17934827 2.17521766 2.17111312 2.16703444 2.16298141 2.15895383\n",
      " 2.1549515  2.15097422 2.14702179 2.14309402 2.1391907  2.13531165\n",
      " 2.13145669 2.12762561 2.12381824 2.12003439 2.11627388 2.11253652\n",
      " 2.10882215 2.10513058 2.10146163 2.09781514 2.09419093 2.09058883\n",
      " 2.08700868 2.0834503  2.07991353 2.07639822 2.07290418 2.06943128\n",
      " 2.06597934 2.06254821 2.05913774 2.05574776 2.05237813 2.0490287\n",
      " 2.04569932 2.04238983 2.0391001  2.03582997 2.0325793  2.02934795\n",
      " 2.02613577 2.02294264 2.0197684  2.01661292 2.01347607 2.0103577\n",
      " 2.0072577  2.00417591 2.00111222 1.99806649 1.9950386  1.99202841\n",
      " 1.9890358  1.98606065 1.98310282 1.98016221 1.97723867 1.97433211\n",
      " 1.97144239 1.9685694  1.96571301 1.96287312 1.96004961 1.95724237\n",
      " 1.95445127 1.95167621 1.94891708 1.94617376 1.94344616 1.94073415\n",
      " 1.93803764 1.93535651 1.93269066 1.93003999 1.92740439 1.92478376\n",
      " 1.922178   1.919587   1.91701068 1.91444892 1.91190163 1.90936872\n",
      " 1.90685008 1.90434562 1.90185525 1.89937887 1.89691639 1.89446772\n",
      " 1.89203276 1.88961143 1.88720363 1.88480927 1.88242827 1.88006054\n",
      " 1.87770599 1.87536454 1.8730361  1.87072058 1.8684179  1.86612798\n",
      " 1.86385073 1.86158608 1.85933394 1.85709423 1.85486687 1.85265178\n",
      " 1.85044889 1.84825811 1.84607937 1.84391259 1.8417577  1.83961461\n",
      " 1.83748326 1.83536357 1.83325547 1.83115888 1.82907373 1.82699996\n",
      " 1.82493748 1.82288623 1.82084614 1.81881713 1.81679915 1.81479212\n",
      " 1.81279597 1.81081064 1.80883605 1.80687215 1.80491887 1.80297614\n",
      " 1.80104389 1.79912208 1.79721062 1.79530945 1.79341852 1.79153777\n",
      " 1.78966712 1.78780653 1.78595592 1.78411524 1.78228443 1.78046342\n",
      " 1.77865217 1.77685061 1.77505869 1.77327634 1.77150352 1.76974015\n",
      " 1.76798619 1.76624159 1.76450628 1.76278021 1.76106333 1.75935559\n",
      " 1.75765692 1.75596728 1.75428661 1.75261486 1.75095198 1.74929792\n",
      " 1.74765263 1.74601605 1.74438814 1.74276884 1.74115811 1.73955589\n",
      " 1.73796214 1.73637681 1.73479985 1.73323122 1.73167086 1.73011872\n",
      " 1.72857477 1.72703895 1.72551122 1.72399153 1.72247984 1.72097611\n",
      " 1.71948028 1.71799231 1.71651216 1.71503979 1.71357515 1.7121182\n",
      " 1.71066889 1.70922719 1.70779304 1.70636642 1.70494728 1.70353557\n",
      " 1.70213125 1.70073429]\n",
      "[2.92053161 2.89539654 2.87064896 2.84628227 2.82228998 2.79866569\n",
      " 2.77540311 2.75249602 2.72993833 2.70772402 2.68584718 2.66430199\n",
      " 2.64308272 2.62218375 2.60159953 2.58132462 2.56135366 2.5416814\n",
      " 2.52230267 2.50321237 2.48440551 2.46587719 2.44762258 2.42963696\n",
      " 2.41191566 2.39445411 2.37724784 2.36029243 2.34358355 2.32711697\n",
      " 2.3108885  2.29489405 2.27912961 2.26359123 2.24827503 2.23317722\n",
      " 2.21829406 2.20362189 2.18915712 2.17489622 2.16083574 2.14697227\n",
      " 2.13330248 2.11982311 2.10653095 2.09342284 2.08049571 2.06774651\n",
      " 2.05517228 2.04277009 2.0305371  2.01847047 2.00656747 1.99482538\n",
      " 1.98324156 1.97181339 1.96053834 1.94941388 1.93843756 1.92760698\n",
      " 1.91691975 1.90637357 1.89596614 1.88569524 1.87555866 1.86555427\n",
      " 1.85567993 1.84593358 1.83631318 1.82681674 1.8174423  1.80818792\n",
      " 1.79905173 1.79003187 1.78112653 1.77233391 1.76365226 1.75507987\n",
      " 1.74661504 1.73825612 1.73000149 1.72184954 1.7137987  1.70584744\n",
      " 1.69799424 1.69023763 1.68257613 1.67500833 1.66753281 1.66014821\n",
      " 1.65285315 1.64564631 1.63852638 1.63149209 1.62454216 1.61767536\n",
      " 1.61089047 1.6041863  1.59756168 1.59101544 1.58454647 1.57815363\n",
      " 1.57183585 1.56559204 1.55942115 1.55332214 1.54729399 1.54133571\n",
      " 1.53544629 1.52962478 1.52387023 1.5181817  1.51255827 1.50699903\n",
      " 1.50150311 1.49606962 1.4906977  1.48538652 1.48013524 1.47494305\n",
      " 1.46980914 1.46473273 1.45971304 1.45474931 1.44984078 1.44498672\n",
      " 1.4401864  1.43543911 1.43074415 1.42610082 1.42150845 1.41696636\n",
      " 1.4124739  1.40803043 1.4036353  1.39928789 1.39498758 1.39073376\n",
      " 1.38652584 1.38236324 1.37824537 1.37417166 1.37014155 1.36615449\n",
      " 1.36220995 1.35830738 1.35444625 1.35062606 1.34684629 1.34310644\n",
      " 1.33940602 1.33574453 1.3321215  1.32853646 1.32498895 1.3214785\n",
      " 1.31800466 1.314567   1.31116507 1.30779844 1.3044667  1.30116941\n",
      " 1.29790618 1.29467659 1.29148025 1.28831676 1.28518573 1.28208679\n",
      " 1.27901955 1.27598365 1.27297871 1.27000439 1.26706032 1.26414616\n",
      " 1.26126156 1.25840618 1.25557968 1.25278174 1.25001203 1.24727023\n",
      " 1.24455602 1.24186909 1.23920914 1.23657586 1.23396895 1.23138812\n",
      " 1.22883307 1.22630353 1.2237992  1.22131982 1.2188651  1.21643477\n",
      " 1.21402857 1.21164624 1.20928751 1.20695213 1.20463984 1.2023504\n",
      " 1.20008355 1.19783906 1.19561669 1.1934162  1.19123736 1.18907994\n",
      " 1.1869437  1.18482844 1.18273392 1.18065992 1.17860624 1.17657266\n",
      " 1.17455898 1.17256497 1.17059045 1.1686352  1.16669903 1.16478175\n",
      " 1.16288316 1.16100306 1.15914128 1.15729762 1.15547189 1.15366393\n",
      " 1.15187354 1.15010056 1.1483448  1.1466061  1.14488428 1.14317917\n",
      " 1.14149062 1.13981845 1.1381625  1.13652261 1.13489863 1.1332904\n",
      " 1.13169776 1.13012057 1.12855867 1.12701191 1.12548014 1.12396323\n",
      " 1.12246103 1.12097339 1.11950018 1.11804126 1.11659649 1.11516574\n",
      " 1.11374888 1.11234576 1.11095627 1.10958028 1.10821765 1.10686826\n",
      " 1.10553199 1.10420872 1.10289832 1.10160068 1.10031567 1.09904319\n",
      " 1.0977831  1.09653531 1.0952997  1.09407615 1.09286455 1.0916648\n",
      " 1.09047679 1.08930042 1.08813557 1.08698214 1.08584003 1.08470914\n",
      " 1.08358937 1.08248062 1.08138278 1.08029577 1.07921949 1.07815383\n",
      " 1.07709871 1.07605404 1.07501972 1.07399566 1.07298177 1.07197797\n",
      " 1.07098416 1.07000025 1.06902617 1.06806183 1.06710713 1.06616201\n",
      " 1.06522637 1.06430014 1.06338323 1.06247557 1.06157707 1.06068767\n",
      " 1.05980727 1.05893581 1.0580732  1.05721938 1.05637427 1.0555378\n",
      " 1.0547099  1.05389048 1.05307949 1.05227685 1.0514825  1.05069636\n",
      " 1.04991836 1.04914845 1.04838654 1.04763258 1.04688651 1.04614825\n",
      " 1.04541775 1.04469493 1.04397974 1.04327212 1.042572   1.04187933\n",
      " 1.04119404 1.04051607 1.03984537 1.03918188 1.03852553 1.03787628\n",
      " 1.03723407 1.03659883 1.03597052 1.03534908 1.03473446 1.03412659\n",
      " 1.03352544 1.03293094 1.03234305 1.03176171 1.03118687 1.03061848\n",
      " 1.03005649 1.02950086 1.02895152 1.02840844 1.02787156 1.02734084\n",
      " 1.02681623 1.02629768 1.02578515 1.02527859 1.02477796 1.0242832\n",
      " 1.02379428 1.02331116 1.02283378 1.0223621  1.02189609 1.0214357\n",
      " 1.02098088 1.0205316  1.02008781 1.01964947 1.01921655 1.018789\n",
      " 1.01836678 1.01794985 1.01753818 1.01713172 1.01673044 1.0163343\n",
      " 1.01594326 1.01555728 1.01517633 1.01480037 1.01442936 1.01406327\n",
      " 1.01370206 1.0133457  1.01299415 1.01264738 1.01230535 1.01196803\n",
      " 1.01163539 1.01130739 1.01098399 1.01066517 1.0103509  1.01004113\n",
      " 1.00973585 1.00943501 1.00913859 1.00884655 1.00855887 1.00827551\n",
      " 1.00799644 1.00772163 1.00745106 1.00718469 1.0069225  1.00666445\n",
      " 1.00641052 1.00616068 1.0059149  1.00567315 1.0054354  1.00520163\n",
      " 1.00497181 1.00474591 1.00452391 1.00430578 1.00409148 1.00388101\n",
      " 1.00367433 1.00347141 1.00327223 1.00307676 1.00288498 1.00269687\n",
      " 1.0025124  1.00233154 1.00215428 1.00198058 1.00181042 1.00164378\n",
      " 1.00148064 1.00132098 1.00116476 1.00101197 1.00086259 1.00071658\n",
      " 1.00057394 1.00043463 1.00029864 1.00016595 1.00003652 0.99991035\n",
      " 0.99978741 0.99966768 0.99955113 0.99943776 0.99932753 0.99922042\n",
      " 0.99911643 0.99901552 0.99891767 0.99882288 0.99873111 0.99864235\n",
      " 0.99855658 0.99847377 0.99839392 0.998317   0.998243   0.99817189\n",
      " 0.99810365 0.99803828 0.99797574 0.99791603 0.99785913 0.99780501\n",
      " 0.99775366 0.99770506 0.9976592  0.99761605 0.99757561 0.99753785\n",
      " 0.99750276 0.99747033 0.99744052 0.99741334 0.99738876 0.99736676\n",
      " 0.99734734 0.99733047 0.99731613 0.99730433 0.99729503 0.99728822\n",
      " 0.99728389 0.99728203 0.99728261 0.99728563 0.99729106 0.9972989\n",
      " 0.99730912 0.99732172 0.99733669 0.99735399 0.99737363 0.99739559\n",
      " 0.99741985 0.99744641 0.99747524 0.99750633 0.99753967 0.99757525\n",
      " 0.99761305 0.99765307 0.99769528 0.99773967 0.99778624 0.99783496\n",
      " 0.99788583 0.99793884]\n"
     ]
    }
   ],
   "source": [
    "#fit with train data\n",
    "reg.fit(X_train_z, y_train, X_test_z, y_test)\n",
    "#reg.fit(X_train_z, y_train)"
   ]
  },
  {
   "cell_type": "code",
   "execution_count": 272,
   "metadata": {},
   "outputs": [
    {
     "data": {
      "text/plain": [
       "array([[0, 1, 1, 1, 1, 0, 1, 1, 0, 1, 0, 1, 0, 0, 0, 1, 0, 1, 1, 1, 1, 1,\n",
       "        1, 0, 0]])"
      ]
     },
     "execution_count": 272,
     "metadata": {},
     "output_type": "execute_result"
    }
   ],
   "source": [
    "#predict test data\n",
    "scrach_pred = reg.predict(X_test_z)\n",
    "scrach_pred"
   ]
  },
  {
   "cell_type": "code",
   "execution_count": 273,
   "metadata": {},
   "outputs": [
    {
     "data": {
      "text/plain": [
       "array([[0, 1, 1, 1, 1, 0, 1, 1, 0, 1, 0, 1, 0, 0, 0, 1, 0, 1, 1, 1, 1, 1,\n",
       "        1, 0, 0]])"
      ]
     },
     "execution_count": 273,
     "metadata": {},
     "output_type": "execute_result"
    }
   ],
   "source": [
    "y_test.reshape(1, -1)"
   ]
  },
  {
   "cell_type": "code",
   "execution_count": 274,
   "metadata": {},
   "outputs": [
    {
     "data": {
      "text/plain": [
       "array([[ True,  True,  True,  True,  True,  True,  True,  True,  True,\n",
       "         True,  True,  True,  True,  True,  True,  True,  True,  True,\n",
       "         True,  True,  True,  True,  True,  True,  True]])"
      ]
     },
     "execution_count": 274,
     "metadata": {},
     "output_type": "execute_result"
    }
   ],
   "source": [
    "scrach_pred ==y_test.reshape(1, -1)"
   ]
  },
  {
   "cell_type": "markdown",
   "metadata": {},
   "source": [
    "## 【問題2】学習曲線のプロット\n",
    "学習曲線をプロットしてください。"
   ]
  },
  {
   "cell_type": "code",
   "execution_count": 275,
   "metadata": {},
   "outputs": [
    {
     "data": {
      "image/png": "[encoded data removed]",
      "text/plain": [
       "<Figure size 288x288 with 1 Axes>"
      ]
     },
     "metadata": {
      "needs_background": "light"
     },
     "output_type": "display_data"
    }
   ],
   "source": [
    "reg.plot_learning_curve()"
   ]
  },
  {
   "cell_type": "markdown",
   "metadata": {},
   "source": [
    "## 【問題3】指標値の算出\n",
    "分類に関する指標値で精度を確認してください。"
   ]
  },
  {
   "cell_type": "markdown",
   "metadata": {},
   "source": [
    "## 【問題4】決定領域の可視化\n",
    "2値分類のデータセットに対して決定領域を可視化してください。"
   ]
  },
  {
   "cell_type": "markdown",
   "metadata": {},
   "source": [
    "## 【問題5】（アドバンス課題）重みの保存\n",
    "検証が容易になるように、学習した重みを保存および読み込みができるようにしましょう。pickleモジュールやnumpy.savezを利用します。\n",
    "\n",
    "pickle — Python オブジェクトの直列化 — Python 3.7.1 ドキュメント\n",
    "\n",
    "numpy.savez — NumPy v1.15 Manual"
   ]
  },
  {
   "cell_type": "markdown",
   "metadata": {},
   "source": [
    "## 【問題6】分類と回帰\n",
    "最終発表時に以下の内容についてディスカッションを行います。自分なりの意見を用意しておいてください。\n",
    "\n",
    "分類問題と回帰問題は本質的に何が異なっているか\n",
    "注意点\n",
    "\n",
    "答えがある問いではありません。いろいろな視点から見て理解を深めていきましょう。"
   ]
  },
  {
   "cell_type": "code",
   "execution_count": null,
   "metadata": {},
   "outputs": [],
   "source": []
  }
 ],
 "metadata": {
  "kernelspec": {
   "display_name": "Python 3",
   "language": "python",
   "name": "python3"
  },
  "language_info": {
   "codemirror_mode": {
    "name": "ipython",
    "version": 3
   },
   "file_extension": ".py",
   "mimetype": "text/x-python",
   "name": "python",
   "nbconvert_exporter": "python",
   "pygments_lexer": "ipython3",
   "version": "3.6.8"
  }
 },
 "nbformat": 4,
 "nbformat_minor": 2
}
