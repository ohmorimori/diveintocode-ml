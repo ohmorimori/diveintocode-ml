{
 "cells": [
  {
   "cell_type": "markdown",
   "metadata": {},
   "source": [
    "## 【問題1】K-meansクラスの作成\n",
    "非階層クラスタリングの手法であるK-meansのクラスを作成してください。名前はScratchKMeansとしてください。\n",
    "\n",
    "教師なし学習であるクラスタリングになるため、ここまでの回帰や分類とは異なるパイプラインを作成することになります。\n",
    "\n",
    "メソッドやパラメータなどはscikit-learnを参考にしてください。\n",
    "\n",
    "sklearn.cluster.KMeans — scikit-learn 0.20.0 documentation\n",
    "\n",
    "検証段階ではJupyter Notebook上で書いていき、最終的にはpyファイルにモジュールとしてまとめてください。\n",
    "\n",
    "クラスタリングのための人工データセット\n",
    "クラスタリングを実験するための人工データセットを作成するコードを用意しました。スクラッチの過程で利用してください。\n",
    "\n",
    "このmake_blobs関数は正解ラベルも出力してますが、今回は使用しません。使用しないことを明示するために、 _（アンダースコア） で受け取っています。"
   ]
  },
  {
   "cell_type": "markdown",
   "metadata": {},
   "source": [
    "SSE (Sum of squared errors)は以下で表される。\n",
    "$$\n",
    "SSE = \\sum_{n=1}^{N}\\sum_{k=1}^{K}r_{nk}||X_{n}-\\mu_{k}||^{2}\n",
    "$$\n",
    "\n",
    "$n$: index of data samples<br>\n",
    "$k$: index of clusters<br>\n",
    "$X_{n}$: data of n-th sample<br>\n",
    "$\\mu_{k}$: central point of cluster k<br>\n",
    "$r_{nk}$: 1 if $X_{n}$ belongs to cluster $k$, else 0<br>\n"
   ]
  },
  {
   "cell_type": "code",
   "execution_count": 405,
   "metadata": {},
   "outputs": [],
   "source": [
    "#テストデータ読み込み\n",
    "import numpy as np\n",
    "from sklearn.datasets import make_blobs\n",
    "X, _ = make_blobs(n_samples=100, n_features=2, centers=4, cluster_std=0.5, shuffle=True, random_state=0)"
   ]
  },
  {
   "cell_type": "code",
   "execution_count": 406,
   "metadata": {},
   "outputs": [
    {
     "data": {
      "text/plain": [
       "array([[ 0.72086751,  3.71347124],\n",
       "       [-1.89468423,  7.96898545],\n",
       "       [ 1.35678894,  4.36462484],\n",
       "       [ 1.05374379,  4.49286859],\n",
       "       [ 1.59141542,  4.90497725],\n",
       "       [ 0.78260667,  4.15263595],\n",
       "       [-1.95751686,  3.87291474],\n",
       "       [-0.77354537,  7.87923564],\n",
       "       [ 0.12313498,  5.27917503],\n",
       "       [-1.43284669,  7.71577043]])"
      ]
     },
     "execution_count": 406,
     "metadata": {},
     "output_type": "execute_result"
    }
   ],
   "source": [
    "X[:10]"
   ]
  },
  {
   "cell_type": "code",
   "execution_count": 408,
   "metadata": {
    "scrolled": true
   },
   "outputs": [
    {
     "data": {
      "image/png": "[encoded data removed]",
      "text/plain": [
       "<Figure size 288x288 with 1 Axes>"
      ]
     },
     "metadata": {
      "needs_background": "light"
     },
     "output_type": "display_data"
    }
   ],
   "source": [
    "#dataを見てみる\n",
    "import matplotlib.pyplot as plt\n",
    "fig, ax = plt.subplots(1, 1, figsize=(4, 4))\n",
    "ax = plt.scatter(X[:, 0], X[:, 1])\n",
    "\n",
    "#4個っぽいのでn_neighbors = 4 としてみる\n",
    "plt.show()"
   ]
  },
  {
   "cell_type": "code",
   "execution_count": 194,
   "metadata": {},
   "outputs": [
    {
     "name": "stdout",
     "output_type": "stream",
     "text": [
      "[94 19 99  9 94]\n",
      "[[-2.27253281  3.13757811]\n",
      " [ 2.62496786  0.28025075]\n",
      " [-0.30022483  4.63059663]\n",
      " [-1.43284669  7.71577043]\n",
      " [-2.27253281  3.13757811]]\n"
     ]
    }
   ],
   "source": [
    "#具体例でイメージの把握をする。\n",
    "#muを初期化\n",
    "#n_neighbors = 5で\n",
    "n_neighbors = 5\n",
    "\n",
    "mu_idx = np.array([np.random.randint(0,X.shape[0]) for i in range(5)])\n",
    "print(mu_idx)\n",
    "\n",
    "mu = X[mu_idx] \n",
    "print(mu)"
   ]
  },
  {
   "cell_type": "code",
   "execution_count": 195,
   "metadata": {},
   "outputs": [
    {
     "name": "stdout",
     "output_type": "stream",
     "text": [
      "(100, 2)\n",
      "[[2.99340032 0.57589312]\n",
      " [0.37784858 4.83140734]\n",
      " [3.62932175 1.22704672]\n",
      " [3.3262766  1.35529048]\n",
      " [3.86394823 1.76739914]\n",
      " [3.05513948 1.01505784]\n",
      " [0.31501595 0.73533663]\n",
      " [1.49898744 4.74165752]\n",
      " [2.39566779 2.14159691]\n",
      " [0.83968612 4.57819231]]\n"
     ]
    }
   ],
   "source": [
    "v0 = X-mu[0, :]\n",
    "v1 = X-mu[1, :]\n",
    "v2 = X-mu[2, :]\n",
    "v3 = X-mu[3, :]\n",
    "v4 = X-mu[4, :]\n",
    "print(v0.shape)\n",
    "print(v0[:10])"
   ]
  },
  {
   "cell_type": "code",
   "execution_count": 196,
   "metadata": {},
   "outputs": [
    {
     "data": {
      "text/plain": [
       "array([[3.04829434, 3.92588857, 1.37249719, 4.54498445, 3.04829434],\n",
       "       [4.84615997, 8.91873849, 3.69961359, 0.52669893, 4.84615997],\n",
       "       [3.83113822, 4.27672649, 1.67822395, 4.36030317, 3.83113822],\n",
       "       [3.59178623, 4.49609766, 1.36095556, 4.07065456, 3.59178623],\n",
       "       [4.24897583, 4.7388106 , 1.91143599, 4.12876732, 4.24897583],\n",
       "       [3.21935081, 4.28831691, 1.18362598, 4.19573127, 3.21935081],\n",
       "       [0.79997188, 5.82292029, 1.82227844, 3.87850727, 0.79997188],\n",
       "       [4.9729548 , 8.32432961, 3.28293889, 0.67926365, 4.9729548 ],\n",
       "       [3.21335674, 5.59002788, 0.77452403, 2.89103375, 3.21335674],\n",
       "       [4.6545588 , 8.47070315, 3.28650721, 0.        , 4.6545588 ]])"
      ]
     },
     "execution_count": 196,
     "metadata": {},
     "output_type": "execute_result"
    }
   ],
   "source": [
    "import math\n",
    "#各点X_nからmu_kまでの距離d\n",
    "d0 = v0*v0\n",
    "d1 = v1*v1\n",
    "d2 = v2*v2\n",
    "d3 = v3*v3\n",
    "d4 = v4*v4\n",
    "\n",
    "d0 = ((d0[:, 0] + d0[:, 1])**(1/2)).reshape(-1, 1)\n",
    "d1 = ((d1[:, 0] + d1[:, 1])**(1/2)).reshape(-1, 1)\n",
    "d2 = ((d2[:, 0] + d2[:, 1])**(1/2)).reshape(-1, 1)\n",
    "d3 = ((d3[:, 0] + d3[:, 1])**(1/2)).reshape(-1, 1)\n",
    "d4 = ((d4[:, 0] + d4[:, 1])**(1/2)).reshape(-1, 1)\n",
    "\n",
    "d = d0\n",
    "d = np.concatenate([d, d1], axis=1)\n",
    "d = np.concatenate([d, d2], axis=1)\n",
    "d = np.concatenate([d, d3], axis=1)\n",
    "d = np.concatenate([d, d4], axis=1)\n",
    "d[:10]"
   ]
  },
  {
   "cell_type": "code",
   "execution_count": 174,
   "metadata": {},
   "outputs": [
    {
     "data": {
      "text/plain": [
       "array([0, 3, 0, 0, 0, 0, 4, 3, 4, 3, 3, 3, 3, 3, 3, 1, 1, 4, 4, 1, 2, 3,\n",
       "       4, 1, 4, 4, 4, 0, 1, 1, 1, 3, 1, 1, 4, 0, 3, 1, 3, 4, 0, 4, 3, 4,\n",
       "       4, 3, 1, 4, 0, 0, 4, 1, 4, 4, 4, 3, 3, 1, 1, 3, 3, 1, 1, 2, 1, 3,\n",
       "       4, 4, 1, 0, 3, 1, 0, 3, 0, 2, 4, 4, 1, 1, 1, 3, 4, 4, 1, 4, 1, 1,\n",
       "       2, 0, 0, 4, 0, 4, 4, 3, 3, 4, 3, 4])"
      ]
     },
     "execution_count": 174,
     "metadata": {},
     "output_type": "execute_result"
    }
   ],
   "source": [
    "#各点X_nに対して、最も近いmu_kのindex k\n",
    "min_idx = d.argmin(1)\n",
    "min_idx"
   ]
  },
  {
   "cell_type": "code",
   "execution_count": 179,
   "metadata": {},
   "outputs": [
    {
     "name": "stdout",
     "output_type": "stream",
     "text": [
      "[array([0.95552289, 4.25456274])]\n",
      "[[ 0.95552289  4.25456274]\n",
      " [ 1.73810647  0.71629308]\n",
      " [ 1.72330962  4.2012082 ]\n",
      " [-0.98661744  7.74968685]\n",
      " [ 0.3498724   4.69253251]]\n",
      "(16, 2)\n",
      "[array([1.99186903, 0.96561071])]\n",
      "[[ 0.95552289  4.25456274]\n",
      " [ 1.99186903  0.96561071]\n",
      " [ 1.72330962  4.2012082 ]\n",
      " [-0.98661744  7.74968685]\n",
      " [ 0.3498724   4.69253251]]\n",
      "(25, 2)\n",
      "[array([1.74640122, 4.18724605])]\n",
      "[[ 0.95552289  4.25456274]\n",
      " [ 1.99186903  0.96561071]\n",
      " [ 1.74640122  4.18724605]\n",
      " [-0.98661744  7.74968685]\n",
      " [ 0.3498724   4.69253251]]\n",
      "(4, 2)\n",
      "[array([-1.26811733,  7.76378266])]\n",
      "[[ 0.95552289  4.25456274]\n",
      " [ 1.99186903  0.96561071]\n",
      " [ 1.74640122  4.18724605]\n",
      " [-1.26811733  7.76378266]\n",
      " [ 0.3498724   4.69253251]]\n",
      "(25, 2)\n",
      "[array([-1.20377598,  3.37420613])]\n",
      "[[ 0.95552289  4.25456274]\n",
      " [ 1.99186903  0.96561071]\n",
      " [ 1.74640122  4.18724605]\n",
      " [-1.26811733  7.76378266]\n",
      " [-1.20377598  3.37420613]]\n",
      "(30, 2)\n"
     ]
    }
   ],
   "source": [
    "#mu更新\n",
    "for i in range(n_neighbors):\n",
    "        print([np.array(X[min_idx == i]).mean(axis=0)])\n",
    "        mu[i, :] = np.array(X[min_idx == i]).mean(axis=0)\n",
    "        print(mu)\n",
    "        print(X[min_idx == i].shape)"
   ]
  },
  {
   "cell_type": "code",
   "execution_count": 309,
   "metadata": {},
   "outputs": [],
   "source": [
    "aa = np.array([\n",
    "    [0, 0, 0],\n",
    "    [0, 0, 0],\n",
    "    [0, 0, 0],\n",
    "    [0, 0, 0],\n",
    "    [0, 1, 0]\n",
    "])"
   ]
  },
  {
   "cell_type": "code",
   "execution_count": 543,
   "metadata": {
    "scrolled": true
   },
   "outputs": [
    {
     "name": "stdout",
     "output_type": "stream",
     "text": [
      "mu:\n",
      " [[-0.31702933  1.94094566]\n",
      " [ 0.3331805   0.65122866]\n",
      " [ 0.29795713  0.96827675]\n",
      " [ 2.99684287  0.22378413]\n",
      " [-0.27156345  0.48237899]]\n",
      "sse:\n",
      " [9.22337204e+18 3.46592443e+02]\n",
      "mu:\n",
      " [[ 0.0057353   1.28413666]\n",
      " [-0.21029487  0.33804358]\n",
      " [-0.17679972  0.88586037]\n",
      " [-0.0951746   1.25762072]\n",
      " [ 0.51907873  0.27716872]]\n",
      "sse:\n",
      " [9.22337204e+18 3.46592443e+02 1.93600820e+02]\n",
      "mu:\n",
      " [[ 0.49796726  0.24140268]\n",
      " [ 0.19810537  0.98175504]\n",
      " [ 0.03334075  0.09943444]\n",
      " [-0.31702933  1.94094566]\n",
      " [-0.3698392   0.77929224]]\n",
      "sse:\n",
      " [9.22337204e+18 3.46592443e+02 1.93600820e+02 8.33538041e+01]\n",
      "mu:\n",
      " [[-0.00300225  0.04630597]\n",
      " [-0.25818284  0.60190813]\n",
      " [ 0.33771179  0.38242472]\n",
      " [-0.31702933  1.94094566]\n",
      " [ 0.28304748  1.07124559]]\n",
      "sse:\n",
      " [9.22337204e+18 3.46592443e+02 1.93600820e+02 8.33538041e+01\n",
      " 8.33538041e+01]\n",
      "mu:\n",
      " [[-0.31702933  1.94094566]\n",
      " [ 0.07909909  0.00633577]\n",
      " [ 0.0900612   0.18494429]\n",
      " [ 0.29249518  0.12129712]\n",
      " [-0.1020813   1.78930722]]\n",
      "sse:\n",
      " [9.22337204e+18 3.46592443e+02 1.93600820e+02 8.33538041e+01\n",
      " 8.33538041e+01 8.33538041e+01]\n",
      "mu:\n",
      " [[ 0.51907873  0.27716872]\n",
      " [-0.06284801  0.58309976]\n",
      " [-0.25418132  1.3578459 ]\n",
      " [ 0.1363642   1.29538638]\n",
      " [-0.29586876  0.52932929]]\n",
      "sse:\n",
      " [9.22337204e+18 3.46592443e+02 1.93600820e+02 8.33538041e+01\n",
      " 8.33538041e+01 8.33538041e+01 8.33538041e+01]\n",
      "mu:\n",
      " [[-0.20187792  0.43700271]\n",
      " [ 0.49796726  0.24140268]\n",
      " [-0.31702933  1.94094566]\n",
      " [ 0.21650722  1.18538114]\n",
      " [-0.15302238  0.23809787]]\n",
      "sse:\n",
      " [9.22337204e+18 3.46592443e+02 1.93600820e+02 8.33538041e+01\n",
      " 8.33538041e+01 8.33538041e+01 8.33538041e+01 8.33538041e+01]\n",
      "mu:\n",
      " [[ 0.17302487  0.11663321]\n",
      " [ 0.32494238  0.12476946]\n",
      " [-0.36418487  0.74271084]\n",
      " [ 0.22579179  1.11777088]\n",
      " [-0.31702933  1.94094566]]\n",
      "sse:\n",
      " [9.22337204e+18 3.46592443e+02 1.93600820e+02 8.33538041e+01\n",
      " 8.33538041e+01 8.33538041e+01 8.33538041e+01 8.33538041e+01\n",
      " 8.10888815e+01]\n",
      "mu:\n",
      " [[ 0.05242945  0.11710518]\n",
      " [-0.03760661  1.48011336]\n",
      " [-0.31702933  1.94094566]\n",
      " [-0.00567282  0.38882198]\n",
      " [ 0.35042416  0.11584389]]\n",
      "sse:\n",
      " [9.22337204e+18 3.46592443e+02 1.93600820e+02 8.33538041e+01\n",
      " 8.33538041e+01 8.33538041e+01 8.33538041e+01 8.33538041e+01\n",
      " 8.10888815e+01 8.10888815e+01]\n",
      "mu:\n",
      " [[-0.14225057  0.39093941]\n",
      " [ 0.49796726  0.24140268]\n",
      " [-0.35105347  0.9181752 ]\n",
      " [-1.497272    8.80022604]\n",
      " [ 0.03788163  2.49231277]]\n",
      "sse:\n",
      " [9.22337204e+18 3.46592443e+02 1.93600820e+02 8.33538041e+01\n",
      " 8.33538041e+01 8.33538041e+01 8.33538041e+01 8.33538041e+01\n",
      " 8.10888815e+01 8.10888815e+01 8.10888815e+01]\n",
      "mu:\n",
      " [[-0.17347948  0.82150408]\n",
      " [ 0.40436908  0.86557122]\n",
      " [-0.0186383   0.14061413]\n",
      " [-0.04479491  1.23631318]\n",
      " [-0.12491155  0.97882745]]\n",
      "sse:\n",
      " [9.22337204e+18 3.46592443e+02 1.93600820e+02 8.33538041e+01\n",
      " 8.33538041e+01 8.33538041e+01 8.33538041e+01 8.33538041e+01\n",
      " 8.10888815e+01 8.10888815e+01 8.10888815e+01 8.10888815e+01]\n",
      "mu:\n",
      " [[-0.3698392   0.77929224]\n",
      " [-0.21266141  1.44422946]\n",
      " [ 0.06105677  0.19175576]\n",
      " [-0.10436792  0.4967162 ]\n",
      " [ 0.66835661  1.13083639]]\n",
      "sse:\n",
      " [9.22337204e+18 3.46592443e+02 1.93600820e+02 8.33538041e+01\n",
      " 8.33538041e+01 8.33538041e+01 8.33538041e+01 8.33538041e+01\n",
      " 8.10888815e+01 8.10888815e+01 8.10888815e+01 8.10888815e+01\n",
      " 8.10888815e+01]\n",
      "mu:\n",
      " [[ 0.20568733  0.74201349]\n",
      " [ 0.49796726  0.24140268]\n",
      " [-0.31702933  1.94094566]\n",
      " [-0.35490031  0.67510058]\n",
      " [ 0.0108199   0.44336765]]\n",
      "sse:\n",
      " [9.22337204e+18 3.46592443e+02 1.93600820e+02 8.33538041e+01\n",
      " 8.33538041e+01 8.33538041e+01 8.33538041e+01 8.33538041e+01\n",
      " 8.10888815e+01 8.10888815e+01 8.10888815e+01 8.10888815e+01\n",
      " 8.10888815e+01 8.10888815e+01]\n",
      "mu:\n",
      " [[-0.31702933  1.94094566]\n",
      " [ 0.06204856  0.20140814]\n",
      " [ 0.24369671  0.90515904]\n",
      " [ 0.26580729  0.64470993]\n",
      " [-0.21197838  0.35060729]]\n",
      "sse:\n",
      " [9.22337204e+18 3.46592443e+02 1.93600820e+02 8.33538041e+01\n",
      " 8.33538041e+01 8.33538041e+01 8.33538041e+01 8.33538041e+01\n",
      " 8.10888815e+01 8.10888815e+01 8.10888815e+01 8.10888815e+01\n",
      " 8.10888815e+01 8.10888815e+01 8.10888815e+01]\n",
      "mu:\n",
      " [[-0.32184525  0.5989299 ]\n",
      " [ 0.49796726  0.24140268]\n",
      " [-0.04799395  0.18036234]\n",
      " [-0.29784001  2.2242245 ]\n",
      " [ 0.21225679  0.79791064]]\n",
      "sse:\n",
      " [9.22337204e+18 3.46592443e+02 1.93600820e+02 8.33538041e+01\n",
      " 8.33538041e+01 8.33538041e+01 8.33538041e+01 8.33538041e+01\n",
      " 8.10888815e+01 8.10888815e+01 8.10888815e+01 8.10888815e+01\n",
      " 8.10888815e+01 8.10888815e+01 8.10888815e+01 8.10888815e+01]\n",
      "mu:\n",
      " [[-0.08950151  1.50978171]\n",
      " [-0.07122144  0.86487313]\n",
      " [-0.22714994  1.17924895]\n",
      " [-0.08866099  0.21175755]\n",
      " [ 0.51907873  0.27716872]]\n",
      "sse:\n",
      " [9.22337204e+18 3.46592443e+02 1.93600820e+02 8.33538041e+01\n",
      " 8.33538041e+01 8.33538041e+01 8.33538041e+01 8.33538041e+01\n",
      " 8.10888815e+01 8.10888815e+01 8.10888815e+01 8.10888815e+01\n",
      " 8.10888815e+01 8.10888815e+01 8.10888815e+01 8.10888815e+01\n",
      " 8.10888815e+01]\n",
      "mu:\n",
      " [[-0.31702933  1.94094566]\n",
      " [ 0.20346652  0.16034543]\n",
      " [-0.3698392   0.77929224]\n",
      " [ 0.23144612  1.08118948]\n",
      " [ 0.29450073  0.08105725]]\n",
      "sse:\n",
      " [9.22337204e+18 3.46592443e+02 1.93600820e+02 8.33538041e+01\n",
      " 8.33538041e+01 8.33538041e+01 8.33538041e+01 8.33538041e+01\n",
      " 8.10888815e+01 8.10888815e+01 8.10888815e+01 8.10888815e+01\n",
      " 8.10888815e+01 8.10888815e+01 8.10888815e+01 8.10888815e+01\n",
      " 8.10888815e+01 5.36433755e+01]\n",
      "mu:\n",
      " [[-3.17029331e-01  1.94094566e+00]\n",
      " [-1.59476243e-01  2.46430056e-01]\n",
      " [ 2.14848565e-01  1.17336596e-01]\n",
      " [-2.83129603e-05  1.57828562e+00]\n",
      " [ 3.04230167e-01  1.59832126e-01]]\n",
      "sse:\n",
      " [9.22337204e+18 3.46592443e+02 1.93600820e+02 8.33538041e+01\n",
      " 8.33538041e+01 8.33538041e+01 8.33538041e+01 8.33538041e+01\n",
      " 8.10888815e+01 8.10888815e+01 8.10888815e+01 8.10888815e+01\n",
      " 8.10888815e+01 8.10888815e+01 8.10888815e+01 8.10888815e+01\n",
      " 8.10888815e+01 5.36433755e+01 5.36433755e+01]\n",
      "mu:\n",
      " [[-0.16318169  1.21471512]\n",
      " [ 0.44936815  0.20504061]\n",
      " [-0.15384764  0.72623055]\n",
      " [-0.13839308  1.86048172]\n",
      " [ 0.04859911  0.03636207]]\n",
      "sse:\n",
      " [9.22337204e+18 3.46592443e+02 1.93600820e+02 8.33538041e+01\n",
      " 8.33538041e+01 8.33538041e+01 8.33538041e+01 8.33538041e+01\n",
      " 8.10888815e+01 8.10888815e+01 8.10888815e+01 8.10888815e+01\n",
      " 8.10888815e+01 8.10888815e+01 8.10888815e+01 8.10888815e+01\n",
      " 8.10888815e+01 5.36433755e+01 5.36433755e+01 5.36433755e+01]\n",
      "mu:\n",
      " [[ 0.23144612  1.08118948]\n",
      " [ 0.49796726  0.24140268]\n",
      " [-0.31702933  1.94094566]\n",
      " [-0.09291447  0.14895346]\n",
      " [-0.27692472  0.63033878]]\n",
      "sse:\n",
      " [9.22337204e+18 3.46592443e+02 1.93600820e+02 8.33538041e+01\n",
      " 8.33538041e+01 8.33538041e+01 8.33538041e+01 8.33538041e+01\n",
      " 8.10888815e+01 8.10888815e+01 8.10888815e+01 8.10888815e+01\n",
      " 8.10888815e+01 8.10888815e+01 8.10888815e+01 8.10888815e+01\n",
      " 8.10888815e+01 5.36433755e+01 5.36433755e+01 5.36433755e+01\n",
      " 5.36433755e+01]\n"
     ]
    }
   ],
   "source": [
    "import math\n",
    "import sys\n",
    "#距離\n",
    "def get_norm(pnt, std):\n",
    "        #基準点から目標点へのベクトル\n",
    "        vec = pnt - std\n",
    "        #特徴量のノルム\n",
    "        dst = ((vec * vec).sum(axis=1)).reshape(-1,1)\n",
    "        return dst\n",
    "    \n",
    "def is_belonging_to_cluster(d, n_neigbors):\n",
    "        min_idx = d.argmin(1)\n",
    "        r = np.zeros((len(d), 0))\n",
    "        for i in range(n_neighbors):\n",
    "                r = np.concatenate([r, (min_idx == i).reshape(-1, 1)],axis=1)\n",
    "        return r\n",
    "\"\"\"\n",
    "def update_centroid(mu, d, n_neighbors):\n",
    "        min_idx = d.argmin(1)\n",
    "        for i in range(n_neighbors):\n",
    "                #centroidに近い点が一つもなければ最も遠い点に\n",
    "                if (X[min_idx == i].sum() == 0):\n",
    "                        mu[i, :] = np.array(X[d.argmax(0)[i]])\n",
    "                else:\n",
    "                        mu[i, :] = np.array(X[min_idx == i]).mean(axis=0)\n",
    "        return mu\n",
    "\"\"\"\n",
    "def update_centroid(mu, r , n_neighbors):\n",
    "        \n",
    "        for i in range(n_neighbors):\n",
    "                mu[i, :] = (X * r[:, i].reshape(-1,1)).mean(axis=0)\n",
    "                #centroidに近い点が一つもなければ最も遠い点に\n",
    "                if (r[:, i].sum(axis=0) == 0):\n",
    "                        mu[i, :] = np.array(X[d.argmax(0)[i]])\n",
    "        return mu\n",
    "\n",
    "\n",
    "n_neighbors = 5\n",
    "X\n",
    "#sse = sys.maxsize\n",
    "sse = np.array([sys.maxsize])\n",
    "for k in range(20):\n",
    "        #mu生成\n",
    "        mu_idx = np.array([np.random.randint(0,X.shape[0]) for i in range(5)])\n",
    "        mu = X[mu_idx]\n",
    "        #mu = np.zeros((5, 2))\n",
    "        for _ in range(500):\n",
    "                #各点X_nからmu_kまでの距離d\n",
    "                d = np.empty((len(X), 0))\n",
    "                for  i in range(n_neighbors):\n",
    "                        d = np.concatenate([d, get_norm(X, mu[i, :])], axis=1)\n",
    "                ##距離最短のmuを割り当てて更新\n",
    "        r = is_belonging_to_cluster(d, n_neighbors)\n",
    "        mu = update_centroid(mu, r, n_neighbors)\n",
    "        sse = np.append(sse, min(sse[-1], (d * r).sum()))\n",
    "\n",
    "        print(\"mu:\\n\", mu)\n",
    "        print(\"sse:\\n\", sse)"
   ]
  },
  {
   "cell_type": "code",
   "execution_count": 685,
   "metadata": {},
   "outputs": [],
   "source": [
    "import numpy as np\n",
    "import matplotlib.pyplot as plt\n",
    "import math\n",
    "\n",
    "class ScratchKMeans():\n",
    "        def __init__(self, n_iter_1=10, n_iter_2=300,n_neighbors=5):\n",
    "                self.n_neighbors = n_neighbors\n",
    "                self.n_iter_1 = n_iter_1\n",
    "                self.n_iter_2 = n_iter_2\n",
    "                self.n_samples = None\n",
    "                self.features = None\n",
    "                self.sse = None\n",
    "                self.centroid = None\n",
    "        \n",
    "        def fit(self, X):\n",
    "                X = np.array(X)\n",
    "                self.n_samples = X.shape[0]\n",
    "                self.n_features = X.shape[1]\n",
    "                self.sse = np.inf\n",
    "                \n",
    "                for _ in range(self.n_iter_1):\n",
    "                        #ランダムにインデックス生成して\n",
    "                        mu_idx = np.array([np.random.randint(0, self.n_samples) for i in range(self.n_neighbors)])\n",
    "                        #インデックスに対応するXの点をmuの初期値として割り当て\n",
    "                        self.centroid = X[mu_idx]\n",
    "                        cent_tmp = np.copy(self.centroid)\n",
    "                        \n",
    "                        for _ in range(self.n_iter_2):\n",
    "                                #d: 各点X_nからmu_kまでの距離\n",
    "                                #r: Xがどのクラスターに属するか\n",
    "                                d = self._get_distance(X, cent_tmp)\n",
    "                                r = self._get_belonging_cluster(d)\n",
    "                                cent_tmp = self._update_centroid(X, d, r)\n",
    "\n",
    "                                #sseが最小となったらcentroid更新\n",
    "                                if (self.sse > self._get_sse(d, r)):\n",
    "                                        self.sse = self._get_sse(d, r)                    \n",
    "                                        self.centroid = self._update_centroid(X, d, r)\n",
    " \n",
    "                        #print(\"centroid:\\n\", self.centroid)\n",
    "                        #print(\"sse:\\n\", self.sse)\n",
    "                return\n",
    "        \n",
    "        def predict(self, X):\n",
    "                d = self._get_distance(X, self.centroid)\n",
    "                r = self._get_belonging_cluster(d)\n",
    "                sse = self._get_sse(d, r)\n",
    "                min_idx = d.argmin(1)\n",
    "                return min_idx, sse\n",
    "\n",
    "        def plot_result(self, X, cluster):\n",
    "                fig, ax = plt.subplots(1, 1, figsize=(4, 4))\n",
    "                for i in range(4):\n",
    "                        ax = plt.scatter(X[cluster==i, 0], X[cluster==i, 1], label=i)\n",
    "                plt.show()\n",
    "\n",
    "        def _get_norm(self, pnt, std):\n",
    "                #基準点から目標点へのベクトル\n",
    "                vec = pnt - std\n",
    "                #特徴量のノルム\n",
    "                dst = ((vec * vec).sum(axis=1)).reshape(-1,1)\n",
    "                return dst\n",
    "\n",
    "        def _get_distance(self, X, cent):\n",
    "                d = np.empty((self.n_samples, 0))\n",
    "                for i in range(self.n_neighbors):\n",
    "                        d = np.concatenate([d, self._get_norm(X, cent[i, :])], axis=1)\n",
    "                return d\n",
    "\n",
    "        def _get_belonging_cluster(self, d):\n",
    "                #X_nから各clusterまでの距離のうち、最小のもの shape =(n_samples, )\n",
    "                min_idx = d.argmin(1)\n",
    "                r = np.zeros((self.n_samples, 0))\n",
    "                for i in range(self.n_neighbors):\n",
    "                        r = np.concatenate([r, (min_idx == i).reshape(-1, 1)],axis=1)\n",
    "                return r\n",
    "      \n",
    "        def _update_centroid(self, X, d, r):\n",
    "                cent_tmp = np.zeros((self.n_neighbors, self.n_features))\n",
    "                for i in range(self.n_neighbors):\n",
    "                        #centroidに近い点が一つもなければ最も遠い点に\n",
    "                        if (r[:, i].sum(axis=0) == 0):\n",
    "                                cent_tmp[i, :] = np.array(X[d.argmax(0)[i]])\n",
    "                        else:\n",
    "                                cent_tmp[i, :] = (X * r[:, i].reshape(-1,1)).mean(axis=0)\n",
    "                return cent_tmp\n",
    "        \n",
    "        def _get_sse(self, d, r):\n",
    "                return (d * r).sum()"
   ]
  },
  {
   "cell_type": "code",
   "execution_count": 686,
   "metadata": {
    "scrolled": true
   },
   "outputs": [
    {
     "data": {
      "image/png": "[encoded data removed]",
      "text/plain": [
       "<Figure size 288x288 with 1 Axes>"
      ]
     },
     "metadata": {
      "needs_background": "light"
     },
     "output_type": "display_data"
    }
   ],
   "source": [
    "clf = ScratchKMeans(n_iter_1=200, n_iter_2=30, n_neighbors=4)\n",
    "clf.fit(X)\n",
    "cluster, sse = clf.predict(X)\n",
    "clf.plot_result(X, cluster)"
   ]
  },
  {
   "cell_type": "markdown",
   "metadata": {},
   "source": [
    "## 【問題2】エルボー法の実装\n",
    "K-meansにおいて中心点の個数 \n",
    "k\n",
    " は人為的に決める必要があるが、その判断方法としてエルボー法があります。\n",
    "\n",
    "SSEを縦軸、クラスタ数 \n",
    "k\n",
    " を横軸にした折れ線グラフを表示します。\n",
    "\n",
    "このためにK-meansのインスタンスからはSSEを取得できるようにしてください。\n"
   ]
  },
  {
   "cell_type": "code",
   "execution_count": 677,
   "metadata": {},
   "outputs": [
    {
     "data": {
      "text/plain": [
       "array([   0.        , 1193.61988861, 1840.59429394, 1324.07431081,\n",
       "        127.46794749,   97.20707826,   83.29215735,  272.7179451 ,\n",
       "         62.57580009,   53.91222408,   71.53618559,   80.86772096,\n",
       "         43.61279037,   47.65723685,   40.56712647,   30.01153598,\n",
       "         27.84360705,   39.45740451,   26.92463429,   24.08104081,\n",
       "         22.64690681,   31.78144823,   22.25279396,   22.25925045,\n",
       "         64.26168705,   19.88728206,   20.42487325,   14.42258783,\n",
       "         27.59101065,   19.94944604,   21.63255667,   17.26232705,\n",
       "         15.52171231,   13.82571128,   16.84030048,   19.54849521,\n",
       "         13.44376931,   20.34731664,   16.3475131 ,   14.5236165 ,\n",
       "         10.1740261 ,   12.75527494,    8.40007677,   11.41103205,\n",
       "          8.70098323,   10.18143328,    9.97715992,   11.06514535,\n",
       "          9.06874808,   10.48930146])"
      ]
     },
     "execution_count": 677,
     "metadata": {},
     "output_type": "execute_result"
    }
   ],
   "source": [
    "sse = np.zeros((50,))\n",
    "for i in range(1, 50):\n",
    "        clf = ScratchKMeans(n_iter_1=200, n_iter_2=30, n_neighbors=i)\n",
    "        clf.fit(X)\n",
    "        cluster, sse[i] = clf.predict(X)\n",
    "sse"
   ]
  },
  {
   "cell_type": "code",
   "execution_count": 680,
   "metadata": {},
   "outputs": [
    {
     "data": {
      "image/png": "[encoded data removed]",
      "text/plain": [
       "<Figure size 288x288 with 1 Axes>"
      ]
     },
     "metadata": {
      "needs_background": "light"
     },
     "output_type": "display_data"
    }
   ],
   "source": [
    "fig, ax = plt.subplots(1, 1, figsize=(4, 4))\n",
    "ax = plt.plot(sse[1:], label=i)\n",
    "plt.show()"
   ]
  },
  {
   "cell_type": "markdown",
   "metadata": {},
   "source": [
    "## 【問題3】（アドバンス課題）シルエット図\n",
    "この数式を実装し、シルエット図を確認してください。"
   ]
  },
  {
   "cell_type": "markdown",
   "metadata": {},
   "source": [
    "## 【問題4】クラスタ数kの選択\n",
    "最適だと思われるクラスタ数 \n",
    "k\n",
    " を選択してください。エルボー法やシルエット図を活用する他、人間が後々どう利用したいのかも選択に関わってきます。選択した上で、なぜそれを選んだか説明してください。\n",
    "\n"
   ]
  },
  {
   "cell_type": "markdown",
   "metadata": {},
   "source": [
    "## 【問題5】既知のグループとの比較\n",
    "RegionとChannelはK-meansに使用しなかったが、これれらは既知のグループです。クラスタとこれら既知のグループがどう違うかを確認し、説明してください。まずはそれぞれを可視化してください。"
   ]
  },
  {
   "cell_type": "markdown",
   "metadata": {},
   "source": [
    "## 【問題6】卸売業者にとって有益な情報\n",
    "卸売業者にとって有益な情報を探し出し文章にまとめてください。\n",
    "\n",
    "ヒント\n",
    "\n",
    "前処理を行う前のデータを使い、各クラスタの要約統計量を見るなどしてみましょう。また、PCAで次元削減したデータに対してK-meansを使用しましたが、6個の特徴量をそのまま使ったり、一部の特徴量のみを使ったりということも試してみてください。既知のグループとの比較結果も参考にしてください。\n",
    "\n",
    "条件ごとにデータを見る際にはPandasのgroupbyが便利です。\n",
    "\n",
    "pandas.DataFrame.groupby — pandas 0.23.4 documentation"
   ]
  },
  {
   "cell_type": "markdown",
   "metadata": {},
   "source": [
    "## 【問題7】（アドバンス課題）他の手法の調査\n",
    "今回扱ったK-means以外に非階層クラスタリングで有名な手法としては DBSCAN 、\n",
    "PCA以外に次元削減手法で有名な手法としては t-SNE や LLE があります。\n",
    "\n",
    "DBSCANのメリット・デメリット\n",
    "t-SNE、LLEのメリット・デメリット\n",
    "について記述してください。"
   ]
  },
  {
   "cell_type": "markdown",
   "metadata": {},
   "source": [
    "## 【問題8】（アドバンス課題）t-SNEとDBSCANの利用\n",
    "Wholesale customersのデータに対して、PCAではなく、 t-SNE を用いて次元削減をしてください。さらにK-meansではなく、 DBSCAN を用いてクラスタリングしてください。\n",
    "\n",
    "そのクラスタリング結果をPCA+kmeansの場合の結果と比較してみましょう。実装にはscikit-learnを用いてください。\n",
    "\n",
    "sklearn.manifold.TSNE — scikit-learn 0.20.2 documentation\n",
    "\n",
    "sklearn.cluster.DBSCAN — scikit-learn 0.20.2 documentation\n",
    "\n",
    "パラメーターチューニング\n",
    "\n",
    "これらはK-meansやPCAに比べパラメーターチューニングが難しい手法です。scikit-learnのドキュメントと共に論文も参考にしながらパラメータの意味を確認することも大切になります。\n",
    "\n",
    "t-SNEの論文\n",
    "\n",
    "DBSCANの論文\n",
    "\n",
    "5.ディスカッション"
   ]
  },
  {
   "cell_type": "markdown",
   "metadata": {},
   "source": [
    "## 【問題9】教師なし学習と教師あり学習\n",
    "最終発表時に以下の内容についてディスカッションを行います。自分なりの意見を用意しておいてください。\n",
    "\n",
    "教師なし学習は教師あり学習とどのような違いがあるか"
   ]
  },
  {
   "cell_type": "code",
   "execution_count": null,
   "metadata": {},
   "outputs": [],
   "source": []
  }
 ],
 "metadata": {
  "kernelspec": {
   "display_name": "Python 3",
   "language": "python",
   "name": "python3"
  },
  "language_info": {
   "codemirror_mode": {
    "name": "ipython",
    "version": 3
   },
   "file_extension": ".py",
   "mimetype": "text/x-python",
   "name": "python",
   "nbconvert_exporter": "python",
   "pygments_lexer": "ipython3",
   "version": "3.6.8"
  }
 },
 "nbformat": 4,
 "nbformat_minor": 2
}
