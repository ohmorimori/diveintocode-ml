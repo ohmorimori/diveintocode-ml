{
 "cells": [
  {
   "cell_type": "markdown",
   "metadata": {
    "colab_type": "text",
    "id": "Hv51Zq2Y-RnE"
   },
   "source": [
    "# Sprint3課題 機械学習スクラッチ線形回帰\n",
    "\n"
   ]
  },
  {
   "cell_type": "markdown",
   "metadata": {
    "colab_type": "text",
    "id": "kVA8Ao38989Z"
   },
   "source": [
    "##【問題1】線形回帰のクラスを作成する\n",
    "\n",
    "線形回帰のクラスを作成し、Sprint2で作成した回帰のパイプラインに組み込んでください。\n",
    "\n",
    "以下が雛形です。ここにメソッドを加えていってください。メソッドやパラメータなどはscikit-learnを参考にしてください。\n",
    "\n",
    "[sklearn.linear_model.LinearRegression — scikit-learn 0.20.0 documentation](https://scikit-learn.org/stable/modules/generated/sklearn.linear_model.LinearRegression.html)\n",
    "\n",
    "検証段階ではJupyter Notebook上で書いていき、最終的にはpyファイルにモジュールとしてまとめてください。"
   ]
  },
  {
   "cell_type": "code",
   "execution_count": 0,
   "metadata": {
    "colab": {},
    "colab_type": "code",
    "id": "JoLeX1rC-UZD"
   },
   "outputs": [],
   "source": [
    "import numpy as np\n",
    "\n",
    "class ScratchLinearRegression():\n",
    "    \"\"\"\n",
    "    線形回帰のスクラッチ実装\n",
    "\n",
    "    Parameters\n",
    "    ----------\n",
    "    num_iter : int\n",
    "      イテレーション数\n",
    "    lr : float\n",
    "      学習率\n",
    "    no_bias : bool\n",
    "      バイアス項を入れない場合はTrue\n",
    "    verbose : bool\n",
    "      学習過程を出力する場合はTrue\n",
    "\n",
    "    Attributes\n",
    "    ----------\n",
    "    self.coef_ : 次の形のndarray, shape (n_features,)\n",
    "      パラメータ\n",
    "    self.loss : 次の形のndarray, shape (self.iter,)\n",
    "      学習用データに対する損失の記録\n",
    "    self.val_loss : 次の形のndarray, shape (self.iter,)\n",
    "      検証用データに対する損失の記録\n",
    "\n",
    "    \"\"\"\n",
    "\n",
    "    def __init__(self, num_iter, lr, bias=0, verbose=0):\n",
    "        # ハイパーパラメータを属性として記録\n",
    "        self.iter = num_iter\n",
    "        self.lr = lr\n",
    "        self.bias = bias\n",
    "        self.verbose = verbose\n",
    "        # 損失を記録する配列を用意\n",
    "        self.loss = np.zeros(self.iter)\n",
    "        self.val_loss = np.zeros(self.iter)\n",
    "\n",
    "    def fit(self, X, y, X_val=None, y_val=None):\n",
    "        \"\"\"\n",
    "        線形回帰を学習する。検証用データが入力された場合はそれに対する損失と精度もイテレーションごとに計算する。\n",
    "\n",
    "        Parameters\n",
    "        ----------\n",
    "        X : 次の形のndarray, shape (n_samples, n_features)\n",
    "            学習用データの特徴量\n",
    "        y : 次の形のndarray, shape (n_samples, )\n",
    "            学習用データの正解値\n",
    "        X_val : 次の形のndarray, shape (n_samples, n_features)\n",
    "            検証用データの特徴量\n",
    "        y_val : 次の形のndarray, shape (n_samples, )\n",
    "            検証用データの正解値\n",
    "        \"\"\"\n",
    "\n",
    "        #XにX_0の列をbias埋めで追加（切片の項を追加）\n",
    "        if self.bias:\n",
    "            X = np.concatenate((np.full((len(X), 1), self.bias), X), axis=1)\n",
    "        \n",
    "        # yのshapeを(n_samples, )から(n_samples, 1)にする\n",
    "        y = y.reshape(-1,1)\n",
    "        \n",
    "        #coef_ (theta)を初期化 (1, n_features)\n",
    "        #-1 ~ 1の乱数で\n",
    "        a = -1\n",
    "        b = 1\n",
    "        self.coef_ = (b - a) * np.random.rand(X.shape[1]).reshape(1,-1)  + a     \n",
    "        \n",
    "        #self.iterの回数だけself.coef_を更新しながらhも更新していく\n",
    "        for i in range(self.iter):\n",
    "            #予測値h\n",
    "            h = self._linear_hypothesis(X)\n",
    "\n",
    "            #Cost, error\n",
    "            J, error = self.cost(h, y)\n",
    "\n",
    "            #errorを元にgradを計算してself.coef_を更新\n",
    "            self._gradient_descent(X, error)\n",
    "            \n",
    "            #costをval_lossに記録\n",
    "            self.loss[i] = J\n",
    "        if self.verbose:\n",
    "            #verboseをTrueにした際は学習過程を出力\n",
    "            print(self.loss)\n",
    "\n",
    "\n",
    "    def predict(self, X):\n",
    "        \"\"\"\n",
    "        線形回帰を使い推定する。\n",
    "\n",
    "        Parameters\n",
    "        ----------\n",
    "        X : 次の形のndarray, shape (n_samples, n_features)\n",
    "            サンプル\n",
    "\n",
    "        Returns\n",
    "        -------\n",
    "            次の形のndarray, shape (n_samples, 1)\n",
    "            線形回帰による推定結果\n",
    "        \"\"\"\n",
    "        #XにX_0の列を追加（切片の項を追加）\n",
    "        X = np.concatenate((np.ones((len(X), 1)), X), axis=1)\n",
    "        pred = X.dot((self.coef_).T)\n",
    "        \n",
    "        return pred\n",
    "\n",
    "    def _linear_hypothesis(self, X):\n",
    "        \"\"\"\n",
    "        線形の仮定関数を計算する\n",
    "\n",
    "        Parameters\n",
    "        ----------\n",
    "        X : ndarray of shape (n_samples, n_features)\n",
    "          学習データ\n",
    "\n",
    "        Returns\n",
    "        -------\n",
    "          ndarray of shape (n_samples, 1)\n",
    "          線形の仮定関数による推定結果\n",
    "\n",
    "        \"\"\"\n",
    "        \n",
    "        h = X.dot((self.coef_).T)\n",
    "        \n",
    "        return h\n",
    "      \n",
    "    def cost(self, h, y):\n",
    "        \"\"\"\n",
    "        cost(MSE/2)の計算\n",
    "\n",
    "        Parameters\n",
    "        ----------\n",
    "        y_pred : ndarray of shape (n_samples,)\n",
    "          推定した値\n",
    "        y : ndarray of shape (n_samples,)\n",
    "          正解値\n",
    "\n",
    "        Returns\n",
    "        ----------\n",
    "        J = MSE/2 : numpy.float\n",
    "          MSE: 平均二乗誤差\n",
    "        \"\"\"\n",
    "        error = h - y\n",
    "        mse = (error**2).sum()/len(y)\n",
    "        J = mse/2\n",
    "        return J, error\n",
    "\n",
    "    def _gradient_descent(self, X, error):\n",
    "        \"\"\"\n",
    "        Parameters\n",
    "        ----------\n",
    "        X: ndarray of shape (n_samples, n_features)\n",
    "          学習データ\n",
    "\n",
    "        error: y_pred - y\n",
    "           予測値と実際のyの差\n",
    "        Returns\n",
    "        ----------\n",
    "        インスタンス変数のtheta (self.coef_)を更新\n",
    "\n",
    "        \"\"\"\n",
    "        grad = (error * X).sum()/len(X)\n",
    "        self.coef_ =  self.coef_ - self.lr * grad"
   ]
  },
  {
   "cell_type": "code",
   "execution_count": 0,
   "metadata": {
    "colab": {},
    "colab_type": "code",
    "id": "CZdNVzXYAl3K"
   },
   "outputs": [],
   "source": [
    "reg = ScratchLinearRegression(num_iter=500, lr=0.01, bias=1, verbose=False)"
   ]
  },
  {
   "cell_type": "code",
   "execution_count": 0,
   "metadata": {
    "colab": {},
    "colab_type": "code",
    "id": "kK6W66tW6Qf-"
   },
   "outputs": [],
   "source": [
    "reg.fit(X_train_z, y_train.values)\n",
    "#fit中のiteration毎のコストを表示"
   ]
  },
  {
   "cell_type": "code",
   "execution_count": 0,
   "metadata": {
    "colab": {},
    "colab_type": "code",
    "id": "rHp8vgYRDDrC"
   },
   "outputs": [],
   "source": [
    "scrach_pred = reg.predict(X_test_z)"
   ]
  },
  {
   "cell_type": "code",
   "execution_count": 625,
   "metadata": {
    "colab": {
     "base_uri": "https://localhost:8080/",
     "height": 286
    },
    "colab_type": "code",
    "id": "icaB3Gv6Y2Av",
    "outputId": "0e962f93-eb83-42f8-a6d1-941b9c6c3b21"
   },
   "outputs": [
    {
     "data": {
      "text/plain": [
       "[<matplotlib.lines.Line2D at 0x7faa45c1ba20>]"
      ]
     },
     "execution_count": 625,
     "metadata": {
      "tags": []
     },
     "output_type": "execute_result"
    },
    {
     "data": {
      "image/png": "[encoded data removed]",
      "text/plain": [
       "<Figure size 432x288 with 1 Axes>"
      ]
     },
     "metadata": {
      "tags": []
     },
     "output_type": "display_data"
    }
   ],
   "source": [
    "plt.plot(np.array(range(reg.iter)), reg.loss, \"o-\")"
   ]
  },
  {
   "cell_type": "code",
   "execution_count": 626,
   "metadata": {
    "colab": {
     "base_uri": "https://localhost:8080/",
     "height": 286
    },
    "colab_type": "code",
    "id": "hUFhayAIOcUk",
    "outputId": "5651cf57-5622-4ea9-9fa8-9180f1b91d13"
   },
   "outputs": [
    {
     "data": {
      "text/plain": [
       "[<matplotlib.lines.Line2D at 0x7faa45c65ac8>]"
      ]
     },
     "execution_count": 626,
     "metadata": {
      "tags": []
     },
     "output_type": "execute_result"
    },
    {
     "data": {
      "image/png": "[encoded data removed]",
      "text/plain": [
       "<Figure size 432x288 with 1 Axes>"
      ]
     },
     "metadata": {
      "tags": []
     },
     "output_type": "display_data"
    }
   ],
   "source": [
    "import matplotlib.pyplot as plt\n",
    "\n",
    "plt.plot(y_test, scrach_pred, \"o\")\n",
    "plt.plot(y_test, y_test)"
   ]
  },
  {
   "cell_type": "code",
   "execution_count": 453,
   "metadata": {
    "colab": {
     "base_uri": "https://localhost:8080/",
     "height": 51
    },
    "colab_type": "code",
    "id": "DvnRVyezGvDk",
    "outputId": "b43036c8-0abe-4aa5-d75c-50b0fb7e94ac"
   },
   "outputs": [
    {
     "name": "stdout",
     "output_type": "stream",
     "text": [
      "R^2: -591.889201\n",
      "MSE: 102.569566\n"
     ]
    }
   ],
   "source": [
    "u = ((y_test - scrach_pred)**2).sum(axis=0)\n",
    "v = ((y_test - y_test.mean() )**2).sum(axis=0)\n",
    "\n",
    "r2 = 1 - u/v\n",
    "mse = u/len(y_test)\n",
    "\n",
    "print('R^2: %f' % r2)\n",
    "print('MSE: %f' % mse)"
   ]
  },
  {
   "cell_type": "code",
   "execution_count": 409,
   "metadata": {
    "colab": {
     "base_uri": "https://localhost:8080/",
     "height": 54
    },
    "colab_type": "code",
    "id": "QGngtZmgHTDZ",
    "outputId": "4ba8ec2e-468f-4683-fdf6-2a89797d8877"
   },
   "outputs": [
    {
     "name": "stdout",
     "output_type": "stream",
     "text": [
      "Drive already mounted at /content/gdrive; to attempt to forcibly remount, call drive.mount(\"/content/gdrive\", force_remount=True).\n"
     ]
    }
   ],
   "source": [
    "from google.colab import drive\n",
    "drive.mount('/content/gdrive')"
   ]
  },
  {
   "cell_type": "code",
   "execution_count": 0,
   "metadata": {
    "colab": {},
    "colab_type": "code",
    "id": "Q8bUPu8NGC22"
   },
   "outputs": [],
   "source": [
    "import pandas as pd\n",
    "import numpy as np\n",
    "\n",
    "#read csv file to get data frame\n",
    "df = pd.read_csv('/content/gdrive/My Drive/diveintocode-ml/week4/train.csv')\n",
    "\n",
    "#split into features X and target y\n",
    "X = df.loc[:, [\"YearBuilt\", \"GrLivArea\"]]\n",
    "df['SalePriceLog'] = np.log(df[\"SalePrice\"])\n",
    "y = df.loc[:, ['SalePriceLog']]"
   ]
  },
  {
   "cell_type": "code",
   "execution_count": 611,
   "metadata": {
    "colab": {
     "base_uri": "https://localhost:8080/",
     "height": 238
    },
    "colab_type": "code",
    "id": "jPFNH-qNIAff",
    "outputId": "16eef237-b953-4a3b-edad-76043b170fac"
   },
   "outputs": [
    {
     "name": "stdout",
     "output_type": "stream",
     "text": [
      "   YearBuilt  GrLivArea\n",
      "0       2003       1710\n",
      "1       1976       1262\n",
      "2       2001       1786\n",
      "3       1915       1717\n",
      "4       2000       2198 \n",
      "\n",
      "   SalePriceLog\n",
      "0     12.247694\n",
      "1     12.109011\n",
      "2     12.317167\n",
      "3     11.849398\n",
      "4     12.429216\n"
     ]
    }
   ],
   "source": [
    "#confirm datra\n",
    "print(X.head(), \"\\n\")\n",
    "print(y.head())"
   ]
  },
  {
   "cell_type": "code",
   "execution_count": 0,
   "metadata": {
    "colab": {},
    "colab_type": "code",
    "id": "LhKt5spnJoTC"
   },
   "outputs": [],
   "source": [
    "#まずはscikit-learnで答えを確認\n",
    "\n",
    "#Split into train and test data\n",
    "from sklearn.model_selection import train_test_split\n",
    "X_train, X_test, y_train, y_test = train_test_split(X, y, train_size=3/4, test_size=1/4)"
   ]
  },
  {
   "cell_type": "code",
   "execution_count": 613,
   "metadata": {
    "colab": {
     "base_uri": "https://localhost:8080/",
     "height": 139
    },
    "colab_type": "code",
    "id": "lfigm3UBKkVi",
    "outputId": "e3263724-7bb6-4039-dcbe-cb859a986c5b"
   },
   "outputs": [
    {
     "name": "stderr",
     "output_type": "stream",
     "text": [
      "/usr/local/lib/python3.6/dist-packages/sklearn/preprocessing/data.py:645: DataConversionWarning: Data with input dtype int64 were all converted to float64 by StandardScaler.\n",
      "  return self.partial_fit(X, y)\n",
      "/usr/local/lib/python3.6/dist-packages/ipykernel_launcher.py:7: DataConversionWarning: Data with input dtype int64 were all converted to float64 by StandardScaler.\n",
      "  import sys\n",
      "/usr/local/lib/python3.6/dist-packages/ipykernel_launcher.py:8: DataConversionWarning: Data with input dtype int64 were all converted to float64 by StandardScaler.\n",
      "  \n"
     ]
    }
   ],
   "source": [
    "#Standarize\n",
    "from sklearn.preprocessing import StandardScaler\n",
    "\n",
    "scaler = StandardScaler()\n",
    "#trainデータからmeanとstdevを計算\n",
    "scaler.fit(X_train)\n",
    "#normarize x -> (x - x_mean)/s\n",
    "X_train_z = scaler.transform(X_train)\n",
    "X_test_z = scaler.transform(X_test)"
   ]
  },
  {
   "cell_type": "code",
   "execution_count": 0,
   "metadata": {
    "colab": {},
    "colab_type": "code",
    "id": "TpzGZgeaKtYE"
   },
   "outputs": [],
   "source": [
    "from sklearn.linear_model import LinearRegression\n",
    "lnr_reg = LinearRegression()\n",
    "\n",
    "#learn\n",
    "learned_model_lnr_reg = lnr_reg.fit(X_train_z, y_train)\n",
    "\n",
    "#predict\n",
    "pred = learned_model_lnr_reg.predict(X_test_z)"
   ]
  },
  {
   "cell_type": "code",
   "execution_count": 615,
   "metadata": {
    "colab": {
     "base_uri": "https://localhost:8080/",
     "height": 51
    },
    "colab_type": "code",
    "id": "7h9o7aS-LQcI",
    "outputId": "e831d100-cacb-41d1-d50a-10d8415558ab"
   },
   "outputs": [
    {
     "name": "stdout",
     "output_type": "stream",
     "text": [
      "R^2: 0.677486\n",
      "MSE: 0.046646\n"
     ]
    }
   ],
   "source": [
    "#決定係数R^2とMSEを算出\n",
    "\n",
    "u = ((y_test - pred)**2).sum(axis=0)\n",
    "v = ((y_test - y_test.mean() )**2).sum(axis=0)\n",
    "\n",
    "r2 = 1 - u/v\n",
    "mse = u/len(y_test)\n",
    "\n",
    "print('R^2: %f' % r2)\n",
    "print('MSE: %f' % mse)"
   ]
  },
  {
   "cell_type": "code",
   "execution_count": 0,
   "metadata": {
    "colab": {},
    "colab_type": "code",
    "id": "PyMd3ryhOlHI"
   },
   "outputs": [],
   "source": [
    "#イメージ"
   ]
  },
  {
   "cell_type": "code",
   "execution_count": 526,
   "metadata": {
    "colab": {
     "base_uri": "https://localhost:8080/",
     "height": 102
    },
    "colab_type": "code",
    "id": "20dIG93DSSPE",
    "outputId": "c59a91be-6f92-429a-bfa2-27a491dbb9b1"
   },
   "outputs": [
    {
     "data": {
      "text/plain": [
       "array([[ 1,  1,  2],\n",
       "       [ 1,  3,  4],\n",
       "       [ 1,  5,  6],\n",
       "       [ 1,  7,  8],\n",
       "       [ 1,  9, 10]])"
      ]
     },
     "execution_count": 526,
     "metadata": {
      "tags": []
     },
     "output_type": "execute_result"
    }
   ],
   "source": [
    "#特徴量X\n",
    "X = np.array([\n",
    "    [1, 1, 2],\n",
    "    [1, 3, 4],\n",
    "    [1, 5, 6],\n",
    "    [1, 7, 8],\n",
    "    [1, 9, 10]\n",
    "])\n",
    "X"
   ]
  },
  {
   "cell_type": "code",
   "execution_count": 528,
   "metadata": {
    "colab": {
     "base_uri": "https://localhost:8080/",
     "height": 102
    },
    "colab_type": "code",
    "id": "nnL3LBH4UT2Y",
    "outputId": "5d5ebcb5-6335-4a6e-e70f-33e1c6ae8592"
   },
   "outputs": [
    {
     "data": {
      "text/plain": [
       "array([[5],\n",
       "       [4],\n",
       "       [3],\n",
       "       [2],\n",
       "       [1]])"
      ]
     },
     "execution_count": 528,
     "metadata": {
      "tags": []
     },
     "output_type": "execute_result"
    }
   ],
   "source": [
    "#目的変数y\n",
    "y = np.array([5, 4, 3, 2, 1]).reshape(-1, 1)\n",
    "y"
   ]
  },
  {
   "cell_type": "code",
   "execution_count": 529,
   "metadata": {
    "colab": {
     "base_uri": "https://localhost:8080/",
     "height": 34
    },
    "colab_type": "code",
    "id": "XPZFIcQ6SSWS",
    "outputId": "b809dce7-6074-4506-d676-2b21f10ee460"
   },
   "outputs": [
    {
     "data": {
      "text/plain": [
       "array([[0., 0., 0.]])"
      ]
     },
     "execution_count": 529,
     "metadata": {
      "tags": []
     },
     "output_type": "execute_result"
    }
   ],
   "source": [
    "#Xの係数theta\n",
    "theta = np.empty((0,3))\n",
    "theta = np.append(theta, np.array([[0,0,0]]), axis=0)\n",
    "theta"
   ]
  },
  {
   "cell_type": "code",
   "execution_count": 554,
   "metadata": {
    "colab": {
     "base_uri": "https://localhost:8080/",
     "height": 102
    },
    "colab_type": "code",
    "id": "Vn5iD05TSnB8",
    "outputId": "b0a30bb0-11b7-4d90-839e-4a85b0b304cd"
   },
   "outputs": [
    {
     "data": {
      "text/plain": [
       "array([[ -23.16],\n",
       "       [ -52.4 ],\n",
       "       [ -81.64],\n",
       "       [-110.88],\n",
       "       [-140.12]])"
      ]
     },
     "execution_count": 554,
     "metadata": {
      "tags": []
     },
     "output_type": "execute_result"
    }
   ],
   "source": [
    "#Hypothesis function\n",
    "#thetaとxから求めたyの予測値\n",
    "h = theta[-1,:].dot(X.T).reshape(-1, 1)\n",
    "h"
   ]
  },
  {
   "cell_type": "code",
   "execution_count": 555,
   "metadata": {
    "colab": {
     "base_uri": "https://localhost:8080/",
     "height": 102
    },
    "colab_type": "code",
    "id": "S7N2XBcoTMdF",
    "outputId": "45efd3b8-8703-4f64-e2b7-0dc9ebe0b1ce"
   },
   "outputs": [
    {
     "data": {
      "text/plain": [
       "array([[  792.9856],\n",
       "       [ 3180.96  ],\n",
       "       [ 7163.9296],\n",
       "       [12741.8944],\n",
       "       [19914.8544]])"
      ]
     },
     "execution_count": 555,
     "metadata": {
      "tags": []
     },
     "output_type": "execute_result"
    }
   ],
   "source": [
    "#Cost functionを順を追って計算\n",
    "\n",
    "#残差（residual）の2乗\n",
    "(h - y)**2"
   ]
  },
  {
   "cell_type": "code",
   "execution_count": 556,
   "metadata": {
    "colab": {
     "base_uri": "https://localhost:8080/",
     "height": 34
    },
    "colab_type": "code",
    "id": "gq1FjGJQU1JM",
    "outputId": "a6ac7944-3c0b-4af3-a664-399bd38c8bf7"
   },
   "outputs": [
    {
     "data": {
      "text/plain": [
       "43794.62400000002"
      ]
     },
     "execution_count": 556,
     "metadata": {
      "tags": []
     },
     "output_type": "execute_result"
    }
   ],
   "source": [
    "#Sample方向に足す（Σ）\n",
    "((h - y)**2).sum()"
   ]
  },
  {
   "cell_type": "code",
   "execution_count": 557,
   "metadata": {
    "colab": {
     "base_uri": "https://localhost:8080/",
     "height": 34
    },
    "colab_type": "code",
    "id": "I9R81HW8VOGV",
    "outputId": "3bdd8b85-7ef5-4146-d618-e63a483583dc"
   },
   "outputs": [
    {
     "data": {
      "text/plain": [
       "4379.462400000002"
      ]
     },
     "execution_count": 557,
     "metadata": {
      "tags": []
     },
     "output_type": "execute_result"
    }
   ],
   "source": [
    "#Cost function\n",
    "J = ((h - y)**2).sum()/(2*len(X))\n",
    "J"
   ]
  },
  {
   "cell_type": "code",
   "execution_count": 558,
   "metadata": {
    "colab": {
     "base_uri": "https://localhost:8080/",
     "height": 102
    },
    "colab_type": "code",
    "id": "jgg9Ffu6h70M",
    "outputId": "0d1add4d-57d0-452b-b616-785410c72391"
   },
   "outputs": [
    {
     "data": {
      "text/plain": [
       "array([[ -28.16],\n",
       "       [ -56.4 ],\n",
       "       [ -84.64],\n",
       "       [-112.88],\n",
       "       [-141.12]])"
      ]
     },
     "execution_count": 558,
     "metadata": {
      "tags": []
     },
     "output_type": "execute_result"
    }
   ],
   "source": [
    "#thetaを順を追って更新していく\n",
    "\n",
    "#error\n",
    "(h - y) "
   ]
  },
  {
   "cell_type": "code",
   "execution_count": 559,
   "metadata": {
    "colab": {
     "base_uri": "https://localhost:8080/",
     "height": 102
    },
    "colab_type": "code",
    "id": "JX07FhYenXfZ",
    "outputId": "6ea13b99-2615-44fb-ad91-9e09882f1b76"
   },
   "outputs": [
    {
     "data": {
      "text/plain": [
       "array([[  -28.16,   -28.16,   -56.32],\n",
       "       [  -56.4 ,  -169.2 ,  -225.6 ],\n",
       "       [  -84.64,  -423.2 ,  -507.84],\n",
       "       [ -112.88,  -790.16,  -903.04],\n",
       "       [ -141.12, -1270.08, -1411.2 ]])"
      ]
     },
     "execution_count": 559,
     "metadata": {
      "tags": []
     },
     "output_type": "execute_result"
    }
   ],
   "source": [
    "(h- y) * X"
   ]
  },
  {
   "cell_type": "code",
   "execution_count": 560,
   "metadata": {
    "colab": {
     "base_uri": "https://localhost:8080/",
     "height": 34
    },
    "colab_type": "code",
    "id": "Vh2qfOZom5fS",
    "outputId": "64f1eaf5-f5ea-4d80-d651-5c2e17561eb4"
   },
   "outputs": [
    {
     "data": {
      "text/plain": [
       "array([ -84.64, -536.16, -620.8 ])"
      ]
     },
     "execution_count": 560,
     "metadata": {
      "tags": []
     },
     "output_type": "execute_result"
    }
   ],
   "source": [
    "#sample方向に足して（Σ）、サンプル数で割る\n",
    "grad = ((h - y)* X).sum(axis=0)/len(X)\n",
    "grad"
   ]
  },
  {
   "cell_type": "code",
   "execution_count": 561,
   "metadata": {
    "colab": {
     "base_uri": "https://localhost:8080/",
     "height": 85
    },
    "colab_type": "code",
    "id": "skDQGtjMnwjp",
    "outputId": "22d461f2-dcb9-47c7-baf8-508499048e53"
   },
   "outputs": [
    {
     "data": {
      "text/plain": [
       "array([[ 0.   ,  0.   ,  0.   ],\n",
       "       [ 0.3  ,  1.1  ,  1.4  ],\n",
       "       [-0.82 , -6.9  , -7.72 ],\n",
       "       [ 7.644, 46.716, 54.36 ]])"
      ]
     },
     "execution_count": 561,
     "metadata": {
      "tags": []
     },
     "output_type": "execute_result"
    }
   ],
   "source": [
    "#thetaを更新\n",
    "alpha = 0.1\n",
    "theta = np.append(theta,  np.array([theta[-1,:] - alpha * grad]), axis=0)\n",
    "theta"
   ]
  },
  {
   "cell_type": "code",
   "execution_count": 0,
   "metadata": {
    "colab": {},
    "colab_type": "code",
    "id": "KRY7JQ8Xd5iz"
   },
   "outputs": [],
   "source": []
  },
  {
   "cell_type": "markdown",
   "metadata": {
    "colab_type": "text",
    "id": "yNT1Z2hrARVl"
   },
   "source": [
    "## 【問題2】学習曲線のプロット\n",
    "まず、学習曲線を表示する関数を作成してください。\n",
    "\n",
    "線形回帰クラスの雛形ではself.loss, self.val_lossに損失を記録しておくようになっているため、入力にはこれを利用してください。\n",
    "\n"
   ]
  },
  {
   "cell_type": "code",
   "execution_count": 0,
   "metadata": {
    "colab": {},
    "colab_type": "code",
    "id": "pz70HNVjd6Ak"
   },
   "outputs": [],
   "source": [
    "a = -10\n",
    "b = 10\n",
    "X = (b - a) * np.random.rand(2000).reshape(1,-1)  + a\n",
    "X = X.reshape(-1, 1)"
   ]
  },
  {
   "cell_type": "code",
   "execution_count": 0,
   "metadata": {
    "colab": {},
    "colab_type": "code",
    "id": "-Pcal6WGeJ_U"
   },
   "outputs": [],
   "source": [
    "y = 2*X -2"
   ]
  },
  {
   "cell_type": "code",
   "execution_count": 0,
   "metadata": {
    "colab": {},
    "colab_type": "code",
    "id": "fj8RyJ6fe5H4"
   },
   "outputs": [],
   "source": [
    "X_test =(b - a) * np.random.rand(100).reshape(1,-1)  + a\n",
    "X_test = X_test.reshape(-1, 1)\n",
    "y_test = 2*X_test-2"
   ]
  },
  {
   "cell_type": "code",
   "execution_count": 580,
   "metadata": {
    "colab": {
     "base_uri": "https://localhost:8080/",
     "height": 269
    },
    "colab_type": "code",
    "id": "cTJbQiDxeT3H",
    "outputId": "0a9dc618-7c71-49de-e92d-1ba9f2df2c21"
   },
   "outputs": [
    {
     "data": {
      "image/png": "[encoded data removed]",
      "text/plain": [
       "<Figure size 432x288 with 1 Axes>"
      ]
     },
     "metadata": {
      "tags": []
     },
     "output_type": "display_data"
    }
   ],
   "source": [
    "fig, ax = plt.subplots()\n",
    "ax = plt.scatter(X, y);"
   ]
  },
  {
   "cell_type": "code",
   "execution_count": 0,
   "metadata": {
    "colab": {},
    "colab_type": "code",
    "id": "slrlHwaXfBdO"
   },
   "outputs": [],
   "source": [
    "reg = ScratchLinearRegression(num_iter=500, lr=0.01, bias=0, verbose=True)"
   ]
  },
  {
   "cell_type": "code",
   "execution_count": 595,
   "metadata": {
    "colab": {
     "base_uri": "https://localhost:8080/",
     "height": 9945
    },
    "colab_type": "code",
    "id": "_KEQGgutfH_c",
    "outputId": "936a4e6d-b9bd-4e24-8724-3e32afc6d68f"
   },
   "outputs": [
    {
     "name": "stdout",
     "output_type": "stream",
     "text": [
      "[[ 0.61156278 -0.16793455]]\n",
      "[[1.36673386 0.58723654]]\n",
      "[[1.86111136 1.08161403]]\n",
      "[[2.18475869 1.40526136]]\n",
      "[[2.39663644 1.61713912]]\n",
      "[[2.53534355 1.75584622]]\n",
      "[[2.62614902 1.8466517 ]]\n",
      "[[2.6855954  1.90609807]]\n",
      "[[2.72451234 1.94501502]]\n",
      "[[2.74998956 1.97049224]]\n",
      "[[2.76666839 1.98717106]]\n",
      "[[2.77758728 1.99808995]]\n",
      "[[2.78473541 2.00523808]]\n",
      "[[2.78941497 2.00991764]]\n",
      "[[2.79247848 2.01298115]]\n",
      "[[2.79448402 2.01498669]]\n",
      "[[2.79579696 2.01629963]]\n",
      "[[2.79665649 2.01715916]]\n",
      "[[2.79721918 2.01772185]]\n",
      "[[2.79758755 2.01809022]]\n",
      "[[2.79782871 2.01833138]]\n",
      "[[2.79798658 2.01848926]]\n",
      "[[2.79808994 2.01859261]]\n",
      "[[2.7981576  2.01866027]]\n",
      "[[2.79820189 2.01870456]]\n",
      "[[2.79823089 2.01873356]]\n",
      "[[2.79824987 2.01875255]]\n",
      "[[2.7982623  2.01876497]]\n",
      "[[2.79827044 2.01877311]]\n",
      "[[2.79827576 2.01877844]]\n",
      "[[2.79827925 2.01878192]]\n",
      "[[2.79828153 2.01878421]]\n",
      "[[2.79828303 2.0187857 ]]\n",
      "[[2.79828401 2.01878668]]\n",
      "[[2.79828465 2.01878732]]\n",
      "[[2.79828507 2.01878774]]\n",
      "[[2.79828534 2.01878801]]\n",
      "[[2.79828552 2.01878819]]\n",
      "[[2.79828564 2.01878831]]\n",
      "[[2.79828571 2.01878839]]\n",
      "[[2.79828576 2.01878844]]\n",
      "[[2.7982858  2.01878847]]\n",
      "[[2.79828582 2.01878849]]\n",
      "[[2.79828583 2.01878851]]\n",
      "[[2.79828584 2.01878851]]\n",
      "[[2.79828585 2.01878852]]\n",
      "[[2.79828585 2.01878852]]\n",
      "[[2.79828586 2.01878853]]\n",
      "[[2.79828586 2.01878853]]\n",
      "[[2.79828586 2.01878853]]\n",
      "[[2.79828586 2.01878853]]\n",
      "[[2.79828586 2.01878853]]\n",
      "[[2.79828586 2.01878853]]\n",
      "[[2.79828586 2.01878853]]\n",
      "[[2.79828586 2.01878853]]\n",
      "[[2.79828586 2.01878853]]\n",
      "[[2.79828586 2.01878853]]\n",
      "[[2.79828586 2.01878853]]\n",
      "[[2.79828586 2.01878853]]\n",
      "[[2.79828586 2.01878853]]\n",
      "[[2.79828586 2.01878853]]\n",
      "[[2.79828586 2.01878853]]\n",
      "[[2.79828586 2.01878853]]\n",
      "[[2.79828586 2.01878853]]\n",
      "[[2.79828586 2.01878853]]\n",
      "[[2.79828586 2.01878853]]\n",
      "[[2.79828586 2.01878853]]\n",
      "[[2.79828586 2.01878853]]\n",
      "[[2.79828586 2.01878853]]\n",
      "[[2.79828586 2.01878853]]\n",
      "[[2.79828586 2.01878853]]\n",
      "[[2.79828586 2.01878853]]\n",
      "[[2.79828586 2.01878853]]\n",
      "[[2.79828586 2.01878853]]\n",
      "[[2.79828586 2.01878853]]\n",
      "[[2.79828586 2.01878853]]\n",
      "[[2.79828586 2.01878853]]\n",
      "[[2.79828586 2.01878853]]\n",
      "[[2.79828586 2.01878853]]\n",
      "[[2.79828586 2.01878853]]\n",
      "[[2.79828586 2.01878853]]\n",
      "[[2.79828586 2.01878853]]\n",
      "[[2.79828586 2.01878853]]\n",
      "[[2.79828586 2.01878853]]\n",
      "[[2.79828586 2.01878853]]\n",
      "[[2.79828586 2.01878853]]\n",
      "[[2.79828586 2.01878853]]\n",
      "[[2.79828586 2.01878853]]\n",
      "[[2.79828586 2.01878853]]\n",
      "[[2.79828586 2.01878853]]\n",
      "[[2.79828586 2.01878853]]\n",
      "[[2.79828586 2.01878853]]\n",
      "[[2.79828586 2.01878853]]\n",
      "[[2.79828586 2.01878853]]\n",
      "[[2.79828586 2.01878853]]\n",
      "[[2.79828586 2.01878853]]\n",
      "[[2.79828586 2.01878853]]\n",
      "[[2.79828586 2.01878853]]\n",
      "[[2.79828586 2.01878853]]\n",
      "[[2.79828586 2.01878853]]\n",
      "[[2.79828586 2.01878853]]\n",
      "[[2.79828586 2.01878853]]\n",
      "[[2.79828586 2.01878853]]\n",
      "[[2.79828586 2.01878853]]\n",
      "[[2.79828586 2.01878853]]\n",
      "[[2.79828586 2.01878853]]\n",
      "[[2.79828586 2.01878853]]\n",
      "[[2.79828586 2.01878853]]\n",
      "[[2.79828586 2.01878853]]\n",
      "[[2.79828586 2.01878853]]\n",
      "[[2.79828586 2.01878853]]\n",
      "[[2.79828586 2.01878853]]\n",
      "[[2.79828586 2.01878853]]\n",
      "[[2.79828586 2.01878853]]\n",
      "[[2.79828586 2.01878853]]\n",
      "[[2.79828586 2.01878853]]\n",
      "[[2.79828586 2.01878853]]\n",
      "[[2.79828586 2.01878853]]\n",
      "[[2.79828586 2.01878853]]\n",
      "[[2.79828586 2.01878853]]\n",
      "[[2.79828586 2.01878853]]\n",
      "[[2.79828586 2.01878853]]\n",
      "[[2.79828586 2.01878853]]\n",
      "[[2.79828586 2.01878853]]\n",
      "[[2.79828586 2.01878853]]\n",
      "[[2.79828586 2.01878853]]\n",
      "[[2.79828586 2.01878853]]\n",
      "[[2.79828586 2.01878853]]\n",
      "[[2.79828586 2.01878853]]\n",
      "[[2.79828586 2.01878853]]\n",
      "[[2.79828586 2.01878853]]\n",
      "[[2.79828586 2.01878853]]\n",
      "[[2.79828586 2.01878853]]\n",
      "[[2.79828586 2.01878853]]\n",
      "[[2.79828586 2.01878853]]\n",
      "[[2.79828586 2.01878853]]\n",
      "[[2.79828586 2.01878853]]\n",
      "[[2.79828586 2.01878853]]\n",
      "[[2.79828586 2.01878853]]\n",
      "[[2.79828586 2.01878853]]\n",
      "[[2.79828586 2.01878853]]\n",
      "[[2.79828586 2.01878853]]\n",
      "[[2.79828586 2.01878853]]\n",
      "[[2.79828586 2.01878853]]\n",
      "[[2.79828586 2.01878853]]\n",
      "[[2.79828586 2.01878853]]\n",
      "[[2.79828586 2.01878853]]\n",
      "[[2.79828586 2.01878853]]\n",
      "[[2.79828586 2.01878853]]\n",
      "[[2.79828586 2.01878853]]\n",
      "[[2.79828586 2.01878853]]\n",
      "[[2.79828586 2.01878853]]\n",
      "[[2.79828586 2.01878853]]\n",
      "[[2.79828586 2.01878853]]\n",
      "[[2.79828586 2.01878853]]\n",
      "[[2.79828586 2.01878853]]\n",
      "[[2.79828586 2.01878853]]\n",
      "[[2.79828586 2.01878853]]\n",
      "[[2.79828586 2.01878853]]\n",
      "[[2.79828586 2.01878853]]\n",
      "[[2.79828586 2.01878853]]\n",
      "[[2.79828586 2.01878853]]\n",
      "[[2.79828586 2.01878853]]\n",
      "[[2.79828586 2.01878853]]\n",
      "[[2.79828586 2.01878853]]\n",
      "[[2.79828586 2.01878853]]\n",
      "[[2.79828586 2.01878853]]\n",
      "[[2.79828586 2.01878853]]\n",
      "[[2.79828586 2.01878853]]\n",
      "[[2.79828586 2.01878853]]\n",
      "[[2.79828586 2.01878853]]\n",
      "[[2.79828586 2.01878853]]\n",
      "[[2.79828586 2.01878853]]\n",
      "[[2.79828586 2.01878853]]\n",
      "[[2.79828586 2.01878853]]\n",
      "[[2.79828586 2.01878853]]\n",
      "[[2.79828586 2.01878853]]\n",
      "[[2.79828586 2.01878853]]\n",
      "[[2.79828586 2.01878853]]\n",
      "[[2.79828586 2.01878853]]\n",
      "[[2.79828586 2.01878853]]\n",
      "[[2.79828586 2.01878853]]\n",
      "[[2.79828586 2.01878853]]\n",
      "[[2.79828586 2.01878853]]\n",
      "[[2.79828586 2.01878853]]\n",
      "[[2.79828586 2.01878853]]\n",
      "[[2.79828586 2.01878853]]\n",
      "[[2.79828586 2.01878853]]\n",
      "[[2.79828586 2.01878853]]\n",
      "[[2.79828586 2.01878853]]\n",
      "[[2.79828586 2.01878853]]\n",
      "[[2.79828586 2.01878853]]\n",
      "[[2.79828586 2.01878853]]\n",
      "[[2.79828586 2.01878853]]\n",
      "[[2.79828586 2.01878853]]\n",
      "[[2.79828586 2.01878853]]\n",
      "[[2.79828586 2.01878853]]\n",
      "[[2.79828586 2.01878853]]\n",
      "[[2.79828586 2.01878853]]\n",
      "[[2.79828586 2.01878853]]\n",
      "[[2.79828586 2.01878853]]\n",
      "[[2.79828586 2.01878853]]\n",
      "[[2.79828586 2.01878853]]\n",
      "[[2.79828586 2.01878853]]\n",
      "[[2.79828586 2.01878853]]\n",
      "[[2.79828586 2.01878853]]\n",
      "[[2.79828586 2.01878853]]\n",
      "[[2.79828586 2.01878853]]\n",
      "[[2.79828586 2.01878853]]\n",
      "[[2.79828586 2.01878853]]\n",
      "[[2.79828586 2.01878853]]\n",
      "[[2.79828586 2.01878853]]\n",
      "[[2.79828586 2.01878853]]\n",
      "[[2.79828586 2.01878853]]\n",
      "[[2.79828586 2.01878853]]\n",
      "[[2.79828586 2.01878853]]\n",
      "[[2.79828586 2.01878853]]\n",
      "[[2.79828586 2.01878853]]\n",
      "[[2.79828586 2.01878853]]\n",
      "[[2.79828586 2.01878853]]\n",
      "[[2.79828586 2.01878853]]\n",
      "[[2.79828586 2.01878853]]\n",
      "[[2.79828586 2.01878853]]\n",
      "[[2.79828586 2.01878853]]\n",
      "[[2.79828586 2.01878853]]\n",
      "[[2.79828586 2.01878853]]\n",
      "[[2.79828586 2.01878853]]\n",
      "[[2.79828586 2.01878853]]\n",
      "[[2.79828586 2.01878853]]\n",
      "[[2.79828586 2.01878853]]\n",
      "[[2.79828586 2.01878853]]\n",
      "[[2.79828586 2.01878853]]\n",
      "[[2.79828586 2.01878853]]\n",
      "[[2.79828586 2.01878853]]\n",
      "[[2.79828586 2.01878853]]\n",
      "[[2.79828586 2.01878853]]\n",
      "[[2.79828586 2.01878853]]\n",
      "[[2.79828586 2.01878853]]\n",
      "[[2.79828586 2.01878853]]\n",
      "[[2.79828586 2.01878853]]\n",
      "[[2.79828586 2.01878853]]\n",
      "[[2.79828586 2.01878853]]\n",
      "[[2.79828586 2.01878853]]\n",
      "[[2.79828586 2.01878853]]\n",
      "[[2.79828586 2.01878853]]\n",
      "[[2.79828586 2.01878853]]\n",
      "[[2.79828586 2.01878853]]\n",
      "[[2.79828586 2.01878853]]\n",
      "[[2.79828586 2.01878853]]\n",
      "[[2.79828586 2.01878853]]\n",
      "[[2.79828586 2.01878853]]\n",
      "[[2.79828586 2.01878853]]\n",
      "[[2.79828586 2.01878853]]\n",
      "[[2.79828586 2.01878853]]\n",
      "[[2.79828586 2.01878853]]\n",
      "[[2.79828586 2.01878853]]\n",
      "[[2.79828586 2.01878853]]\n",
      "[[2.79828586 2.01878853]]\n",
      "[[2.79828586 2.01878853]]\n",
      "[[2.79828586 2.01878853]]\n",
      "[[2.79828586 2.01878853]]\n",
      "[[2.79828586 2.01878853]]\n",
      "[[2.79828586 2.01878853]]\n",
      "[[2.79828586 2.01878853]]\n",
      "[[2.79828586 2.01878853]]\n",
      "[[2.79828586 2.01878853]]\n",
      "[[2.79828586 2.01878853]]\n",
      "[[2.79828586 2.01878853]]\n",
      "[[2.79828586 2.01878853]]\n",
      "[[2.79828586 2.01878853]]\n",
      "[[2.79828586 2.01878853]]\n",
      "[[2.79828586 2.01878853]]\n",
      "[[2.79828586 2.01878853]]\n",
      "[[2.79828586 2.01878853]]\n",
      "[[2.79828586 2.01878853]]\n",
      "[[2.79828586 2.01878853]]\n",
      "[[2.79828586 2.01878853]]\n",
      "[[2.79828586 2.01878853]]\n",
      "[[2.79828586 2.01878853]]\n",
      "[[2.79828586 2.01878853]]\n",
      "[[2.79828586 2.01878853]]\n",
      "[[2.79828586 2.01878853]]\n",
      "[[2.79828586 2.01878853]]\n",
      "[[2.79828586 2.01878853]]\n",
      "[[2.79828586 2.01878853]]\n",
      "[[2.79828586 2.01878853]]\n",
      "[[2.79828586 2.01878853]]\n",
      "[[2.79828586 2.01878853]]\n",
      "[[2.79828586 2.01878853]]\n",
      "[[2.79828586 2.01878853]]\n",
      "[[2.79828586 2.01878853]]\n",
      "[[2.79828586 2.01878853]]\n",
      "[[2.79828586 2.01878853]]\n",
      "[[2.79828586 2.01878853]]\n",
      "[[2.79828586 2.01878853]]\n",
      "[[2.79828586 2.01878853]]\n",
      "[[2.79828586 2.01878853]]\n",
      "[[2.79828586 2.01878853]]\n",
      "[[2.79828586 2.01878853]]\n",
      "[[2.79828586 2.01878853]]\n",
      "[[2.79828586 2.01878853]]\n",
      "[[2.79828586 2.01878853]]\n",
      "[[2.79828586 2.01878853]]\n",
      "[[2.79828586 2.01878853]]\n",
      "[[2.79828586 2.01878853]]\n",
      "[[2.79828586 2.01878853]]\n",
      "[[2.79828586 2.01878853]]\n",
      "[[2.79828586 2.01878853]]\n",
      "[[2.79828586 2.01878853]]\n",
      "[[2.79828586 2.01878853]]\n",
      "[[2.79828586 2.01878853]]\n",
      "[[2.79828586 2.01878853]]\n",
      "[[2.79828586 2.01878853]]\n",
      "[[2.79828586 2.01878853]]\n",
      "[[2.79828586 2.01878853]]\n",
      "[[2.79828586 2.01878853]]\n",
      "[[2.79828586 2.01878853]]\n",
      "[[2.79828586 2.01878853]]\n",
      "[[2.79828586 2.01878853]]\n",
      "[[2.79828586 2.01878853]]\n",
      "[[2.79828586 2.01878853]]\n",
      "[[2.79828586 2.01878853]]\n",
      "[[2.79828586 2.01878853]]\n",
      "[[2.79828586 2.01878853]]\n",
      "[[2.79828586 2.01878853]]\n",
      "[[2.79828586 2.01878853]]\n",
      "[[2.79828586 2.01878853]]\n",
      "[[2.79828586 2.01878853]]\n",
      "[[2.79828586 2.01878853]]\n",
      "[[2.79828586 2.01878853]]\n",
      "[[2.79828586 2.01878853]]\n",
      "[[2.79828586 2.01878853]]\n",
      "[[2.79828586 2.01878853]]\n",
      "[[2.79828586 2.01878853]]\n",
      "[[2.79828586 2.01878853]]\n",
      "[[2.79828586 2.01878853]]\n",
      "[[2.79828586 2.01878853]]\n",
      "[[2.79828586 2.01878853]]\n",
      "[[2.79828586 2.01878853]]\n",
      "[[2.79828586 2.01878853]]\n",
      "[[2.79828586 2.01878853]]\n",
      "[[2.79828586 2.01878853]]\n",
      "[[2.79828586 2.01878853]]\n",
      "[[2.79828586 2.01878853]]\n",
      "[[2.79828586 2.01878853]]\n",
      "[[2.79828586 2.01878853]]\n",
      "[[2.79828586 2.01878853]]\n",
      "[[2.79828586 2.01878853]]\n",
      "[[2.79828586 2.01878853]]\n",
      "[[2.79828586 2.01878853]]\n",
      "[[2.79828586 2.01878853]]\n",
      "[[2.79828586 2.01878853]]\n",
      "[[2.79828586 2.01878853]]\n",
      "[[2.79828586 2.01878853]]\n",
      "[[2.79828586 2.01878853]]\n",
      "[[2.79828586 2.01878853]]\n",
      "[[2.79828586 2.01878853]]\n",
      "[[2.79828586 2.01878853]]\n",
      "[[2.79828586 2.01878853]]\n",
      "[[2.79828586 2.01878853]]\n",
      "[[2.79828586 2.01878853]]\n",
      "[[2.79828586 2.01878853]]\n",
      "[[2.79828586 2.01878853]]\n",
      "[[2.79828586 2.01878853]]\n",
      "[[2.79828586 2.01878853]]\n",
      "[[2.79828586 2.01878853]]\n",
      "[[2.79828586 2.01878853]]\n",
      "[[2.79828586 2.01878853]]\n",
      "[[2.79828586 2.01878853]]\n",
      "[[2.79828586 2.01878853]]\n",
      "[[2.79828586 2.01878853]]\n",
      "[[2.79828586 2.01878853]]\n",
      "[[2.79828586 2.01878853]]\n",
      "[[2.79828586 2.01878853]]\n",
      "[[2.79828586 2.01878853]]\n",
      "[[2.79828586 2.01878853]]\n",
      "[[2.79828586 2.01878853]]\n",
      "[[2.79828586 2.01878853]]\n",
      "[[2.79828586 2.01878853]]\n",
      "[[2.79828586 2.01878853]]\n",
      "[[2.79828586 2.01878853]]\n",
      "[[2.79828586 2.01878853]]\n",
      "[[2.79828586 2.01878853]]\n",
      "[[2.79828586 2.01878853]]\n",
      "[[2.79828586 2.01878853]]\n",
      "[[2.79828586 2.01878853]]\n",
      "[[2.79828586 2.01878853]]\n",
      "[[2.79828586 2.01878853]]\n",
      "[[2.79828586 2.01878853]]\n",
      "[[2.79828586 2.01878853]]\n",
      "[[2.79828586 2.01878853]]\n",
      "[[2.79828586 2.01878853]]\n",
      "[[2.79828586 2.01878853]]\n",
      "[[2.79828586 2.01878853]]\n",
      "[[2.79828586 2.01878853]]\n",
      "[[2.79828586 2.01878853]]\n",
      "[[2.79828586 2.01878853]]\n",
      "[[2.79828586 2.01878853]]\n",
      "[[2.79828586 2.01878853]]\n",
      "[[2.79828586 2.01878853]]\n",
      "[[2.79828586 2.01878853]]\n",
      "[[2.79828586 2.01878853]]\n",
      "[[2.79828586 2.01878853]]\n",
      "[[2.79828586 2.01878853]]\n",
      "[[2.79828586 2.01878853]]\n",
      "[[2.79828586 2.01878853]]\n",
      "[[2.79828586 2.01878853]]\n",
      "[[2.79828586 2.01878853]]\n",
      "[[2.79828586 2.01878853]]\n",
      "[[2.79828586 2.01878853]]\n",
      "[[2.79828586 2.01878853]]\n",
      "[[2.79828586 2.01878853]]\n",
      "[[2.79828586 2.01878853]]\n",
      "[[2.79828586 2.01878853]]\n",
      "[[2.79828586 2.01878853]]\n",
      "[[2.79828586 2.01878853]]\n",
      "[[2.79828586 2.01878853]]\n",
      "[[2.79828586 2.01878853]]\n",
      "[[2.79828586 2.01878853]]\n",
      "[[2.79828586 2.01878853]]\n",
      "[[2.79828586 2.01878853]]\n",
      "[[2.79828586 2.01878853]]\n",
      "[[2.79828586 2.01878853]]\n",
      "[[2.79828586 2.01878853]]\n",
      "[[2.79828586 2.01878853]]\n",
      "[[2.79828586 2.01878853]]\n",
      "[[2.79828586 2.01878853]]\n",
      "[[2.79828586 2.01878853]]\n",
      "[[2.79828586 2.01878853]]\n",
      "[[2.79828586 2.01878853]]\n",
      "[[2.79828586 2.01878853]]\n",
      "[[2.79828586 2.01878853]]\n",
      "[[2.79828586 2.01878853]]\n",
      "[[2.79828586 2.01878853]]\n",
      "[[2.79828586 2.01878853]]\n",
      "[[2.79828586 2.01878853]]\n",
      "[[2.79828586 2.01878853]]\n",
      "[[2.79828586 2.01878853]]\n",
      "[[2.79828586 2.01878853]]\n",
      "[[2.79828586 2.01878853]]\n",
      "[[2.79828586 2.01878853]]\n",
      "[[2.79828586 2.01878853]]\n",
      "[[2.79828586 2.01878853]]\n",
      "[[2.79828586 2.01878853]]\n",
      "[[2.79828586 2.01878853]]\n",
      "[[2.79828586 2.01878853]]\n",
      "[[2.79828586 2.01878853]]\n",
      "[[2.79828586 2.01878853]]\n",
      "[[2.79828586 2.01878853]]\n",
      "[[2.79828586 2.01878853]]\n",
      "[[2.79828586 2.01878853]]\n",
      "[[2.79828586 2.01878853]]\n",
      "[[2.79828586 2.01878853]]\n",
      "[[2.79828586 2.01878853]]\n",
      "[[2.79828586 2.01878853]]\n",
      "[[2.79828586 2.01878853]]\n",
      "[[2.79828586 2.01878853]]\n",
      "[[2.79828586 2.01878853]]\n",
      "[[2.79828586 2.01878853]]\n",
      "[[2.79828586 2.01878853]]\n",
      "[[2.79828586 2.01878853]]\n",
      "[[2.79828586 2.01878853]]\n",
      "[[2.79828586 2.01878853]]\n",
      "[[2.79828586 2.01878853]]\n",
      "[[2.79828586 2.01878853]]\n",
      "[[2.79828586 2.01878853]]\n",
      "[[2.79828586 2.01878853]]\n",
      "[[2.79828586 2.01878853]]\n",
      "[[2.79828586 2.01878853]]\n",
      "[[2.79828586 2.01878853]]\n",
      "[[2.79828586 2.01878853]]\n",
      "[[2.79828586 2.01878853]]\n",
      "[[2.79828586 2.01878853]]\n",
      "[[2.79828586 2.01878853]]\n",
      "[[2.79828586 2.01878853]]\n",
      "[[2.79828586 2.01878853]]\n",
      "[[2.79828586 2.01878853]]\n",
      "[[2.79828586 2.01878853]]\n",
      "[[2.79828586 2.01878853]]\n",
      "[[2.79828586 2.01878853]]\n",
      "[[2.79828586 2.01878853]]\n",
      "[[2.79828586 2.01878853]]\n",
      "[[2.79828586 2.01878853]]\n",
      "[[2.79828586 2.01878853]]\n",
      "[[2.79828586 2.01878853]]\n",
      "[[2.79828586 2.01878853]]\n",
      "[[2.79828586 2.01878853]]\n",
      "[[2.79828586 2.01878853]]\n",
      "[[2.79828586 2.01878853]]\n",
      "[[2.79828586 2.01878853]]\n",
      "[[2.79828586 2.01878853]]\n",
      "[[2.79828586 2.01878853]]\n",
      "[[2.79828586 2.01878853]]\n",
      "[[2.79828586 2.01878853]]\n",
      "[[2.79828586 2.01878853]]\n",
      "[[2.79828586 2.01878853]]\n",
      "[[2.79828586 2.01878853]]\n",
      "[[2.79828586 2.01878853]]\n",
      "[[2.79828586 2.01878853]]\n",
      "[[2.79828586 2.01878853]]\n",
      "[84.56140682 37.38025889 17.15960581  8.49354258  4.77948589  3.18773462\n",
      "  2.50555007  2.21318294  2.08788174  2.0341808   2.01116592  2.00130233\n",
      "  1.99707504  1.99526333  1.99448688  1.99415411  1.99401149  1.99395037\n",
      "  1.99392418  1.99391295  1.99390814  1.99390608  1.99390519  1.99390481\n",
      "  1.99390465  1.99390458  1.99390455  1.99390454  1.99390453  1.99390453\n",
      "  1.99390453  1.99390453  1.99390453  1.99390453  1.99390453  1.99390453\n",
      "  1.99390453  1.99390453  1.99390453  1.99390453  1.99390453  1.99390453\n",
      "  1.99390453  1.99390453  1.99390453  1.99390453  1.99390453  1.99390453\n",
      "  1.99390453  1.99390453  1.99390453  1.99390453  1.99390453  1.99390453\n",
      "  1.99390453  1.99390453  1.99390453  1.99390453  1.99390453  1.99390453\n",
      "  1.99390453  1.99390453  1.99390453  1.99390453  1.99390453  1.99390453\n",
      "  1.99390453  1.99390453  1.99390453  1.99390453  1.99390453  1.99390453\n",
      "  1.99390453  1.99390453  1.99390453  1.99390453  1.99390453  1.99390453\n",
      "  1.99390453  1.99390453  1.99390453  1.99390453  1.99390453  1.99390453\n",
      "  1.99390453  1.99390453  1.99390453  1.99390453  1.99390453  1.99390453\n",
      "  1.99390453  1.99390453  1.99390453  1.99390453  1.99390453  1.99390453\n",
      "  1.99390453  1.99390453  1.99390453  1.99390453  1.99390453  1.99390453\n",
      "  1.99390453  1.99390453  1.99390453  1.99390453  1.99390453  1.99390453\n",
      "  1.99390453  1.99390453  1.99390453  1.99390453  1.99390453  1.99390453\n",
      "  1.99390453  1.99390453  1.99390453  1.99390453  1.99390453  1.99390453\n",
      "  1.99390453  1.99390453  1.99390453  1.99390453  1.99390453  1.99390453\n",
      "  1.99390453  1.99390453  1.99390453  1.99390453  1.99390453  1.99390453\n",
      "  1.99390453  1.99390453  1.99390453  1.99390453  1.99390453  1.99390453\n",
      "  1.99390453  1.99390453  1.99390453  1.99390453  1.99390453  1.99390453\n",
      "  1.99390453  1.99390453  1.99390453  1.99390453  1.99390453  1.99390453\n",
      "  1.99390453  1.99390453  1.99390453  1.99390453  1.99390453  1.99390453\n",
      "  1.99390453  1.99390453  1.99390453  1.99390453  1.99390453  1.99390453\n",
      "  1.99390453  1.99390453  1.99390453  1.99390453  1.99390453  1.99390453\n",
      "  1.99390453  1.99390453  1.99390453  1.99390453  1.99390453  1.99390453\n",
      "  1.99390453  1.99390453  1.99390453  1.99390453  1.99390453  1.99390453\n",
      "  1.99390453  1.99390453  1.99390453  1.99390453  1.99390453  1.99390453\n",
      "  1.99390453  1.99390453  1.99390453  1.99390453  1.99390453  1.99390453\n",
      "  1.99390453  1.99390453  1.99390453  1.99390453  1.99390453  1.99390453\n",
      "  1.99390453  1.99390453  1.99390453  1.99390453  1.99390453  1.99390453\n",
      "  1.99390453  1.99390453  1.99390453  1.99390453  1.99390453  1.99390453\n",
      "  1.99390453  1.99390453  1.99390453  1.99390453  1.99390453  1.99390453\n",
      "  1.99390453  1.99390453  1.99390453  1.99390453  1.99390453  1.99390453\n",
      "  1.99390453  1.99390453  1.99390453  1.99390453  1.99390453  1.99390453\n",
      "  1.99390453  1.99390453  1.99390453  1.99390453  1.99390453  1.99390453\n",
      "  1.99390453  1.99390453  1.99390453  1.99390453  1.99390453  1.99390453\n",
      "  1.99390453  1.99390453  1.99390453  1.99390453  1.99390453  1.99390453\n",
      "  1.99390453  1.99390453  1.99390453  1.99390453  1.99390453  1.99390453\n",
      "  1.99390453  1.99390453  1.99390453  1.99390453  1.99390453  1.99390453\n",
      "  1.99390453  1.99390453  1.99390453  1.99390453  1.99390453  1.99390453\n",
      "  1.99390453  1.99390453  1.99390453  1.99390453  1.99390453  1.99390453\n",
      "  1.99390453  1.99390453  1.99390453  1.99390453  1.99390453  1.99390453\n",
      "  1.99390453  1.99390453  1.99390453  1.99390453  1.99390453  1.99390453\n",
      "  1.99390453  1.99390453  1.99390453  1.99390453  1.99390453  1.99390453\n",
      "  1.99390453  1.99390453  1.99390453  1.99390453  1.99390453  1.99390453\n",
      "  1.99390453  1.99390453  1.99390453  1.99390453  1.99390453  1.99390453\n",
      "  1.99390453  1.99390453  1.99390453  1.99390453  1.99390453  1.99390453\n",
      "  1.99390453  1.99390453  1.99390453  1.99390453  1.99390453  1.99390453\n",
      "  1.99390453  1.99390453  1.99390453  1.99390453  1.99390453  1.99390453\n",
      "  1.99390453  1.99390453  1.99390453  1.99390453  1.99390453  1.99390453\n",
      "  1.99390453  1.99390453  1.99390453  1.99390453  1.99390453  1.99390453\n",
      "  1.99390453  1.99390453  1.99390453  1.99390453  1.99390453  1.99390453\n",
      "  1.99390453  1.99390453  1.99390453  1.99390453  1.99390453  1.99390453\n",
      "  1.99390453  1.99390453  1.99390453  1.99390453  1.99390453  1.99390453\n",
      "  1.99390453  1.99390453  1.99390453  1.99390453  1.99390453  1.99390453\n",
      "  1.99390453  1.99390453  1.99390453  1.99390453  1.99390453  1.99390453\n",
      "  1.99390453  1.99390453  1.99390453  1.99390453  1.99390453  1.99390453\n",
      "  1.99390453  1.99390453  1.99390453  1.99390453  1.99390453  1.99390453\n",
      "  1.99390453  1.99390453  1.99390453  1.99390453  1.99390453  1.99390453\n",
      "  1.99390453  1.99390453  1.99390453  1.99390453  1.99390453  1.99390453\n",
      "  1.99390453  1.99390453  1.99390453  1.99390453  1.99390453  1.99390453\n",
      "  1.99390453  1.99390453  1.99390453  1.99390453  1.99390453  1.99390453\n",
      "  1.99390453  1.99390453  1.99390453  1.99390453  1.99390453  1.99390453\n",
      "  1.99390453  1.99390453  1.99390453  1.99390453  1.99390453  1.99390453\n",
      "  1.99390453  1.99390453  1.99390453  1.99390453  1.99390453  1.99390453\n",
      "  1.99390453  1.99390453  1.99390453  1.99390453  1.99390453  1.99390453\n",
      "  1.99390453  1.99390453  1.99390453  1.99390453  1.99390453  1.99390453\n",
      "  1.99390453  1.99390453  1.99390453  1.99390453  1.99390453  1.99390453\n",
      "  1.99390453  1.99390453  1.99390453  1.99390453  1.99390453  1.99390453\n",
      "  1.99390453  1.99390453  1.99390453  1.99390453  1.99390453  1.99390453\n",
      "  1.99390453  1.99390453  1.99390453  1.99390453  1.99390453  1.99390453\n",
      "  1.99390453  1.99390453  1.99390453  1.99390453  1.99390453  1.99390453\n",
      "  1.99390453  1.99390453  1.99390453  1.99390453  1.99390453  1.99390453\n",
      "  1.99390453  1.99390453  1.99390453  1.99390453  1.99390453  1.99390453\n",
      "  1.99390453  1.99390453  1.99390453  1.99390453  1.99390453  1.99390453\n",
      "  1.99390453  1.99390453  1.99390453  1.99390453  1.99390453  1.99390453\n",
      "  1.99390453  1.99390453  1.99390453  1.99390453  1.99390453  1.99390453\n",
      "  1.99390453  1.99390453  1.99390453  1.99390453  1.99390453  1.99390453\n",
      "  1.99390453  1.99390453  1.99390453  1.99390453  1.99390453  1.99390453\n",
      "  1.99390453  1.99390453]\n"
     ]
    }
   ],
   "source": [
    "reg.fit(X, y)"
   ]
  },
  {
   "cell_type": "code",
   "execution_count": 0,
   "metadata": {
    "colab": {},
    "colab_type": "code",
    "id": "wfXMF8M4fqKZ"
   },
   "outputs": [],
   "source": [
    "pred_1 = reg.predict(X_test)"
   ]
  },
  {
   "cell_type": "code",
   "execution_count": 597,
   "metadata": {
    "colab": {
     "base_uri": "https://localhost:8080/",
     "height": 286
    },
    "colab_type": "code",
    "id": "5R-MY4OVfwUK",
    "outputId": "97f40dbf-77b0-4df4-eb52-325369985793"
   },
   "outputs": [
    {
     "data": {
      "text/plain": [
       "[<matplotlib.lines.Line2D at 0x7faa43b9ee80>]"
      ]
     },
     "execution_count": 597,
     "metadata": {
      "tags": []
     },
     "output_type": "execute_result"
    },
    {
     "data": {
      "image/png": "[encoded data removed]",
      "text/plain": [
       "<Figure size 432x288 with 1 Axes>"
      ]
     },
     "metadata": {
      "tags": []
     },
     "output_type": "display_data"
    }
   ],
   "source": [
    "import matplotlib.pyplot as plt\n",
    "\n",
    "plt.plot(y_test, pred_1, \"o\")\n",
    "plt.plot(y_test, y_test)"
   ]
  },
  {
   "cell_type": "markdown",
   "metadata": {
    "colab_type": "text",
    "id": "oBCxTGZrWFys"
   },
   "source": [
    "##【問題3】（アドバンス課題）バイアス項の除去\n",
    "バイアス項 を抜くと学習がどう変化するか検証してください。また、線形回帰モデルにおけるバイアス項の役割の考察・調査を行ってください。"
   ]
  },
  {
   "cell_type": "code",
   "execution_count": 0,
   "metadata": {
    "colab": {},
    "colab_type": "code",
    "id": "-bRpJ0NkA1iW"
   },
   "outputs": [],
   "source": []
  },
  {
   "cell_type": "markdown",
   "metadata": {
    "colab_type": "text",
    "id": "Yp1SaDCnWdrF"
   },
   "source": [
    "## 【問題4】（アドバンス課題）特徴量の多次元化\n",
    "特徴量の二乗や三乗を入力に利用すると学習結果がどう変化するか検証してください。"
   ]
  },
  {
   "cell_type": "code",
   "execution_count": 0,
   "metadata": {
    "colab": {},
    "colab_type": "code",
    "id": "i0R8VFAyn6mk"
   },
   "outputs": [],
   "source": []
  },
  {
   "cell_type": "markdown",
   "metadata": {
    "colab_type": "text",
    "id": "Uk2i7A9TWggD"
   },
   "source": [
    "## 【問題5】（アドバンス課題）更新式の導出\n",
    "最急降下法の更新式は以下でした。この式が導出される過程を説明してください。"
   ]
  },
  {
   "cell_type": "markdown",
   "metadata": {
    "colab_type": "text",
    "id": "pJR-xhSkiXX1"
   },
   "source": [
    "$$\n",
    "x = (x_0,x_1, \\cdots,x_j, \\cdots, x_m  )\n",
    "$$\n",
    "\n",
    "\n",
    "$$\n",
    "J(\\theta) = \\frac{1}{2m}\\sum_{i=1}^{m}(h_{\\theta}(x^{(i)}) - y^{(i)})^2\n",
    "$$\n",
    "\n",
    "$ J(\\theta)$を$x$の$j$列目の特徴量$x_j$に対応する係数$\\theta_j$に関して微分すると\n",
    "\n",
    "$$\n",
    "\\frac{\\partial J(\\theta)}{\\partial \\theta_j} = \\frac{1}{m}\\sum_{i=1}^{m}[(h_{\\theta}(x^{(i)}) - y^{(i)})\\cdot x_j^{(i)}]\n",
    "$$\n",
    "\n",
    "\n"
   ]
  },
  {
   "cell_type": "markdown",
   "metadata": {
    "colab_type": "text",
    "id": "wvS91k57Wjl9"
   },
   "source": [
    "## 【問題6】（アドバンス課題）局所最適解の問題\n",
    "最急降下法には一般的に局所最適解の問題があります。しかし、線形回帰では学習を続ければ必ず最適解を求めることができます。それはなぜか数式やグラフを用いて説明してください。"
   ]
  },
  {
   "cell_type": "markdown",
   "metadata": {
    "colab_type": "text",
    "id": "ISELU7gMWrOV"
   },
   "source": [
    "## 【問題7】スクラッチで学べることは何か\n",
    "最終発表時に以下の内容についてディスカッションを行います。自分なりの意見を用意しておいてください。\n",
    "\n",
    "ライブラリを使うのではなくスクラッチでアルゴリズムを実装したことで学べたことは何か"
   ]
  },
  {
   "cell_type": "code",
   "execution_count": 0,
   "metadata": {
    "colab": {},
    "colab_type": "code",
    "id": "2Zv2J69qWk-J"
   },
   "outputs": [],
   "source": []
  }
 ],
 "metadata": {
  "colab": {
   "collapsed_sections": [],
   "name": "sprint3-ml-scratch-linear-regression.ipynb",
   "provenance": [],
   "version": "0.3.2"
  },
  "kernelspec": {
   "display_name": "Python 3",
   "language": "python",
   "name": "python3"
  },
  "language_info": {
   "codemirror_mode": {
    "name": "ipython",
    "version": 3
   },
   "file_extension": ".py",
   "mimetype": "text/x-python",
   "name": "python",
   "nbconvert_exporter": "python",
   "pygments_lexer": "ipython3",
   "version": "3.6.8"
  }
 },
 "nbformat": 4,
 "nbformat_minor": 1
}
