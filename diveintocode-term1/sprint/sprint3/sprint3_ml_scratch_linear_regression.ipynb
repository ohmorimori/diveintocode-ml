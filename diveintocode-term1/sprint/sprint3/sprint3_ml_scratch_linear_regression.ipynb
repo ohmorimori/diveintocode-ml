{
 "cells": [
  {
   "cell_type": "markdown",
   "metadata": {
    "colab_type": "text",
    "id": "Hv51Zq2Y-RnE"
   },
   "source": [
    "# Sprint3課題 機械学習スクラッチ線形回帰\n",
    "\n"
   ]
  },
  {
   "cell_type": "markdown",
   "metadata": {
    "colab_type": "text",
    "id": "kVA8Ao38989Z"
   },
   "source": [
    "## 【問題1】線形回帰のクラスを作成する\n",
    "\n",
    "線形回帰のクラスを作成し、Sprint2で作成した回帰のパイプラインに組み込んでください。\n",
    "\n",
    "以下が雛形です。ここにメソッドを加えていってください。メソッドやパラメータなどはscikit-learnを参考にしてください。\n",
    "\n",
    "[sklearn.linear_model.LinearRegression — scikit-learn 0.20.0 documentation](https://scikit-learn.org/stable/modules/generated/sklearn.linear_model.LinearRegression.html)\n",
    "\n",
    "検証段階ではJupyter Notebook上で書いていき、最終的にはpyファイルにモジュールとしてまとめてください。"
   ]
  },
  {
   "cell_type": "markdown",
   "metadata": {
    "colab": {},
    "colab_type": "code",
    "id": "PyMd3ryhOlHI"
   },
   "source": [
    "### まずは計算のイメージを掴む"
   ]
  },
  {
   "cell_type": "code",
   "execution_count": 239,
   "metadata": {
    "colab": {
     "base_uri": "https://localhost:8080/",
     "height": 102
    },
    "colab_type": "code",
    "id": "20dIG93DSSPE",
    "outputId": "c59a91be-6f92-429a-bfa2-27a491dbb9b1"
   },
   "outputs": [
    {
     "data": {
      "text/plain": [
       "array([[ 1,  1,  2],\n",
       "       [ 1,  3,  4],\n",
       "       [ 1,  5,  6],\n",
       "       [ 1,  7,  8],\n",
       "       [ 1,  9, 10]])"
      ]
     },
     "execution_count": 239,
     "metadata": {},
     "output_type": "execute_result"
    }
   ],
   "source": [
    "#特徴量X\n",
    "X = np.array([\n",
    "    [1, 1, 2],\n",
    "    [1, 3, 4],\n",
    "    [1, 5, 6],\n",
    "    [1, 7, 8],\n",
    "    [1, 9, 10]\n",
    "])\n",
    "X"
   ]
  },
  {
   "cell_type": "code",
   "execution_count": 240,
   "metadata": {
    "colab": {
     "base_uri": "https://localhost:8080/",
     "height": 102
    },
    "colab_type": "code",
    "id": "nnL3LBH4UT2Y",
    "outputId": "5d5ebcb5-6335-4a6e-e70f-33e1c6ae8592"
   },
   "outputs": [
    {
     "data": {
      "text/plain": [
       "array([[5],\n",
       "       [4],\n",
       "       [3],\n",
       "       [2],\n",
       "       [1]])"
      ]
     },
     "execution_count": 240,
     "metadata": {},
     "output_type": "execute_result"
    }
   ],
   "source": [
    "#目的変数y\n",
    "y = np.array([5, 4, 3, 2, 1]).reshape(-1, 1)\n",
    "y"
   ]
  },
  {
   "cell_type": "code",
   "execution_count": 241,
   "metadata": {
    "colab": {
     "base_uri": "https://localhost:8080/",
     "height": 34
    },
    "colab_type": "code",
    "id": "XPZFIcQ6SSWS",
    "outputId": "b809dce7-6074-4506-d676-2b21f10ee460"
   },
   "outputs": [
    {
     "data": {
      "text/plain": [
       "array([[0., 0., 0.]])"
      ]
     },
     "execution_count": 241,
     "metadata": {},
     "output_type": "execute_result"
    }
   ],
   "source": [
    "#Xの係数theta\n",
    "theta = np.empty((0,3))\n",
    "theta = np.append(theta, np.array([[0,0,0]]), axis=0)\n",
    "theta"
   ]
  },
  {
   "cell_type": "code",
   "execution_count": 242,
   "metadata": {
    "colab": {
     "base_uri": "https://localhost:8080/",
     "height": 102
    },
    "colab_type": "code",
    "id": "Vn5iD05TSnB8",
    "outputId": "b0a30bb0-11b7-4d90-839e-4a85b0b304cd"
   },
   "outputs": [
    {
     "data": {
      "text/plain": [
       "array([[0.],\n",
       "       [0.],\n",
       "       [0.],\n",
       "       [0.],\n",
       "       [0.]])"
      ]
     },
     "execution_count": 242,
     "metadata": {},
     "output_type": "execute_result"
    }
   ],
   "source": [
    "#Hypothesis function\n",
    "#thetaとxから求めたyの予測値\n",
    "h = theta[-1,:].dot(X.T).reshape(-1, 1)\n",
    "h"
   ]
  },
  {
   "cell_type": "code",
   "execution_count": 243,
   "metadata": {
    "colab": {
     "base_uri": "https://localhost:8080/",
     "height": 102
    },
    "colab_type": "code",
    "id": "S7N2XBcoTMdF",
    "outputId": "45efd3b8-8703-4f64-e2b7-0dc9ebe0b1ce"
   },
   "outputs": [
    {
     "data": {
      "text/plain": [
       "array([[25.],\n",
       "       [16.],\n",
       "       [ 9.],\n",
       "       [ 4.],\n",
       "       [ 1.]])"
      ]
     },
     "execution_count": 243,
     "metadata": {},
     "output_type": "execute_result"
    }
   ],
   "source": [
    "#Cost functionを順を追って計算\n",
    "\n",
    "#誤差(error)の2乗を計算\n",
    "#残差（residual）は測定値 - 平均値\n",
    "(h - y)**2"
   ]
  },
  {
   "cell_type": "code",
   "execution_count": 244,
   "metadata": {
    "colab": {
     "base_uri": "https://localhost:8080/",
     "height": 34
    },
    "colab_type": "code",
    "id": "gq1FjGJQU1JM",
    "outputId": "a6ac7944-3c0b-4af3-a664-399bd38c8bf7"
   },
   "outputs": [
    {
     "data": {
      "text/plain": [
       "55.0"
      ]
     },
     "execution_count": 244,
     "metadata": {},
     "output_type": "execute_result"
    }
   ],
   "source": [
    "#Sample方向に足す（Σ）\n",
    "((h - y)**2).sum()"
   ]
  },
  {
   "cell_type": "code",
   "execution_count": 245,
   "metadata": {
    "colab": {
     "base_uri": "https://localhost:8080/",
     "height": 34
    },
    "colab_type": "code",
    "id": "I9R81HW8VOGV",
    "outputId": "3bdd8b85-7ef5-4146-d618-e63a483583dc"
   },
   "outputs": [
    {
     "data": {
      "text/plain": [
       "5.5"
      ]
     },
     "execution_count": 245,
     "metadata": {},
     "output_type": "execute_result"
    }
   ],
   "source": [
    "#Cost function\n",
    "J = ((h - y)**2).sum()/(2*len(X))\n",
    "J"
   ]
  },
  {
   "cell_type": "code",
   "execution_count": 246,
   "metadata": {
    "colab": {
     "base_uri": "https://localhost:8080/",
     "height": 102
    },
    "colab_type": "code",
    "id": "jgg9Ffu6h70M",
    "outputId": "0d1add4d-57d0-452b-b616-785410c72391"
   },
   "outputs": [
    {
     "data": {
      "text/plain": [
       "array([[-5.],\n",
       "       [-4.],\n",
       "       [-3.],\n",
       "       [-2.],\n",
       "       [-1.]])"
      ]
     },
     "execution_count": 246,
     "metadata": {},
     "output_type": "execute_result"
    }
   ],
   "source": [
    "#thetaを順を追って更新していく\n",
    "\n",
    "#error\n",
    "(h - y) "
   ]
  },
  {
   "cell_type": "code",
   "execution_count": 247,
   "metadata": {
    "colab": {
     "base_uri": "https://localhost:8080/",
     "height": 102
    },
    "colab_type": "code",
    "id": "JX07FhYenXfZ",
    "outputId": "6ea13b99-2615-44fb-ad91-9e09882f1b76"
   },
   "outputs": [
    {
     "data": {
      "text/plain": [
       "array([[ -5.,  -5., -10.],\n",
       "       [ -4., -12., -16.],\n",
       "       [ -3., -15., -18.],\n",
       "       [ -2., -14., -16.],\n",
       "       [ -1.,  -9., -10.]])"
      ]
     },
     "execution_count": 247,
     "metadata": {},
     "output_type": "execute_result"
    }
   ],
   "source": [
    "(h- y) * X"
   ]
  },
  {
   "cell_type": "code",
   "execution_count": 248,
   "metadata": {
    "colab": {
     "base_uri": "https://localhost:8080/",
     "height": 34
    },
    "colab_type": "code",
    "id": "Vh2qfOZom5fS",
    "outputId": "64f1eaf5-f5ea-4d80-d651-5c2e17561eb4"
   },
   "outputs": [
    {
     "data": {
      "text/plain": [
       "array([ -3., -11., -14.])"
      ]
     },
     "execution_count": 248,
     "metadata": {},
     "output_type": "execute_result"
    }
   ],
   "source": [
    "#sample方向に足して（Σ）、サンプル数で割る\n",
    "grad = ((h - y)* X).sum(axis=0)/len(X)\n",
    "grad"
   ]
  },
  {
   "cell_type": "code",
   "execution_count": 249,
   "metadata": {
    "colab": {
     "base_uri": "https://localhost:8080/",
     "height": 85
    },
    "colab_type": "code",
    "id": "skDQGtjMnwjp",
    "outputId": "22d461f2-dcb9-47c7-baf8-508499048e53"
   },
   "outputs": [
    {
     "data": {
      "text/plain": [
       "array([[0. , 0. , 0. ],\n",
       "       [0.3, 1.1, 1.4]])"
      ]
     },
     "execution_count": 249,
     "metadata": {},
     "output_type": "execute_result"
    }
   ],
   "source": [
    "#thetaを更新\n",
    "alpha = 0.1\n",
    "theta = np.append(theta,  np.array([theta[-1,:] - alpha * grad]), axis=0)\n",
    "theta"
   ]
  },
  {
   "cell_type": "markdown",
   "metadata": {},
   "source": [
    "### イメージを掴めたのでクラス化"
   ]
  },
  {
   "cell_type": "code",
   "execution_count": 4,
   "metadata": {
    "colab": {},
    "colab_type": "code",
    "id": "JoLeX1rC-UZD"
   },
   "outputs": [],
   "source": [
    "import numpy as np\n",
    "\n",
    "class ScratchLinearRegression():\n",
    "    \"\"\"\n",
    "    線形回帰のスクラッチ実装\n",
    "\n",
    "    Parameters\n",
    "    ----------\n",
    "    num_iter : int\n",
    "      イテレーション数\n",
    "    lr : float\n",
    "      学習率\n",
    "    no_bias : bool\n",
    "      バイアス項を入れない場合はTrue\n",
    "    verbose : bool\n",
    "      学習過程を出力する場合はTrue\n",
    "\n",
    "    Attributes\n",
    "    ----------\n",
    "    self.coef_ : 次の形のndarray, shape (n_features,)\n",
    "      パラメータ\n",
    "    self.loss : 次の形のndarray, shape (self.iter,)\n",
    "      学習用データに対する損失の記録\n",
    "    self.val_loss : 次の形のndarray, shape (self.iter,)\n",
    "      検証用データに対する損失の記録\n",
    "\n",
    "    \"\"\"\n",
    "\n",
    "    def __init__(self, num_iter, lr, bias=1, verbose=False):\n",
    "        # ハイパーパラメータを属性として記録\n",
    "        self.iter = num_iter\n",
    "        self.lr = lr\n",
    "        self.bias = bias\n",
    "        self.verbose = verbose\n",
    "        # 損失を記録する配列を用意\n",
    "        self.loss = np.zeros(self.iter)\n",
    "        self.val_loss = np.zeros(self.iter)\n",
    "\n",
    "    def fit(self, X, y, X_val=None, y_val=None):\n",
    "        \"\"\"\n",
    "        線形回帰を学習する。検証用データが入力された場合はそれに対する損失と精度もイテレーションごとに計算する。\n",
    "\n",
    "        Parameters\n",
    "        ----------\n",
    "        X : 次の形のndarray, shape (n_samples, n_features)\n",
    "            学習用データの特徴量\n",
    "        y : 次の形のndarray, shape (n_samples, )\n",
    "            学習用データの正解値\n",
    "        X_val : 次の形のndarray, shape (n_samples, n_features)\n",
    "            検証用データの特徴量\n",
    "        y_val : 次の形のndarray, shape (n_samples, )\n",
    "            検証用データの正解値\n",
    "        \"\"\"\n",
    "\n",
    "        #XにX_0の列をbias埋めで追加（切片の項を追加）\n",
    "        X = np.concatenate((np.full((len(X), 1), self.bias), X), axis=1)\n",
    "        \n",
    "        # yのshapeを(n_samples, )から(n_samples, 1)にする\n",
    "        y = y.reshape(-1,1)\n",
    "        \n",
    "        #coef_ (theta)を初期化 (1, n_features)\n",
    "        #-1 ~ 1の乱数で\n",
    "        a = -1\n",
    "        b = 1\n",
    "        self.coef_ = (b - a) * np.random.rand(X.shape[1]).reshape(1,-1)  + a     \n",
    "        \n",
    "        #self.iterの回数だけself.coef_を更新しながらhも更新していく\n",
    "        for i in range(self.iter):\n",
    "            #予測値h\n",
    "            h = self._linear_hypothesis(X)\n",
    "            if not ((X_val is None) or (y_val is None)):\n",
    "                pass\n",
    "            #Cost, mse, error\n",
    "            J, mse, error = self._cost(h, y)\n",
    "\n",
    "            #errorを元にgradを計算してself.coef_を更新\n",
    "            self._gradient_descent(X, error)\n",
    "            \n",
    "            #costをval_lossに記録\n",
    "            self.loss[i] = mse\n",
    "        \n",
    "        #確認\n",
    "        print(\"X: \\n\", X, \"\\n\")\n",
    "        print(\"optimized theta: \\n\", self.coef_)    \n",
    "        \n",
    "        if self.verbose:\n",
    "            #verboseをTrueにした際は学習過程を出力\n",
    "            print(self.loss)\n",
    "\n",
    "\n",
    "    def predict(self, X_test):\n",
    "        \"\"\"\n",
    "        線形回帰を使い推定する。\n",
    "\n",
    "        Parameters\n",
    "        ----------\n",
    "        X : 次の形のndarray, shape (n_samples, n_features)\n",
    "            サンプル\n",
    "\n",
    "        Returns\n",
    "        -------\n",
    "            次の形のndarray, shape (n_samples, 1)\n",
    "            線形回帰による推定結果\n",
    "        \"\"\"\n",
    "        #XにX_0の列を追加（切片の項を追加）\n",
    "        X_test = np.concatenate((np.full((len(X_test), 1), self.bias), X_test), axis=1)\n",
    "        \n",
    "        #a.dot(b)よりもnp.dot(a, b)の方が早い(np.dotはC言語、a.dotはPythonでの処理なので)\n",
    "        pred = np.dot(X_test, (self.coef_).T)\n",
    "        \n",
    "        return pred\n",
    "\n",
    "    def _linear_hypothesis(self, X):\n",
    "        \"\"\"\n",
    "        線形の仮定関数を計算する\n",
    "\n",
    "        Parameters\n",
    "        ----------\n",
    "        X : ndarray of shape (n_samples, n_features)\n",
    "          学習データ\n",
    "\n",
    "        Returns\n",
    "        -------\n",
    "          ndarray of shape (n_samples, 1)\n",
    "          線形の仮定関数による推定結果\n",
    "\n",
    "        \"\"\"\n",
    "        \n",
    "        h = np.dot(X, (self.coef_).T)\n",
    "        \n",
    "        return h\n",
    "      \n",
    "    def _cost(self, h, y):\n",
    "        \"\"\"\n",
    "        cost(MSE/2)の計算\n",
    "\n",
    "        Parameters\n",
    "        ----------\n",
    "        y_pred : ndarray of shape (n_samples,)\n",
    "          推定した値\n",
    "        y : ndarray of shape (n_samples,)\n",
    "          正解値\n",
    "\n",
    "        Returns\n",
    "        ----------\n",
    "        J = MSE/2 : numpy.float\n",
    "          MSE: 平均二乗誤差\n",
    "        \"\"\"\n",
    "        error = h - y\n",
    "        \n",
    "        #mse = (error**2).sum(axis=0)/len(y)\n",
    "        #アダマール積の和は転置行列の内積に等しいので内積で書く\n",
    "        mse = np.dot(error.T, error)/len(y)\n",
    "        J = mse/2\n",
    "        return J, mse, error\n",
    "\n",
    "    def _gradient_descent(self, X, error):\n",
    "        \"\"\"\n",
    "        Parameters\n",
    "        ----------\n",
    "        X: ndarray of shape (n_samples, n_features)\n",
    "          学習データ\n",
    "\n",
    "        error: y_pred - y\n",
    "           予測値と実際のyの差\n",
    "        Returns\n",
    "        ----------\n",
    "        インスタンス変数のtheta (self.coef_)を更新\n",
    "\n",
    "        \"\"\"\n",
    "        #grad = (error * X).sum(axis=0)/len(X)\n",
    "        #上の計算と同義。早い方で\n",
    "        grad = np.dot(error.T, X)/len(X)\n",
    "        self.coef_ =  self.coef_ - self.lr * grad"
   ]
  },
  {
   "cell_type": "markdown",
   "metadata": {},
   "source": [
    "### クラスの動作確認"
   ]
  },
  {
   "cell_type": "code",
   "execution_count": 6,
   "metadata": {
    "colab": {},
    "colab_type": "code",
    "id": "Q8bUPu8NGC22"
   },
   "outputs": [],
   "source": [
    "#read data\n",
    "import pandas as pd\n",
    "import numpy as np\n",
    "\n",
    "#read csv file to get data frame\n",
    "df = pd.read_csv('train.csv')\n",
    "\n",
    "#split into features X and target y\n",
    "X = df.loc[:, [\"YearBuilt\", \"GrLivArea\"]]\n",
    "df['SalePriceLog'] = np.log(df[\"SalePrice\"])\n",
    "y = df.loc[:, ['SalePriceLog']]"
   ]
  },
  {
   "cell_type": "code",
   "execution_count": 7,
   "metadata": {
    "colab": {
     "base_uri": "https://localhost:8080/",
     "height": 238
    },
    "colab_type": "code",
    "id": "jPFNH-qNIAff",
    "outputId": "16eef237-b953-4a3b-edad-76043b170fac"
   },
   "outputs": [
    {
     "name": "stdout",
     "output_type": "stream",
     "text": [
      "   YearBuilt  GrLivArea\n",
      "0       2003       1710\n",
      "1       1976       1262\n",
      "2       2001       1786\n",
      "3       1915       1717\n",
      "4       2000       2198 \n",
      "\n",
      "   SalePriceLog\n",
      "0     12.247694\n",
      "1     12.109011\n",
      "2     12.317167\n",
      "3     11.849398\n",
      "4     12.429216\n"
     ]
    }
   ],
   "source": [
    "#confirm datra\n",
    "print(X.head(), \"\\n\")\n",
    "print(y.head())"
   ]
  },
  {
   "cell_type": "code",
   "execution_count": 8,
   "metadata": {
    "colab": {},
    "colab_type": "code",
    "id": "LhKt5spnJoTC"
   },
   "outputs": [],
   "source": [
    "#Split into train and test data\n",
    "from sklearn.model_selection import train_test_split\n",
    "X_train, X_test, y_train, y_test = train_test_split(X, y, train_size=3/4, test_size=1/4)"
   ]
  },
  {
   "cell_type": "code",
   "execution_count": 9,
   "metadata": {
    "colab": {
     "base_uri": "https://localhost:8080/",
     "height": 139
    },
    "colab_type": "code",
    "id": "lfigm3UBKkVi",
    "outputId": "e3263724-7bb6-4039-dcbe-cb859a986c5b"
   },
   "outputs": [
    {
     "name": "stderr",
     "output_type": "stream",
     "text": [
      "/Users/ohmori/anaconda3/lib/python3.6/site-packages/sklearn/preprocessing/data.py:645: DataConversionWarning: Data with input dtype int64 were all converted to float64 by StandardScaler.\n",
      "  return self.partial_fit(X, y)\n",
      "/Users/ohmori/anaconda3/lib/python3.6/site-packages/ipykernel_launcher.py:8: DataConversionWarning: Data with input dtype int64 were all converted to float64 by StandardScaler.\n",
      "  \n",
      "/Users/ohmori/anaconda3/lib/python3.6/site-packages/ipykernel_launcher.py:9: DataConversionWarning: Data with input dtype int64 were all converted to float64 by StandardScaler.\n",
      "  if __name__ == '__main__':\n"
     ]
    }
   ],
   "source": [
    "#Standarize\n",
    "from sklearn.preprocessing import StandardScaler\n",
    "\n",
    "scaler = StandardScaler()\n",
    "#trainデータからmeanとstdevを計算\n",
    "scaler.fit(X_train)\n",
    "#normarize x -> (x - x_mean)/s\n",
    "X_train_z = scaler.transform(X_train)\n",
    "X_test_z = scaler.transform(X_test)"
   ]
  },
  {
   "cell_type": "code",
   "execution_count": 10,
   "metadata": {
    "colab": {},
    "colab_type": "code",
    "id": "CZdNVzXYAl3K"
   },
   "outputs": [],
   "source": [
    "#インスタンス生成\n",
    "reg = ScratchLinearRegression(num_iter=500, lr=0.01, bias=1, verbose=False)"
   ]
  },
  {
   "cell_type": "code",
   "execution_count": 11,
   "metadata": {
    "colab": {},
    "colab_type": "code",
    "id": "kK6W66tW6Qf-"
   },
   "outputs": [
    {
     "name": "stdout",
     "output_type": "stream",
     "text": [
      "X: \n",
      " [[ 1.          0.46120662 -0.4228762 ]\n",
      " [ 1.          1.05395457 -1.28549764]\n",
      " [ 1.         -1.48168943 -0.5647295 ]\n",
      " ...\n",
      " [ 1.          1.11981546  0.04293938]\n",
      " [ 1.         -0.36205442  1.05508187]\n",
      " [ 1.         -0.16447177 -1.16089676]] \n",
      "\n",
      "optimized theta: \n",
      " [[11.94205681  0.17976564  0.25302379]]\n"
     ]
    }
   ],
   "source": [
    "#fit with train data\n",
    "reg.fit(X_train_z, y_train.values)"
   ]
  },
  {
   "cell_type": "code",
   "execution_count": 12,
   "metadata": {
    "colab": {},
    "colab_type": "code",
    "id": "rHp8vgYRDDrC"
   },
   "outputs": [],
   "source": [
    "#predict test data\n",
    "scrach_pred = reg.predict(X_test_z)"
   ]
  },
  {
   "cell_type": "code",
   "execution_count": 13,
   "metadata": {
    "colab": {
     "base_uri": "https://localhost:8080/",
     "height": 286
    },
    "colab_type": "code",
    "id": "icaB3Gv6Y2Av",
    "outputId": "0e962f93-eb83-42f8-a6d1-941b9c6c3b21"
   },
   "outputs": [],
   "source": [
    "#結果のPlot用の関数\n",
    "import matplotlib.pyplot as plt\n",
    "\n",
    "def plot_reg_result(n_iter, loss, y_test, y_pred):\n",
    "    fig, axes = plt.subplots(1,2, figsize=(10,4 ))\n",
    "    axes[0].plot(np.array(range(n_iter)), loss, \"o-\")\n",
    "    axes[1].plot(y_test, y_pred, \"o\")\n",
    "    axes[1].plot(y_test, y_test)\n",
    "    \n",
    "    #label\n",
    "    axes[0].set_xlabel('n of iterations')\n",
    "    axes[0].set_ylabel('MSE')\n",
    "    axes[1].set_xlabel('y_test')\n",
    "    axes[1].set_ylabel('y_pred')"
   ]
  },
  {
   "cell_type": "code",
   "execution_count": 14,
   "metadata": {},
   "outputs": [
    {
     "data": {
      "image/png": "[encoded data removed]",
      "text/plain": [
       "<Figure size 720x288 with 2 Axes>"
      ]
     },
     "metadata": {
      "needs_background": "light"
     },
     "output_type": "display_data"
    }
   ],
   "source": [
    "#plot\n",
    "plot_reg_result(reg.iter, reg.loss, y_test, scrach_pred)"
   ]
  },
  {
   "cell_type": "code",
   "execution_count": 15,
   "metadata": {
    "colab": {
     "base_uri": "https://localhost:8080/",
     "height": 51
    },
    "colab_type": "code",
    "id": "DvnRVyezGvDk",
    "outputId": "b43036c8-0abe-4aa5-d75c-50b0fb7e94ac"
   },
   "outputs": [
    {
     "name": "stdout",
     "output_type": "stream",
     "text": [
      "R^2: 0.595734\n",
      "MSE: 0.065599\n"
     ]
    }
   ],
   "source": [
    "#評価\n",
    "#決定係数R^2とMSEを算出\n",
    "u = ((y_test - scrach_pred)**2).sum(axis=0)\n",
    "v = ((y_test - y_test.mean() )**2).sum(axis=0)\n",
    "\n",
    "r2 = 1 - u/v\n",
    "mse = u/len(y_test)\n",
    "\n",
    "print('R^2: %f' % r2)\n",
    "print('MSE: %f' % mse)"
   ]
  },
  {
   "cell_type": "code",
   "execution_count": 335,
   "metadata": {
    "colab": {},
    "colab_type": "code",
    "id": "TpzGZgeaKtYE"
   },
   "outputs": [],
   "source": [
    "#scikit-learnで答えを確認\n",
    "from sklearn.linear_model import LinearRegression\n",
    "lnr_reg = LinearRegression()\n",
    "\n",
    "#learn\n",
    "learned_model_lnr_reg = lnr_reg.fit(X_train_z, y_train)\n",
    "\n",
    "#predict\n",
    "pred = learned_model_lnr_reg.predict(X_test_z)"
   ]
  },
  {
   "cell_type": "code",
   "execution_count": 336,
   "metadata": {
    "colab": {
     "base_uri": "https://localhost:8080/",
     "height": 51
    },
    "colab_type": "code",
    "id": "7h9o7aS-LQcI",
    "outputId": "e831d100-cacb-41d1-d50a-10d8415558ab"
   },
   "outputs": [
    {
     "name": "stdout",
     "output_type": "stream",
     "text": [
      "R^2: 0.701664\n",
      "MSE: 0.044506\n"
     ]
    }
   ],
   "source": [
    "#決定係数R^2とMSEを算出\n",
    "#イケてそう\n",
    "\n",
    "u = ((y_test - pred)**2).sum(axis=0)\n",
    "v = ((y_test - y_test.mean() )**2).sum(axis=0)\n",
    "\n",
    "r2 = 1 - u/v\n",
    "mse = u/len(y_test)\n",
    "\n",
    "print('R^2: %f' % r2)\n",
    "print('MSE: %f' % mse)"
   ]
  },
  {
   "cell_type": "code",
   "execution_count": 0,
   "metadata": {
    "colab": {},
    "colab_type": "code",
    "id": "KRY7JQ8Xd5iz"
   },
   "outputs": [],
   "source": []
  },
  {
   "cell_type": "markdown",
   "metadata": {
    "colab_type": "text",
    "id": "yNT1Z2hrARVl"
   },
   "source": [
    "## 【問題2】学習曲線のプロット\n",
    "まず、学習曲線を表示する関数を作成してください。\n",
    "\n",
    "線形回帰クラスの雛形ではself.loss, self.val_lossに損失を記録しておくようになっているため、入力にはこれを利用してください。\n",
    "\n"
   ]
  },
  {
   "cell_type": "markdown",
   "metadata": {
    "colab_type": "text",
    "id": "oBCxTGZrWFys"
   },
   "source": [
    "## 【問題3】（アドバンス課題）バイアス項の除去\n",
    "バイアス項 を抜くと学習がどう変化するか検証してください。また、線形回帰モデルにおけるバイアス項の役割の考察・調査を行ってください。"
   ]
  },
  {
   "cell_type": "code",
   "execution_count": 346,
   "metadata": {},
   "outputs": [
    {
     "name": "stdout",
     "output_type": "stream",
     "text": [
      "X: \n",
      " [[ 1.         -0.00613346 -1.39882433]\n",
      " [ 1.          0.16010759 -0.32775086]\n",
      " [ 1.         -0.53810481  0.57490292]\n",
      " ...\n",
      " [ 1.         -0.23887092 -1.03549199]\n",
      " [ 1.          1.09105744  0.87767987]\n",
      " [ 1.          1.22405028  0.65248951]] \n",
      "\n",
      "optimized theta: \n",
      " [[11.94331615  0.18780504  0.23863727]]\n"
     ]
    },
    {
     "data": {
      "image/png": "[encoded data removed]",
      "text/plain": [
       "<Figure size 720x288 with 2 Axes>"
      ]
     },
     "metadata": {
      "needs_background": "light"
     },
     "output_type": "display_data"
    }
   ],
   "source": [
    "#bias = 1 の時\n",
    "reg_bias= ScratchLinearRegression(num_iter=500, lr=0.01, bias=1, verbose=False)\n",
    "reg_bias.fit(X_train_z, y_train.values)\n",
    "pred_bias = reg_bias.predict(X_test_z)\n",
    "plot_reg_result(reg_bias.iter, reg_bias.loss, y_test, pred_bias)"
   ]
  },
  {
   "cell_type": "code",
   "execution_count": 348,
   "metadata": {},
   "outputs": [
    {
     "name": "stdout",
     "output_type": "stream",
     "text": [
      "X: \n",
      " [[ 1.00000000e+01 -6.13345960e-03 -1.39882433e+00]\n",
      " [ 1.00000000e+01  1.60107586e-01 -3.27750865e-01]\n",
      " [ 1.00000000e+01 -5.38104807e-01  5.74902920e-01]\n",
      " ...\n",
      " [ 1.00000000e+01 -2.38870924e-01 -1.03549199e+00]\n",
      " [ 1.00000000e+01  1.09105744e+00  8.77679871e-01]\n",
      " [ 1.00000000e+01  1.22405028e+00  6.52489514e-01]] \n",
      "\n",
      "optimized theta: \n",
      " [[1.20256951 0.20207911 0.22131331]]\n"
     ]
    },
    {
     "data": {
      "image/png": "[encoded data removed]",
      "text/plain": [
       "<Figure size 720x288 with 2 Axes>"
      ]
     },
     "metadata": {
      "needs_background": "light"
     },
     "output_type": "display_data"
    }
   ],
   "source": [
    "#bias = 10 の時\n",
    "reg_bias= ScratchLinearRegression(num_iter=500, lr=0.01, bias=10, verbose=False)\n",
    "reg_bias.fit(X_train_z, y_train.values)\n",
    "pred_bias = reg_bias.predict(X_test_z)\n",
    "plot_reg_result(reg_bias.iter, reg_bias.loss, y_test, pred_bias)"
   ]
  },
  {
   "cell_type": "code",
   "execution_count": 349,
   "metadata": {},
   "outputs": [
    {
     "name": "stdout",
     "output_type": "stream",
     "text": [
      "X: \n",
      " [[-1.         -0.00613346 -1.39882433]\n",
      " [-1.          0.16010759 -0.32775086]\n",
      " [-1.         -0.53810481  0.57490292]\n",
      " ...\n",
      " [-1.         -0.23887092 -1.03549199]\n",
      " [-1.          1.09105744  0.87767987]\n",
      " [-1.          1.22405028  0.65248951]] \n",
      "\n",
      "optimized theta: \n",
      " [[-11.94447435   0.17997497   0.24166207]]\n"
     ]
    },
    {
     "data": {
      "image/png": "[encoded data removed]",
      "text/plain": [
       "<Figure size 720x288 with 2 Axes>"
      ]
     },
     "metadata": {
      "needs_background": "light"
     },
     "output_type": "display_data"
    }
   ],
   "source": [
    "#bias = -1 の時\n",
    "reg_bias= ScratchLinearRegression(num_iter=500, lr=0.01, bias=-1, verbose=False)\n",
    "reg_bias.fit(X_train_z, y_train.values)\n",
    "pred_bias = reg_bias.predict(X_test_z)\n",
    "plot_reg_result(reg_bias.iter, reg_bias.loss, y_test, pred_bias)"
   ]
  },
  {
   "cell_type": "code",
   "execution_count": 350,
   "metadata": {},
   "outputs": [
    {
     "name": "stdout",
     "output_type": "stream",
     "text": [
      "X: \n",
      " [[ 0.         -0.00613346 -1.39882433]\n",
      " [ 0.          0.16010759 -0.32775086]\n",
      " [ 0.         -0.53810481  0.57490292]\n",
      " ...\n",
      " [ 0.         -0.23887092 -1.03549199]\n",
      " [ 0.          1.09105744  0.87767987]\n",
      " [ 0.          1.22405028  0.65248951]] \n",
      "\n",
      "optimized theta: \n",
      " [[-0.37938199  0.19897351  0.22324378]]\n"
     ]
    },
    {
     "data": {
      "image/png": "[encoded data removed]",
      "text/plain": [
       "<Figure size 720x288 with 2 Axes>"
      ]
     },
     "metadata": {
      "needs_background": "light"
     },
     "output_type": "display_data"
    }
   ],
   "source": [
    "#bias = 0 の時\n",
    "reg_bias= ScratchLinearRegression(num_iter=500, lr=0.01, bias=0, verbose=False)\n",
    "reg_bias.fit(X_train_z, y_train.values)\n",
    "pred_bias = reg_bias.predict(X_test_z)\n",
    "plot_reg_result(reg_bias.iter, reg_bias.loss, y_test, pred_bias)"
   ]
  },
  {
   "cell_type": "markdown",
   "metadata": {
    "colab": {},
    "colab_type": "code",
    "id": "-bRpJ0NkA1iW"
   },
   "source": [
    "bias項がゼロの時、傾きは正しくても、正解値（オレンジ線）から並行移動したような位置で予測されてしまった。<br>\n",
    "$\\theta_{0}$が小さくなってしまい、$x_{0}\\cdot \\theta_{0}$が10.5程度に落ち着くべきところがことが非常に小さな値となってしまったことが原因と考えられる。このbias = 0がbias項の除去に等しいと思われ、bias項によって予測に切片の影響が組み入れられると理解できる。"
   ]
  },
  {
   "cell_type": "markdown",
   "metadata": {
    "colab_type": "text",
    "id": "Yp1SaDCnWdrF"
   },
   "source": [
    "## 【問題4】（アドバンス課題）特徴量の多次元化\n",
    "特徴量の二乗や三乗を入力に利用すると学習結果がどう変化するか検証してください。"
   ]
  },
  {
   "cell_type": "code",
   "execution_count": null,
   "metadata": {
    "colab": {},
    "colab_type": "code",
    "id": "i0R8VFAyn6mk"
   },
   "outputs": [],
   "source": []
  },
  {
   "cell_type": "markdown",
   "metadata": {},
   "source": [
    "$y$が仮定関数$h_{\\theta}(x) = \\theta_{0} + \\theta_{1}x + \\theta_{2}x^2$によってよく表されると仮定すると、$h$は$x$に対しては線形ではないが、$\\theta$に対しては線形である。"
   ]
  },
  {
   "cell_type": "markdown",
   "metadata": {
    "colab_type": "text",
    "id": "Uk2i7A9TWggD"
   },
   "source": [
    "## 【問題5】（アドバンス課題）更新式の導出\n",
    "最急降下法の更新式は以下でした。この式が導出される過程を説明してください。"
   ]
  },
  {
   "cell_type": "markdown",
   "metadata": {
    "colab_type": "text",
    "id": "pJR-xhSkiXX1"
   },
   "source": [
    "特徴量、パラメータをそれぞれ<br>\n",
    "$$\n",
    "x = (x_0, x_1, \\cdots, x_m)\n",
    "$$\n",
    "$$\n",
    "\\theta = (\\theta_0, \\theta_1, \\cdots, \\theta_m)\n",
    "$$\n",
    "として、$y$の予測値（仮定関数）を\n",
    "$$\n",
    "h_{\\theta}(x) = \\theta_{0}x_0 + \\theta_{1}x_1 + \\cdots + \\theta_{m}x_m\n",
    "$$\n",
    "\n",
    "とする。<br>\n",
    "$h$と$y$に関する平均二乗誤差を２で除したものをコスト関数$J$と定義すると、$J$を最小化するような係数のベクトル$\\theta$を求めることが、yの回帰に相当する。<br>\n",
    "\n",
    "\n",
    "$$\n",
    "J(\\theta) = \\frac{1}{2m}\\sum_{i=1}^{m}(h_{\\theta}(x^{(i)}) - y^{(i)})^2\n",
    "$$\n",
    "\n",
    "$ J$を特徴量$x_j$に対応する係数$\\theta_j$に関して偏微分して、\n",
    "\n",
    "$$\n",
    "\\begin{eqnarray}\n",
    "\\frac{\\partial}{\\partial \\theta_j}J(\\theta) &=& \\frac{\\partial}{\\partial \\theta_j}\\frac{1}{2m}\\sum_{i=1}^{m} \\Bigl(h_{\\theta}(x^{(i)}) - y^{(i)}\\Bigr)^2\\\\\n",
    "&=& \\frac{1}{2m}\\sum_{i=1}^{m} \\frac{\\partial}{\\partial \\theta_j}\\Bigl(h_{\\theta}(x^{(i)}) - y^{(i)}\\Bigr)^2 \\\\\n",
    "&=& \\frac{1}{2m}\\sum_{i=1}^{m} \\Bigl[\\frac{\\partial}{\\partial h}\\Bigl(h_{\\theta}(x^{(i)}) - y^{(i)}\\Bigr)^2 \\cdot \\frac{\\partial h}{\\partial \\theta_j}\\Bigr] \\\\\n",
    "&=&\\frac{1}{2m}\\sum_{i=1}^{m}\\Bigl[2 \\cdot \\Bigl(h_{\\theta}(x^{(i)}) - y^{(i)}\\Bigr)\\cdot x_{j}^{(i)}\\Bigr]\\\\\n",
    "&=&\\frac{1}{m}\\sum_{i=1}^{m}\\Bigl[\\Bigl(h_{\\theta}(x^{(i)}) - y^{(i)}\\Bigr)\\cdot x_j^{(i)}\\Bigr]\n",
    "\\end{eqnarray}\n",
    "$$\n",
    "\n",
    "更新式のgradientの部分が求められた。"
   ]
  },
  {
   "cell_type": "markdown",
   "metadata": {
    "colab_type": "text",
    "id": "wvS91k57Wjl9"
   },
   "source": [
    "## 【問題6】（アドバンス課題）局所最適解の問題\n",
    "最急降下法には一般的に局所最適解の問題があります。しかし、線形回帰では学習を続ければ必ず最適解を求めることができます。それはなぜか数式やグラフを用いて説明してください。"
   ]
  },
  {
   "cell_type": "markdown",
   "metadata": {
    "colab_type": "text",
    "id": "ISELU7gMWrOV"
   },
   "source": [
    "## 【問題7】スクラッチで学べることは何か\n",
    "最終発表時に以下の内容についてディスカッションを行います。自分なりの意見を用意しておいてください。\n",
    "\n",
    "ライブラリを使うのではなくスクラッチでアルゴリズムを実装したことで学べたことは何か"
   ]
  },
  {
   "cell_type": "code",
   "execution_count": 0,
   "metadata": {
    "colab": {},
    "colab_type": "code",
    "id": "2Zv2J69qWk-J"
   },
   "outputs": [],
   "source": []
  }
 ],
 "metadata": {
  "colab": {
   "collapsed_sections": [],
   "name": "sprint3-ml-scratch-linear-regression.ipynb",
   "provenance": [],
   "version": "0.3.2"
  },
  "kernelspec": {
   "display_name": "Python 3",
   "language": "python",
   "name": "python3"
  },
  "language_info": {
   "codemirror_mode": {
    "name": "ipython",
    "version": 3
   },
   "file_extension": ".py",
   "mimetype": "text/x-python",
   "name": "python",
   "nbconvert_exporter": "python",
   "pygments_lexer": "ipython3",
   "version": "3.6.8"
  }
 },
 "nbformat": 4,
 "nbformat_minor": 1
}
