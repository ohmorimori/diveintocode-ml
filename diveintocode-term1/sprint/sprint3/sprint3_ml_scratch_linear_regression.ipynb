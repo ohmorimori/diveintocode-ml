{
 "cells": [
  {
   "cell_type": "markdown",
   "metadata": {
    "colab_type": "text",
    "id": "Hv51Zq2Y-RnE"
   },
   "source": [
    "# Sprint3課題 機械学習スクラッチ線形回帰\n",
    "\n"
   ]
  },
  {
   "cell_type": "markdown",
   "metadata": {
    "colab_type": "text",
    "id": "kVA8Ao38989Z"
   },
   "source": [
    "## 【問題1】線形回帰のクラスを作成する\n",
    "\n",
    "線形回帰のクラスを作成し、Sprint2で作成した回帰のパイプラインに組み込んでください。\n",
    "\n",
    "以下が雛形です。ここにメソッドを加えていってください。メソッドやパラメータなどはscikit-learnを参考にしてください。\n",
    "\n",
    "[sklearn.linear_model.LinearRegression — scikit-learn 0.20.0 documentation](https://scikit-learn.org/stable/modules/generated/sklearn.linear_model.LinearRegression.html)\n",
    "\n",
    "検証段階ではJupyter Notebook上で書いていき、最終的にはpyファイルにモジュールとしてまとめてください。"
   ]
  },
  {
   "cell_type": "markdown",
   "metadata": {
    "colab": {},
    "colab_type": "code",
    "id": "PyMd3ryhOlHI"
   },
   "source": [
    "### まずは計算のイメージを掴む"
   ]
  },
  {
   "cell_type": "code",
   "execution_count": 239,
   "metadata": {
    "colab": {
     "base_uri": "https://localhost:8080/",
     "height": 102
    },
    "colab_type": "code",
    "id": "20dIG93DSSPE",
    "outputId": "c59a91be-6f92-429a-bfa2-27a491dbb9b1"
   },
   "outputs": [
    {
     "data": {
      "text/plain": [
       "array([[ 1,  1,  2],\n",
       "       [ 1,  3,  4],\n",
       "       [ 1,  5,  6],\n",
       "       [ 1,  7,  8],\n",
       "       [ 1,  9, 10]])"
      ]
     },
     "execution_count": 239,
     "metadata": {},
     "output_type": "execute_result"
    }
   ],
   "source": [
    "#特徴量X\n",
    "X = np.array([\n",
    "    [1, 1, 2],\n",
    "    [1, 3, 4],\n",
    "    [1, 5, 6],\n",
    "    [1, 7, 8],\n",
    "    [1, 9, 10]\n",
    "])\n",
    "X"
   ]
  },
  {
   "cell_type": "code",
   "execution_count": 240,
   "metadata": {
    "colab": {
     "base_uri": "https://localhost:8080/",
     "height": 102
    },
    "colab_type": "code",
    "id": "nnL3LBH4UT2Y",
    "outputId": "5d5ebcb5-6335-4a6e-e70f-33e1c6ae8592"
   },
   "outputs": [
    {
     "data": {
      "text/plain": [
       "array([[5],\n",
       "       [4],\n",
       "       [3],\n",
       "       [2],\n",
       "       [1]])"
      ]
     },
     "execution_count": 240,
     "metadata": {},
     "output_type": "execute_result"
    }
   ],
   "source": [
    "#目的変数y\n",
    "y = np.array([5, 4, 3, 2, 1]).reshape(-1, 1)\n",
    "y"
   ]
  },
  {
   "cell_type": "code",
   "execution_count": 241,
   "metadata": {
    "colab": {
     "base_uri": "https://localhost:8080/",
     "height": 34
    },
    "colab_type": "code",
    "id": "XPZFIcQ6SSWS",
    "outputId": "b809dce7-6074-4506-d676-2b21f10ee460"
   },
   "outputs": [
    {
     "data": {
      "text/plain": [
       "array([[0., 0., 0.]])"
      ]
     },
     "execution_count": 241,
     "metadata": {},
     "output_type": "execute_result"
    }
   ],
   "source": [
    "#Xの係数theta\n",
    "theta = np.empty((0,3))\n",
    "theta = np.append(theta, np.array([[0,0,0]]), axis=0)\n",
    "theta"
   ]
  },
  {
   "cell_type": "code",
   "execution_count": 242,
   "metadata": {
    "colab": {
     "base_uri": "https://localhost:8080/",
     "height": 102
    },
    "colab_type": "code",
    "id": "Vn5iD05TSnB8",
    "outputId": "b0a30bb0-11b7-4d90-839e-4a85b0b304cd"
   },
   "outputs": [
    {
     "data": {
      "text/plain": [
       "array([[0.],\n",
       "       [0.],\n",
       "       [0.],\n",
       "       [0.],\n",
       "       [0.]])"
      ]
     },
     "execution_count": 242,
     "metadata": {},
     "output_type": "execute_result"
    }
   ],
   "source": [
    "#Hypothesis function\n",
    "#thetaとxから求めたyの予測値\n",
    "h = theta[-1,:].dot(X.T).reshape(-1, 1)\n",
    "h"
   ]
  },
  {
   "cell_type": "code",
   "execution_count": 243,
   "metadata": {
    "colab": {
     "base_uri": "https://localhost:8080/",
     "height": 102
    },
    "colab_type": "code",
    "id": "S7N2XBcoTMdF",
    "outputId": "45efd3b8-8703-4f64-e2b7-0dc9ebe0b1ce"
   },
   "outputs": [
    {
     "data": {
      "text/plain": [
       "array([[25.],\n",
       "       [16.],\n",
       "       [ 9.],\n",
       "       [ 4.],\n",
       "       [ 1.]])"
      ]
     },
     "execution_count": 243,
     "metadata": {},
     "output_type": "execute_result"
    }
   ],
   "source": [
    "#Cost functionを順を追って計算\n",
    "\n",
    "#誤差(error)の2乗を計算\n",
    "#残差（residual）は測定値 - 平均値\n",
    "(h - y)**2"
   ]
  },
  {
   "cell_type": "code",
   "execution_count": 244,
   "metadata": {
    "colab": {
     "base_uri": "https://localhost:8080/",
     "height": 34
    },
    "colab_type": "code",
    "id": "gq1FjGJQU1JM",
    "outputId": "a6ac7944-3c0b-4af3-a664-399bd38c8bf7"
   },
   "outputs": [
    {
     "data": {
      "text/plain": [
       "55.0"
      ]
     },
     "execution_count": 244,
     "metadata": {},
     "output_type": "execute_result"
    }
   ],
   "source": [
    "#Sample方向に足す（Σ）\n",
    "((h - y)**2).sum()"
   ]
  },
  {
   "cell_type": "code",
   "execution_count": 245,
   "metadata": {
    "colab": {
     "base_uri": "https://localhost:8080/",
     "height": 34
    },
    "colab_type": "code",
    "id": "I9R81HW8VOGV",
    "outputId": "3bdd8b85-7ef5-4146-d618-e63a483583dc"
   },
   "outputs": [
    {
     "data": {
      "text/plain": [
       "5.5"
      ]
     },
     "execution_count": 245,
     "metadata": {},
     "output_type": "execute_result"
    }
   ],
   "source": [
    "#Cost function\n",
    "J = ((h - y)**2).sum()/(2*len(X))\n",
    "J"
   ]
  },
  {
   "cell_type": "code",
   "execution_count": 246,
   "metadata": {
    "colab": {
     "base_uri": "https://localhost:8080/",
     "height": 102
    },
    "colab_type": "code",
    "id": "jgg9Ffu6h70M",
    "outputId": "0d1add4d-57d0-452b-b616-785410c72391"
   },
   "outputs": [
    {
     "data": {
      "text/plain": [
       "array([[-5.],\n",
       "       [-4.],\n",
       "       [-3.],\n",
       "       [-2.],\n",
       "       [-1.]])"
      ]
     },
     "execution_count": 246,
     "metadata": {},
     "output_type": "execute_result"
    }
   ],
   "source": [
    "#thetaを順を追って更新していく\n",
    "\n",
    "#error\n",
    "(h - y) "
   ]
  },
  {
   "cell_type": "code",
   "execution_count": 247,
   "metadata": {
    "colab": {
     "base_uri": "https://localhost:8080/",
     "height": 102
    },
    "colab_type": "code",
    "id": "JX07FhYenXfZ",
    "outputId": "6ea13b99-2615-44fb-ad91-9e09882f1b76"
   },
   "outputs": [
    {
     "data": {
      "text/plain": [
       "array([[ -5.,  -5., -10.],\n",
       "       [ -4., -12., -16.],\n",
       "       [ -3., -15., -18.],\n",
       "       [ -2., -14., -16.],\n",
       "       [ -1.,  -9., -10.]])"
      ]
     },
     "execution_count": 247,
     "metadata": {},
     "output_type": "execute_result"
    }
   ],
   "source": [
    "(h- y) * X"
   ]
  },
  {
   "cell_type": "code",
   "execution_count": 248,
   "metadata": {
    "colab": {
     "base_uri": "https://localhost:8080/",
     "height": 34
    },
    "colab_type": "code",
    "id": "Vh2qfOZom5fS",
    "outputId": "64f1eaf5-f5ea-4d80-d651-5c2e17561eb4"
   },
   "outputs": [
    {
     "data": {
      "text/plain": [
       "array([ -3., -11., -14.])"
      ]
     },
     "execution_count": 248,
     "metadata": {},
     "output_type": "execute_result"
    }
   ],
   "source": [
    "#sample方向に足して（Σ）、サンプル数で割る\n",
    "grad = ((h - y)* X).sum(axis=0)/len(X)\n",
    "grad"
   ]
  },
  {
   "cell_type": "code",
   "execution_count": 249,
   "metadata": {
    "colab": {
     "base_uri": "https://localhost:8080/",
     "height": 85
    },
    "colab_type": "code",
    "id": "skDQGtjMnwjp",
    "outputId": "22d461f2-dcb9-47c7-baf8-508499048e53"
   },
   "outputs": [
    {
     "data": {
      "text/plain": [
       "array([[0. , 0. , 0. ],\n",
       "       [0.3, 1.1, 1.4]])"
      ]
     },
     "execution_count": 249,
     "metadata": {},
     "output_type": "execute_result"
    }
   ],
   "source": [
    "#thetaを更新\n",
    "alpha = 0.1\n",
    "theta = np.append(theta,  np.array([theta[-1,:] - alpha * grad]), axis=0)\n",
    "theta"
   ]
  },
  {
   "cell_type": "markdown",
   "metadata": {},
   "source": [
    "### イメージを掴めたのでクラス化"
   ]
  },
  {
   "cell_type": "code",
   "execution_count": 115,
   "metadata": {
    "colab": {},
    "colab_type": "code",
    "id": "JoLeX1rC-UZD"
   },
   "outputs": [],
   "source": [
    "import numpy as np\n",
    "\n",
    "class ScratchLinearRegression():\n",
    "    \"\"\"\n",
    "    線形回帰のスクラッチ実装\n",
    "\n",
    "    Parameters\n",
    "    ----------\n",
    "    num_iter : int\n",
    "      イテレーション数\n",
    "    lr : float\n",
    "      学習率\n",
    "    no_bias : bool\n",
    "      バイアス項を入れない場合はTrue\n",
    "    verbose : bool\n",
    "      学習過程を出力する場合はTrue\n",
    "\n",
    "    Attributes\n",
    "    ----------\n",
    "    self.coef_ : 次の形のndarray, shape (n_features,)\n",
    "      パラメータ\n",
    "    self.loss : 次の形のndarray, shape (self.iter,)\n",
    "      学習用データに対する損失の記録\n",
    "    self.val_loss : 次の形のndarray, shape (self.iter,)\n",
    "      検証用データに対する損失の記録\n",
    "\n",
    "    \"\"\"\n",
    "\n",
    "    def __init__(self, num_iter, lr, bias=1, verbose=False):\n",
    "        # ハイパーパラメータを属性として記録\n",
    "        self.iter = num_iter\n",
    "        self.lr = lr\n",
    "        self.bias = bias\n",
    "        self.verbose = verbose\n",
    "        # 損失を記録する配列を用意\n",
    "        self.loss = np.zeros(self.iter)\n",
    "        self.val_loss = np.zeros(self.iter)\n",
    "\n",
    "    def fit(self, X, y, X_val=None, y_val=None):\n",
    "        \"\"\"\n",
    "        線形回帰を学習する。検証用データが入力された場合はそれに対する損失と精度もイテレーションごとに計算する。\n",
    "\n",
    "        Parameters\n",
    "        ----------\n",
    "        X : 次の形のndarray, shape (n_samples, n_features)\n",
    "            学習用データの特徴量\n",
    "        y : 次の形のndarray, shape (n_samples, )\n",
    "            学習用データの正解値\n",
    "        X_val : 次の形のndarray, shape (n_samples, n_features)\n",
    "            検証用データの特徴量\n",
    "        y_val : 次の形のndarray, shape (n_samples, )\n",
    "            検証用データの正解値\n",
    "        \"\"\"\n",
    "\n",
    "        #XにX_0の列をbias埋めで追加（切片の項を追加）\n",
    "        X = np.concatenate((np.full((len(X), 1), self.bias), X), axis=1)\n",
    "                \n",
    "        # yのshapeを(n_samples, )から(n_samples, 1)にする\n",
    "        y = y.reshape(-1,1)\n",
    "        \n",
    "        #validation dataに対して同様の前処理\n",
    "        if not ((X_val is None) or (y_val is None)):\n",
    "            X_val = np.concatenate((np.full((len(X_val), 1), self.bias), X_val), axis=1)\n",
    "            y_val = y_val.reshape(-1,1)\n",
    "        \n",
    "        #coef_ (theta)を初期化 (1, n_features)\n",
    "        #-1 ~ 1の乱数で\n",
    "        a = -1\n",
    "        b = 1\n",
    "        self.coef_ = (b - a) * np.random.rand(X.shape[1]).reshape(1,-1)  + a     \n",
    "        \n",
    "        #self.iterの回数だけself.coef_を更新しながらhも更新していく\n",
    "        for i in range(self.iter):\n",
    "            #予測値h\n",
    "            h = self._linear_hypothesis(X)\n",
    "            \n",
    "            #hを元にしてCostの計算\n",
    "            mse, error = self._cost(h, y)\n",
    "            \n",
    "            #costをval_lossに記録\n",
    "            self.loss[i] = mse\n",
    "            \n",
    "            #validation dataに対して同様の処理\n",
    "            if not ((X_val is None) or (y_val is None)):\n",
    "                h_val = self._linear_hypothesis(X_val)\n",
    "                mse_val, error_val = self._cost(h_val, y_val)\n",
    "                self.val_loss[i] = mse_val\n",
    "                \n",
    "            #errorを元にgradを計算してself.coef_を更新\n",
    "            self._gradient_descent(X, error)\n",
    "        \n",
    "        if self.verbose:\n",
    "            #verboseをTrueにした際は学習過程を出力\n",
    "            print(self.loss)\n",
    "            print(self.val_loss)\n",
    "\n",
    "    def predict(self, X_test):\n",
    "        \"\"\"\n",
    "        線形回帰を使い推定する。\n",
    "\n",
    "        Parameters\n",
    "        ----------\n",
    "        X : 次の形のndarray, shape (n_samples, n_features)\n",
    "            サンプル\n",
    "\n",
    "        Returns\n",
    "        -------\n",
    "            次の形のndarray, shape (n_samples, 1)\n",
    "            線形回帰による推定結果\n",
    "        \"\"\"\n",
    "        #XにX_0の列を追加（切片の項を追加）\n",
    "        X_test = np.concatenate((np.full((len(X_test), 1), self.bias), X_test), axis=1)\n",
    "        \n",
    "        #a.dot(b)よりもnp.dot(a, b)の方が早い(np.dotはC言語、a.dotはPythonでの処理なので)\n",
    "        pred = np.dot(X_test, (self.coef_).T)\n",
    "        \n",
    "        return pred\n",
    "\n",
    "    def _linear_hypothesis(self, X):\n",
    "        \"\"\"\n",
    "        線形の仮定関数を計算する\n",
    "\n",
    "        Parameters\n",
    "        ----------\n",
    "        X : ndarray of shape (n_samples, n_features)\n",
    "          学習データ\n",
    "\n",
    "        Returns\n",
    "        -------\n",
    "          ndarray of shape (n_samples, 1)\n",
    "          線形の仮定関数による推定結果\n",
    "\n",
    "        \"\"\"\n",
    "        \n",
    "        h = np.dot(X, (self.coef_).T)\n",
    "        \n",
    "        return h\n",
    "      \n",
    "    def _cost(self, h, y):\n",
    "        \"\"\"\n",
    "        costの計算\n",
    "\n",
    "        Parameters\n",
    "        ----------\n",
    "        y_pred : ndarray of shape (n_samples,)\n",
    "          推定した値\n",
    "        y : ndarray of shape (n_samples,)\n",
    "          正解値\n",
    "\n",
    "        Returns\n",
    "        ----------\n",
    "        error: 誤差\n",
    "        MSE: 平均二乗誤差\n",
    "        J = MSE/2 : numpy.float\n",
    "        \"\"\"\n",
    "        error = h - y\n",
    "        \n",
    "        #mse = (error**2).sum(axis=0)/len(y)\n",
    "        #アダマール積の和は転置行列の内積に等しいので内積で書く\n",
    "        mse = np.dot(error.T, error)/len(y)\n",
    "        return mse, error\n",
    "\n",
    "    def _gradient_descent(self, X, error):\n",
    "        \"\"\"\n",
    "        Parameters\n",
    "        ----------\n",
    "        X: ndarray of shape (n_samples, n_features)\n",
    "          学習データ\n",
    "\n",
    "        error: y_pred - y\n",
    "           予測値と実際のyの差\n",
    "        Returns\n",
    "        ----------\n",
    "        インスタンス変数のtheta (self.coef_)を更新\n",
    "\n",
    "        \"\"\"\n",
    "        #grad = (error * X).sum(axis=0)/len(X)\n",
    "        #上の計算と同義。早い方で\n",
    "        grad = np.dot(error.T, X)/len(X)\n",
    "        self.coef_ =  self.coef_ - self.lr * grad"
   ]
  },
  {
   "cell_type": "markdown",
   "metadata": {},
   "source": [
    "### クラスの動作確認"
   ]
  },
  {
   "cell_type": "code",
   "execution_count": 116,
   "metadata": {
    "colab": {},
    "colab_type": "code",
    "id": "Q8bUPu8NGC22"
   },
   "outputs": [],
   "source": [
    "#read data\n",
    "import pandas as pd\n",
    "import numpy as np\n",
    "\n",
    "#read csv file to get data frame\n",
    "df = pd.read_csv('train.csv')\n",
    "\n",
    "#split into features X and target y\n",
    "X = df.loc[:, [\"YearBuilt\", \"GrLivArea\"]]\n",
    "df['SalePriceLog'] = np.log(df[\"SalePrice\"])\n",
    "y = df.loc[:, ['SalePriceLog']]"
   ]
  },
  {
   "cell_type": "code",
   "execution_count": 117,
   "metadata": {
    "colab": {
     "base_uri": "https://localhost:8080/",
     "height": 238
    },
    "colab_type": "code",
    "id": "jPFNH-qNIAff",
    "outputId": "16eef237-b953-4a3b-edad-76043b170fac"
   },
   "outputs": [
    {
     "name": "stdout",
     "output_type": "stream",
     "text": [
      "   YearBuilt  GrLivArea\n",
      "0       2003       1710\n",
      "1       1976       1262\n",
      "2       2001       1786\n",
      "3       1915       1717\n",
      "4       2000       2198 \n",
      "\n",
      "   SalePriceLog\n",
      "0     12.247694\n",
      "1     12.109011\n",
      "2     12.317167\n",
      "3     11.849398\n",
      "4     12.429216\n"
     ]
    }
   ],
   "source": [
    "#confirm datra\n",
    "print(X.head(), \"\\n\")\n",
    "print(y.head())"
   ]
  },
  {
   "cell_type": "code",
   "execution_count": 118,
   "metadata": {
    "colab": {},
    "colab_type": "code",
    "id": "LhKt5spnJoTC"
   },
   "outputs": [],
   "source": [
    "#Split into train and test data\n",
    "from sklearn.model_selection import train_test_split\n",
    "X_train, X_test, y_train, y_test = train_test_split(X, y, train_size=3/4, test_size=1/4)"
   ]
  },
  {
   "cell_type": "code",
   "execution_count": 119,
   "metadata": {
    "colab": {
     "base_uri": "https://localhost:8080/",
     "height": 139
    },
    "colab_type": "code",
    "id": "lfigm3UBKkVi",
    "outputId": "e3263724-7bb6-4039-dcbe-cb859a986c5b"
   },
   "outputs": [
    {
     "name": "stderr",
     "output_type": "stream",
     "text": [
      "/Users/ohmori/anaconda3/lib/python3.6/site-packages/sklearn/preprocessing/data.py:645: DataConversionWarning: Data with input dtype int64 were all converted to float64 by StandardScaler.\n",
      "  return self.partial_fit(X, y)\n",
      "/Users/ohmori/anaconda3/lib/python3.6/site-packages/ipykernel_launcher.py:8: DataConversionWarning: Data with input dtype int64 were all converted to float64 by StandardScaler.\n",
      "  \n",
      "/Users/ohmori/anaconda3/lib/python3.6/site-packages/ipykernel_launcher.py:9: DataConversionWarning: Data with input dtype int64 were all converted to float64 by StandardScaler.\n",
      "  if __name__ == '__main__':\n"
     ]
    }
   ],
   "source": [
    "#Standardize\n",
    "from sklearn.preprocessing import StandardScaler\n",
    "\n",
    "scaler = StandardScaler()\n",
    "#trainデータからmeanとstdevを計算\n",
    "scaler.fit(X_train)\n",
    "#normarize x -> (x - x_mean)/s\n",
    "X_train_z = scaler.transform(X_train)\n",
    "X_test_z = scaler.transform(X_test)\n",
    "\n",
    "scaler.fit(y_train)\n",
    "y_train_z = scaler.transform(y_train)\n",
    "y_test_z = scaler.transform(y_test)"
   ]
  },
  {
   "cell_type": "code",
   "execution_count": 120,
   "metadata": {
    "colab": {},
    "colab_type": "code",
    "id": "CZdNVzXYAl3K"
   },
   "outputs": [],
   "source": [
    "#スクラッチした線形回帰クラスのインスタンスを生成\n",
    "reg = ScratchLinearRegression(num_iter=500, lr=0.01, bias=1, verbose=False)"
   ]
  },
  {
   "cell_type": "code",
   "execution_count": 121,
   "metadata": {
    "colab": {},
    "colab_type": "code",
    "id": "kK6W66tW6Qf-"
   },
   "outputs": [],
   "source": [
    "#fit with train data\n",
    "reg.fit(X_train_z, y_train_z, X_test_z, y_test_z)"
   ]
  },
  {
   "cell_type": "code",
   "execution_count": 122,
   "metadata": {
    "colab": {},
    "colab_type": "code",
    "id": "rHp8vgYRDDrC"
   },
   "outputs": [],
   "source": [
    "#predict test data\n",
    "scrach_pred = reg.predict(X_test_z)"
   ]
  },
  {
   "cell_type": "code",
   "execution_count": 123,
   "metadata": {
    "colab": {
     "base_uri": "https://localhost:8080/",
     "height": 51
    },
    "colab_type": "code",
    "id": "DvnRVyezGvDk",
    "outputId": "b43036c8-0abe-4aa5-d75c-50b0fb7e94ac"
   },
   "outputs": [
    {
     "name": "stdout",
     "output_type": "stream",
     "text": [
      "R^2: 0.684616\n",
      "MSE: 0.338438\n"
     ]
    }
   ],
   "source": [
    "#評価\n",
    "#決定係数R^2とMSEを算出\n",
    "u = ((y_test_z - scrach_pred)**2).sum(axis=0)\n",
    "v = ((y_test_z - y_test_z.mean() )**2).sum(axis=0)\n",
    "\n",
    "r2 = 1 - u/v\n",
    "mse = u/len(y_test)\n",
    "\n",
    "print('R^2: %f' % r2)\n",
    "print('MSE: %f' % mse)"
   ]
  },
  {
   "cell_type": "markdown",
   "metadata": {},
   "source": [
    "### scikit-learnのLinear Regressionでも答えを確認"
   ]
  },
  {
   "cell_type": "code",
   "execution_count": 124,
   "metadata": {
    "colab": {},
    "colab_type": "code",
    "id": "TpzGZgeaKtYE"
   },
   "outputs": [],
   "source": [
    "from sklearn.linear_model import LinearRegression\n",
    "lnr_reg = LinearRegression()\n",
    "\n",
    "#learn\n",
    "learned_model_lnr_reg = lnr_reg.fit(X_train_z, y_train_z)\n",
    "\n",
    "#predict\n",
    "pred = learned_model_lnr_reg.predict(X_test_z)"
   ]
  },
  {
   "cell_type": "code",
   "execution_count": 125,
   "metadata": {
    "colab": {
     "base_uri": "https://localhost:8080/",
     "height": 51
    },
    "colab_type": "code",
    "id": "7h9o7aS-LQcI",
    "outputId": "e831d100-cacb-41d1-d50a-10d8415558ab"
   },
   "outputs": [
    {
     "name": "stdout",
     "output_type": "stream",
     "text": [
      "R^2: 0.685268\n",
      "MSE: 0.337739\n"
     ]
    }
   ],
   "source": [
    "#決定係数R^2とMSEを算出\n",
    "#ちょっと違うけどイケてそう\n",
    "\n",
    "u = ((y_test_z - pred)**2).sum(axis=0)\n",
    "v = ((y_test_z - y_test_z.mean() )**2).sum(axis=0)\n",
    "\n",
    "r2 = 1 - u/v\n",
    "mse = u/len(y_test_z)\n",
    "\n",
    "print('R^2: %f' % r2)\n",
    "print('MSE: %f' % mse)"
   ]
  },
  {
   "cell_type": "markdown",
   "metadata": {
    "colab_type": "text",
    "id": "yNT1Z2hrARVl"
   },
   "source": [
    "## 【問題2】学習曲線のプロット\n",
    "まず、学習曲線を表示する関数を作成してください。\n",
    "\n",
    "線形回帰クラスの雛形ではself.loss, self.val_lossに損失を記録しておくようになっているため、入力にはこれを利用してください。\n",
    "\n"
   ]
  },
  {
   "cell_type": "code",
   "execution_count": 126,
   "metadata": {
    "colab": {
     "base_uri": "https://localhost:8080/",
     "height": 286
    },
    "colab_type": "code",
    "id": "icaB3Gv6Y2Av",
    "outputId": "0e962f93-eb83-42f8-a6d1-941b9c6c3b21"
   },
   "outputs": [],
   "source": [
    "#結果のPlot用の関数\n",
    "import matplotlib.pyplot as plt\n",
    "\n",
    "def plot_reg_result(y_test, y_pred):\n",
    "    fig, ax = plt.subplots(1,1, figsize=(4,4 ))\n",
    "    ax.plot(y_test, y_pred, \"o\", label = 'predicted')\n",
    "    ax.plot(y_test, y_test, label = 'actual')\n",
    "    \n",
    "    #label\n",
    "    ax.set_title('Predicted vs Actual')\n",
    "    ax.set_xlabel('y_test')\n",
    "    ax.set_ylabel('y_pred')\n",
    "    ax.legend()\n",
    "    \n",
    "def plot_learning_curve(n_iter, loss, val_loss):\n",
    "    fig, ax = plt.subplots(1,1, figsize=(4,4 ))\n",
    "    ax.plot(np.array(range(n_iter)), loss, \"o-\", label = 'train')\n",
    "    ax.plot(np.array(range(n_iter)), val_loss, \"o-\", label = 'validation')\n",
    "    \n",
    "    #label\n",
    "    ax.set_title('Learning Curve')\n",
    "    ax.set_xlabel('n of iterations')\n",
    "    ax.set_ylabel('MSE')\n",
    "    ax.legend()"
   ]
  },
  {
   "cell_type": "code",
   "execution_count": 127,
   "metadata": {},
   "outputs": [
    {
     "data": {
      "image/png": "[encoded data removed]",
      "text/plain": [
       "<Figure size 288x288 with 1 Axes>"
      ]
     },
     "metadata": {
      "needs_background": "light"
     },
     "output_type": "display_data"
    },
    {
     "data": {
      "image/png": "[encoded data removed]",
      "text/plain": [
       "<Figure size 288x288 with 1 Axes>"
      ]
     },
     "metadata": {
      "needs_background": "light"
     },
     "output_type": "display_data"
    }
   ],
   "source": [
    "#plot\n",
    "plot_reg_result(y_test_z, scrach_pred)\n",
    "plot_learning_curve(reg.iter, reg.loss, reg.val_loss)"
   ]
  },
  {
   "cell_type": "markdown",
   "metadata": {},
   "source": [
    "### pyファイルにしたクラスからも実行してみる"
   ]
  },
  {
   "cell_type": "markdown",
   "metadata": {},
   "source": [
    "pyファイルは[こちら](https://github.com/ohmorimori/diveintocode-ml/blob/master/diveintocode-term1/ml-scratch/model/scratch_linear_reg.py)"
   ]
  },
  {
   "cell_type": "code",
   "execution_count": 177,
   "metadata": {},
   "outputs": [
    {
     "name": "stdout",
     "output_type": "stream",
     "text": [
      "['/Users/ohmori/anaconda3/lib/python36.zip', '/Users/ohmori/anaconda3/lib/python3.6', '/Users/ohmori/anaconda3/lib/python3.6/lib-dynload', '', '/Users/ohmori/anaconda3/lib/python3.6/site-packages', '/Users/ohmori/anaconda3/lib/python3.6/site-packages/aeosa', '/Users/ohmori/anaconda3/lib/python3.6/site-packages/IPython/extensions', '/Users/ohmori/.ipython', '/Users/ohmori/diveintocode-ml/diveintocode-term1/ml-scratch/model']\n"
     ]
    }
   ],
   "source": [
    "import sys\n",
    "str = '/Users/ohmori/diveintocode-ml/diveintocode-term1/ml-scratch/model'\n",
    "\n",
    "if str not in sys.path:\n",
    "    sys.path.append(str)\n",
    "\n",
    "print(sys.path)"
   ]
  },
  {
   "cell_type": "code",
   "execution_count": 180,
   "metadata": {},
   "outputs": [],
   "source": [
    "#スクラッチで書いたLinear Regressionのクラスをインポートしてインスタンス生成\n",
    "from scratch_linear_reg import ScratchLinearRegression\n",
    "\n",
    "lnr_reg = ScratchLinearRegression(num_iter=500, lr=0.01)"
   ]
  },
  {
   "cell_type": "code",
   "execution_count": 181,
   "metadata": {},
   "outputs": [],
   "source": [
    "#fit with train data\n",
    "lnr_reg.fit(X_train_z, y_train_z, X_test_z, y_test_z)\n",
    "#predict test data\n",
    "scrach_pred = lnr_reg.predict(X_test_z)"
   ]
  },
  {
   "cell_type": "code",
   "execution_count": 182,
   "metadata": {},
   "outputs": [
    {
     "data": {
      "image/png": "[encoded data removed]",
      "text/plain": [
       "<Figure size 288x288 with 1 Axes>"
      ]
     },
     "metadata": {
      "needs_background": "light"
     },
     "output_type": "display_data"
    },
    {
     "data": {
      "image/png": "[encoded data removed]",
      "text/plain": [
       "<Figure size 288x288 with 1 Axes>"
      ]
     },
     "metadata": {
      "needs_background": "light"
     },
     "output_type": "display_data"
    }
   ],
   "source": [
    "#plot\n",
    "plot_reg_result(y_test_z, scrach_pred)\n",
    "plot_learning_curve(reg.iter, reg.loss, reg.val_loss)"
   ]
  },
  {
   "cell_type": "markdown",
   "metadata": {},
   "source": [
    "pyファイルからも実行できた。"
   ]
  },
  {
   "cell_type": "markdown",
   "metadata": {
    "colab_type": "text",
    "id": "oBCxTGZrWFys"
   },
   "source": [
    "## 【問題3】（アドバンス課題）バイアス項の除去\n",
    "バイアス項 を抜くと学習がどう変化するか検証してください。また、線形回帰モデルにおけるバイアス項の役割の考察・調査を行ってください。"
   ]
  },
  {
   "cell_type": "code",
   "execution_count": 128,
   "metadata": {},
   "outputs": [
    {
     "data": {
      "image/png": "[encoded data removed]",
      "text/plain": [
       "<Figure size 288x288 with 1 Axes>"
      ]
     },
     "metadata": {
      "needs_background": "light"
     },
     "output_type": "display_data"
    },
    {
     "data": {
      "image/png": "[encoded data removed]",
      "text/plain": [
       "<Figure size 288x288 with 1 Axes>"
      ]
     },
     "metadata": {
      "needs_background": "light"
     },
     "output_type": "display_data"
    }
   ],
   "source": [
    "#bias項あり（bias=1） の時 \n",
    "reg_bias= ScratchLinearRegression(num_iter=500, lr=0.01, bias=1, verbose=False)\n",
    "reg_bias.fit(X_train_z, y_train_z, X_test_z, y_test_z)\n",
    "pred_bias = reg_bias.predict(X_test_z)\n",
    "plot_reg_result(y_test_z, pred_bias)\n",
    "plot_learning_curve(reg_bias.iter, reg_bias.loss, reg_bias.val_loss)"
   ]
  },
  {
   "cell_type": "code",
   "execution_count": 129,
   "metadata": {},
   "outputs": [
    {
     "data": {
      "image/png": "[encoded data removed]",
      "text/plain": [
       "<Figure size 288x288 with 1 Axes>"
      ]
     },
     "metadata": {
      "needs_background": "light"
     },
     "output_type": "display_data"
    },
    {
     "data": {
      "image/png": "[encoded data removed]",
      "text/plain": [
       "<Figure size 288x288 with 1 Axes>"
      ]
     },
     "metadata": {
      "needs_background": "light"
     },
     "output_type": "display_data"
    }
   ],
   "source": [
    "#bias = 0 の時\n",
    "reg_bias= ScratchLinearRegression(num_iter=500, lr=0.01, bias=0, verbose=False)\n",
    "reg_bias.fit(X_train_z, y_train_z, X_test_z, y_test_z)\n",
    "pred_bias = reg_bias.predict(X_test_z)\n",
    "plot_reg_result(y_test_z, pred_bias)\n",
    "plot_learning_curve(reg_bias.iter, reg_bias.loss, reg_bias.val_loss)"
   ]
  },
  {
   "cell_type": "markdown",
   "metadata": {},
   "source": [
    "一方、X, yともにstandardizeしないものを用いて検証してみる"
   ]
  },
  {
   "cell_type": "code",
   "execution_count": 142,
   "metadata": {},
   "outputs": [
    {
     "data": {
      "image/png": "[encoded data removed]",
      "text/plain": [
       "<Figure size 288x288 with 1 Axes>"
      ]
     },
     "metadata": {
      "needs_background": "light"
     },
     "output_type": "display_data"
    },
    {
     "data": {
      "image/png": "[encoded data removed]",
      "text/plain": [
       "<Figure size 288x288 with 1 Axes>"
      ]
     },
     "metadata": {
      "needs_background": "light"
     },
     "output_type": "display_data"
    }
   ],
   "source": [
    "#bias項あり（bias=1） の時 \n",
    "reg_bias= ScratchLinearRegression(num_iter=500, lr=0.01, bias=1, verbose=False)\n",
    "reg_bias.fit(X_train_z, y_train.values, X_test_z, y_test.values)\n",
    "pred_bias = reg_bias.predict(X_test_z)\n",
    "plot_reg_result(y_test, pred_bias)\n",
    "plot_learning_curve(reg_bias.iter, reg_bias.loss, reg_bias.val_loss)"
   ]
  },
  {
   "cell_type": "code",
   "execution_count": 143,
   "metadata": {},
   "outputs": [
    {
     "data": {
      "image/png": "[encoded data removed]",
      "text/plain": [
       "<Figure size 288x288 with 1 Axes>"
      ]
     },
     "metadata": {
      "needs_background": "light"
     },
     "output_type": "display_data"
    },
    {
     "data": {
      "image/png": "[encoded data removed]",
      "text/plain": [
       "<Figure size 288x288 with 1 Axes>"
      ]
     },
     "metadata": {
      "needs_background": "light"
     },
     "output_type": "display_data"
    }
   ],
   "source": [
    "#bias項あり（bias=0） の時 \n",
    "reg_bias= ScratchLinearRegression(num_iter=500, lr=0.01, bias=0, verbose=False)\n",
    "reg_bias.fit(X_train_z, y_train.values, X_test_z, y_test.values)\n",
    "pred_bias = reg_bias.predict(X_test_z)\n",
    "plot_reg_result(y_test, pred_bias)\n",
    "plot_learning_curve(reg_bias.iter, reg_bias.loss, reg_bias.val_loss)"
   ]
  },
  {
   "cell_type": "markdown",
   "metadata": {
    "colab": {},
    "colab_type": "code",
    "id": "-bRpJ0NkA1iW"
   },
   "source": [
    "standardizeしない$y$を学習と予測に用いたところ、bias項がゼロの時に正解値（オレンジ線）から並行移動したような位置で予測されてしまった。<br>\n",
    "bias = 0で$\\theta_0$が消去されたためと考えられる。仮定関数$h$の中の項$x_0 \\cdot \\theta_0$が切片に相当するが、今回$x_0$ = biasとして計算しているため、bias = 0は切片項の除去に等しい。\n",
    "standardizeしたデータを用いた場合、平均値がゼロになっているため、bias項を除去して切片0になっても予測に影響はなかった。一方、standardizeしていない場合、切片項が予測値に大きく影響するので予測が切片分だけずれてしまい、MSEも大きな値で収束してしまった。\n",
    "\n",
    "以上より、bias項によって予測に切片の影響が組み入れられると理解できた。"
   ]
  },
  {
   "cell_type": "markdown",
   "metadata": {
    "colab_type": "text",
    "id": "Yp1SaDCnWdrF"
   },
   "source": [
    "## 【問題4】（アドバンス課題）特徴量の多次元化\n",
    "特徴量の二乗や三乗を入力に利用すると学習結果がどう変化するか検証してください。"
   ]
  },
  {
   "cell_type": "code",
   "execution_count": 165,
   "metadata": {
    "colab": {},
    "colab_type": "code",
    "id": "i0R8VFAyn6mk"
   },
   "outputs": [],
   "source": [
    "#データ準備\n",
    "X_train_multi_dim = X_train_z\n",
    "X_test_multi_dim = X_test_z\n",
    "y_train_multi_dim = y_train_z\n",
    "y_test_multi_dim = y_test_z"
   ]
  },
  {
   "cell_type": "code",
   "execution_count": 166,
   "metadata": {},
   "outputs": [],
   "source": [
    "#２乗項を入れる\n",
    "X_train_multi_dim = np.concatenate((X_train_multi_dim, (X_train_z**2)), axis=1)\n",
    "X_test_multi_dim = np.concatenate((X_test_multi_dim, (X_test_z**2)), axis=1)"
   ]
  },
  {
   "cell_type": "code",
   "execution_count": 167,
   "metadata": {},
   "outputs": [],
   "source": [
    "#3乗項を入れる\n",
    "X_train_multi_dim = np.concatenate((X_train_multi_dim, (X_train_z**3)), axis=1)\n",
    "X_test_multi_dim = np.concatenate((X_test_multi_dim, (X_test_z**3)), axis=1)"
   ]
  },
  {
   "cell_type": "code",
   "execution_count": 168,
   "metadata": {},
   "outputs": [],
   "source": [
    "#交互作用を入れる\n",
    "X_train_multi_dim = np.concatenate((X_train_multi_dim, (X_train_z[:, 0] * X_train_z[:, 1] ).reshape(-1, 1)), axis=1)\n",
    "X_test_multi_dim = np.concatenate((X_test_multi_dim, (X_test_z[:, 0] * X_test_z[:, 1] ).reshape(-1, 1)), axis=1)"
   ]
  },
  {
   "cell_type": "code",
   "execution_count": 169,
   "metadata": {},
   "outputs": [
    {
     "name": "stdout",
     "output_type": "stream",
     "text": [
      "[ 3.04981814e-16 -2.17380654e-16  1.00000000e+00  1.00000000e+00\n",
      " -5.98689554e-01  1.30116024e+00  1.83433577e-01]\n",
      "[ 1.          1.          1.23982798  2.61744876  3.32649868 16.86410076\n",
      "  1.14746992]\n"
     ]
    }
   ],
   "source": [
    "#平均と標準偏差\n",
    "print(X_train_multi_dim.mean(axis=0))\n",
    "print(X_train_multi_dim.std(axis=0))"
   ]
  },
  {
   "cell_type": "code",
   "execution_count": 170,
   "metadata": {},
   "outputs": [],
   "source": [
    "#平均と標準偏差ずれたので再度standardize\n",
    "\n",
    "from sklearn.preprocessing import StandardScaler\n",
    "\n",
    "scaler = StandardScaler()\n",
    "\n",
    "scaler.fit(X_train_multi_dim)\n",
    "X_train_multi_dim = scaler.transform(X_train_multi_dim)\n",
    "X_test_multi_dim = scaler.transform(X_test_multi_dim)\n",
    "\n",
    "scaler.fit(y_train_multi_dim)\n",
    "y_train_multi_dim = scaler.transform(y_train_multi_dim)\n",
    "y_test_multi_dim = scaler.transform(y_test_multi_dim)"
   ]
  },
  {
   "cell_type": "code",
   "execution_count": 172,
   "metadata": {},
   "outputs": [
    {
     "data": {
      "image/png": "[encoded data removed]",
      "text/plain": [
       "<Figure size 288x288 with 1 Axes>"
      ]
     },
     "metadata": {
      "needs_background": "light"
     },
     "output_type": "display_data"
    },
    {
     "data": {
      "image/png": "[encoded data removed]",
      "text/plain": [
       "<Figure size 288x288 with 1 Axes>"
      ]
     },
     "metadata": {
      "needs_background": "light"
     },
     "output_type": "display_data"
    }
   ],
   "source": [
    "#fit, predict, plot\n",
    "reg_multi_dim= ScratchLinearRegression(num_iter=500, lr=0.01, bias=1, verbose=False)\n",
    "\n",
    "#fit\n",
    "reg_multi_dim.fit(X_train_multi_dim, y_train_multi_dim, X_test_multi_dim, y_test_multi_dim)\n",
    "#predict\n",
    "pred_multi_dim = reg_multi_dim.predict(X_test_multi_dim)\n",
    "\n",
    "#plot\n",
    "plot_reg_result(y_test_multi_dim, pred_multi_dim)\n",
    "plot_learning_curve(reg_multi_dim.iter, reg_multi_dim.loss, reg_multi_dim.val_loss)"
   ]
  },
  {
   "cell_type": "code",
   "execution_count": 174,
   "metadata": {},
   "outputs": [
    {
     "name": "stdout",
     "output_type": "stream",
     "text": [
      "R^2: 0.710574\n",
      "MSE: 0.310583\n"
     ]
    }
   ],
   "source": [
    "#評価\n",
    "#決定係数R^2とMSEを算出\n",
    "u = ((y_test_multi_dim - pred_multi_dim)**2).sum(axis=0)\n",
    "v = ((y_test_multi_dim - y_test_multi_dim.mean() )**2).sum(axis=0)\n",
    "\n",
    "r2 = 1 - u/v\n",
    "mse = u/len(y_test)\n",
    "\n",
    "print('R^2: %f' % r2)\n",
    "print('MSE: %f' % mse)"
   ]
  },
  {
   "cell_type": "markdown",
   "metadata": {},
   "source": [
    "$x$の２乗項などを導入しても予測できた。$y$が仮定関数$h_{\\theta}(x) = \\theta_{0} + \\theta_{1}x + \\theta_{2}x^2$によってよく表されると仮定すると、$h$は$x$に対しては線形ではないが、$\\theta$に対しては線形であるため、特徴量の次数には影響を受けないと考えられる。"
   ]
  },
  {
   "cell_type": "markdown",
   "metadata": {
    "colab_type": "text",
    "id": "Uk2i7A9TWggD"
   },
   "source": [
    "## 【問題5】（アドバンス課題）更新式の導出\n",
    "最急降下法の更新式は以下でした。この式が導出される過程を説明してください。"
   ]
  },
  {
   "cell_type": "markdown",
   "metadata": {
    "colab_type": "text",
    "id": "pJR-xhSkiXX1"
   },
   "source": [
    "特徴量、パラメータをそれぞれ<br>\n",
    "$$\n",
    "x = (x_0, x_1, \\cdots, x_m)\n",
    "$$\n",
    "$$\n",
    "\\theta = (\\theta_0, \\theta_1, \\cdots, \\theta_m)\n",
    "$$\n",
    "として、$y$の予測値（仮定関数）を\n",
    "$$\n",
    "h_{\\theta}(x) = \\theta_{0}x_0 + \\theta_{1}x_1 + \\cdots + \\theta_{m}x_m\n",
    "$$\n",
    "\n",
    "とする。<br>\n",
    "$h$と$y$に関する平均二乗誤差を２で除したものをコスト関数$J$と定義すると、$J$を最小化するような係数$\\theta$を求めることが、$y$の線形回帰を意味する。<br>\n",
    "\n",
    "\n",
    "$$\n",
    "J(\\theta) = \\frac{1}{2m}\\sum_{i=1}^{m}\\Bigl(h_{\\theta}(x^{(i)}) - y^{(i)}\\Bigr)^2\n",
    "$$\n",
    "\n",
    "$ J$を特徴量$x_j$に対応する係数$\\theta_j$に関して偏微分して、\n",
    "\n",
    "$$\n",
    "\\begin{eqnarray}\n",
    "\\frac{\\partial}{\\partial \\theta_j}J(\\theta) &=& \\frac{\\partial}{\\partial \\theta_j}\\frac{1}{2m}\\sum_{i=1}^{m} \\Bigl(h_{\\theta}(x^{(i)}) - y^{(i)}\\Bigr)^2\\\\\n",
    "&=& \\frac{1}{2m}\\sum_{i=1}^{m} \\frac{\\partial}{\\partial \\theta_j}\\Bigl(h_{\\theta}(x^{(i)}) - y^{(i)}\\Bigr)^2 \\\\\n",
    "&=& \\frac{1}{2m}\\sum_{i=1}^{m} \\Bigl[\\frac{\\partial}{\\partial h}\\Bigl(h_{\\theta}(x^{(i)}) - y^{(i)}\\Bigr)^2 \\cdot \\frac{\\partial h}{\\partial \\theta_j}\\Bigr] \\\\\n",
    "&=&\\frac{1}{2m}\\sum_{i=1}^{m}\\Bigl[2 \\cdot \\Bigl(h_{\\theta}(x^{(i)}) - y^{(i)}\\Bigr)\\cdot x_{j}^{(i)}\\Bigr]\\\\\n",
    "&=&\\frac{1}{m}\\sum_{i=1}^{m}\\Bigl[\\Bigl(h_{\\theta}(x^{(i)}) - y^{(i)}\\Bigr)\\cdot x_j^{(i)}\\Bigr]\n",
    "\\end{eqnarray}\n",
    "$$\n",
    "\n",
    "よって、更新式のgradientの部分が求められた。"
   ]
  },
  {
   "cell_type": "markdown",
   "metadata": {
    "colab_type": "text",
    "id": "wvS91k57Wjl9"
   },
   "source": [
    "## 【問題6】（アドバンス課題）局所最適解の問題\n",
    "最急降下法には一般的に局所最適解の問題があります。しかし、線形回帰では学習を続ければ必ず最適解を求めることができます。それはなぜか数式やグラフを用いて説明してください。"
   ]
  },
  {
   "cell_type": "markdown",
   "metadata": {
    "colab": {},
    "colab_type": "code",
    "id": "2Zv2J69qWk-J"
   },
   "source": [
    "定義より、コスト関数$J$はパラメータ$\\theta$に関しての二次関数である。つまり、$\\frac{\\partial J}{\\partial \\theta} $をゼロにする局所解が一個しかないので全体最適解と局所最適解が一致する。よって最急降下法でも全体最適解に到達できると考えられる。二次関数に限らず、このように単一の最適解を持つ性質を持つ関数は凸関数（convex function）の一種である。連続な凸関数は任意の2点$x$, $y$を取った時に以下が成り立つ。複数の局所解がある時は反例となる$x$, $y$の組が存在する。\n",
    "$$f\\biggl(\\frac{x+y}{2}\\biggr) \\leq \\frac{f(x)+f(y)}{2}$$\n",
    "\n",
    "[参考](https://stats.stackexchange.com/questions/144080/can-there-be-multiple-local-optimum-solutions-when-we-solve-a-linear-regression)"
   ]
  }
 ],
 "metadata": {
  "colab": {
   "collapsed_sections": [],
   "name": "sprint3-ml-scratch-linear-regression.ipynb",
   "provenance": [],
   "version": "0.3.2"
  },
  "kernelspec": {
   "display_name": "Python 3",
   "language": "python",
   "name": "python3"
  },
  "language_info": {
   "codemirror_mode": {
    "name": "ipython",
    "version": 3
   },
   "file_extension": ".py",
   "mimetype": "text/x-python",
   "name": "python",
   "nbconvert_exporter": "python",
   "pygments_lexer": "ipython3",
   "version": "3.6.8"
  }
 },
 "nbformat": 4,
 "nbformat_minor": 1
}
