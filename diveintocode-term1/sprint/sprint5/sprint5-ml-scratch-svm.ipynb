{
 "cells": [
  {
   "cell_type": "markdown",
   "metadata": {},
   "source": [
    "# Sprint5課題 機械学習スクラッチSVM"
   ]
  },
  {
   "cell_type": "code",
   "execution_count": 1,
   "metadata": {},
   "outputs": [],
   "source": [
    "#まずはイメージを掴む"
   ]
  },
  {
   "cell_type": "code",
   "execution_count": 13,
   "metadata": {},
   "outputs": [
    {
     "data": {
      "text/plain": [
       "array([[ 1.17031111, -0.57435281],\n",
       "       [-1.12379554, -1.46496956],\n",
       "       [-0.65667949,  0.56329432],\n",
       "       [ 0.96500087, -0.12277309],\n",
       "       [ 0.85112604,  0.47584112],\n",
       "       [ 0.22709178, -0.54619055],\n",
       "       [-1.71924461, -0.90054428],\n",
       "       [ 0.7927661 , -0.41363065],\n",
       "       [-1.203567  , -1.81207068],\n",
       "       [ 0.53172711,  0.88562044],\n",
       "       [ 0.51432298, -1.74511912],\n",
       "       [-0.14259204, -0.28572303],\n",
       "       [-0.50996478,  0.04659651],\n",
       "       [ 0.18642333, -0.25271858],\n",
       "       [-0.58146426, -0.45788768],\n",
       "       [-0.3806601 ,  1.71457793],\n",
       "       [-0.1256599 ,  0.37925133],\n",
       "       [-1.43581704, -0.28836323],\n",
       "       [ 0.09979061, -0.56939358],\n",
       "       [-1.5051437 ,  0.32753439],\n",
       "       [-0.32830484, -1.36671634],\n",
       "       [-0.85299367,  0.44458111],\n",
       "       [-0.58289835, -0.10599118],\n",
       "       [ 1.22043229, -0.6495748 ],\n",
       "       [-0.09859256, -0.11976866],\n",
       "       [ 0.00449538,  1.07387534],\n",
       "       [ 0.38410646,  0.70133573],\n",
       "       [-0.49930251, -0.97571441],\n",
       "       [-1.988055  , -0.47587909],\n",
       "       [-0.63705223,  0.8474503 ]])"
      ]
     },
     "execution_count": 13,
     "metadata": {},
     "output_type": "execute_result"
    }
   ],
   "source": [
    "import numpy as np\n",
    "N = 30\n",
    "d = 2\n",
    "#n_samples = 30, n_features = 2\n",
    "A = np.random.randn(N, d)\n",
    "A"
   ]
  },
  {
   "cell_type": "code",
   "execution_count": 14,
   "metadata": {},
   "outputs": [],
   "source": [
    "def f(x, y):\n",
    "    return x - y"
   ]
  },
  {
   "cell_type": "code",
   "execution_count": 15,
   "metadata": {},
   "outputs": [
    {
     "data": {
      "text/plain": [
       "array([ 1,  1, -1,  1,  1,  1, -1,  1,  1, -1,  1,  1, -1,  1, -1, -1, -1,\n",
       "       -1,  1, -1,  1, -1, -1,  1,  1, -1, -1,  1, -1, -1])"
      ]
     },
     "execution_count": 15,
     "metadata": {},
     "output_type": "execute_result"
    }
   ],
   "source": [
    "b= np.array([1 if f(x, y) > 0 else - 1 for x, y in A])\n",
    "b"
   ]
  },
  {
   "cell_type": "code",
   "execution_count": 16,
   "metadata": {},
   "outputs": [
    {
     "data": {
      "text/plain": [
       "array([0., 0., 0., 0., 0., 0., 0., 0., 0., 0., 0., 0., 0., 0., 0., 0., 0.,\n",
       "       0., 0., 0., 0., 0., 0., 0., 0., 0., 0., 0., 0., 0.])"
      ]
     },
     "execution_count": 16,
     "metadata": {},
     "output_type": "execute_result"
    }
   ],
   "source": [
    "#Lagrange coefficient\n",
    "lmbd = np.zeros(N)\n",
    "lmbd"
   ]
  },
  {
   "cell_type": "code",
   "execution_count": 17,
   "metadata": {},
   "outputs": [],
   "source": [
    "def kernel(X_i, X_j):\n",
    "    X_i = X_i.reshape(1, -1)\n",
    "    X_j = X_j.reshape(1, -1)\n",
    "    return np.dot(X_i, X_j.T)"
   ]
  },
  {
   "cell_type": "code",
   "execution_count": 18,
   "metadata": {},
   "outputs": [
    {
     "data": {
      "text/plain": [
       "array([0.00471487, 0.00490341, 0.00479568, 0.00482929, 0.00495677,\n",
       "       0.00486473, 0.00490144, 0.00480213, 0.00485198, 0.00491886,\n",
       "       0.00459999, 0.00496934, 0.00491306, 0.00492484, 0.0049949 ,\n",
       "       0.00462597, 0.00491086, 0.00483232, 0.00487982, 0.00470815,\n",
       "       0.00479886, 0.00478684, 0.0049298 , 0.00469244, 0.00499312,\n",
       "       0.00480282, 0.00492989, 0.00489702, 0.00478166, 0.00474561])"
      ]
     },
     "execution_count": 18,
     "metadata": {},
     "output_type": "execute_result"
    }
   ],
   "source": [
    "#lambdaの更新\n",
    "\n",
    "lr = 10**(-5)\n",
    "n_samples = len(A)\n",
    "\n",
    "for i in range(500):\n",
    "    #sgm = 0.0\n",
    "    for s in range(n_samples):\n",
    "        sgm = 0.0\n",
    "        for t in range(n_samples):\n",
    "            #sgm += (lmbd[t]*b[s]*b[t]*kernel(A[s, :], A[t, :]) + lmbd[s]*b[s]*b[t])\n",
    "            sgm += (lmbd[t]*b[s]*b[t]*kernel(A[s, :], A[t, :]) )\n",
    "        lmbd[s] = lmbd[s] + lr*(1-sgm)\n",
    "lmbd"
   ]
  },
  {
   "cell_type": "code",
   "execution_count": 19,
   "metadata": {},
   "outputs": [
    {
     "data": {
      "text/plain": [
       "array([ 0.06057892, -0.07250962])"
      ]
     },
     "execution_count": 19,
     "metadata": {},
     "output_type": "execute_result"
    }
   ],
   "source": [
    "\"\"\"\n",
    "#thetaの算出\n",
    "theta = np.dot((lmbd*y).T, X)\n",
    "theta\n",
    "\"\"\"\n",
    "\n",
    "#lmbd > 0となるサンプルのみTrueに\n",
    "#サポートベクター\n",
    "index = lmbd > 0\n",
    "#thetaの算出\n",
    "theta = np.dot((lmbd[index]*b[index]), A[index, :])\n",
    "theta"
   ]
  },
  {
   "cell_type": "code",
   "execution_count": 20,
   "metadata": {},
   "outputs": [
    {
     "data": {
      "text/plain": [
       "0.0012935663516069748"
      ]
     },
     "execution_count": 20,
     "metadata": {},
     "output_type": "execute_result"
    }
   ],
   "source": [
    "#theta_0の算出\n",
    "theta_0 = (b[index] - np.dot(theta, A[index].T)).sum()/index.sum()\n",
    "theta_0"
   ]
  },
  {
   "cell_type": "code",
   "execution_count": 21,
   "metadata": {},
   "outputs": [
    {
     "name": "stdout",
     "output_type": "stream",
     "text": [
      "(300,)\n"
     ]
    },
    {
     "data": {
      "text/plain": [
       "[<matplotlib.lines.Line2D at 0x11d820a20>]"
      ]
     },
     "execution_count": 21,
     "metadata": {},
     "output_type": "execute_result"
    },
    {
     "data": {
      "image/png": "[encoded data removed]",
      "text/plain": [
       "<Figure size 432x432 with 1 Axes>"
      ]
     },
     "metadata": {
      "needs_background": "light"
     },
     "output_type": "display_data"
    }
   ],
   "source": [
    "import matplotlib.pyplot as plt\n",
    "\n",
    "seq =np.arange(-3, 3, 0.02)\n",
    "print(seq.shape)\n",
    "plt.figure(figsize = (6, 6))\n",
    "plt.xlim(-3, 3)\n",
    "plt.ylim(-3, 3)\n",
    "plt.plot(seq, -(theta[0] * seq + theta_0)/theta[1] , 'k-')\n",
    "plt.plot(A[b ==  1,0], A[b ==  1,1], 'ro')\n",
    "plt.plot(A[b == -1,0], A[b == -1,1], 'bo')"
   ]
  },
  {
   "cell_type": "markdown",
   "metadata": {},
   "source": [
    "## 【問題1】SVM分類器のクラスを作成する\n",
    "SVM分類器のクラスを作成し、Sprint0で作成した分類のパイプラインに組み込んでください。\n",
    "\n",
    "クラスの基本構造はSprint3の線形回帰を参考にし、名前はScratchSVMClassifierとしてください。\n",
    "\n",
    "メソッドやパラメータなどはscikit-learnを参考にしてください。\n",
    "\n",
    "sklearn.svm.SVC — scikit-learn 0.20.2 documentation\n",
    "\n",
    "検証段階ではJupyter Notebook上で書いていき、最終的にはpyファイルにモジュールとしてまとめてください。\n",
    "\n",
    "scikit-learnにおけるパラメータについて\n",
    "\n",
    "scikit-learnの実装はソフトマージンSVMになっています。ハードマージンSVMを再現するには、パラメータCをC=1e10のように非常に大きな値を設定します。（無限大に向けてCを大きくするほどハードマージンSVMに近づきます）\n",
    "\n",
    "また、線形カーネルをscikit-learnで使う場合はkernel=\"linear\"と指定します。デフォルトではkernel=\"rbf\"になっており、多項式カーネルと呼ばれるものになっています。"
   ]
  },
  {
   "cell_type": "code",
   "execution_count": null,
   "metadata": {},
   "outputs": [],
   "source": []
  },
  {
   "cell_type": "code",
   "execution_count": 24,
   "metadata": {},
   "outputs": [],
   "source": [
    "import numpy as np\n",
    "import matplotlib.pyplot as plt\n",
    "from matplotlib.colors import ListedColormap\n",
    "import matplotlib.patches as mpatches\n",
    "\n",
    "class ScratchSVMClassifier_linear():\n",
    "        \"\"\"\n",
    "        Support Vector Machineのスクラッチ実装\n",
    "\n",
    "        Parameters\n",
    "        -------------\n",
    "        num_iter: int\n",
    "            反復数\n",
    "        lr: float\n",
    "            Learning rate\n",
    "\n",
    "        Attributes\n",
    "        -------------\n",
    "        coef_: ndarray, shape = [n_features, ]\n",
    "        cost: ndarray, shape = [self._iter, ]\n",
    "        lmbd: ndarray, shape = [n_samples, ]\n",
    "            ラグランジュ乗数\n",
    "        \"\"\"\n",
    "        def __init__(self, num_iter=500, lr = 10**(-5), lmbd_threshold = 10**(-4), no_bias = False):\n",
    "                self.iter = num_iter\n",
    "                self.lr = lr\n",
    "                #no_bias = Trueの時はintercept = 0（切片考慮無し）に、それ以外は1に\n",
    "                self.intercept = 0 if no_bias else 1\n",
    "                # 目的関数を記録する配列を用意\n",
    "                self.cost = np.zeros(self.iter)\n",
    "                self.lmbd_threshold = lmbd_threshold\n",
    "                #以下、fit時に初期化するものをとりあえず空で初期化\n",
    "\n",
    "                #サンプル数を保管\n",
    "                self.n_samples = None\n",
    "                #ラグランジュ乗数\n",
    "                self.lmbd = None\n",
    "                #support vector参照用にtrainデータをインスタンスに保管する\n",
    "                self._train_X = None\n",
    "                self._train_y = None\n",
    "                #support vectorのインデックス\n",
    "                self.sv_idx = None\n",
    "                #係数\n",
    "                self.coef_  = None\n",
    "                self.coef_0 = None\n",
    "\n",
    "                #yの重複無しの要素を格納\n",
    "                self.unique_value = None\n",
    "                \n",
    "        def fit(self, X, y, X_val=None, y_val=None):\n",
    "                \"\"\"\n",
    "               SVMで学習する。検証用データが入力された場合はそれに対する損失と精度もイテレーションごとに計算する。\n",
    "\n",
    "                Parameters\n",
    "                ----------\n",
    "                X : 次の形のndarray, shape (n_samples, n_features)\n",
    "                    学習用データの特徴量\n",
    "                y : 次の形のndarray, shape (n_samples, )\n",
    "                    学習用データの正解値\n",
    "                X_val : 次の形のndarray, shape (n_samples, n_features)\n",
    "                    検証用データの特徴量\n",
    "                y_val : 次の形のndarray, shape (n_samples, )\n",
    "                    検証用データの正解値\n",
    "                \"\"\"\n",
    "                #X, yをnpのarrayにしておく\n",
    "                X = np.array(X)\n",
    "                y = np.array(y)\n",
    "\n",
    "                #train dataをfit後にも参照できるように保管しておく\n",
    "                self._train_X = np.copy(X)\n",
    "                self._train_y = np.copy(y)\n",
    "                \n",
    "                #サンプル方向を縦に\n",
    "                y = y.reshape(-1, 1)\n",
    "\n",
    "                #-1, 1以外の２値で入力された場合への対応（例：a, bを-1, 1に変換）\n",
    "\n",
    "                #yの中のユニークな値を重複無しのndarrayに（[a, b, a, a, b, b] を[a, b]に ）\n",
    "                self.unique_value = np.unique(y)\n",
    "                #yを0, 1に変換\n",
    "                #（[a, b, a, a, b, b] がaとなる場合に0(False), bとなる場合に1(True)に ）\n",
    "                y = (y != self.unique_value[0]).astype(np.int64) \n",
    "                #yを-1, 1に変換\n",
    "                y = (1-(-1))*y - 1 \n",
    "\n",
    "                #サンプル数をインスタンス変数に保管\n",
    "                self.n_samples = len(X)\n",
    "                #サンプル数分のラグランジュ乗数をゼロで初期化\n",
    "                self.lmbd = np.zeros(self.n_samples).reshape(-1, 1)\n",
    "\n",
    "                #lmbdを算出\n",
    "                self._update_lmbd(X, y)\n",
    "\n",
    "                #lmbdを元にしてtheta(coef_)を算出\n",
    "                self._gradient_descent(X, y)\n",
    "\n",
    "        def predict(self, X_test):\n",
    "                X_test = np.array(X_test)\n",
    "\n",
    "                pred = np.dot(self.coef_, X_test.T) + self.coef_0\n",
    "                #0より大きければ1, 小さければ0に変換\n",
    "                pred = (pred > 0).astype(np.int64)\n",
    "                #0ならa, 1ならbに変換\n",
    "                pred = self.unique_value[pred]\n",
    "                return pred\n",
    "\n",
    "        def _update_lmbd(self, X, y):\n",
    "                \"\"\"\n",
    "                Parameters\n",
    "                -----------\n",
    "                X: ndarray of shape (n_samples, n_features)\n",
    "                y: ndarray of shape (n_samples, 1)\n",
    "\n",
    "                Returns\n",
    "                -----------\n",
    "                none\n",
    "\n",
    "                Note\n",
    "                -----------\n",
    "                update instance variable of lagrange coefficient lambda\n",
    "\n",
    "                \"\"\"\n",
    "                for i in range(self.iter):\n",
    "                        L_grad = np.ones(self.n_samples).reshape(-1, 1) - ((y * X) @ (X.T @ (self.lmbd * y)))\n",
    "                        self.lmbd = self.lmbd + self.lr * (L_grad)\n",
    "\n",
    "                        #iterごとのコストを保管\n",
    "                        self.cost[i] = self._L(X, y)\n",
    "\n",
    "                #return値無し\n",
    "                return\n",
    "\n",
    "        def _L(self, X, y):\n",
    "                return  self.lmbd.sum() - (((self.lmbd * y).T @ X) @ (X.T @ (self.lmbd * y)))/2\n",
    "\n",
    "        def _gradient_descent(self, X, y):\n",
    "            #lambda > 0を満たしているものをサポートベクターとしてTrueでラベルしてインデックスに使用\n",
    "            #サポートベクトルを絞るため、便宜上lmbd = 0.0001などにする\n",
    "            self.sv_idx = (self.lmbd > self.lmbd_threshold).reshape(-1,)\n",
    "            #thetaの算出\n",
    "            self.coef_ = (self.lmbd[self.sv_idx] * y[self.sv_idx]).T @ X[self.sv_idx, :]\n",
    "            #theta_0の算出\n",
    "            self.coef_0 =  (y[self.sv_idx] - (X[self.sv_idx] @ self.coef_.T )).sum(axis=0)/(self.sv_idx).sum()\n",
    "            \n",
    "            #return値無し\n",
    "            return\n",
    "\n",
    "        def decision_region(self, X, y, step=0.01, title='decision region', xlabel='xlabel', ylabel='ylabel',  target_names=['1', '-1']):\n",
    "                \"\"\"\n",
    "                ２値分類を２次元の特徴量で学習したモデルの決定領域を描く\n",
    "                背景の色が学習したモデルによる推定値から描画される\n",
    "                散布図の点は学習用のデータである。\n",
    "\n",
    "                Parameters\n",
    "                ---------------\n",
    "                X: ndarray, shape(n_samples, 2)\n",
    "                    特徴量\n",
    "                y: ndarray, shape(n_samples,)\n",
    "                    正解値\n",
    "                model: object\n",
    "                    学習したモデルのインスタンスを入れる\n",
    "                step: float, (default: 0.1)\n",
    "                    推定値を計算する間隔を設定する\n",
    "                title: str\n",
    "                    グラフのタイトルの文章を与える\n",
    "                xlabel, ylabel: str\n",
    "                    軸ラベルの文章を与える\n",
    "                target_names=: list of str\n",
    "                    凡例の一覧を与える\n",
    "                ---------------\n",
    "                \"\"\"\n",
    "                #setting\n",
    "                scatter_color = ['red', 'blue']\n",
    "                contourf_color = ['skyblue', 'pink']\n",
    "                n_class = 2\n",
    "\n",
    "\n",
    "                #pred\n",
    "                #各特徴量に対してメッシュを生成（a=(a1, a2, a3), b=(b1, b2, b3)に対して[[a1, b1], [a1, b2], [a1, b3]], [[a2, b1], [a2, b2], [a2, b3]], [[a3, b1], [a3, b2], [a3, b3]]を生成）\n",
    "                mesh_f0, mesh_f1 = np.meshgrid(np.arange(np.min(X[:,0])-0.5, np.max(X[:,0])+0.5, step), np.arange(np.min(X[:,1])-0.5, np.max(X[:,1])+0.5, step))\n",
    "\n",
    "                #多次元を一次元配列に\n",
    "                mesh = np.c_[np.ravel(mesh_f0),np.ravel(mesh_f1)]\n",
    "                pred = self.predict(mesh).reshape(mesh_f0.shape)\n",
    "\n",
    "                #plot\n",
    "                fig, ax = plt.subplots(1,1, figsize=(6,4 ))\n",
    "                ax.set_title(title)\n",
    "                ax.set_xlabel(xlabel)\n",
    "                ax.set_ylabel(ylabel)\n",
    "                #等高線塗りつぶし\n",
    "                ax.contourf(mesh_f0, mesh_f1, pred, n_class-1, cmap=ListedColormap(contourf_color))\n",
    "                #等高線塗りつぶし\n",
    "                ax.contour(mesh_f0, mesh_f1, pred, n_class-1, colors='y', linewidths=3, alpha = 0.5)\n",
    "                #重複しない要素に対して, 答えをプロット\n",
    "                for i, target in enumerate(set(np.unique(y))):\n",
    "                    ax.scatter(X[y==target][:, 0], X[y==target][:, 1], s=20, color=scatter_color[i], label=target_names[i], marker='o')\n",
    "\n",
    "                #trainデータに関してプロットしている時には\n",
    "                if (self._check_same_ary(y, self._train_y)):\n",
    "                    #support vectorを黄色に\n",
    "                    ax.scatter(X[self.sv_idx, 0], X[self.sv_idx, 1], s=20, color='yellow' , label='supprt vector', marker='o')\n",
    "\n",
    "                ax.legend()\n",
    "\n",
    "\n",
    "                #return値無し\n",
    "                return\n",
    "\n",
    "        def _check_same_ary(self, a, b):\n",
    "                return (a == b).all() if (a.shape == b.shape) else False\n",
    "\n",
    "        #学習曲線Plot用の関数\n",
    "        def plot_learning_curve(self):\n",
    "                fig, ax = plt.subplots(1,1, figsize=(4,4 ))\n",
    "                ax.plot(np.array(range(self.iter)), self.cost, \"-\", label = 'train')\n",
    "\n",
    "                #label\n",
    "                ax.set_title('Learning Curve')\n",
    "                ax.set_xlabel('n of iterations')\n",
    "                ax.set_ylabel('Lagrangian')\n",
    "                ax.legend()\n",
    "\n",
    "                #return値無し\n",
    "                return"
   ]
  },
  {
   "cell_type": "markdown",
   "metadata": {},
   "source": [
    "## 【問題2】（アドバンス課題）多項式カーネル関数の作成\n",
    "問題1では線形カーネルを使用しましたが、多項式カーネルにも切り替えられるようにしましょう。\n",
    "\n"
   ]
  },
  {
   "cell_type": "markdown",
   "metadata": {},
   "source": [
    "パフォーマンスは問題3の中で問題2と合わせて比較する"
   ]
  },
  {
   "cell_type": "code",
   "execution_count": 25,
   "metadata": {},
   "outputs": [],
   "source": [
    "import numpy as np\n",
    "import matplotlib.pyplot as plt\n",
    "from matplotlib.colors import ListedColormap\n",
    "import matplotlib.patches as mpatches\n",
    "\n",
    "class ScratchSVMClassifier():\n",
    "        \"\"\"\n",
    "        Support Vector Machineのスクラッチ実装\n",
    "\n",
    "        Parameters\n",
    "        -------------\n",
    "        num_iter: int\n",
    "            反復数\n",
    "        lr: float\n",
    "            Learning rate\n",
    "\n",
    "        Attributes\n",
    "        -------------\n",
    "        coef_: ndarray, shape = [n_features, ]\n",
    "        cost: ndarray, shape = [self._iter, ]\n",
    "        lmbd: ndarray, shape = [n_samples, ]\n",
    "            ラグランジュ乗数\n",
    "        \"\"\"\n",
    "        def __init__(self, num_iter=500, lr = 10**(-5), lmbd_threshold = 10**(-4), no_bias = False, kernel='linear', kernel_params=[1, 2, 3]):\n",
    "                self.iter = num_iter\n",
    "                self.lr = lr\n",
    "                #no_bias = Trueの時はintercept = 0（切片考慮無し）に、それ以外は1に\n",
    "                self.intercept = 0 if no_bias else 1\n",
    "                # 損失を記録する配列を用意\n",
    "                self.cost = np.zeros(self.iter)\n",
    "                self.lmbd_threshold = lmbd_threshold\n",
    "                self.kernel = kernel\n",
    "                self.kernel_params = kernel_params\n",
    "                \n",
    "            #以下、fit時に初期化するものをとりあえず空で初期化\n",
    "                #サンプル数を保管\n",
    "                self.n_samples = None\n",
    "                #ラグランジュ乗数\n",
    "                self.lmbd = None\n",
    "                #support vector参照用にtrainデータをインスタンスに保管する\n",
    "                self._train_X = None\n",
    "                self._train_y = None\n",
    "                #support vectorのインデックス\n",
    "                self.sv_idx = None\n",
    "                self.coef_  = None\n",
    "                self.coef_0 = None\n",
    "\n",
    "                #yの重複無しの要素を格納\n",
    "                self.unique_value = None\n",
    "                \n",
    "        def fit(self, X, y, X_val=None, y_val=None):\n",
    "                \"\"\"\n",
    "               SVMで学習する。検証用データが入力された場合はそれに対する損失と精度もイテレーションごとに計算する。\n",
    "\n",
    "                Parameters\n",
    "                ----------\n",
    "                X : 次の形のndarray, shape (n_samples, n_features)\n",
    "                    学習用データの特徴量\n",
    "                y : 次の形のndarray, shape (n_samples, )\n",
    "                    学習用データの正解値\n",
    "                X_val : 次の形のndarray, shape (n_samples, n_features)\n",
    "                    検証用データの特徴量\n",
    "                y_val : 次の形のndarray, shape (n_samples, )\n",
    "                    検証用データの正解値\n",
    "                \"\"\"\n",
    "            #X, yの整形\n",
    "                #X, yをnpのarrayにしておく\n",
    "                X = np.array(X)\n",
    "                y = np.array(y)\n",
    "\n",
    "                #train dataをfit後にも参照できるように保管しておく\n",
    "                self._train_X = np.copy(X)\n",
    "                self._train_y = np.copy(y)\n",
    "\n",
    "                #サンプル方向を縦に\n",
    "                y = y.reshape(-1, 1)\n",
    "\n",
    "                #-1, 1以外の２値で入力された場合への対応（例：a, bを-1, 1に変換）\n",
    "                #yの中のユニークな値を重複無しのndarrayに（[a, b, a, a, b, b] を[a, b]に ）\n",
    "                self.unique_value = np.unique(y)\n",
    "                #yを0, 1に変換\n",
    "                #（[a, b, a, a, b, b] がaとなる場合に0(False), bとなる場合に1(True)に ）\n",
    "                y = (y != self.unique_value[0]).astype(np.int64) \n",
    "                #yを-1, 1に変換\n",
    "                y = (1-(-1))*y - 1 \n",
    "                \n",
    "            #インスタンス変数に必要な情報を代入\n",
    "                #サンプル数をインスタンス変数に保管\n",
    "                self.n_samples = len(X)\n",
    "                #サンプル数分のラグランジュ乗数をゼロで初期化\n",
    "                self.lmbd = np.zeros(self.n_samples).reshape(-1, 1)\n",
    "\n",
    "            #lmbdを算出\n",
    "                self._update_lmbd(X, y)\n",
    "\n",
    "            #lmbdを元にしてtheta(coef_)を算出\n",
    "                self._gradient_descent(X, y)\n",
    "\n",
    "        def predict(self, X_test):\n",
    "            #引数の整形\n",
    "                X_test = np.array(X_test)\n",
    "            \n",
    "            #prediction\n",
    "                pred = np.dot(self.coef_, X_test.T) + self.coef_0\n",
    "                #0より大きければ1, 小さければ0に変換\n",
    "                pred = (pred > 0).astype(np.int64)\n",
    "                #0ならa, 1ならbに変換\n",
    "                pred = self.unique_value[pred]\n",
    "                \n",
    "                return pred\n",
    "\n",
    "        def _kernel(self, x1, x2):\n",
    "                \"\"\"\n",
    "                Parameters\n",
    "                -----------\n",
    "                x1: ndarray of shape(n_features, )\n",
    "                x2: ndarray of shape(n_features, )\n",
    "\n",
    "                Returns\n",
    "                -----------\n",
    "                A scaler value processed with linear kernel function\n",
    "\n",
    "                Note\n",
    "                -----------\n",
    "                \"\"\"\n",
    "                 #(n_features, )を念の為(1, n_features)に整形\n",
    "                x1 = x1.reshape(1, -1)\n",
    "                x2 = x2.reshape(1, -1)\n",
    "                \n",
    "                if (self.kernel == 'linear'):\n",
    "                        return np.dot(x1, x2.T)\n",
    "                #polynomial\n",
    "                elif (self.kernel == 'rbf'):\n",
    "                        g = self.kernel_params[0]\n",
    "                        t = self.kernel_params[1]\n",
    "                        d = self.kernel_params[2]\n",
    "                        return (g * np.dot(x1, x2.T) + t)**(d)\n",
    "                return\n",
    "\n",
    "        def _update_lmbd(self, X, y):\n",
    "                \"\"\"\n",
    "                Parameters\n",
    "                -----------\n",
    "                X: ndarray of shape (n_samples, n_features)\n",
    "                y: ndarray of shape (n_samples, 1)\n",
    "\n",
    "                Returns\n",
    "                -----------\n",
    "                none\n",
    "\n",
    "                Note\n",
    "                -----------\n",
    "                update instance variable of lagrange coefficient lambda\n",
    "\n",
    "                \"\"\"\n",
    "                for i in range(self.iter):\n",
    "                        for s in range(self.n_samples):\n",
    "                                #行ごとの計算を一時保管\n",
    "                                sgm = 0.0\n",
    "                                for t in range(self.n_samples):\n",
    "                                        #任意の２行同士の要素を計算するために, s番目とt番目のサンプルでn^2のループ\n",
    "                                        sgm += self.lmbd[t]*y[s]*y[t]*self._kernel(X[s, :], X[t, :]) + self.lmbd[s]*y[s]*y[t]\n",
    "                                \n",
    "                                #合計値と学習率を用いてlmbdを更新\n",
    "                                self.lmbd[s] = self.lmbd[s] + self.lr*(1-sgm)\n",
    "\n",
    "                        #iterごとのコストを保管\n",
    "                        self.cost[i] = self._L(X, y)\n",
    "\n",
    "                #return値無し（インスタンス変数を更新する）\n",
    "                return\n",
    "\n",
    "        def _L(self, X, y):\n",
    "                return  self.lmbd.sum() - (((self.lmbd * y).T @ X) @ (X.T @ (self.lmbd * y)))/2\n",
    "\n",
    "        def _gradient_descent(self, X, y):\n",
    "                \"\"\"\n",
    "                Parameters\n",
    "                -----------\n",
    "                X: ndarray of shape (n_samples, n_features)\n",
    "                y: ndarray of shape (1, n_samples)\n",
    "\n",
    "                Returns\n",
    "                -----------\n",
    "                none\n",
    "\n",
    "                Note\n",
    "                -----------\n",
    "                update coefficient of each features in X (theta)\n",
    "\n",
    "                \"\"\"\n",
    "                #lambda > 0を満たしているものをサポートベクターとしてTrueでラベルしてインデックスに使用\n",
    "                #サポートベクトルを絞るため、便宜上lmbd = 0.0001などにする\n",
    "                self.sv_idx = (self.lmbd > self.lmbd_threshold).reshape(-1,)\n",
    "                #thetaの算出\n",
    "                self.coef_ = (self.lmbd[self.sv_idx] * y[self.sv_idx]).T @ X[self.sv_idx, :]\n",
    "                #theta_0の算出\n",
    "                self.coef_0 =  (y[self.sv_idx] - (X[self.sv_idx] @ self.coef_.T )).sum(axis=0)/(self.sv_idx).sum()\n",
    "\n",
    "                return\n",
    "\n",
    "        def decision_region(self, X, y, step=0.01, title='decision region', xlabel='xlabel', ylabel='ylabel',  target_names=['1', '-1']):\n",
    "                \"\"\"\n",
    "                ２値分類を２次元の特徴量で学習したモデルの決定領域を描く\n",
    "                背景の色が学習したモデルによる推定値から描画される\n",
    "                散布図の点は学習用のデータである。\n",
    "\n",
    "                Parameters\n",
    "                ---------------\n",
    "                X: ndarray, shape(n_samples, 2)\n",
    "                    特徴量\n",
    "                y: ndarray, shape(n_samples,)\n",
    "                    正解値\n",
    "                model: object\n",
    "                    学習したモデルのインスタンスを入れる\n",
    "                step: float, (default: 0.1)\n",
    "                    推定値を計算する間隔を設定する\n",
    "                title: str\n",
    "                    グラフのタイトルの文章を与える\n",
    "                xlabel, ylabel: str\n",
    "                    軸ラベルの文章を与える\n",
    "                target_names=: list of str\n",
    "                    凡例の一覧を与える\n",
    "                ---------------\n",
    "                \"\"\"\n",
    "                #setting\n",
    "                scatter_color = ['red', 'blue']\n",
    "                contourf_color = ['skyblue', 'pink']\n",
    "                n_class = 2\n",
    "\n",
    "\n",
    "                #pred\n",
    "                #各特徴量に対してメッシュを生成（a=(a1, a2, a3), b=(b1, b2, b3)に対して[[a1, b1], [a1, b2], [a1, b3]], [[a2, b1], [a2, b2], [a2, b3]], [[a3, b1], [a3, b2], [a3, b3]]を生成）\n",
    "                mesh_f0, mesh_f1 = np.meshgrid(np.arange(np.min(X[:,0])-0.5, np.max(X[:,0])+0.5, step), np.arange(np.min(X[:,1])-0.5, np.max(X[:,1])+0.5, step))\n",
    "\n",
    "                #多次元を一次元配列に\n",
    "                mesh = np.c_[np.ravel(mesh_f0),np.ravel(mesh_f1)]\n",
    "                pred = self.predict(mesh).reshape(mesh_f0.shape)\n",
    "\n",
    "                #plot\n",
    "                fig, ax = plt.subplots(1,1, figsize=(6,4 ))\n",
    "                ax.set_title(title)\n",
    "                ax.set_xlabel(xlabel)\n",
    "                ax.set_ylabel(ylabel)\n",
    "                #等高線塗りつぶし\n",
    "                ax.contourf(mesh_f0, mesh_f1, pred, n_class-1, cmap=ListedColormap(contourf_color))\n",
    "                #等高線塗りつぶし\n",
    "                ax.contour(mesh_f0, mesh_f1, pred, n_class-1, colors='y', linewidths=3, alpha = 0.5)\n",
    "                #重複しない要素に対して, 答えをプロット\n",
    "                for i, target in enumerate(set(np.unique(y))):\n",
    "                    ax.scatter(X[y==target][:, 0], X[y==target][:, 1], s=20, color=scatter_color[i], label=target_names[i], marker='o')\n",
    "\n",
    "                #trainデータに関してプロットしている時には\n",
    "                if (self._check_same_ary(y, self._train_y)):\n",
    "                    #support vectorを黄色に\n",
    "                    ax.scatter(X[self.sv_idx, 0], X[self.sv_idx, 1], s=20, color='yellow' , label='supprt vector', marker='o')\n",
    "\n",
    "                ax.legend()\n",
    "\n",
    "\n",
    "                #return値無し\n",
    "                return\n",
    "\n",
    "        def _check_same_ary(self, a, b):\n",
    "                return (a == b).all() if (a.shape == b.shape) else False\n",
    "\n",
    "        #学習曲線Plot用の関数\n",
    "        def plot_learning_curve(self):\n",
    "                fig, ax = plt.subplots(1,1, figsize=(4,4 ))\n",
    "                ax.plot(np.array(range(self.iter)), self.cost, \"-\", label = 'train')\n",
    "\n",
    "                #label\n",
    "                ax.set_title('Learning Curve')\n",
    "                ax.set_xlabel('n of iterations')\n",
    "                ax.set_ylabel('Lagrangian')\n",
    "                ax.legend()"
   ]
  },
  {
   "cell_type": "markdown",
   "metadata": {},
   "source": [
    "## 【問題3】指標値の算出\n",
    "分類に関する指標値で精度を確認してください。"
   ]
  },
  {
   "cell_type": "markdown",
   "metadata": {},
   "source": [
    "## 【問題4】決定領域の可視化\n",
    "2値分類のデータセットに対して決定領域を可視化してください。\n",
    "\n",
    "これまで使用してきた関数に、サポートベクターを色を変えて表示する機能を加えてください。\n",
    "\n",
    "特にSprint0で作成したシンプルデータセット1に対して以下のように分類ができるかを検証してください。"
   ]
  },
  {
   "cell_type": "markdown",
   "metadata": {},
   "source": [
    "## 【問題5】時間の計測\n",
    "SVMの学習には時間がかかるため、効率的な実装が望まれます。事前学習期間に行なったように、時間を計測して改善していきましょう。特に \n",
    "λ\n",
    " の更新部分は繰り返し処理が多いため、効率的なコードを目指してください。"
   ]
  },
  {
   "cell_type": "markdown",
   "metadata": {},
   "source": [
    "問題3-5を合わせて確認した。"
   ]
  },
  {
   "cell_type": "markdown",
   "metadata": {},
   "source": [
    "### データセットの準備"
   ]
  },
  {
   "cell_type": "code",
   "execution_count": 6,
   "metadata": {},
   "outputs": [],
   "source": [
    "import numpy as np\n",
    "\n",
    "np.random.seed(seed=0)\n",
    "n_samples = 100\n",
    "f0 = [-1, 2]\n",
    "f1 = [2, -1]\n",
    "cov = [[1.0,0.8], [0.8, 1.0]]\n",
    "\n",
    "f0 = np.random.multivariate_normal(f0, cov, int(n_samples/2))\n",
    "f1 = np.random.multivariate_normal(f1, cov, int(n_samples/2))\n",
    "\n",
    "X = np.concatenate((f0, f1))\n",
    "y = np.concatenate((np.ones((int(n_samples/2))), np.ones((int(n_samples/2))) *(-1))).astype(np.int)\n",
    "\n",
    "random_index = np.random.permutation(np.arange(n_samples))\n",
    "X = X[random_index]\n",
    "y = y[random_index]"
   ]
  },
  {
   "cell_type": "code",
   "execution_count": 7,
   "metadata": {
    "scrolled": true
   },
   "outputs": [
    {
     "name": "stderr",
     "output_type": "stream",
     "text": [
      "/Users/ohmori/anaconda3/lib/python3.6/site-packages/sklearn/model_selection/_split.py:2179: FutureWarning: From version 0.21, test_size will always complement train_size unless both are specified.\n",
      "  FutureWarning)\n"
     ]
    }
   ],
   "source": [
    "from sklearn.model_selection import  train_test_split\n",
    "#split arrays into two (train, test)\n",
    "#shuffling is True by default\n",
    "X_train, X_test, y_train, y_test = train_test_split(X, y, train_size=3/4)"
   ]
  },
  {
   "cell_type": "code",
   "execution_count": 8,
   "metadata": {},
   "outputs": [
    {
     "name": "stdout",
     "output_type": "stream",
     "text": [
      "(75, 2)\n",
      "(25, 2)\n",
      "(75,)\n",
      "(25,)\n"
     ]
    }
   ],
   "source": [
    "#confirm if correctly split\n",
    "print(X_train.shape)\n",
    "print(X_test.shape)\n",
    "print(y_train.shape)\n",
    "print(y_test.shape)"
   ]
  },
  {
   "cell_type": "code",
   "execution_count": 9,
   "metadata": {},
   "outputs": [],
   "source": [
    "#Standardize\n",
    "from sklearn.preprocessing import StandardScaler\n",
    "\n",
    "scaler = StandardScaler()\n",
    "#trainデータからmeanとstdevを計算\n",
    "scaler.fit(X_train)\n",
    "#normarize x -> (x - x_mean)/s\n",
    "X_train_z = scaler.transform(X_train)\n",
    "X_test_z = scaler.transform(X_test)"
   ]
  },
  {
   "cell_type": "markdown",
   "metadata": {},
   "source": [
    "### 学習、推定、評価"
   ]
  },
  {
   "cell_type": "markdown",
   "metadata": {},
   "source": [
    "pyファイルはこちら<br>\n",
    "* [課題1](https://github.com/ohmorimori/diveintocode-ml/blob/master/diveintocode-term1/ml-scratch/model/scratch_svm_classifier_linear.py)\n",
    "* [課題2](https://github.com/ohmorimori/diveintocode-ml/blob/master/diveintocode-term1/ml-scratch/model/scratch_svm_classifier.py)"
   ]
  },
  {
   "cell_type": "code",
   "execution_count": 3,
   "metadata": {},
   "outputs": [],
   "source": [
    "import sys\n",
    "\n",
    "str = \"/Users/ohmori/diveintocode-ml/diveintocode-term1/ml-scratch/model\"\n",
    "if str not in sys.path:\n",
    "    sys.path.append(str)"
   ]
  },
  {
   "cell_type": "code",
   "execution_count": 4,
   "metadata": {},
   "outputs": [],
   "source": [
    "#スクラッチで書いたSVCのクラスをインポート\n",
    "from scratch_svm_classifier_linear import ScratchSVMClassifier_linear\n",
    "from scratch_svm_classifier import ScratchSVMClassifier"
   ]
  },
  {
   "cell_type": "code",
   "execution_count": 10,
   "metadata": {},
   "outputs": [
    {
     "name": "stdout",
     "output_type": "stream",
     "text": [
      "fit, predictまでの時間 47.14109396934509  sec\n",
      "actual:  [ 1 -1 -1 -1  1  1 -1  1  1 -1  1 -1  1  1  1  1 -1  1  1 -1  1 -1 -1 -1\n",
      " -1]\n",
      "predict:  [[ 1 -1 -1 -1  1  1 -1  1  1 -1  1 -1  1  1  1  1 -1  1  1 -1  1 -1 -1 -1\n",
      "  -1]]\n",
      "Correct/Wrong:  [[ True  True  True  True  True  True  True  True  True  True  True  True\n",
      "   True  True  True  True  True  True  True  True  True  True  True  True\n",
      "   True]]\n"
     ]
    },
    {
     "data": {
      "image/png": "[encoded data removed]",
      "text/plain": [
       "<Figure size 432x288 with 1 Axes>"
      ]
     },
     "metadata": {
      "needs_background": "light"
     },
     "output_type": "display_data"
    },
    {
     "data": {
      "image/png": "[encoded data removed]",
      "text/plain": [
       "<Figure size 288x288 with 1 Axes>"
      ]
     },
     "metadata": {
      "needs_background": "light"
     },
     "output_type": "display_data"
    }
   ],
   "source": [
    "import time\n",
    "#Linear kernel (for文でkernel関数を呼び出して計算)\n",
    "clf_ln = ScratchSVMClassifier(num_iter=500, lr = 2*10**(-5), lmbd_threshold = 3*10**(-3), kernel='linear')\n",
    "\n",
    "#開始時間\n",
    "t0 = time.time()\n",
    "clf_ln.fit(X_train, y_train, X_test, y_test)\n",
    "pred = clf_ln.predict(X_test)\n",
    "lap = time.time()\n",
    "print(\"fit, predictまでの時間\", lap - t0, \" sec\")\n",
    "print(\"actual: \", y_test)\n",
    "print(\"predict: \", pred)\n",
    "print(\"Correct/Wrong: \", pred == y_test)\n",
    "\n",
    "clf_ln.decision_region(X_train, y_train)\n",
    "clf_ln.plot_learning_curve()"
   ]
  },
  {
   "cell_type": "code",
   "execution_count": 15,
   "metadata": {},
   "outputs": [],
   "source": [
    "from sklearn.metrics import accuracy_score\n",
    "from sklearn.metrics import precision_score\n",
    "from sklearn.metrics import recall_score\n",
    "from sklearn.metrics import f1_score\n",
    "\n",
    "#predictの評価の表示\n",
    "def show_evaluation(y_test, pred):\n",
    "    print(\"----------------------------------------\")\n",
    "    print(\"Accuracy: \", accuracy_score(y_test, pred))\n",
    "    print(\"Precision: \", precision_score(y_test, pred))\n",
    "    print(\"Recall: \", recall_score(y_test, pred))\n",
    "    print(\"f1 : \", f1_score(y_test, pred))\n",
    "    print(\"----------------------------------------\")"
   ]
  },
  {
   "cell_type": "code",
   "execution_count": 19,
   "metadata": {
    "scrolled": true
   },
   "outputs": [
    {
     "name": "stdout",
     "output_type": "stream",
     "text": [
      "----------------------------------------\n",
      "Accuracy:  1.0\n",
      "Precision:  1.0\n",
      "Recall:  1.0\n",
      "f1 :  1.0\n",
      "----------------------------------------\n"
     ]
    }
   ],
   "source": [
    "show_evaluation(y_test, pred.reshape(-1,))"
   ]
  },
  {
   "cell_type": "code",
   "execution_count": 20,
   "metadata": {
    "scrolled": false
   },
   "outputs": [
    {
     "name": "stdout",
     "output_type": "stream",
     "text": [
      "fit, predictまでの時間 0.025378942489624023  sec\n",
      "actual:  [ 1 -1 -1 -1  1  1 -1  1  1 -1  1 -1  1  1  1  1 -1  1  1 -1  1 -1 -1 -1\n",
      " -1]\n",
      "predict:  [[ 1 -1 -1 -1  1  1 -1  1  1 -1  1 -1  1  1  1  1 -1  1  1 -1  1 -1 -1 -1\n",
      "  -1]]\n",
      "Correct/Wrong:  [[ True  True  True  True  True  True  True  True  True  True  True  True\n",
      "   True  True  True  True  True  True  True  True  True  True  True  True\n",
      "   True]]\n"
     ]
    },
    {
     "data": {
      "image/png": "[encoded data removed]",
      "text/plain": [
       "<Figure size 432x288 with 1 Axes>"
      ]
     },
     "metadata": {
      "needs_background": "light"
     },
     "output_type": "display_data"
    },
    {
     "data": {
      "image/png": "[encoded data removed]",
      "text/plain": [
       "<Figure size 288x288 with 1 Axes>"
      ]
     },
     "metadata": {
      "needs_background": "light"
     },
     "output_type": "display_data"
    }
   ],
   "source": [
    "import time\n",
    "\n",
    "# Linear kernel(linearのkernel関数に関して、行列計算で実装)\n",
    "clf_ln_matrix = ScratchSVMClassifier_linear(num_iter=500, lr = 2*10**(-5), lmbd_threshold = 3*10**(-3))\n",
    "\n",
    "#開始時間\n",
    "t0 = time.time()\n",
    "clf_ln_matrix.fit(X_train, y_train, X_test, y_test)\n",
    "pred = clf_ln_matrix.predict(X_test)\n",
    "lap = time.time()\n",
    "print(\"fit, predictまでの時間\", lap - t0, \" sec\")\n",
    "print(\"actual: \", y_test)\n",
    "print(\"predict: \", pred)\n",
    "print(\"Correct/Wrong: \", pred == y_test)\n",
    "\n",
    "clf_ln_matrix.decision_region(X_train, y_train)\n",
    "clf_ln_matrix.plot_learning_curve()"
   ]
  },
  {
   "cell_type": "code",
   "execution_count": 21,
   "metadata": {},
   "outputs": [
    {
     "name": "stdout",
     "output_type": "stream",
     "text": [
      "fit, predictまでの時間 66.19136714935303  sec\n",
      "actual:  [ 1 -1 -1 -1  1  1 -1  1  1 -1  1 -1  1  1  1  1 -1  1  1 -1  1 -1 -1 -1\n",
      " -1]\n",
      "predict:  [[ 1 -1 -1 -1  1  1 -1  1  1 -1  1 -1  1  1  1  1 -1  1  1 -1  1 -1 -1 -1\n",
      "  -1]]\n",
      "Correct/Wrong:  [[ True  True  True  True  True  True  True  True  True  True  True  True\n",
      "   True  True  True  True  True  True  True  True  True  True  True  True\n",
      "   True]]\n"
     ]
    },
    {
     "data": {
      "image/png": "[encoded data removed]",
      "text/plain": [
       "<Figure size 432x288 with 1 Axes>"
      ]
     },
     "metadata": {
      "needs_background": "light"
     },
     "output_type": "display_data"
    },
    {
     "data": {
      "image/png": "[encoded data removed]",
      "text/plain": [
       "<Figure size 288x288 with 1 Axes>"
      ]
     },
     "metadata": {
      "needs_background": "light"
     },
     "output_type": "display_data"
    }
   ],
   "source": [
    "import time\n",
    "#Polynomial kernel\n",
    "\n",
    "clf_pl = ScratchSVMClassifier(num_iter=500, lr = 2*10**(-5), lmbd_threshold = 3*10**(-3), kernel='rbf', kernel_params=[1, 1, 3] )\n",
    "\n",
    "#開始時間\n",
    "t0 = time.time()\n",
    "clf_pl.fit(X_train, y_train, X_test, y_test)\n",
    "pred = clf_pl.predict(X_test)\n",
    "lap = time.time()\n",
    "print(\"fit, predictまでの時間\", lap - t0, \" sec\")\n",
    "print(\"actual: \", y_test)\n",
    "print(\"predict: \", pred)\n",
    "print(\"Correct/Wrong: \", pred == y_test)\n",
    "clf_pl.decision_region(X_train, y_train)\n",
    "clf_pl.plot_learning_curve()"
   ]
  },
  {
   "cell_type": "code",
   "execution_count": 191,
   "metadata": {},
   "outputs": [
    {
     "name": "stdout",
     "output_type": "stream",
     "text": [
      "fit, predictまでの時間 0.006242990493774414  sec\n",
      "actual:  [ 1 -1 -1 -1  1  1 -1  1  1 -1  1 -1  1  1  1  1 -1  1  1 -1  1 -1 -1 -1\n",
      " -1]\n",
      "predict:  [ 1 -1 -1 -1  1  1 -1  1  1 -1  1 -1  1  1  1  1 -1  1  1 -1  1 -1 -1 -1\n",
      " -1]\n",
      "Correct/Wrong:  [ True  True  True  True  True  True  True  True  True  True  True  True\n",
      "  True  True  True  True  True  True  True  True  True  True  True  True\n",
      "  True]\n"
     ]
    },
    {
     "name": "stderr",
     "output_type": "stream",
     "text": [
      "/Users/ohmori/anaconda3/lib/python3.6/site-packages/sklearn/svm/base.py:196: FutureWarning: The default value of gamma will change from 'auto' to 'scale' in version 0.22 to account better for unscaled features. Set gamma explicitly to 'auto' or 'scale' to avoid this warning.\n",
      "  \"avoid this warning.\", FutureWarning)\n"
     ]
    }
   ],
   "source": [
    "#sklearnと比較\n",
    "from sklearn.svm import SVC\n",
    "\n",
    "clf = SVC()\n",
    "\n",
    "#開始時間\n",
    "t0 = time.time()\n",
    "clf.fit(X_train, y_train)\n",
    "pred = clf.predict(X_test)\n",
    "lap = time.time()\n",
    "print(\"fit, predictまでの時間\", lap - t0, \" sec\")\n",
    "\n",
    "print(\"actual: \", y_test)\n",
    "print(\"predict: \", pred)\n",
    "print(\"Correct/Wrong: \", pred == y_test)"
   ]
  },
  {
   "cell_type": "markdown",
   "metadata": {},
   "source": [
    "linearはkernel関数使わないと10^3オーダーで早くなった。"
   ]
  }
 ],
 "metadata": {
  "kernelspec": {
   "display_name": "Python 3",
   "language": "python",
   "name": "python3"
  },
  "language_info": {
   "codemirror_mode": {
    "name": "ipython",
    "version": 3
   },
   "file_extension": ".py",
   "mimetype": "text/x-python",
   "name": "python",
   "nbconvert_exporter": "python",
   "pygments_lexer": "ipython3",
   "version": "3.6.8"
  }
 },
 "nbformat": 4,
 "nbformat_minor": 2
}
