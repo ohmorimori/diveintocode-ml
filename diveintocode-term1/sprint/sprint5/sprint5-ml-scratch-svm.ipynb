{
 "cells": [
  {
   "cell_type": "markdown",
   "metadata": {},
   "source": [
    "# Sprint5課題 機械学習スクラッチSVM"
   ]
  },
  {
   "cell_type": "markdown",
   "metadata": {},
   "source": [
    "## 【問題1】SVM分類器のクラスを作成する\n",
    "SVM分類器のクラスを作成し、Sprint0で作成した分類のパイプラインに組み込んでください。\n",
    "\n",
    "クラスの基本構造はSprint3の線形回帰を参考にし、名前はScratchSVMClassifierとしてください。\n",
    "\n",
    "メソッドやパラメータなどはscikit-learnを参考にしてください。\n",
    "\n",
    "sklearn.svm.SVC — scikit-learn 0.20.2 documentation\n",
    "\n",
    "検証段階ではJupyter Notebook上で書いていき、最終的にはpyファイルにモジュールとしてまとめてください。\n",
    "\n",
    "scikit-learnにおけるパラメータについて\n",
    "\n",
    "scikit-learnの実装はソフトマージンSVMになっています。ハードマージンSVMを再現するには、パラメータCをC=1e10のように非常に大きな値を設定します。（無限大に向けてCを大きくするほどハードマージンSVMに近づきます）\n",
    "\n",
    "また、線形カーネルをscikit-learnで使う場合はkernel=\"linear\"と指定します。デフォルトではkernel=\"rbf\"になっており、多項式カーネルと呼ばれるものになっています。"
   ]
  },
  {
   "cell_type": "code",
   "execution_count": 46,
   "metadata": {},
   "outputs": [],
   "source": [
    "#まずはイメージを掴む"
   ]
  },
  {
   "cell_type": "code",
   "execution_count": 282,
   "metadata": {},
   "outputs": [
    {
     "data": {
      "text/plain": [
       "array([[ 0.87672677, -1.82691138],\n",
       "       [-0.40318831,  0.94940552],\n",
       "       [-0.16325495, -0.08645528],\n",
       "       [-0.43046191,  1.14937938],\n",
       "       [ 0.29751435,  0.04402228],\n",
       "       [ 0.64305455,  0.58822493],\n",
       "       [ 0.21258705,  1.5470315 ],\n",
       "       [-0.06028753,  0.27808105],\n",
       "       [-0.64295255,  0.15011523],\n",
       "       [ 1.58776152, -0.6432576 ],\n",
       "       [-1.13359283,  0.99675964],\n",
       "       [-0.14876615,  0.0960042 ],\n",
       "       [-0.0451133 ,  0.07912172],\n",
       "       [ 0.85053068, -0.83912419],\n",
       "       [-1.01177408,  0.08496814],\n",
       "       [-1.60643969, -1.37305354],\n",
       "       [ 1.86668315,  0.75746833],\n",
       "       [-0.01005647,  1.23800694],\n",
       "       [-1.04059923, -0.31560312],\n",
       "       [ 0.62345361,  0.89067168],\n",
       "       [ 0.51291685, -2.54123881],\n",
       "       [-0.96808212,  0.47706809],\n",
       "       [-0.35595149,  2.54023162],\n",
       "       [ 0.9265583 ,  0.55808188],\n",
       "       [-1.11694955, -0.03529674],\n",
       "       [ 0.24120396,  1.12778363],\n",
       "       [ 0.8811311 ,  1.03298919],\n",
       "       [-0.92391202,  1.4121517 ],\n",
       "       [-1.38043075, -0.53591456],\n",
       "       [ 0.43077113, -0.14989159]])"
      ]
     },
     "execution_count": 282,
     "metadata": {},
     "output_type": "execute_result"
    }
   ],
   "source": [
    "import numpy as np\n",
    "N = 30\n",
    "d = 2\n",
    "#n_samples = 30, n_features = 2\n",
    "A = np.random.randn(N, d)\n",
    "A"
   ]
  },
  {
   "cell_type": "code",
   "execution_count": 280,
   "metadata": {},
   "outputs": [],
   "source": [
    "def f(x, y):\n",
    "    return x - y"
   ]
  },
  {
   "cell_type": "code",
   "execution_count": 281,
   "metadata": {},
   "outputs": [
    {
     "data": {
      "text/plain": [
       "array([-1, -1, -1, -1, -1, -1, -1,  1,  1,  1,  1, -1,  1,  1, -1, -1, -1,\n",
       "        1,  1, -1,  1,  1, -1,  1, -1,  1, -1,  1, -1, -1])"
      ]
     },
     "execution_count": 281,
     "metadata": {},
     "output_type": "execute_result"
    }
   ],
   "source": [
    "b= np.array([1 if f(x, y) > 0 else - 1 for x, y in A])\n",
    "b"
   ]
  },
  {
   "cell_type": "code",
   "execution_count": 283,
   "metadata": {},
   "outputs": [
    {
     "data": {
      "text/plain": [
       "array([0., 0., 0., 0., 0., 0., 0., 0., 0., 0., 0., 0., 0., 0., 0., 0., 0.,\n",
       "       0., 0., 0., 0., 0., 0., 0., 0., 0., 0., 0., 0., 0.])"
      ]
     },
     "execution_count": 283,
     "metadata": {},
     "output_type": "execute_result"
    }
   ],
   "source": [
    "#Lagrange coefficient\n",
    "lmbd = np.zeros(N)\n",
    "lmbd"
   ]
  },
  {
   "cell_type": "code",
   "execution_count": 284,
   "metadata": {},
   "outputs": [],
   "source": [
    "def kernel(X_i, X_j):\n",
    "    X_i = X_i.reshape(1, -1)\n",
    "    X_j = X_j.reshape(1, -1)\n",
    "    return np.dot(X_i, X_j.T)"
   ]
  },
  {
   "cell_type": "markdown",
   "metadata": {},
   "source": [
    "$$\n",
    "L(\\lambda) = \\sum_{i=1}^{n}\\lambda_{i} - \\frac{1}{2}\\sum_{i=1}^{n}\\sum_{j=1}^{n}(\\lambda_{i}\\lambda_{j}y_{i}y_{j}x_{i}^{T}x_{j})\n",
    "$$\n",
    "\n",
    "これを$\\lambda$に対して最大化する\n",
    "\n",
    "$$\n",
    "\\begin{eqnarray}\n",
    "\\frac{\\partial L}{\\partial \\lambda_{j}} &=& 1- \\sum_{i=1}^{n}\\lambda_{i}y_{i}y_{j}x_{i}^{T}x_{j} - \\sum_{i=1}^{n}\\lambda_{i}y_{i}y_{j}\\\\\n",
    "&=& 1- x_{j}y_{j}\\sum_{i=1}^{n}\\lambda_{i}y_{i}x_{i}^{T} - y_{j}\\sum_{i=1}^{n}\\lambda_{i}y_{i}\n",
    "\\end{eqnarray}\n",
    "$$\n"
   ]
  },
  {
   "cell_type": "code",
   "execution_count": 285,
   "metadata": {},
   "outputs": [
    {
     "data": {
      "text/plain": [
       "array([0.00508042, 0.00495836, 0.00500364, 0.00494957, 0.00499833,\n",
       "       0.00497486, 0.00493262, 0.00501221, 0.00500706, 0.00497071,\n",
       "       0.00504453, 0.00499569, 0.00500349, 0.00496268, 0.00499547,\n",
       "       0.00505869, 0.00496866, 0.00505412, 0.0049871 , 0.0049616 ,\n",
       "       0.00488853, 0.00502167, 0.00488845, 0.00502382, 0.00500066,\n",
       "       0.00504931, 0.00495547, 0.00506275, 0.00502241, 0.00500693])"
      ]
     },
     "execution_count": 285,
     "metadata": {},
     "output_type": "execute_result"
    }
   ],
   "source": [
    "#lambdaの更新\n",
    "\n",
    "lr = 10**(-5)\n",
    "n_samples = len(A)\n",
    "\n",
    "for i in range(500):\n",
    "    #sgm = 0.0\n",
    "    for s in range(n_samples):\n",
    "        sgm = 0.0\n",
    "        for t in range(n_samples):\n",
    "            #sgm += (lmbd[t]*b[s]*b[t]*kernel(A[s, :], A[t, :]) + lmbd[s]*b[s]*b[t])\n",
    "            sgm += (lmbd[t]*b[s]*b[t]*kernel(A[s, :], A[t, :]) )\n",
    "        lmbd[s] = lmbd[s] + lr*(1-sgm)\n",
    "lmbd"
   ]
  },
  {
   "cell_type": "code",
   "execution_count": 286,
   "metadata": {},
   "outputs": [
    {
     "data": {
      "text/plain": [
       "array([ 0.00029721, -0.0170076 ])"
      ]
     },
     "execution_count": 286,
     "metadata": {},
     "output_type": "execute_result"
    }
   ],
   "source": [
    "\"\"\"\n",
    "#thetaの算出\n",
    "theta = np.dot((lmbd*y).T, X)\n",
    "theta\n",
    "\"\"\"\n",
    "\n",
    "#lmbd > 0となるサンプルのみTrueに\n",
    "#サポートベクター\n",
    "index = lmbd > 0\n",
    "#thetaの算出\n",
    "theta = np.dot((lmbd[index]*b[index]), A[index, :])\n",
    "theta"
   ]
  },
  {
   "cell_type": "code",
   "execution_count": 287,
   "metadata": {},
   "outputs": [
    {
     "data": {
      "text/plain": [
       "-0.12898115899454163"
      ]
     },
     "execution_count": 287,
     "metadata": {},
     "output_type": "execute_result"
    }
   ],
   "source": [
    "#theta_0の算出\n",
    "theta_0 = (b[index] - np.dot(theta, A[index].T)).sum()/index.sum()\n",
    "theta_0"
   ]
  },
  {
   "cell_type": "code",
   "execution_count": 210,
   "metadata": {},
   "outputs": [
    {
     "name": "stdout",
     "output_type": "stream",
     "text": [
      "(300,)\n"
     ]
    },
    {
     "data": {
      "text/plain": [
       "[<matplotlib.lines.Line2D at 0x1a24fbf6d8>]"
      ]
     },
     "execution_count": 210,
     "metadata": {},
     "output_type": "execute_result"
    },
    {
     "data": {
      "image/png": "[encoded data removed]",
      "text/plain": [
       "<Figure size 432x432 with 1 Axes>"
      ]
     },
     "metadata": {
      "needs_background": "light"
     },
     "output_type": "display_data"
    }
   ],
   "source": [
    "import matplotlib.pyplot as plt\n",
    "\n",
    "seq =np.arange(-3, 3, 0.02)\n",
    "print(seq.shape)\n",
    "plt.figure(figsize = (6, 6))\n",
    "plt.xlim(-3, 3)\n",
    "plt.ylim(-3, 3)\n",
    "plt.plot(seq, -(theta[0] * seq + theta_0)/theta[1] , 'k-')\n",
    "plt.plot(A[b ==  1,0], A[b ==  1,1], 'ro')\n",
    "plt.plot(A[b == -1,0], A[b == -1,1], 'bo')"
   ]
  },
  {
   "cell_type": "code",
   "execution_count": 201,
   "metadata": {},
   "outputs": [
    {
     "name": "stdout",
     "output_type": "stream",
     "text": [
      "(30, 2)\n",
      "(30,)\n",
      "(30, 2)\n",
      "(30,)\n"
     ]
    },
    {
     "data": {
      "text/plain": [
       "array([ 0.0572651 , -0.09296837])"
      ]
     },
     "execution_count": 201,
     "metadata": {},
     "output_type": "execute_result"
    }
   ],
   "source": [
    "clf = ScratchSVMClassifier(num_iter=500)\n",
    "clf.fit(A, b)\n",
    "clf.coef_"
   ]
  },
  {
   "cell_type": "code",
   "execution_count": 512,
   "metadata": {},
   "outputs": [],
   "source": [
    "import numpy as np\n",
    "import matplotlib.pyplot as plt\n",
    "from matplotlib.colors import ListedColormap\n",
    "import matplotlib.patches as mpatches\n",
    "\n",
    "class ScratchSVMClassifier():\n",
    "    \"\"\"\n",
    "    Support Vector Machineのスクラッチ実装\n",
    "    \n",
    "    Parameters\n",
    "    -------------\n",
    "    num_iter: int\n",
    "        反復数\n",
    "    lr: float\n",
    "        Learning rate\n",
    "    no_bias: bool\n",
    "        バイアス項を入れない場合はTrue\n",
    "    \n",
    "    \n",
    "    Attributes\n",
    "    -------------\n",
    "    coef_: ndarray, shape = [n_features, ]\n",
    "    loss_: ndarray, shape = [self._iter, ]\n",
    "    val_loss: ndarray, shape = [self._iter, ]\n",
    "    lmbd: ndarray, shape = [n_samples, ]\n",
    "        ラグランジュ乗数\n",
    "    \"\"\"\n",
    "    def __init__(self, num_iter=500, lr = 10**(-5), lmbd_threshold = 10**(-4), no_bias = False):\n",
    "        self.iter = num_iter\n",
    "        self.lr = lr\n",
    "        #no_bias = Trueの時はintercept = 0（切片考慮無し）に、それ以外は1に\n",
    "        self.intercept = 0 if no_bias else 1\n",
    "        # 損失を記録する配列を用意\n",
    "        self.loss = np.zeros(self.iter)\n",
    "        self.val_loss = np.zeros(self.iter)\n",
    "        self.lmbd_threshold = lmbd_threshold\n",
    "        \n",
    "        #以下、fit時に初期化するものをとりあえず空で初期化\n",
    "        \n",
    "        #サンプル数を保管\n",
    "        self.n_samples = None\n",
    "        #ラグランジュ乗数\n",
    "        self.lmbd = None\n",
    "        #support vector参照用にtrainデータをインスタンスに保管する\n",
    "        self._train_X = None\n",
    "        self._train_y = None\n",
    "        #support vectorのインデックス\n",
    "        self.sv_idx = None\n",
    "        self.coef_  = None\n",
    "        self.coef_0 = None\n",
    "        \n",
    "        #yの重複無しの要素を格納\n",
    "        self.unique_value = None\n",
    "    \n",
    "    def fit(self, X, y, X_val=None, y_val=None):\n",
    "        \"\"\"\n",
    "       SVMで学習する。検証用データが入力された場合はそれに対する損失と精度もイテレーションごとに計算する。\n",
    "\n",
    "        Parameters\n",
    "        ----------\n",
    "        X : 次の形のndarray, shape (n_samples, n_features)\n",
    "            学習用データの特徴量\n",
    "        y : 次の形のndarray, shape (n_samples, )\n",
    "            学習用データの正解値\n",
    "        X_val : 次の形のndarray, shape (n_samples, n_features)\n",
    "            検証用データの特徴量\n",
    "        y_val : 次の形のndarray, shape (n_samples, )\n",
    "            検証用データの正解値\n",
    "        \"\"\"\n",
    "        #X, yをnpのarrayにしておく\n",
    "        X = np.array(X)\n",
    "        y = np.array(y)\n",
    "\n",
    "        #-1, 1以外の２値で入力された場合への対応（例：a, bを-1, 1に変換）\n",
    "        #yの中のユニークな値を重複無しのndarrayに（[a, b, a, a, b, b] を[a, b]に ）\n",
    "        self.unique_value = np.unique(y)\n",
    "\n",
    "        #yを0, 1に変換\n",
    "        #（[a, b, a, a, b, b] がaとなる場合に0(False), bとなる場合に1(True)に ）\n",
    "        y = (y != self.unique_value[0]).astype(np.int64) \n",
    "        #yを-1, 1に変換\n",
    "        y = (1-(-1))*y - 1 \n",
    "        \n",
    "        #サンプル数をインスタンス変数に保管\n",
    "        self.n_samples = len(X)\n",
    "        #サンプル数分のラグランジュ乗数をゼロで初期化\n",
    "        self.lmbd = np.zeros(self.n_samples)\n",
    "        \n",
    "        #train dataをfit後にも参照できるように保管しておく\n",
    "        self._train_X = X\n",
    "        self._train_y = y\n",
    "\n",
    "        #lmbdを算出\n",
    "        self._update_lmbd(X, y)\n",
    "        \n",
    "        #lmbdを元にしてtheta(coef_)を算出\n",
    "        self._gradient_descent(X, y)\n",
    "    \n",
    "    def predict(self, X_test):\n",
    "        X_test = np.array(X_test)\n",
    "        \n",
    "        #この式はよくわからない\n",
    "        #pred = self.lmbd[self.sv_idx]*self._train_y[self.sv_idx]*self._linear_kernel(X_test, self._train_X[self.sv_idx])\n",
    "        \n",
    "        #pred = np.dot(self.coef_, X_test.T) + self.coef_0\n",
    "        pred = np.dot(self.coef_, X_test.T)\n",
    "        #0より大きければ1, 小さければ0に変換\n",
    "        pred = (pred > 0).astype(np.int64)\n",
    "        #0ならa, 1ならbに変換\n",
    "        pred = self.unique_value[pred]\n",
    "        return pred\n",
    "    \n",
    "    def predict_proba(self, X_test):\n",
    "        \"\"\"\n",
    "        推定する。\n",
    "\n",
    "        Parameters\n",
    "        ----------\n",
    "        X : 次の形のndarray, shape (n_samples, n_features)\n",
    "            サンプル\n",
    "\n",
    "        Returns\n",
    "        -------\n",
    "            次の形のndarray, shape (n_samples, 1)\n",
    "            線形回帰による推定結果\n",
    "        \"\"\"\n",
    "        return\n",
    "        \n",
    "    \n",
    "    def _linear_kernel(self, x1, x2):\n",
    "        \"\"\"\n",
    "        Parameters\n",
    "        -----------\n",
    "        x1: ndarray of shape(n_features, )\n",
    "        x2: ndarray of shape(n_features, )\n",
    "\n",
    "        Returns\n",
    "        -----------\n",
    "        A scaler value processed with linear kernel function\n",
    "\n",
    "        Note\n",
    "        -----------\n",
    "        \"\"\"\n",
    "        #(n_features, )を念の為(1, n_features)に整形\n",
    "        x1 = x1.reshape(1, -1)\n",
    "        x2 = x2.reshape(1, -1)\n",
    "        \n",
    "        return np.dot(x1, x2.T)\n",
    "    \n",
    "    def _gaiussian_kernel(x1, x2, gamma):\n",
    "        \"\"\"\n",
    "        Parameters\n",
    "        -----------\n",
    "        z: ndarray of shape(any, any)\n",
    "\n",
    "        Returns\n",
    "        -----------\n",
    "        kernel\n",
    "\n",
    "        Note\n",
    "        -----------\n",
    "        \"\"\"\n",
    "        \n",
    "        diff = x1 - x2\n",
    "        return np.exp(-gamma * np.dot(diff, diff))\n",
    "    \n",
    "    def _update_lmbd(self, X, y):\n",
    "        \"\"\"\n",
    "        Parameters\n",
    "        -----------\n",
    "        X: ndarray of shape (n_samples, n_features)\n",
    "        y: ndarray of shape (n_samples, 1)\n",
    "        \n",
    "        Returns\n",
    "        -----------\n",
    "        none\n",
    "\n",
    "        Note\n",
    "        -----------\n",
    "        update instance variable of lagrange coefficient lambda\n",
    "        \n",
    "        \"\"\"\n",
    "        for i in range(self.iter):\n",
    "            for s in range(self.n_samples):\n",
    "                #行ごとの計算を一時保管\n",
    "                sgm = 0.0\n",
    "                for t in range(self.n_samples):\n",
    "                    #任意の２行同士の要素を計算するために, s番目とt番目のサンプルでn^2のループ\n",
    "                    sgm += self.lmbd[t]*y[s]*y[t]*self._linear_kernel(X[s, :], X[t, :]) + self.lmbd[s]*y[s]*y[t]\n",
    "                \n",
    "                #合計値と学習率を用いてlmbdを更新\n",
    "                self.lmbd[s] = self.lmbd[s] + self.lr*(1-sgm)\n",
    "            #iterごとのコストを保管\n",
    "            self.loss[i] = self._L(X, y)\n",
    "            \n",
    "        #return値無し（インスタンス変数を更新する）\n",
    "        return\n",
    "\n",
    "    def _L(self, X, y):\n",
    "        #print((self.lmbd * y).shape)\n",
    "        #print(((self.lmbd * y) @ X).shape)\n",
    "        #print((X.T).shape)\n",
    "        \n",
    "        #return  self.lmbd.sum() - (self.lmbd @ (self.lmbd).reshape(-1, 1)) * ((y @ X) @ (X.T @  y.reshape(-1, 1)))/2\n",
    "        return  self.lmbd.sum() - (((self.lmbd * y) @ X) @ (X.T @ ((self.lmbd).reshape(-1, 1) * y.reshape(-1, 1))))/2\n",
    "    def _gradient_descent(self, X, y):\n",
    "        \"\"\"\n",
    "        Parameters\n",
    "        -----------\n",
    "        X: ndarray of shape (n_samples, n_features)\n",
    "        y: ndarray of shape (1, n_samples)\n",
    "        \n",
    "        Returns\n",
    "        -----------\n",
    "        none\n",
    "\n",
    "        Note\n",
    "        -----------\n",
    "        update coefficient of each features in X (theta)\n",
    "        \n",
    "        \"\"\"\n",
    "        #lambda > 0を満たしているものをサポートベクターとしてTrueでラベルしてインデックスに使用\n",
    "        #サポートベクトルを絞るため、便宜上lmbd = 0.0001などにする\n",
    "        self.sv_idx = (self.lmbd > self.lmbd_threshold)\n",
    "\n",
    "        #thetaの算出\n",
    "        self.coef_ = np.dot(self.lmbd[self.sv_idx]*y[self.sv_idx], X[self.sv_idx, :])\n",
    "        #theta_0の算出\n",
    "        self.coef_0 =  (y[self.sv_idx] - np.dot(self.coef_, X[self.sv_idx].T)).sum()/self.sv_idx.sum()\n",
    "        \n",
    "        \"\"\"\n",
    "        #thetaの算出\n",
    "        self.coef_ = np.dot(self.lmbd[self.sv_idx]*y[self.sv_idx], X[self.sv_idx, :])\n",
    "        print(self.coef_.shape)\n",
    "        #theta_0の算出\n",
    "        theta_0 =  (y[self.sv_idx] - np.dot(self.coef_, X[self.sv_idx].T)).sum()/self.sv_idx.sum()\n",
    "        theta_0 = np.array(theta_0)\n",
    "        \n",
    "        #self.coef_の先頭（列方向）にtheta_0を追加\n",
    "        self.coef_ = np.insert(self.coef_, 0, theta_0)\n",
    "        \"\"\"\n",
    "        return\n",
    "\n",
    "    def decision_region(self, X, y, step=0.01, title='decision region', xlabel='xlabel', ylabel='ylabel',  target_names=['1', '-1']):\n",
    "        \"\"\"\n",
    "        ２値分類を２次元の特徴量で学習したモデルの決定領域を描く\n",
    "        背景の色が学習したモデルによる推定値から描画される\n",
    "        散布図の点は学習用のデータである。\n",
    "\n",
    "        Parameters\n",
    "        ---------------\n",
    "        X: ndarray, shape(n_samples, 2)\n",
    "            特徴量\n",
    "        y: ndarray, shape(n_samples,)\n",
    "            正解値\n",
    "        model: object\n",
    "            学習したモデルのインスタンスを入れる\n",
    "        step: float, (default: 0.1)\n",
    "            推定値を計算する間隔を設定する\n",
    "        title: str\n",
    "            グラフのタイトルの文章を与える\n",
    "        xlabel, ylabel: str\n",
    "            軸ラベルの文章を与える\n",
    "        target_names=: list of str\n",
    "            凡例の一覧を与える\n",
    "        ---------------\n",
    "        \"\"\"\n",
    "        #setting\n",
    "        scatter_color = ['red', 'blue']\n",
    "        contourf_color = ['skyblue', 'pink']\n",
    "        n_class = 2\n",
    "        \n",
    "        \n",
    "        #pred\n",
    "        #各特徴量に対してメッシュを生成（a=(a1, a2, a3), b=(b1, b2, b3)に対して[[a1, b1], [a1, b2], [a1, b3]], [[a2, b1], [a2, b2], [a2, b3]], [[a3, b1], [a3, b2], [a3, b3]]を生成）\n",
    "        mesh_f0, mesh_f1 = np.meshgrid(np.arange(np.min(X[:,0])-0.5, np.max(X[:,0])+0.5, step), np.arange(np.min(X[:,1])-0.5, np.max(X[:,1])+0.5, step))\n",
    "\n",
    "        #多次元を一次元配列に\n",
    "        mesh = np.c_[np.ravel(mesh_f0),np.ravel(mesh_f1)]\n",
    "        pred = self.predict(mesh).reshape(mesh_f0.shape)\n",
    "\n",
    "        #plot\n",
    "        plt.title(title)\n",
    "        plt.xlabel(xlabel)\n",
    "        plt.ylabel(ylabel)\n",
    "        #等高線塗りつぶし\n",
    "        plt.contourf(mesh_f0, mesh_f1, pred, n_class-1, cmap=ListedColormap(contourf_color))\n",
    "        #等高線塗りつぶし\n",
    "        plt.contour(mesh_f0, mesh_f1, pred, n_class-1, colors='y', linewidths=3, alpha = 0.5)\n",
    "        #重複しない要素に対して, 答えをプロット\n",
    "        for i, target in enumerate(set(np.unique(y))):\n",
    "            plt.scatter(X[y==target][:, 0], X[y==target][:, 1], s=20, color=scatter_color[i], label=target_names[i], marker='o')\n",
    "\n",
    "        #trainデータに関してプロットしている時には\n",
    "        if (check_same_ary(y, self._train_y)):\n",
    "            #support vectorを黄色に\n",
    "            plt.scatter(X[self.sv_idx, 0], X[self.sv_idx, 1], s=20, color='yellow' , label='supprt vector', marker='o')\n",
    "        \n",
    "        plt.legend()\n",
    "        plt.show\n",
    "\n",
    "    def check_same_ary(self, a, b):\n",
    "        return (a == b).all() if (a.shape == b.shape) else False\n",
    "    \n",
    "    #学習曲線Plot用の関数\n",
    "    def plot_learning_curve(self):\n",
    "        fig, ax = plt.subplots(1,1, figsize=(4,4 ))\n",
    "        ax.plot(np.array(range(self.iter)), self.loss, \"-\", label = 'train')\n",
    "        #ax.plot(np.array(range(self.iter)), self.val_loss, \"-\", label = 'validation')\n",
    "\n",
    "        #label\n",
    "        ax.set_title('Learning Curve')\n",
    "        ax.set_xlabel('n of iterations')\n",
    "        ax.set_ylabel('Lagrangian')\n",
    "        ax.legend()"
   ]
  },
  {
   "cell_type": "code",
   "execution_count": 479,
   "metadata": {},
   "outputs": [],
   "source": [
    "import numpy as np\n",
    "\n",
    "np.random.seed(seed=0)\n",
    "n_samples = 100\n",
    "f0 = [-1, 2]\n",
    "f1 = [2, -1]\n",
    "cov = [[1.0,0.8], [0.8, 1.0]]\n",
    "\n",
    "f0 = np.random.multivariate_normal(f0, cov, int(n_samples/2))\n",
    "f1 = np.random.multivariate_normal(f1, cov, int(n_samples/2))\n",
    "\n",
    "X = np.concatenate((f0, f1))\n",
    "y = np.concatenate((np.ones((int(n_samples/2))), np.ones((int(n_samples/2))) *(-1))).astype(np.int)\n",
    "\n",
    "random_index = np.random.permutation(np.arange(n_samples))\n",
    "X = X[random_index]\n",
    "y = y[random_index]"
   ]
  },
  {
   "cell_type": "code",
   "execution_count": 480,
   "metadata": {},
   "outputs": [
    {
     "name": "stderr",
     "output_type": "stream",
     "text": [
      "/Users/ohmori/anaconda3/lib/python3.6/site-packages/sklearn/model_selection/_split.py:2179: FutureWarning: From version 0.21, test_size will always complement train_size unless both are specified.\n",
      "  FutureWarning)\n"
     ]
    }
   ],
   "source": [
    "from sklearn.model_selection import  train_test_split\n",
    "#split arrays into two (train, test)\n",
    "#shuffling is True by default\n",
    "X_train, X_test, y_train, y_test = train_test_split(X, y, train_size=3/4)"
   ]
  },
  {
   "cell_type": "code",
   "execution_count": 481,
   "metadata": {},
   "outputs": [
    {
     "name": "stdout",
     "output_type": "stream",
     "text": [
      "(75, 2)\n",
      "(25, 2)\n",
      "(75,)\n",
      "(25,)\n"
     ]
    }
   ],
   "source": [
    "#confirm if correctly split\n",
    "print(X_train.shape)\n",
    "print(X_test.shape)\n",
    "print(y_train.shape)\n",
    "print(y_test.shape)"
   ]
  },
  {
   "cell_type": "code",
   "execution_count": 482,
   "metadata": {},
   "outputs": [],
   "source": [
    "#Standardize\n",
    "from sklearn.preprocessing import StandardScaler\n",
    "\n",
    "scaler = StandardScaler()\n",
    "#trainデータからmeanとstdevを計算\n",
    "scaler.fit(X_train)\n",
    "#normarize x -> (x - x_mean)/s\n",
    "X_train_z = scaler.transform(X_train)\n",
    "X_test_z = scaler.transform(X_test)"
   ]
  },
  {
   "cell_type": "markdown",
   "metadata": {},
   "source": [
    "### 可視化"
   ]
  },
  {
   "cell_type": "code",
   "execution_count": 464,
   "metadata": {},
   "outputs": [
    {
     "name": "stdout",
     "output_type": "stream",
     "text": [
      "[-1 -1 -1 -1 -1 -1  1  1 -1 -1 -1 -1 -1  1 -1 -1  1 -1 -1  1  1  1 -1  1\n",
      " -1]\n",
      "[-1 -1 -1 -1 -1 -1  1  1 -1 -1 -1 -1 -1  1 -1 -1  1 -1 -1  1  1  1 -1  1\n",
      " -1]\n"
     ]
    },
    {
     "data": {
      "image/png": "[encoded data removed]",
      "text/plain": [
       "<Figure size 432x288 with 1 Axes>"
      ]
     },
     "metadata": {
      "needs_background": "light"
     },
     "output_type": "display_data"
    }
   ],
   "source": [
    "clf = ScratchSVMClassifier(num_iter=500, lr = 10**(-5), lmbd_threshold = 10**(-3))\n",
    "clf.fit(X_train, y_train)\n",
    "pred = clf.predict(X_test)\n",
    "print(y_test)\n",
    "print(pred)\n",
    "pred == y_test\n",
    "decision_region(X_train, y_train, clf)"
   ]
  },
  {
   "cell_type": "code",
   "execution_count": 465,
   "metadata": {
    "scrolled": true
   },
   "outputs": [
    {
     "name": "stdout",
     "output_type": "stream",
     "text": [
      "[-1 -1 -1 -1 -1 -1  1  1 -1 -1 -1 -1 -1  1 -1 -1  1 -1 -1  1  1  1 -1  1\n",
      " -1]\n",
      "[-1 -1 -1 -1 -1 -1  1  1 -1 -1 -1 -1 -1  1 -1 -1  1 -1 -1  1  1  1 -1  1\n",
      " -1]\n"
     ]
    },
    {
     "data": {
      "image/png": "[encoded data removed]",
      "text/plain": [
       "<Figure size 432x288 with 1 Axes>"
      ]
     },
     "metadata": {
      "needs_background": "light"
     },
     "output_type": "display_data"
    }
   ],
   "source": [
    "clf = ScratchSVMClassifier(num_iter=500, lr = 10**(-5), lmbd_threshold = 2*10**(-3))\n",
    "clf.fit(X_train, y_train)\n",
    "pred = clf.predict(X_test)\n",
    "print(y_test)\n",
    "print(pred)\n",
    "pred == y_test\n",
    "decision_region(X_train, y_train, clf)"
   ]
  },
  {
   "cell_type": "code",
   "execution_count": 515,
   "metadata": {},
   "outputs": [
    {
     "name": "stdout",
     "output_type": "stream",
     "text": [
      "[ 1 -1 -1 -1  1  1 -1  1  1 -1  1 -1  1  1  1  1 -1  1  1 -1  1 -1 -1 -1\n",
      " -1]\n",
      "[ 1 -1 -1 -1  1  1 -1  1  1 -1  1 -1  1  1  1  1 -1  1  1 -1  1 -1 -1 -1\n",
      " -1]\n"
     ]
    },
    {
     "data": {
      "image/png": "[encoded data removed]",
      "text/plain": [
       "<Figure size 432x288 with 1 Axes>"
      ]
     },
     "metadata": {
      "needs_background": "light"
     },
     "output_type": "display_data"
    }
   ],
   "source": [
    "clf = ScratchSVMClassifier(num_iter=1000, lr = 10**(-5), lmbd_threshold = 2*10**(-3))\n",
    "clf.fit(X_train, y_train, X_test, y_test)\n",
    "pred = clf.predict(X_test)\n",
    "print(y_test)\n",
    "print(pred)\n",
    "pred == y_test\n",
    "clf.decision_region(X_train, y_train)"
   ]
  },
  {
   "cell_type": "code",
   "execution_count": 516,
   "metadata": {},
   "outputs": [
    {
     "data": {
      "image/png": "[encoded data removed]",
      "text/plain": [
       "<Figure size 288x288 with 1 Axes>"
      ]
     },
     "metadata": {
      "needs_background": "light"
     },
     "output_type": "display_data"
    }
   ],
   "source": [
    "clf.plot_learning_curve()"
   ]
  },
  {
   "cell_type": "code",
   "execution_count": 416,
   "metadata": {},
   "outputs": [
    {
     "name": "stdout",
     "output_type": "stream",
     "text": [
      "[ 1 -1 -1 -1  1  1 -1  1  1 -1  1 -1  1  1  1  1 -1  1  1 -1  1 -1 -1 -1\n",
      " -1]\n",
      "[ 1 -1 -1 -1  1  1 -1  1  1 -1  1 -1  1  1  1  1 -1  1  1 -1  1 -1 -1 -1\n",
      " -1]\n"
     ]
    },
    {
     "data": {
      "image/png": "[encoded data removed]",
      "text/plain": [
       "<Figure size 432x288 with 1 Axes>"
      ]
     },
     "metadata": {
      "needs_background": "light"
     },
     "output_type": "display_data"
    }
   ],
   "source": [
    "clf = ScratchSVMClassifier(num_iter=500, lr = 10**(-5), lmbd_threshold = 3*10**(-3))\n",
    "clf.fit(X_train, y_train)\n",
    "pred = clf.predict(X_test)\n",
    "print(y_test)\n",
    "print(pred)\n",
    "pred == y_test\n",
    "decision_region(X_train, y_train, clf)"
   ]
  },
  {
   "cell_type": "code",
   "execution_count": 419,
   "metadata": {},
   "outputs": [
    {
     "name": "stdout",
     "output_type": "stream",
     "text": [
      "[ 1 -1 -1 -1  1  1 -1  1  1 -1  1 -1  1  1  1  1 -1  1  1 -1  1 -1 -1 -1\n",
      " -1]\n",
      "[ 1 -1 -1 -1  1  1 -1  1  1 -1  1 -1  1  1  1  1 -1  1  1 -1  1 -1 -1 -1\n",
      " -1]\n"
     ]
    },
    {
     "data": {
      "image/png": "[encoded data removed]",
      "text/plain": [
       "<Figure size 432x288 with 1 Axes>"
      ]
     },
     "metadata": {
      "needs_background": "light"
     },
     "output_type": "display_data"
    }
   ],
   "source": [
    "clf = ScratchSVMClassifier(num_iter=500, lr = 10**(-5), lmbd_threshold = 2.5*10**(-3))\n",
    "clf.fit(X_train, y_train)\n",
    "pred = clf.predict(X_test)\n",
    "print(y_test)\n",
    "print(pred)\n",
    "pred == y_test\n",
    "decision_region(X_train, y_train, clf)"
   ]
  },
  {
   "cell_type": "code",
   "execution_count": 423,
   "metadata": {},
   "outputs": [
    {
     "name": "stdout",
     "output_type": "stream",
     "text": [
      "[ 1 -1 -1 -1  1  1 -1  1  1 -1  1 -1  1  1  1  1 -1  1  1 -1  1 -1 -1 -1\n",
      " -1]\n",
      "[ 1 -1 -1 -1  1  1 -1  1  1 -1  1 -1  1  1  1  1 -1  1  1 -1  1 -1 -1 -1\n",
      " -1]\n"
     ]
    },
    {
     "data": {
      "image/png": "[encoded data removed]",
      "text/plain": [
       "<Figure size 432x288 with 1 Axes>"
      ]
     },
     "metadata": {
      "needs_background": "light"
     },
     "output_type": "display_data"
    }
   ],
   "source": [
    "clf = ScratchSVMClassifier(num_iter=500, lr = 10**(-5), lmbd_threshold = 2.8*10**(-3))\n",
    "clf.fit(X_train, y_train)\n",
    "pred = clf.predict(X_test)\n",
    "print(y_test)\n",
    "print(pred)\n",
    "pred == y_test\n",
    "decision_region(X_train, y_train, clf)"
   ]
  },
  {
   "cell_type": "code",
   "execution_count": null,
   "metadata": {},
   "outputs": [],
   "source": []
  },
  {
   "cell_type": "markdown",
   "metadata": {},
   "source": [
    "## To do\n",
    "* shape(n_samples, 1)に対応\n",
    "* costのプロット\n"
   ]
  },
  {
   "cell_type": "markdown",
   "metadata": {},
   "source": [
    "## 【問題2】（アドバンス課題）多項式カーネル関数の作成\n",
    "問題1では線形カーネルを使用しましたが、多項式カーネルにも切り替えられるようにしましょう。\n",
    "\n"
   ]
  },
  {
   "cell_type": "markdown",
   "metadata": {},
   "source": [
    "## 【問題3】指標値の算出\n",
    "分類に関する指標値で精度を確認してください。"
   ]
  },
  {
   "cell_type": "code",
   "execution_count": null,
   "metadata": {},
   "outputs": [],
   "source": []
  },
  {
   "cell_type": "markdown",
   "metadata": {},
   "source": [
    "## 【問題4】決定領域の可視化\n",
    "2値分類のデータセットに対して決定領域を可視化してください。\n",
    "\n",
    "これまで使用してきた関数に、サポートベクターを色を変えて表示する機能を加えてください。\n",
    "\n",
    "特にSprint0で作成したシンプルデータセット1に対して以下のように分類ができるかを検証してください。"
   ]
  },
  {
   "cell_type": "code",
   "execution_count": null,
   "metadata": {},
   "outputs": [],
   "source": []
  },
  {
   "cell_type": "markdown",
   "metadata": {},
   "source": [
    "## 【問題5】時間の計測\n",
    "SVMの学習には時間がかかるため、効率的な実装が望まれます。事前学習期間に行なったように、時間を計測して改善していきましょう。特に \n",
    "λ\n",
    " の更新部分は繰り返し処理が多いため、効率的なコードを目指してください。"
   ]
  },
  {
   "cell_type": "markdown",
   "metadata": {},
   "source": [
    "## 【問題6】ロジスティック回帰とSVM\n",
    "最終発表時に以下の内容についてディスカッションを行います。自分なりの意見を用意しておいてください。\n",
    "\n",
    "ロジスティック回帰とSVMは本質的に何が異なっているか\n"
   ]
  },
  {
   "cell_type": "code",
   "execution_count": null,
   "metadata": {},
   "outputs": [],
   "source": []
  }
 ],
 "metadata": {
  "kernelspec": {
   "display_name": "Python 3",
   "language": "python",
   "name": "python3"
  },
  "language_info": {
   "codemirror_mode": {
    "name": "ipython",
    "version": 3
   },
   "file_extension": ".py",
   "mimetype": "text/x-python",
   "name": "python",
   "nbconvert_exporter": "python",
   "pygments_lexer": "ipython3",
   "version": "3.6.8"
  }
 },
 "nbformat": 4,
 "nbformat_minor": 2
}
