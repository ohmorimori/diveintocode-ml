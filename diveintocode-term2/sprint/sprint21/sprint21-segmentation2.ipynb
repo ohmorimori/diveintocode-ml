{
 "cells": [
  {
   "cell_type": "markdown",
   "metadata": {
    "colab_type": "text",
    "id": "PtLE8fWEIk_o"
   },
   "source": [
    "# Sprint21課題 セグメンテーション2"
   ]
  },
  {
   "cell_type": "markdown",
   "metadata": {
    "colab_type": "text",
    "id": "_zq_YKfsIk_q"
   },
   "source": [
    "## 【問題1】コードレビュー\n",
    "転移学習を使用してセグメンテーションの精度を改善したコードを提示するので、レビューを行ってください。\n",
    "\n",
    "視点例\n",
    "\n",
    "Sprint20で使用した実装とはどのように違うのか\n",
    "転移学習をどのように行っているか\n",
    "[kernel](https://www.kaggle.com/wrosinski/clean-workflow-in-keras)"
   ]
  },
  {
   "cell_type": "markdown",
   "metadata": {
    "colab_type": "text",
    "id": "TfUldcU2Ik_s"
   },
   "source": [
    "概要\n",
    "* EncoderはU-netでなくResNet50の物を使っている。Decoderのみを定義している\n",
    "\n",
    "* DecoderはConvolution, BatchNormalizationとParametrized ReLU　activationからなっている\n",
    "\n",
    "* Contracting pathはEncoderであるResNet50のactivation_1, activation_10, activation_22, activation_40, activation_49からDecoderの各層に伸びている。\n",
    "\n",
    "<br>\n",
    "詳細はコードの中にコメントしていく"
   ]
  },
  {
   "cell_type": "code",
   "execution_count": 1,
   "metadata": {
    "colab": {
     "base_uri": "https://localhost:8080/",
     "height": 122
    },
    "colab_type": "code",
    "executionInfo": {
     "elapsed": 23342,
     "status": "ok",
     "timestamp": 1563880723974,
     "user": {
      "displayName": "大木 杜生Morio OHKI",
      "photoUrl": "",
      "userId": "03914199061619137174"
     },
     "user_tz": -540
    },
    "id": "LHtGw5NiJRDP",
    "outputId": "b30e838f-7cf7-4d24-d414-2d6cc98f2402"
   },
   "outputs": [
    {
     "name": "stdout",
     "output_type": "stream",
     "text": [
      "Go to this URL in a browser: https://accounts.google.com/o/oauth2/auth?client_id=947318989803-6bn6qk8qdgf4n4g3pfee6491hc0brc4i.apps.googleusercontent.com&redirect_uri=urn%3Aietf%3Awg%3Aoauth%3A2.0%3Aoob&scope=email%20https%3A%2F%2Fwww.googleapis.com%2Fauth%2Fdocs.test%20https%3A%2F%2Fwww.googleapis.com%2Fauth%2Fdrive%20https%3A%2F%2Fwww.googleapis.com%2Fauth%2Fdrive.photos.readonly%20https%3A%2F%2Fwww.googleapis.com%2Fauth%2Fpeopleapi.readonly&response_type=code\n",
      "\n",
      "Enter your authorization code:\n",
      "··········\n",
      "Mounted at /content/drive\n"
     ]
    }
   ],
   "source": [
    "from google.colab import drive\n",
    "drive.mount('/content/drive')"
   ]
  },
  {
   "cell_type": "markdown",
   "metadata": {
    "colab_type": "text",
    "id": "LT9XZasMjvNR"
   },
   "source": [
    "Kaggleからデータセット落とすためのコード"
   ]
  },
  {
   "cell_type": "code",
   "execution_count": 0,
   "metadata": {
    "colab": {},
    "colab_type": "code",
    "id": "RVY3FwEAJSeH"
   },
   "outputs": [],
   "source": [
    "!mkdir /root/kaggle\n",
    "!mv /root/kaggle /root/.kaggle"
   ]
  },
  {
   "cell_type": "code",
   "execution_count": 0,
   "metadata": {
    "colab": {},
    "colab_type": "code",
    "id": "pWlikknEJS21"
   },
   "outputs": [],
   "source": [
    "!mv /content/drive/My\\ Drive/kaggle.json /root/.kaggle"
   ]
  },
  {
   "cell_type": "code",
   "execution_count": 0,
   "metadata": {
    "colab": {},
    "colab_type": "code",
    "id": "KyacFLXjJqzP"
   },
   "outputs": [],
   "source": [
    "!chmod 600 /root/.kaggle/kaggle.json"
   ]
  },
  {
   "cell_type": "code",
   "execution_count": 5,
   "metadata": {
    "colab": {
     "base_uri": "https://localhost:8080/",
     "height": 272
    },
    "colab_type": "code",
    "executionInfo": {
     "elapsed": 13513,
     "status": "ok",
     "timestamp": 1563880837631,
     "user": {
      "displayName": "大木 杜生Morio OHKI",
      "photoUrl": "",
      "userId": "03914199061619137174"
     },
     "user_tz": -540
    },
    "id": "lx2pONOtJ6PY",
    "outputId": "70627f97-0942-471d-a322-ac87d63f85b2"
   },
   "outputs": [
    {
     "name": "stdout",
     "output_type": "stream",
     "text": [
      "Downloading depths.csv to /content\n",
      "\r",
      "  0% 0.00/322k [00:00<?, ?B/s]\n",
      "100% 322k/322k [00:00<00:00, 47.1MB/s]\n",
      "Downloading sample_submission.csv to /content\n",
      "  0% 0.00/264k [00:00<?, ?B/s]\n",
      "100% 264k/264k [00:00<00:00, 71.9MB/s]\n",
      "Downloading train.csv to /content\n",
      "  0% 0.00/922k [00:00<?, ?B/s]\n",
      "100% 922k/922k [00:00<00:00, 61.1MB/s]\n",
      "Downloading test.zip to /content\n",
      " 97% 159M/163M [00:02<00:00, 82.4MB/s]\n",
      "100% 163M/163M [00:02<00:00, 62.9MB/s]\n",
      "Downloading train.zip to /content\n",
      " 87% 33.0M/37.9M [00:00<00:00, 18.2MB/s]\n",
      "100% 37.9M/37.9M [00:01<00:00, 39.1MB/s]\n"
     ]
    }
   ],
   "source": [
    "!kaggle competitions download -c tgs-salt-identification-challenge "
   ]
  },
  {
   "cell_type": "code",
   "execution_count": 6,
   "metadata": {
    "colab": {
     "base_uri": "https://localhost:8080/",
     "height": 51
    },
    "colab_type": "code",
    "executionInfo": {
     "elapsed": 4976,
     "status": "ok",
     "timestamp": 1563880910298,
     "user": {
      "displayName": "大木 杜生Morio OHKI",
      "photoUrl": "",
      "userId": "03914199061619137174"
     },
     "user_tz": -540
    },
    "id": "IVzSxEyHj_1O",
    "outputId": "1956fb01-3eff-4c3b-c5cd-6b78587882c9"
   },
   "outputs": [
    {
     "name": "stdout",
     "output_type": "stream",
     "text": [
      "mv: cannot move '/content/data' to a subdirectory of itself, '/content/data/data'\n",
      "mv: cannot move '/content/drive' to '/content/data/drive': Device or resource busy\n"
     ]
    }
   ],
   "source": [
    "!mkdir /content/data\n",
    "!mv /content/* /content/data"
   ]
  },
  {
   "cell_type": "code",
   "execution_count": null,
   "metadata": {
    "colab": {
     "base_uri": "https://localhost:8080/",
     "height": 1000
    },
    "colab_type": "code",
    "executionInfo": {
     "elapsed": 11886,
     "status": "ok",
     "timestamp": 1563880941887,
     "user": {
      "displayName": "大木 杜生Morio OHKI",
      "photoUrl": "",
      "userId": "03914199061619137174"
     },
     "user_tz": -540
    },
    "id": "UvT4isMuKH_S",
    "outputId": "09013348-0ceb-47a1-9346-63dbb06eddaf"
   },
   "outputs": [],
   "source": [
    "!unzip /content/data/train.zip -d train\n",
    "!unzip /content/data/test.zip -d test"
   ]
  },
  {
   "cell_type": "markdown",
   "metadata": {
    "colab_type": "text",
    "id": "OQK_3-66Ik_u"
   },
   "source": [
    "### Model architecture tuning & score optimization"
   ]
  },
  {
   "cell_type": "code",
   "execution_count": 8,
   "metadata": {
    "colab": {
     "base_uri": "https://localhost:8080/",
     "height": 34
    },
    "colab_type": "code",
    "executionInfo": {
     "elapsed": 3336,
     "status": "ok",
     "timestamp": 1563880972251,
     "user": {
      "displayName": "大木 杜生Morio OHKI",
      "photoUrl": "",
      "userId": "03914199061619137174"
     },
     "user_tz": -540
    },
    "id": "BEE9yH-TIk_v",
    "outputId": "9da07120-e74b-4289-fc47-fc19384508c5"
   },
   "outputs": [
    {
     "name": "stderr",
     "output_type": "stream",
     "text": [
      "Using TensorFlow backend.\n"
     ]
    }
   ],
   "source": [
    "import gc\n",
    "import glob\n",
    "import os\n",
    "\n",
    "import cv2\n",
    "import matplotlib.pyplot as plt\n",
    "import numpy as np\n",
    "import pandas as pd\n",
    "import tensorflow as tf\n",
    "from sklearn.model_selection import train_test_split, StratifiedKFold\n",
    "from tqdm import tqdm\n",
    "\n",
    "from keras import optimizers\n",
    "from keras.callbacks import EarlyStopping, ModelCheckpoint, ReduceLROnPlateau\n",
    "from keras.layers import *\n",
    "from keras.models import Model, load_model, save_model\n",
    "from keras.preprocessing.image import array_to_img, img_to_array, load_img\n",
    "from keras.applications.resnet50 import ResNet50, preprocess_input\n",
    "\n",
    "%matplotlib inline"
   ]
  },
  {
   "cell_type": "code",
   "execution_count": 0,
   "metadata": {
    "colab": {},
    "colab_type": "code",
    "id": "bgSdV2k_Ik_6"
   },
   "outputs": [],
   "source": [
    "plt.rcParams['figure.figsize'] = (12, 9)"
   ]
  },
  {
   "cell_type": "code",
   "execution_count": 0,
   "metadata": {
    "colab": {},
    "colab_type": "code",
    "id": "PkQ6QVTTIk__"
   },
   "outputs": [],
   "source": [
    "def compute_coverage(df, masks):\n",
    "        \"\"\"\n",
    "        df: data frame\n",
    "            retaining img id\n",
    "        masks: target img(mask)\n",
    "            target masks showing salt part in white while other part in black\n",
    "        \"\"\"\n",
    "        df = df.copy()\n",
    "        \n",
    "        #11のclassに分類\n",
    "        def cov_to_class(val):\n",
    "                for i in range(0, 11):\n",
    "                        if (val * 10 <= i):\n",
    "                                return i\n",
    "        #output percentage of area covered by class\n",
    "        #maskは0 or 1の白黒画像なので平均がPercentageになる\n",
    "        df['coverage'] = np.mean(masks, axis=(1, 2))\n",
    "        #coverage must be split into bins, otherwise stratified split will not be possible\n",
    "        #because each coverage will occur only once.\n",
    "        \n",
    "        #塩の比率(coverage)に応じて地層のクラス分け(0-11の11段階)\n",
    "        #map関数でdf.coverageの各要素をcov_to_classに渡し、その返り値を受け取る\n",
    "        df['coverage_class']  = df.coverage.map(cov_to_class)\n",
    "        #塩の比率とクラスを付加したdfを返却\n",
    "        return df\n",
    "\n",
    "def create_depth_abs_channels(image_tensor):\n",
    "        #float型に\n",
    "        image_tensor = image_tensor.astype(np.float32)\n",
    "        #height, width, chennelの数\n",
    "        h, w, c = image_tensor.shape\n",
    "        \n",
    "        #linspaceで0-1までをh分割した配列を作成\n",
    "        #行番号（row）とそのrowの値（const）に関してloop\n",
    "        for row, const in enumerate(np.linspace(0, 1, h)):\n",
    "                #image_tensorのchannel 1に1/hを代入\n",
    "                image_tensor[row, :, 1] = const\n",
    "        #channel 0（画像のデータ）に　channel 1(1/h)をかけてimage_tensorのchannel 2にとする\n",
    "        #つまり、画像を地層の深さで割ったということ?（圧力による影響を加味?）\n",
    "        image_tensor[:, :, 2] = (image_tensor[:, :, 0] * image_tensor[:, :, 1])\n",
    "        \n",
    "        #height方向の差分(差があるところ（境界）を浮かび上がらせる?)\n",
    "        x_dx = np.diff(image_tensor[:, :, 0], axis=0)\n",
    "        #width方向の差分\n",
    "        x_dy = np.diff(image_tensor[:, :, 0], axis=1)\n",
    "        #diffで１列（行）だけ欠けるのでその分を埋める\n",
    "        x_dx = cv2.copyMakeBorder(\n",
    "            src=x_dx,\n",
    "            top=1, bottom=0, left=0, right=0,\n",
    "            borderType=cv2.BORDER_CONSTANT,\n",
    "            value=0\n",
    "        )\n",
    "        x_dy = cv2.copyMakeBorder(x_dy, 0, 0, 1, 0, cv2.BORDER_CONSTANT, 0)\n",
    "        #横と縦方向のdiffを足し合わせてで１列（行）だけ欠けるのでその分を埋める\n",
    "        image_tensor[:, :, 1] = np.abs(x_dx + x_dy)\n",
    "        \n",
    "        return image_tensor\n",
    "        "
   ]
  },
  {
   "cell_type": "markdown",
   "metadata": {
    "colab_type": "text",
    "id": "aEmhuH1WIlAC"
   },
   "source": [
    "### Data loading & depth merge"
   ]
  },
  {
   "cell_type": "code",
   "execution_count": 11,
   "metadata": {
    "colab": {
     "base_uri": "https://localhost:8080/",
     "height": 391
    },
    "colab_type": "code",
    "executionInfo": {
     "elapsed": 927,
     "status": "ok",
     "timestamp": 1563880984854,
     "user": {
      "displayName": "大木 杜生Morio OHKI",
      "photoUrl": "",
      "userId": "03914199061619137174"
     },
     "user_tz": -540
    },
    "id": "AuczXKZZIlAD",
    "outputId": "4e77bbca-d516-4598-e1b3-831e4cbdd03a"
   },
   "outputs": [
    {
     "name": "stdout",
     "output_type": "stream",
     "text": [
      "train:\n",
      "           id                                           rle_mask\n",
      "0  575d24d81d                                                NaN\n",
      "1  a266a2a9df                                          5051 5151\n",
      "2  75efad62c1  9 93 109 94 210 94 310 95 411 95 511 96 612 96...\n",
      "3  34e51dba6a  48 54 149 54 251 53 353 52 455 51 557 50 659 4...\n",
      "4  4875705fb0  1111 1 1212 1 1313 1 1414 1 1514 2 1615 2 1716...\n",
      "\n",
      "test\n",
      "           id rle_mask\n",
      "0  155410d6fa      1 1\n",
      "1  78b32781d1      1 1\n",
      "2  63db2a476a      1 1\n",
      "3  17bfcdb967      1 1\n",
      "4  7ea0fd3c88      1 1\n",
      "\n",
      "           id                                           rle_mask    z\n",
      "0  575d24d81d                                                NaN  843\n",
      "1  a266a2a9df                                          5051 5151  794\n",
      "2  75efad62c1  9 93 109 94 210 94 310 95 411 95 511 96 612 96...  468\n",
      "3  34e51dba6a  48 54 149 54 251 53 353 52 455 51 557 50 659 4...  727\n",
      "4  4875705fb0  1111 1 1212 1 1313 1 1414 1 1514 2 1615 2 1716...  797\n"
     ]
    }
   ],
   "source": [
    "train = pd.read_csv('/content/data/train.csv')\n",
    "test = pd.read_csv('/content/data/sample_submission.csv')\n",
    "depth = pd.read_csv('/content/data/depths.csv')\n",
    "\n",
    "train_src = '../input/train'\n",
    "\n",
    "print('train:\\n{}'.format(train.head()))\n",
    "print('\\ntest\\n{}'.format(test.head()))\n",
    "\n",
    "train = train.merge(depth, how='left', on='id')\n",
    "test = test.merge(depth, how='left', on='id')\n",
    "\n",
    "print('\\n{}'.format(train.head()))\n"
   ]
  },
  {
   "cell_type": "markdown",
   "metadata": {
    "colab_type": "text",
    "id": "Tr4kLIx-IlAI"
   },
   "source": [
    "### Load images and masks, examine random sample"
   ]
  },
  {
   "cell_type": "code",
   "execution_count": 12,
   "metadata": {
    "colab": {
     "base_uri": "https://localhost:8080/",
     "height": 34
    },
    "colab_type": "code",
    "executionInfo": {
     "elapsed": 3299,
     "status": "ok",
     "timestamp": 1563880990277,
     "user": {
      "displayName": "大木 杜生Morio OHKI",
      "photoUrl": "",
      "userId": "03914199061619137174"
     },
     "user_tz": -540
    },
    "id": "mMHThEGsIlAJ",
    "outputId": "66cecadc-431d-4435-ec85-78af57206b58"
   },
   "outputs": [
    {
     "name": "stdout",
     "output_type": "stream",
     "text": [
      "(4000, 101, 101) (4000, 101, 101)\n"
     ]
    }
   ],
   "source": [
    "X_train = np.asarray(\n",
    "        [cv2.imread('/content/train/images/{}.png'.format(x), 0) for x in train.id.tolist()],\n",
    "        dtype=np.uint8\n",
    ") /255.0\n",
    "\n",
    "y_train = np.asarray(\n",
    "    [cv2.imread('/content/train/masks/{}.png'.format(x), 0) for x in train.id.tolist()],\n",
    "        dtype=np.uint8\n",
    ") / 255.0\n",
    "\n",
    "print(X_train.shape, y_train.shape)"
   ]
  },
  {
   "cell_type": "code",
   "execution_count": 13,
   "metadata": {
    "colab": {
     "base_uri": "https://localhost:8080/",
     "height": 612
    },
    "colab_type": "code",
    "executionInfo": {
     "elapsed": 2269,
     "status": "ok",
     "timestamp": 1563880995940,
     "user": {
      "displayName": "大木 杜生Morio OHKI",
      "photoUrl": "",
      "userId": "03914199061619137174"
     },
     "user_tz": -540
    },
    "id": "IZ0F-e34IlAO",
    "outputId": "2fa7fa43-b869-4405-8489-71e1d8d161e4"
   },
   "outputs": [
    {
     "data": {
      "text/plain": [
       "<matplotlib.image.AxesImage at 0x7f32f280d240>"
      ]
     },
     "execution_count": 13,
     "metadata": {
      "tags": []
     },
     "output_type": "execute_result"
    },
    {
     "data": {
      "image/png": "[encoded data removed]",
      "text/plain": [
       "<Figure size 720x720 with 8 Axes>"
      ]
     },
     "metadata": {
      "tags": []
     },
     "output_type": "display_data"
    }
   ],
   "source": [
    "#ランダムに選んで描画\n",
    "random_index = np.random.randint(0, X_train.shape[0])\n",
    "\n",
    "x_ = X_train[random_index]\n",
    "y_ = y_train[random_index]\n",
    "\n",
    "x_dx = np.diff(x_, axis=0)\n",
    "x_dy = np.diff(y_, axis=1)\n",
    "#diffで１列（行）だけ欠けるのでその分を埋める\n",
    "x_dx = cv2.copyMakeBorder(\n",
    "    src=x_dx,\n",
    "    top=1, bottom=0, left=0, right=0,\n",
    "    borderType=cv2.BORDER_CONSTANT,\n",
    "    value=0\n",
    ")\n",
    "x_dy = cv2.copyMakeBorder(x_dy, 0, 0, 1, 0, cv2.BORDER_CONSTANT, 0)\n",
    "\n",
    "fig, ax = plt.subplots(4, 2, figsize=(10, 10))\n",
    "ax[0, 0].imshow(x_, cmap='gray')\n",
    "ax[0, 1].imshow(y_, cmap='gray')\n",
    "\n",
    "ax[1, 0].imshow(x_dx, cmap='gray')\n",
    "ax[1, 1].imshow(y_, cmap='gray')\n",
    "\n",
    "ax[2, 0].imshow(x_dy, cmap='gray')\n",
    "ax[2, 1].imshow(y_, cmap='gray')\n",
    "\n",
    "ax[3, 0].imshow(np.abs(x_dx + x_dy), cmap='gray')\n",
    "ax[3, 1].imshow(y_, cmap='gray')"
   ]
  },
  {
   "cell_type": "markdown",
   "metadata": {
    "colab_type": "text",
    "id": "EBUqw-08IlAT"
   },
   "source": [
    "### Compute salt coverage (this will serve as basis of stratified split)"
   ]
  },
  {
   "cell_type": "code",
   "execution_count": 0,
   "metadata": {
    "colab": {},
    "colab_type": "code",
    "id": "tUjWax1BIlAU"
   },
   "outputs": [],
   "source": [
    "#masksの塩の部分に地層に占める塩の比率と、それに応じた0-10のクラス分けをtrainのdata frameに追加\n",
    "train = compute_coverage(df=train, masks=y_train)"
   ]
  },
  {
   "cell_type": "markdown",
   "metadata": {
    "colab_type": "text",
    "id": "jlZ8-R1mIlAY"
   },
   "source": [
    "### Prepare data for training"
   ]
  },
  {
   "cell_type": "code",
   "execution_count": 15,
   "metadata": {
    "colab": {
     "base_uri": "https://localhost:8080/",
     "height": 68
    },
    "colab_type": "code",
    "executionInfo": {
     "elapsed": 20566,
     "status": "ok",
     "timestamp": 1563881025809,
     "user": {
      "displayName": "大木 杜生Morio OHKI",
      "photoUrl": "",
      "userId": "03914199061619137174"
     },
     "user_tz": -540
    },
    "id": "QM2Sz5ucIlAa",
    "outputId": "9adb0ca5-03dc-43db-dc1a-7722b8042259"
   },
   "outputs": [
    {
     "name": "stdout",
     "output_type": "stream",
     "text": [
      "(3196, 224, 224, 3) (3196, 224, 224, 1)\n",
      "(804, 224, 224, 3) (804, 224, 224, 1)\n"
     ]
    },
    {
     "data": {
      "text/plain": [
       "47"
      ]
     },
     "execution_count": 15,
     "metadata": {
      "tags": []
     },
     "output_type": "execute_result"
    }
   ],
   "source": [
    "#全体に占める0-10のクラスの比率を維持したままK分割\n",
    "kfold = StratifiedKFold(n_splits=5, random_state=1337)\n",
    "\n",
    "#add channel features\n",
    "\n",
    "#channel成分の軸を足して、3回 repeatして3channel追加\n",
    "X_train_ch = np.repeat(np.expand_dims(X_train, axis=-1), 3, -1)\n",
    "\n",
    "#X_train_chの各要素をcreate_depth_abs_channelsに渡して、その返り値をlist化\n",
    "X_train_ch = np.asarray(\n",
    "    list(map(lambda x: create_depth_abs_channels(x), X_train_ch))\n",
    ")\n",
    "\n",
    "#resize to 224x224, default ResNet50 image size\n",
    "X_resized = np.asarray(list(map(lambda x: cv2.resize(x, (224, 224)), X_train_ch)))\n",
    "y_resized = np.asarray(list(map(lambda x: cv2.resize(x, (224, 224)), y_train)))\n",
    "\n",
    "for train_index, valid_index in kfold.split(train.id.values, train.coverage_class.values):\n",
    "        X_tr, X_val = X_resized[train_index], X_resized[valid_index]\n",
    "        y_tr, y_val = y_resized[train_index], y_resized[valid_index]\n",
    "        \n",
    "        break\n",
    "\n",
    "y_tr = np.expand_dims(y_tr, axis=-1)\n",
    "y_val = np.expand_dims(y_val, axis=-1)\n",
    "\n",
    "print(X_tr.shape, y_tr.shape)\n",
    "print(X_val.shape, y_val.shape)\n",
    "\n",
    "#delete to release memory\n",
    "del X_train_ch, y_resized\n",
    "del X_resized\n",
    "#print released memory (MB)\n",
    "gc.collect()"
   ]
  },
  {
   "cell_type": "markdown",
   "metadata": {
    "colab_type": "text",
    "id": "BoEOcds1IlAf"
   },
   "source": [
    "### Loss functions & metric"
   ]
  },
  {
   "cell_type": "code",
   "execution_count": 0,
   "metadata": {
    "colab": {},
    "colab_type": "code",
    "id": "m5ichLWKIlAg"
   },
   "outputs": [],
   "source": [
    "from keras.losses import binary_crossentropy\n",
    "\n",
    "\n",
    "#Dice & combined\n",
    "def dice_coef(y_true, y_pred):\n",
    "        y_true_f = K.flatten(y_true)\n",
    "        y_pred = K.cast(y_pred, 'float32')\n",
    "        y_pred_f = K.cast(K.greater(K.flatten(y_pred), 0.5), 'float32')\n",
    "        intersection = y_true_f * y_pred_f\n",
    "        score = 2.0 * K.sum(intersection) / (K.sum(y_true_f) + K.sum(y_pred_f))\n",
    "        return score\n",
    "\n",
    "def dice_loss(y_true, y_pred):\n",
    "        smooth = 1.0\n",
    "        y_true_f = K.flatten(y_true)\n",
    "        y_pred_f = K.flatten(y_pred)\n",
    "        intersection = y_true_f * y_pred_f\n",
    "        score = (2.0 * K.sum(intersection) + smooth) / (K.sum(y_true_f) + K.sum(y_pred_f) + smooth)\n",
    "        return 1.0 -  score\n",
    "    \n",
    "def bce_dice_loss(y_true, y_pred):\n",
    "        return binary_crossentropy(y_true, y_pred) + dice_loss(y_true, y_pred)\n",
    "\n",
    "def bce_logdice_loss(y_true, y_pred):\n",
    "        return binary_crossentropy(y_true, y_pred) - K.log(1.0 - dice_loss(y_true, y_pred))\n",
    "\n",
    "# Lovash loss: https://github.com/bermanmaxim/LovaszSoftmax\n",
    "def lovasz_grad(gt_sorted):\n",
    "        \"\"\"\n",
    "        computes gradient of the Lovasz extension with respect to sorted errorsd\n",
    "        \"\"\"\n",
    "        gts = tf.reduce_sum(gt_sorted)\n",
    "        intersection = gts - tf.cumsum(gt_sorted)\n",
    "        union = gts + tf.cumsum(1.0 - gt_sorted)\n",
    "        jaccard = 1.0 - intersection / union\n",
    "        jaccard = tf.concat((jaccard[0:1], jaccard[1:] - jaccard[:-1]), 0)\n",
    "        return jaccard\n",
    "\n",
    "#binary loss\n",
    "def lovasz_hinge(logits, labels, per_image=True, ignore=None):\n",
    "        \"\"\"\n",
    "        Binary Lovasz hinge loss\n",
    "        logits: [B, H, W] variable, logits at each pixel (between -\\infty and + \\infty)\n",
    "        labels: [B, H, W] Tensor, binary ground truth masks (0 or 1)\n",
    "        per_image: compute the loss per image instead of per batch\n",
    "        ignore: void class id\n",
    "        \"\"\"\n",
    "        if per_image:\n",
    "                def treat_image(log_lab):\n",
    "                        log, lab = log_lab\n",
    "                        log, lab = tf.expand_dims(log, 0), tf.expand_dims(lab, 0)\n",
    "                        log, lab = flattend_binary_scores(log, lab, ignore)\n",
    "                        return lovasz_hinge_flat(log, lab)\n",
    "                losses = tf.map_fn(treat_image, (logits, labels), dtype=tf.float32)\n",
    "                loss = tf.reduce_mean(losses)\n",
    "        else:\n",
    "                loss = lovasz_hinge_flat(*flattend_binary_scores(logits, labels, ignore))\n",
    "        return loss\n",
    "    \n",
    "def lovasz_hinge_flat(logits, labels):\n",
    "        \"\"\"\n",
    "        binary lovasz hinge loss\n",
    "            logits: [P] Variable, logits as each prediciton (between -\\infty and +\\infty)\n",
    "            labels: [P] Tensor, binary ground truth labels ( 0 or 1)\n",
    "            ignore: label to ignore\n",
    "        \"\"\"\n",
    "        \n",
    "        def compute_loss():\n",
    "                labelsf = tf.cast(labels, logits.dtype)\n",
    "                signs = 2.0 * labelsf - 1.0\n",
    "                errors = 1.0 - logits * tf.stop_gradient(signs)\n",
    "                errors_sorted, perm = tf.nn.top_k(errors, k=tf.shape(errors)[0], name=\"descending_sort\")\n",
    "                gt_sorted = tf.gather(labelsf, perm)\n",
    "                grad = lovasz_grad(gt_sorted)\n",
    "                loss = tf.tensordot(tf.nn.relu(errors_sorted), tf.stop_gradient(grad), 1, name=\"loss_non_void\")\n",
    "                return loss\n",
    "        \n",
    "        #deal with the void prediction case (only void pixels)\n",
    "        loss = tf.cond(\n",
    "                tf.equal(tf.shape(logits)[0], 0),\n",
    "                lambda: tf.reduce_sum(logits) * 0.0,\n",
    "                compute_loss,\n",
    "                strict=True,\n",
    "                name='loss'\n",
    "        )\n",
    "        return loss\n",
    "    \n",
    "def flatten_binary_scores(scores, labels, ignore=None):\n",
    "        \"\"\"\n",
    "        Flattens predictions in the batch (binary case)\n",
    "        Remove labels equal to 'ignore'\n",
    "        \"\"\"\n",
    "        \n",
    "        scores = tf.reshape(scores, (-1, ))\n",
    "        labels = tf.reshape(labels, (-1, ))\n",
    "        if ignore is None:\n",
    "                return scores, labels\n",
    "        valid = tf.not_equal(labels, ignore)\n",
    "        vscores = tf.boolean_mask(scores, valid, name='valid_scores')\n",
    "        vlabels = tf.boolean_mask(labels, valid, name='valid_labels')\n",
    "        return vscores, vlabels\n",
    "def lovasz_loss(y_true, y_pred):\n",
    "        y_true, y_pred = K.cast(K.squeeze(y_true, -1), 'int32'), K.cast(K.squeeze(y_pred, -1), 'float32')\n",
    "        #logits = K.log(y_pred / (1.0 - y_pred))\n",
    "        logits = y_pred #jiaxin\n",
    "        loss = lovasz_hinge(logits, y_true, per_image=True, ignore=None)\n",
    "        return loss\n",
    "\n",
    "#IoU metric for observation during training\n",
    "# https://www.kaggle.com/cpmpml/fast-iou-metric-in-numpy-and-tensorflow\n",
    "def get_iou_vector(A, B):\n",
    "        \"\"\"\n",
    "        A: ndarray of shape()\n",
    "            label\n",
    "        B:\n",
    "            pred\n",
    "        \"\"\"\n",
    "        batch_size = A.shape[0]\n",
    "        metric = 0.0\n",
    "        for batch in range(batch_size):\n",
    "                t, p = A[batch], B[batch]\n",
    "                true = np.sum(t)\n",
    "                pred = np.sum(p)\n",
    "                \n",
    "                #deal with empty mask first\n",
    "                if (true == 0):\n",
    "                        metric += (pred==0)\n",
    "                        continue\n",
    "                #non empty mask case. Union is never empty\n",
    "                #hence it is safe to divide by its number of pixels\n",
    "                intersection = np.sum(t*p)\n",
    "                union = true + pred - intersection\n",
    "                iou = intersection / union\n",
    "                \n",
    "                #iou metric is a stepwise approximation of the real iou over 0.5\n",
    "                iou = np.floor(max(0, (iou - 0.45)*20)) / 10\n",
    "                metric += iou\n",
    "        \n",
    "        #take the average over all images in batch\n",
    "        metric /= batch_size\n",
    "        return metric\n",
    "    \n",
    "def my_iou_metric(label, pred):\n",
    "        return tf.py_func(get_iou_vector, [label, pred>0.5], tf.float64)\n",
    "\n",
    "#for lovash loss\n",
    "#funcにinp（input）のTensorを渡すとOutputのTensorをToutの形式で返してくれる\n",
    "def my_iou_metric_2(label, pred):\n",
    "        return tf.py_func(func=get_iou_vector, inp=[label, pred > 0], Tout=tf.float64)"
   ]
  },
  {
   "cell_type": "markdown",
   "metadata": {
    "colab_type": "text",
    "id": "Ml-ORRoDIlAv"
   },
   "source": [
    "### Encoder features - ResNet50\n",
    "In ResNet50, each block finishes with a poolimg layer, so we can extract features from intermediate layers just before the pooling. This way, when first layer is added as additional extractor, we will have features extracted from 5 layers. Defalut input size will be assumed, which is (224, 224, 3). Layers will be as follows:\n",
    "* 'activation_1', shape: (None, 112, 112, 64)\n",
    "* 'activation_10', shape: (None, 56, 56, 256)\n",
    "* 'activation_22', shape: (None, 28, 28, 512)\n",
    "* 'activation_40', shape: (None, 14, 14, 1024)\n",
    "* 'activation_49', shape: (None, 7, 7, 2048)\n",
    "\n",
    "One thing to keep in mind is that every time a model is created in the same TF session in the notebook, layer names will change, so above layer names correspond to first creation of the model. In order to reset session, call `K.clear_session()`"
   ]
  },
  {
   "cell_type": "markdown",
   "metadata": {
    "colab_type": "text",
    "id": "B55IN9CPIlAw"
   },
   "source": [
    "### Decoder blocks\n",
    "Featurea from ResNet50 will serve as a basis for encoder part of the segmentaion model, now a decoder part is needed. For this part, we will have to create our own blocks. Let's create a very basic block and a second one, the tructure of which will be more complicated."
   ]
  },
  {
   "cell_type": "code",
   "execution_count": 0,
   "metadata": {
    "colab": {},
    "colab_type": "code",
    "id": "EUJHX2kLIlAx"
   },
   "outputs": [],
   "source": [
    "#encoderはResNet50の物を使う。Decoderのみを定義\n",
    "\n",
    "#Basic decoder block with Conv, BN and Parametrized ReLU　activation\n",
    "def decoder_block_simple(layer_name, block_name, n_filters=32, conv_dim=(3, 3)):\n",
    "       #特に指定していないので、重みはglorot_uniform(一様乱数での初期化)\n",
    "        x_dec = Conv2D(\n",
    "            filters=n_filters, kernel_size=conv_dim, padding='same',\n",
    "            name='{}_conv'.format(block_name))(layer_name)\n",
    "        \n",
    "        x_dec = BatchNormalization(\n",
    "            name='{}_bn'.format(block_name))(x_dec)\n",
    "        \n",
    "        x_dec = PReLU(\n",
    "            name='{}_activation'.format(block_name))(x_dec)\n",
    "        \n",
    "        return x_dec\n",
    "\n",
    "#decoder block with bottlenech architecture, where middle conv layer \n",
    "#is half the size of first and last, in order to compress representaion.\n",
    "#This type of architecture is supposed to retain most useful information\n",
    "def decoder_block_bottleneck(\n",
    "    layer_name, block_name, n_filters=32, conv_dim=(3, 3), dropout_frac=0.2):\n",
    "    \n",
    "        x_dec = Conv2D(\n",
    "            filters=n_filters, kernel_size=conv_dim,\n",
    "            padding='same', name='{}_conv1'.format(block_name))(layer_name)\n",
    "        x_dec = BatchNormalization(\n",
    "            name='{}_bn1'.format(block_name))(x_dec)\n",
    "        x_dec = PReLU(\n",
    "            name='{}_activation1'.format(block_name))(x_dec)\n",
    "        x_dec = Dropout(dropout_frac)(x_dec)\n",
    "        \n",
    "        x_dec2 = Conv2D(\n",
    "            n_filters//2, conv_dim, padding='same',\n",
    "            name='{}_conv2'.format(block_name))(x_dec)\n",
    "        x_dec2 = BatchNormalization(\n",
    "            name='{}_bn2'.format(block_name))(x_dec2)\n",
    "        x_dec2 = PReLU(\n",
    "            name='{}_activation2'.format(block_name))(x_dec2)\n",
    "        x_dec2 = Dropout(dropout_frac)(x_dec2)\n",
    "        \n",
    "        x_dec2 = Conv2D(\n",
    "            n_filters, conv_dim, padding='same',\n",
    "            name='{}_conv3'.format(block_name))(x_dec2)\n",
    "        x_dec2 = BatchNormalization(\n",
    "            name='{}_bn3'.format(block_name))(x_dec2)\n",
    "        x_dec2 = PReLU(\n",
    "            name='{}_activation3'.format(block_name))(x_dec2)\n",
    "        x_dec2 = Dropout(dropout_frac)(x_dec2)\n",
    "        x_dec2 = Add()([x_dec, x_dec2])\n",
    "        \n",
    "        return x_dec2"
   ]
  },
  {
   "cell_type": "markdown",
   "metadata": {
    "colab_type": "text",
    "id": "GWoj3twyIlA1"
   },
   "source": [
    "### Model definition\n",
    "Combine encoder and decoder blocks to create final segmentation model."
   ]
  },
  {
   "cell_type": "code",
   "execution_count": 0,
   "metadata": {
    "colab": {},
    "colab_type": "code",
    "id": "3jKfVuduIlA3"
   },
   "outputs": [],
   "source": [
    "#model is parametrized in a way to enable easy change of decoder_block type,\n",
    "#as this is an argument that ccan be given a function, like decoder_block_simple.\n",
    "def unet_resnet(input_size, decoder_block, weights='imagenet',\n",
    "                loss_func='binary_crossentropy',\n",
    "                metrics_list=[my_iou_metric],\n",
    "                use_lovash=False\n",
    "               ):\n",
    "        # weights='imagenet'でResNetの部分はimagenetのデータでの学習を利用しての転移学習\n",
    "        #base model - encoder\n",
    "        base_model = ResNet50(\n",
    "                input_shape=input_size,\n",
    "                include_top=False,\n",
    "                weights=weights\n",
    "        )\n",
    "        \n",
    "        #Layers for feature extraction in the encoder part\n",
    "        encoder1 = base_model.get_layer('activation_1').output#112, 112, 64\n",
    "        encoder2 = base_model.get_layer('activation_10').output#56, 56, 256\n",
    "        encoder3 = base_model.get_layer('activation_22').output#28, 28, 512\n",
    "        encoder4 = base_model.get_layer('activation_40').output#14, 14, 1024\n",
    "        encoder5 = base_model.get_layer('activation_49').output#7, 7, 2048\n",
    "        \n",
    "        #Center block\n",
    "        center = decoder_block(#7, 7, 512\n",
    "                layer_name=encoder5, block_name='center',\n",
    "                n_filters=512, conv_dim=(3, 3)\n",
    "        )\n",
    "        concat5 = concatenate([center, encoder5], axis=-1)\n",
    "        \n",
    "        #Decoder part\n",
    "        #Every decoder block processed concatenated output from encoder and decoder part.\n",
    "        #This creates skip connections\n",
    "        #Afterwards, decoder output is upsampled to dimensions equal to encoder output part\n",
    "        decoder4 = decoder_block(#7, 7, 256#Upsamplingで(2, 2)の4倍に\n",
    "            layer_name=concat5, block_name='decoder4', n_filters=256, conv_dim=(3, 3)\n",
    "        )\n",
    "        concat4 = concatenate([UpSampling2D()(decoder4), encoder4], axis=-1)\n",
    "        \n",
    "        decoder3 = decoder_block(#14, 14, 128#Upsamplingで(2, 2)の4倍に\n",
    "            layer_name=concat4, block_name='decoder3', n_filters=128, conv_dim=(3, 3)\n",
    "        )\n",
    "        concat3 = concatenate([UpSampling2D()(decoder3), encoder3], axis=-1)\n",
    "        \n",
    "        decoder2 = decoder_block(#28, 28, 64#Upsamplingで(2, 2)の4倍に\n",
    "            layer_name=concat3, block_name='decoder2', n_filters=64, conv_dim=(3, 3)\n",
    "        )\n",
    "        concat2 = concatenate([UpSampling2D()(decoder2), encoder2], axis=-1)\n",
    "        \n",
    "        decoder1 = decoder_block(#56, 56, 64#Upsamplingで(2, 2)の4倍に\n",
    "            layer_name=concat2, block_name='decoder1',  n_filters=64, conv_dim=(3, 3)\n",
    "        )\n",
    "        concat1 = concatenate([UpSampling2D()(decoder1), encoder1], axis=-1)\n",
    "        \n",
    "        #Final upsampling and decoder block for segmentation\n",
    "        \n",
    "        output = UpSampling2D()(concat1)\n",
    "        output = decoder_block(\n",
    "            layer_name=output, block_name='decoder_output', n_filters=32, conv_dim=(3, 3)\n",
    "        )\n",
    "        output = Conv2D(\n",
    "             filters=1, kernel_size=(1, 1), activation=None, name='prediction')(output)\n",
    "        \n",
    "        if not use_lovash:\n",
    "                output = Activation('sigmoid')(output)\n",
    "        \n",
    "        model = Model(base_model.input, output)\n",
    "        model.compile(loss=loss_func, optimizer='adam', metrics=metrics_list)\n",
    "        \n",
    "        return model"
   ]
  },
  {
   "cell_type": "markdown",
   "metadata": {
    "colab_type": "text",
    "id": "Ups1YyOEIlA6"
   },
   "source": [
    "### Inspect created model"
   ]
  },
  {
   "cell_type": "code",
   "execution_count": 20,
   "metadata": {
    "colab": {
     "base_uri": "https://localhost:8080/",
     "height": 1000
    },
    "colab_type": "code",
    "executionInfo": {
     "elapsed": 23966,
     "status": "ok",
     "timestamp": 1563881082644,
     "user": {
      "displayName": "大木 杜生Morio OHKI",
      "photoUrl": "",
      "userId": "03914199061619137174"
     },
     "user_tz": -540
    },
    "id": "B7Ad9HTLIlA7",
    "outputId": "6dd26c60-df13-456e-a4f7-0fdec4de087c"
   },
   "outputs": [
    {
     "name": "stderr",
     "output_type": "stream",
     "text": [
      "WARNING: Logging before flag parsing goes to stderr.\n",
      "W0723 11:24:18.917534 139858354980736 deprecation_wrapper.py:119] From /usr/local/lib/python3.6/dist-packages/keras/backend/tensorflow_backend.py:95: The name tf.reset_default_graph is deprecated. Please use tf.compat.v1.reset_default_graph instead.\n",
      "\n",
      "W0723 11:24:18.920032 139858354980736 deprecation_wrapper.py:119] From /usr/local/lib/python3.6/dist-packages/keras/backend/tensorflow_backend.py:98: The name tf.placeholder_with_default is deprecated. Please use tf.compat.v1.placeholder_with_default instead.\n",
      "\n",
      "W0723 11:24:18.967782 139858354980736 deprecation_wrapper.py:119] From /usr/local/lib/python3.6/dist-packages/keras/backend/tensorflow_backend.py:102: The name tf.get_default_graph is deprecated. Please use tf.compat.v1.get_default_graph instead.\n",
      "\n",
      "W0723 11:24:18.969259 139858354980736 deprecation_wrapper.py:119] From /usr/local/lib/python3.6/dist-packages/keras/backend/tensorflow_backend.py:517: The name tf.placeholder is deprecated. Please use tf.compat.v1.placeholder instead.\n",
      "\n",
      "W0723 11:24:18.981668 139858354980736 deprecation_wrapper.py:119] From /usr/local/lib/python3.6/dist-packages/keras/backend/tensorflow_backend.py:4185: The name tf.truncated_normal is deprecated. Please use tf.random.truncated_normal instead.\n",
      "\n",
      "W0723 11:24:22.299067 139858354980736 deprecation_wrapper.py:119] From /usr/local/lib/python3.6/dist-packages/keras/backend/tensorflow_backend.py:1834: The name tf.nn.fused_batch_norm is deprecated. Please use tf.compat.v1.nn.fused_batch_norm instead.\n",
      "\n",
      "W0723 11:24:22.390516 139858354980736 deprecation_wrapper.py:119] From /usr/local/lib/python3.6/dist-packages/keras/backend/tensorflow_backend.py:3976: The name tf.nn.max_pool is deprecated. Please use tf.nn.max_pool2d instead.\n",
      "\n",
      "/usr/local/lib/python3.6/dist-packages/keras_applications/resnet50.py:265: UserWarning: The output shape of `ResNet50(include_top=False)` has been changed since Keras 2.2.0.\n",
      "  warnings.warn('The output shape of `ResNet50(include_top=False)` '\n"
     ]
    },
    {
     "name": "stdout",
     "output_type": "stream",
     "text": [
      "Downloading data from https://github.com/fchollet/deep-learning-models/releases/download/v0.2/resnet50_weights_tf_dim_ordering_tf_kernels_notop.h5\n",
      "94658560/94653016 [==============================] - 8s 0us/step\n"
     ]
    },
    {
     "name": "stderr",
     "output_type": "stream",
     "text": [
      "W0723 11:24:41.473400 139858354980736 deprecation_wrapper.py:119] From /usr/local/lib/python3.6/dist-packages/keras/backend/tensorflow_backend.py:2018: The name tf.image.resize_nearest_neighbor is deprecated. Please use tf.compat.v1.image.resize_nearest_neighbor instead.\n",
      "\n",
      "W0723 11:24:41.987520 139858354980736 deprecation_wrapper.py:119] From /usr/local/lib/python3.6/dist-packages/keras/optimizers.py:790: The name tf.train.Optimizer is deprecated. Please use tf.compat.v1.train.Optimizer instead.\n",
      "\n",
      "W0723 11:24:42.021452 139858354980736 deprecation.py:323] From /usr/local/lib/python3.6/dist-packages/tensorflow/python/ops/nn_impl.py:180: add_dispatch_support.<locals>.wrapper (from tensorflow.python.ops.array_ops) is deprecated and will be removed in a future version.\n",
      "Instructions for updating:\n",
      "Use tf.where in 2.0, which has the same broadcast rule as np.where\n",
      "W0723 11:24:42.045238 139858354980736 deprecation.py:323] From <ipython-input-17-96a668420011>:144: py_func (from tensorflow.python.ops.script_ops) is deprecated and will be removed in a future version.\n",
      "Instructions for updating:\n",
      "tf.py_func is deprecated in TF V2. Instead, there are two\n",
      "    options available in V2.\n",
      "    - tf.py_function takes a python function which manipulates tf eager\n",
      "    tensors instead of numpy arrays. It's easy to convert a tf eager tensor to\n",
      "    an ndarray (just call tensor.numpy()) but having access to eager tensors\n",
      "    means `tf.py_function`s can use accelerators such as GPUs as well as\n",
      "    being differentiable using a gradient tape.\n",
      "    - tf.numpy_function maintains the semantics of the deprecated tf.py_func\n",
      "    (it is not differentiable, and manipulates numpy arrays). It drops the\n",
      "    stateful argument making all functions stateful.\n",
      "    \n"
     ]
    },
    {
     "name": "stdout",
     "output_type": "stream",
     "text": [
      "__________________________________________________________________________________________________\n",
      "Layer (type)                    Output Shape         Param #     Connected to                     \n",
      "==================================================================================================\n",
      "input_1 (InputLayer)            (None, 224, 224, 3)  0                                            \n",
      "__________________________________________________________________________________________________\n",
      "conv1_pad (ZeroPadding2D)       (None, 230, 230, 3)  0           input_1[0][0]                    \n",
      "__________________________________________________________________________________________________\n",
      "conv1 (Conv2D)                  (None, 112, 112, 64) 9472        conv1_pad[0][0]                  \n",
      "__________________________________________________________________________________________________\n",
      "bn_conv1 (BatchNormalization)   (None, 112, 112, 64) 256         conv1[0][0]                      \n",
      "__________________________________________________________________________________________________\n",
      "activation_1 (Activation)       (None, 112, 112, 64) 0           bn_conv1[0][0]                   \n",
      "__________________________________________________________________________________________________\n",
      "pool1_pad (ZeroPadding2D)       (None, 114, 114, 64) 0           activation_1[0][0]               \n",
      "__________________________________________________________________________________________________\n",
      "max_pooling2d_1 (MaxPooling2D)  (None, 56, 56, 64)   0           pool1_pad[0][0]                  \n",
      "__________________________________________________________________________________________________\n",
      "res2a_branch2a (Conv2D)         (None, 56, 56, 64)   4160        max_pooling2d_1[0][0]            \n",
      "__________________________________________________________________________________________________\n",
      "bn2a_branch2a (BatchNormalizati (None, 56, 56, 64)   256         res2a_branch2a[0][0]             \n",
      "__________________________________________________________________________________________________\n",
      "activation_2 (Activation)       (None, 56, 56, 64)   0           bn2a_branch2a[0][0]              \n",
      "__________________________________________________________________________________________________\n",
      "res2a_branch2b (Conv2D)         (None, 56, 56, 64)   36928       activation_2[0][0]               \n",
      "__________________________________________________________________________________________________\n",
      "bn2a_branch2b (BatchNormalizati (None, 56, 56, 64)   256         res2a_branch2b[0][0]             \n",
      "__________________________________________________________________________________________________\n",
      "activation_3 (Activation)       (None, 56, 56, 64)   0           bn2a_branch2b[0][0]              \n",
      "__________________________________________________________________________________________________\n",
      "res2a_branch2c (Conv2D)         (None, 56, 56, 256)  16640       activation_3[0][0]               \n",
      "__________________________________________________________________________________________________\n",
      "res2a_branch1 (Conv2D)          (None, 56, 56, 256)  16640       max_pooling2d_1[0][0]            \n",
      "__________________________________________________________________________________________________\n",
      "bn2a_branch2c (BatchNormalizati (None, 56, 56, 256)  1024        res2a_branch2c[0][0]             \n",
      "__________________________________________________________________________________________________\n",
      "bn2a_branch1 (BatchNormalizatio (None, 56, 56, 256)  1024        res2a_branch1[0][0]              \n",
      "__________________________________________________________________________________________________\n",
      "add_1 (Add)                     (None, 56, 56, 256)  0           bn2a_branch2c[0][0]              \n",
      "                                                                 bn2a_branch1[0][0]               \n",
      "__________________________________________________________________________________________________\n",
      "activation_4 (Activation)       (None, 56, 56, 256)  0           add_1[0][0]                      \n",
      "__________________________________________________________________________________________________\n",
      "res2b_branch2a (Conv2D)         (None, 56, 56, 64)   16448       activation_4[0][0]               \n",
      "__________________________________________________________________________________________________\n",
      "bn2b_branch2a (BatchNormalizati (None, 56, 56, 64)   256         res2b_branch2a[0][0]             \n",
      "__________________________________________________________________________________________________\n",
      "activation_5 (Activation)       (None, 56, 56, 64)   0           bn2b_branch2a[0][0]              \n",
      "__________________________________________________________________________________________________\n",
      "res2b_branch2b (Conv2D)         (None, 56, 56, 64)   36928       activation_5[0][0]               \n",
      "__________________________________________________________________________________________________\n",
      "bn2b_branch2b (BatchNormalizati (None, 56, 56, 64)   256         res2b_branch2b[0][0]             \n",
      "__________________________________________________________________________________________________\n",
      "activation_6 (Activation)       (None, 56, 56, 64)   0           bn2b_branch2b[0][0]              \n",
      "__________________________________________________________________________________________________\n",
      "res2b_branch2c (Conv2D)         (None, 56, 56, 256)  16640       activation_6[0][0]               \n",
      "__________________________________________________________________________________________________\n",
      "bn2b_branch2c (BatchNormalizati (None, 56, 56, 256)  1024        res2b_branch2c[0][0]             \n",
      "__________________________________________________________________________________________________\n",
      "add_2 (Add)                     (None, 56, 56, 256)  0           bn2b_branch2c[0][0]              \n",
      "                                                                 activation_4[0][0]               \n",
      "__________________________________________________________________________________________________\n",
      "activation_7 (Activation)       (None, 56, 56, 256)  0           add_2[0][0]                      \n",
      "__________________________________________________________________________________________________\n",
      "res2c_branch2a (Conv2D)         (None, 56, 56, 64)   16448       activation_7[0][0]               \n",
      "__________________________________________________________________________________________________\n",
      "bn2c_branch2a (BatchNormalizati (None, 56, 56, 64)   256         res2c_branch2a[0][0]             \n",
      "__________________________________________________________________________________________________\n",
      "activation_8 (Activation)       (None, 56, 56, 64)   0           bn2c_branch2a[0][0]              \n",
      "__________________________________________________________________________________________________\n",
      "res2c_branch2b (Conv2D)         (None, 56, 56, 64)   36928       activation_8[0][0]               \n",
      "__________________________________________________________________________________________________\n",
      "bn2c_branch2b (BatchNormalizati (None, 56, 56, 64)   256         res2c_branch2b[0][0]             \n",
      "__________________________________________________________________________________________________\n",
      "activation_9 (Activation)       (None, 56, 56, 64)   0           bn2c_branch2b[0][0]              \n",
      "__________________________________________________________________________________________________\n",
      "res2c_branch2c (Conv2D)         (None, 56, 56, 256)  16640       activation_9[0][0]               \n",
      "__________________________________________________________________________________________________\n",
      "bn2c_branch2c (BatchNormalizati (None, 56, 56, 256)  1024        res2c_branch2c[0][0]             \n",
      "__________________________________________________________________________________________________\n",
      "add_3 (Add)                     (None, 56, 56, 256)  0           bn2c_branch2c[0][0]              \n",
      "                                                                 activation_7[0][0]               \n",
      "__________________________________________________________________________________________________\n",
      "activation_10 (Activation)      (None, 56, 56, 256)  0           add_3[0][0]                      \n",
      "__________________________________________________________________________________________________\n",
      "res3a_branch2a (Conv2D)         (None, 28, 28, 128)  32896       activation_10[0][0]              \n",
      "__________________________________________________________________________________________________\n",
      "bn3a_branch2a (BatchNormalizati (None, 28, 28, 128)  512         res3a_branch2a[0][0]             \n",
      "__________________________________________________________________________________________________\n",
      "activation_11 (Activation)      (None, 28, 28, 128)  0           bn3a_branch2a[0][0]              \n",
      "__________________________________________________________________________________________________\n",
      "res3a_branch2b (Conv2D)         (None, 28, 28, 128)  147584      activation_11[0][0]              \n",
      "__________________________________________________________________________________________________\n",
      "bn3a_branch2b (BatchNormalizati (None, 28, 28, 128)  512         res3a_branch2b[0][0]             \n",
      "__________________________________________________________________________________________________\n",
      "activation_12 (Activation)      (None, 28, 28, 128)  0           bn3a_branch2b[0][0]              \n",
      "__________________________________________________________________________________________________\n",
      "res3a_branch2c (Conv2D)         (None, 28, 28, 512)  66048       activation_12[0][0]              \n",
      "__________________________________________________________________________________________________\n",
      "res3a_branch1 (Conv2D)          (None, 28, 28, 512)  131584      activation_10[0][0]              \n",
      "__________________________________________________________________________________________________\n",
      "bn3a_branch2c (BatchNormalizati (None, 28, 28, 512)  2048        res3a_branch2c[0][0]             \n",
      "__________________________________________________________________________________________________\n",
      "bn3a_branch1 (BatchNormalizatio (None, 28, 28, 512)  2048        res3a_branch1[0][0]              \n",
      "__________________________________________________________________________________________________\n",
      "add_4 (Add)                     (None, 28, 28, 512)  0           bn3a_branch2c[0][0]              \n",
      "                                                                 bn3a_branch1[0][0]               \n",
      "__________________________________________________________________________________________________\n",
      "activation_13 (Activation)      (None, 28, 28, 512)  0           add_4[0][0]                      \n",
      "__________________________________________________________________________________________________\n",
      "res3b_branch2a (Conv2D)         (None, 28, 28, 128)  65664       activation_13[0][0]              \n",
      "__________________________________________________________________________________________________\n",
      "bn3b_branch2a (BatchNormalizati (None, 28, 28, 128)  512         res3b_branch2a[0][0]             \n",
      "__________________________________________________________________________________________________\n",
      "activation_14 (Activation)      (None, 28, 28, 128)  0           bn3b_branch2a[0][0]              \n",
      "__________________________________________________________________________________________________\n",
      "res3b_branch2b (Conv2D)         (None, 28, 28, 128)  147584      activation_14[0][0]              \n",
      "__________________________________________________________________________________________________\n",
      "bn3b_branch2b (BatchNormalizati (None, 28, 28, 128)  512         res3b_branch2b[0][0]             \n",
      "__________________________________________________________________________________________________\n",
      "activation_15 (Activation)      (None, 28, 28, 128)  0           bn3b_branch2b[0][0]              \n",
      "__________________________________________________________________________________________________\n",
      "res3b_branch2c (Conv2D)         (None, 28, 28, 512)  66048       activation_15[0][0]              \n",
      "__________________________________________________________________________________________________\n",
      "bn3b_branch2c (BatchNormalizati (None, 28, 28, 512)  2048        res3b_branch2c[0][0]             \n",
      "__________________________________________________________________________________________________\n",
      "add_5 (Add)                     (None, 28, 28, 512)  0           bn3b_branch2c[0][0]              \n",
      "                                                                 activation_13[0][0]              \n",
      "__________________________________________________________________________________________________\n",
      "activation_16 (Activation)      (None, 28, 28, 512)  0           add_5[0][0]                      \n",
      "__________________________________________________________________________________________________\n",
      "res3c_branch2a (Conv2D)         (None, 28, 28, 128)  65664       activation_16[0][0]              \n",
      "__________________________________________________________________________________________________\n",
      "bn3c_branch2a (BatchNormalizati (None, 28, 28, 128)  512         res3c_branch2a[0][0]             \n",
      "__________________________________________________________________________________________________\n",
      "activation_17 (Activation)      (None, 28, 28, 128)  0           bn3c_branch2a[0][0]              \n",
      "__________________________________________________________________________________________________\n",
      "res3c_branch2b (Conv2D)         (None, 28, 28, 128)  147584      activation_17[0][0]              \n",
      "__________________________________________________________________________________________________\n",
      "bn3c_branch2b (BatchNormalizati (None, 28, 28, 128)  512         res3c_branch2b[0][0]             \n",
      "__________________________________________________________________________________________________\n",
      "activation_18 (Activation)      (None, 28, 28, 128)  0           bn3c_branch2b[0][0]              \n",
      "__________________________________________________________________________________________________\n",
      "res3c_branch2c (Conv2D)         (None, 28, 28, 512)  66048       activation_18[0][0]              \n",
      "__________________________________________________________________________________________________\n",
      "bn3c_branch2c (BatchNormalizati (None, 28, 28, 512)  2048        res3c_branch2c[0][0]             \n",
      "__________________________________________________________________________________________________\n",
      "add_6 (Add)                     (None, 28, 28, 512)  0           bn3c_branch2c[0][0]              \n",
      "                                                                 activation_16[0][0]              \n",
      "__________________________________________________________________________________________________\n",
      "activation_19 (Activation)      (None, 28, 28, 512)  0           add_6[0][0]                      \n",
      "__________________________________________________________________________________________________\n",
      "res3d_branch2a (Conv2D)         (None, 28, 28, 128)  65664       activation_19[0][0]              \n",
      "__________________________________________________________________________________________________\n",
      "bn3d_branch2a (BatchNormalizati (None, 28, 28, 128)  512         res3d_branch2a[0][0]             \n",
      "__________________________________________________________________________________________________\n",
      "activation_20 (Activation)      (None, 28, 28, 128)  0           bn3d_branch2a[0][0]              \n",
      "__________________________________________________________________________________________________\n",
      "res3d_branch2b (Conv2D)         (None, 28, 28, 128)  147584      activation_20[0][0]              \n",
      "__________________________________________________________________________________________________\n",
      "bn3d_branch2b (BatchNormalizati (None, 28, 28, 128)  512         res3d_branch2b[0][0]             \n",
      "__________________________________________________________________________________________________\n",
      "activation_21 (Activation)      (None, 28, 28, 128)  0           bn3d_branch2b[0][0]              \n",
      "__________________________________________________________________________________________________\n",
      "res3d_branch2c (Conv2D)         (None, 28, 28, 512)  66048       activation_21[0][0]              \n",
      "__________________________________________________________________________________________________\n",
      "bn3d_branch2c (BatchNormalizati (None, 28, 28, 512)  2048        res3d_branch2c[0][0]             \n",
      "__________________________________________________________________________________________________\n",
      "add_7 (Add)                     (None, 28, 28, 512)  0           bn3d_branch2c[0][0]              \n",
      "                                                                 activation_19[0][0]              \n",
      "__________________________________________________________________________________________________\n",
      "activation_22 (Activation)      (None, 28, 28, 512)  0           add_7[0][0]                      \n",
      "__________________________________________________________________________________________________\n",
      "res4a_branch2a (Conv2D)         (None, 14, 14, 256)  131328      activation_22[0][0]              \n",
      "__________________________________________________________________________________________________\n",
      "bn4a_branch2a (BatchNormalizati (None, 14, 14, 256)  1024        res4a_branch2a[0][0]             \n",
      "__________________________________________________________________________________________________\n",
      "activation_23 (Activation)      (None, 14, 14, 256)  0           bn4a_branch2a[0][0]              \n",
      "__________________________________________________________________________________________________\n",
      "res4a_branch2b (Conv2D)         (None, 14, 14, 256)  590080      activation_23[0][0]              \n",
      "__________________________________________________________________________________________________\n",
      "bn4a_branch2b (BatchNormalizati (None, 14, 14, 256)  1024        res4a_branch2b[0][0]             \n",
      "__________________________________________________________________________________________________\n",
      "activation_24 (Activation)      (None, 14, 14, 256)  0           bn4a_branch2b[0][0]              \n",
      "__________________________________________________________________________________________________\n",
      "res4a_branch2c (Conv2D)         (None, 14, 14, 1024) 263168      activation_24[0][0]              \n",
      "__________________________________________________________________________________________________\n",
      "res4a_branch1 (Conv2D)          (None, 14, 14, 1024) 525312      activation_22[0][0]              \n",
      "__________________________________________________________________________________________________\n",
      "bn4a_branch2c (BatchNormalizati (None, 14, 14, 1024) 4096        res4a_branch2c[0][0]             \n",
      "__________________________________________________________________________________________________\n",
      "bn4a_branch1 (BatchNormalizatio (None, 14, 14, 1024) 4096        res4a_branch1[0][0]              \n",
      "__________________________________________________________________________________________________\n",
      "add_8 (Add)                     (None, 14, 14, 1024) 0           bn4a_branch2c[0][0]              \n",
      "                                                                 bn4a_branch1[0][0]               \n",
      "__________________________________________________________________________________________________\n",
      "activation_25 (Activation)      (None, 14, 14, 1024) 0           add_8[0][0]                      \n",
      "__________________________________________________________________________________________________\n",
      "res4b_branch2a (Conv2D)         (None, 14, 14, 256)  262400      activation_25[0][0]              \n",
      "__________________________________________________________________________________________________\n",
      "bn4b_branch2a (BatchNormalizati (None, 14, 14, 256)  1024        res4b_branch2a[0][0]             \n",
      "__________________________________________________________________________________________________\n",
      "activation_26 (Activation)      (None, 14, 14, 256)  0           bn4b_branch2a[0][0]              \n",
      "__________________________________________________________________________________________________\n",
      "res4b_branch2b (Conv2D)         (None, 14, 14, 256)  590080      activation_26[0][0]              \n",
      "__________________________________________________________________________________________________\n",
      "bn4b_branch2b (BatchNormalizati (None, 14, 14, 256)  1024        res4b_branch2b[0][0]             \n",
      "__________________________________________________________________________________________________\n",
      "activation_27 (Activation)      (None, 14, 14, 256)  0           bn4b_branch2b[0][0]              \n",
      "__________________________________________________________________________________________________\n",
      "res4b_branch2c (Conv2D)         (None, 14, 14, 1024) 263168      activation_27[0][0]              \n",
      "__________________________________________________________________________________________________\n",
      "bn4b_branch2c (BatchNormalizati (None, 14, 14, 1024) 4096        res4b_branch2c[0][0]             \n",
      "__________________________________________________________________________________________________\n",
      "add_9 (Add)                     (None, 14, 14, 1024) 0           bn4b_branch2c[0][0]              \n",
      "                                                                 activation_25[0][0]              \n",
      "__________________________________________________________________________________________________\n",
      "activation_28 (Activation)      (None, 14, 14, 1024) 0           add_9[0][0]                      \n",
      "__________________________________________________________________________________________________\n",
      "res4c_branch2a (Conv2D)         (None, 14, 14, 256)  262400      activation_28[0][0]              \n",
      "__________________________________________________________________________________________________\n",
      "bn4c_branch2a (BatchNormalizati (None, 14, 14, 256)  1024        res4c_branch2a[0][0]             \n",
      "__________________________________________________________________________________________________\n",
      "activation_29 (Activation)      (None, 14, 14, 256)  0           bn4c_branch2a[0][0]              \n",
      "__________________________________________________________________________________________________\n",
      "res4c_branch2b (Conv2D)         (None, 14, 14, 256)  590080      activation_29[0][0]              \n",
      "__________________________________________________________________________________________________\n",
      "bn4c_branch2b (BatchNormalizati (None, 14, 14, 256)  1024        res4c_branch2b[0][0]             \n",
      "__________________________________________________________________________________________________\n",
      "activation_30 (Activation)      (None, 14, 14, 256)  0           bn4c_branch2b[0][0]              \n",
      "__________________________________________________________________________________________________\n",
      "res4c_branch2c (Conv2D)         (None, 14, 14, 1024) 263168      activation_30[0][0]              \n",
      "__________________________________________________________________________________________________\n",
      "bn4c_branch2c (BatchNormalizati (None, 14, 14, 1024) 4096        res4c_branch2c[0][0]             \n",
      "__________________________________________________________________________________________________\n",
      "add_10 (Add)                    (None, 14, 14, 1024) 0           bn4c_branch2c[0][0]              \n",
      "                                                                 activation_28[0][0]              \n",
      "__________________________________________________________________________________________________\n",
      "activation_31 (Activation)      (None, 14, 14, 1024) 0           add_10[0][0]                     \n",
      "__________________________________________________________________________________________________\n",
      "res4d_branch2a (Conv2D)         (None, 14, 14, 256)  262400      activation_31[0][0]              \n",
      "__________________________________________________________________________________________________\n",
      "bn4d_branch2a (BatchNormalizati (None, 14, 14, 256)  1024        res4d_branch2a[0][0]             \n",
      "__________________________________________________________________________________________________\n",
      "activation_32 (Activation)      (None, 14, 14, 256)  0           bn4d_branch2a[0][0]              \n",
      "__________________________________________________________________________________________________\n",
      "res4d_branch2b (Conv2D)         (None, 14, 14, 256)  590080      activation_32[0][0]              \n",
      "__________________________________________________________________________________________________\n",
      "bn4d_branch2b (BatchNormalizati (None, 14, 14, 256)  1024        res4d_branch2b[0][0]             \n",
      "__________________________________________________________________________________________________\n",
      "activation_33 (Activation)      (None, 14, 14, 256)  0           bn4d_branch2b[0][0]              \n",
      "__________________________________________________________________________________________________\n",
      "res4d_branch2c (Conv2D)         (None, 14, 14, 1024) 263168      activation_33[0][0]              \n",
      "__________________________________________________________________________________________________\n",
      "bn4d_branch2c (BatchNormalizati (None, 14, 14, 1024) 4096        res4d_branch2c[0][0]             \n",
      "__________________________________________________________________________________________________\n",
      "add_11 (Add)                    (None, 14, 14, 1024) 0           bn4d_branch2c[0][0]              \n",
      "                                                                 activation_31[0][0]              \n",
      "__________________________________________________________________________________________________\n",
      "activation_34 (Activation)      (None, 14, 14, 1024) 0           add_11[0][0]                     \n",
      "__________________________________________________________________________________________________\n",
      "res4e_branch2a (Conv2D)         (None, 14, 14, 256)  262400      activation_34[0][0]              \n",
      "__________________________________________________________________________________________________\n",
      "bn4e_branch2a (BatchNormalizati (None, 14, 14, 256)  1024        res4e_branch2a[0][0]             \n",
      "__________________________________________________________________________________________________\n",
      "activation_35 (Activation)      (None, 14, 14, 256)  0           bn4e_branch2a[0][0]              \n",
      "__________________________________________________________________________________________________\n",
      "res4e_branch2b (Conv2D)         (None, 14, 14, 256)  590080      activation_35[0][0]              \n",
      "__________________________________________________________________________________________________\n",
      "bn4e_branch2b (BatchNormalizati (None, 14, 14, 256)  1024        res4e_branch2b[0][0]             \n",
      "__________________________________________________________________________________________________\n",
      "activation_36 (Activation)      (None, 14, 14, 256)  0           bn4e_branch2b[0][0]              \n",
      "__________________________________________________________________________________________________\n",
      "res4e_branch2c (Conv2D)         (None, 14, 14, 1024) 263168      activation_36[0][0]              \n",
      "__________________________________________________________________________________________________\n",
      "bn4e_branch2c (BatchNormalizati (None, 14, 14, 1024) 4096        res4e_branch2c[0][0]             \n",
      "__________________________________________________________________________________________________\n",
      "add_12 (Add)                    (None, 14, 14, 1024) 0           bn4e_branch2c[0][0]              \n",
      "                                                                 activation_34[0][0]              \n",
      "__________________________________________________________________________________________________\n",
      "activation_37 (Activation)      (None, 14, 14, 1024) 0           add_12[0][0]                     \n",
      "__________________________________________________________________________________________________\n",
      "res4f_branch2a (Conv2D)         (None, 14, 14, 256)  262400      activation_37[0][0]              \n",
      "__________________________________________________________________________________________________\n",
      "bn4f_branch2a (BatchNormalizati (None, 14, 14, 256)  1024        res4f_branch2a[0][0]             \n",
      "__________________________________________________________________________________________________\n",
      "activation_38 (Activation)      (None, 14, 14, 256)  0           bn4f_branch2a[0][0]              \n",
      "__________________________________________________________________________________________________\n",
      "res4f_branch2b (Conv2D)         (None, 14, 14, 256)  590080      activation_38[0][0]              \n",
      "__________________________________________________________________________________________________\n",
      "bn4f_branch2b (BatchNormalizati (None, 14, 14, 256)  1024        res4f_branch2b[0][0]             \n",
      "__________________________________________________________________________________________________\n",
      "activation_39 (Activation)      (None, 14, 14, 256)  0           bn4f_branch2b[0][0]              \n",
      "__________________________________________________________________________________________________\n",
      "res4f_branch2c (Conv2D)         (None, 14, 14, 1024) 263168      activation_39[0][0]              \n",
      "__________________________________________________________________________________________________\n",
      "bn4f_branch2c (BatchNormalizati (None, 14, 14, 1024) 4096        res4f_branch2c[0][0]             \n",
      "__________________________________________________________________________________________________\n",
      "add_13 (Add)                    (None, 14, 14, 1024) 0           bn4f_branch2c[0][0]              \n",
      "                                                                 activation_37[0][0]              \n",
      "__________________________________________________________________________________________________\n",
      "activation_40 (Activation)      (None, 14, 14, 1024) 0           add_13[0][0]                     \n",
      "__________________________________________________________________________________________________\n",
      "res5a_branch2a (Conv2D)         (None, 7, 7, 512)    524800      activation_40[0][0]              \n",
      "__________________________________________________________________________________________________\n",
      "bn5a_branch2a (BatchNormalizati (None, 7, 7, 512)    2048        res5a_branch2a[0][0]             \n",
      "__________________________________________________________________________________________________\n",
      "activation_41 (Activation)      (None, 7, 7, 512)    0           bn5a_branch2a[0][0]              \n",
      "__________________________________________________________________________________________________\n",
      "res5a_branch2b (Conv2D)         (None, 7, 7, 512)    2359808     activation_41[0][0]              \n",
      "__________________________________________________________________________________________________\n",
      "bn5a_branch2b (BatchNormalizati (None, 7, 7, 512)    2048        res5a_branch2b[0][0]             \n",
      "__________________________________________________________________________________________________\n",
      "activation_42 (Activation)      (None, 7, 7, 512)    0           bn5a_branch2b[0][0]              \n",
      "__________________________________________________________________________________________________\n",
      "res5a_branch2c (Conv2D)         (None, 7, 7, 2048)   1050624     activation_42[0][0]              \n",
      "__________________________________________________________________________________________________\n",
      "res5a_branch1 (Conv2D)          (None, 7, 7, 2048)   2099200     activation_40[0][0]              \n",
      "__________________________________________________________________________________________________\n",
      "bn5a_branch2c (BatchNormalizati (None, 7, 7, 2048)   8192        res5a_branch2c[0][0]             \n",
      "__________________________________________________________________________________________________\n",
      "bn5a_branch1 (BatchNormalizatio (None, 7, 7, 2048)   8192        res5a_branch1[0][0]              \n",
      "__________________________________________________________________________________________________\n",
      "add_14 (Add)                    (None, 7, 7, 2048)   0           bn5a_branch2c[0][0]              \n",
      "                                                                 bn5a_branch1[0][0]               \n",
      "__________________________________________________________________________________________________\n",
      "activation_43 (Activation)      (None, 7, 7, 2048)   0           add_14[0][0]                     \n",
      "__________________________________________________________________________________________________\n",
      "res5b_branch2a (Conv2D)         (None, 7, 7, 512)    1049088     activation_43[0][0]              \n",
      "__________________________________________________________________________________________________\n",
      "bn5b_branch2a (BatchNormalizati (None, 7, 7, 512)    2048        res5b_branch2a[0][0]             \n",
      "__________________________________________________________________________________________________\n",
      "activation_44 (Activation)      (None, 7, 7, 512)    0           bn5b_branch2a[0][0]              \n",
      "__________________________________________________________________________________________________\n",
      "res5b_branch2b (Conv2D)         (None, 7, 7, 512)    2359808     activation_44[0][0]              \n",
      "__________________________________________________________________________________________________\n",
      "bn5b_branch2b (BatchNormalizati (None, 7, 7, 512)    2048        res5b_branch2b[0][0]             \n",
      "__________________________________________________________________________________________________\n",
      "activation_45 (Activation)      (None, 7, 7, 512)    0           bn5b_branch2b[0][0]              \n",
      "__________________________________________________________________________________________________\n",
      "res5b_branch2c (Conv2D)         (None, 7, 7, 2048)   1050624     activation_45[0][0]              \n",
      "__________________________________________________________________________________________________\n",
      "bn5b_branch2c (BatchNormalizati (None, 7, 7, 2048)   8192        res5b_branch2c[0][0]             \n",
      "__________________________________________________________________________________________________\n",
      "add_15 (Add)                    (None, 7, 7, 2048)   0           bn5b_branch2c[0][0]              \n",
      "                                                                 activation_43[0][0]              \n",
      "__________________________________________________________________________________________________\n",
      "activation_46 (Activation)      (None, 7, 7, 2048)   0           add_15[0][0]                     \n",
      "__________________________________________________________________________________________________\n",
      "res5c_branch2a (Conv2D)         (None, 7, 7, 512)    1049088     activation_46[0][0]              \n",
      "__________________________________________________________________________________________________\n",
      "bn5c_branch2a (BatchNormalizati (None, 7, 7, 512)    2048        res5c_branch2a[0][0]             \n",
      "__________________________________________________________________________________________________\n",
      "activation_47 (Activation)      (None, 7, 7, 512)    0           bn5c_branch2a[0][0]              \n",
      "__________________________________________________________________________________________________\n",
      "res5c_branch2b (Conv2D)         (None, 7, 7, 512)    2359808     activation_47[0][0]              \n",
      "__________________________________________________________________________________________________\n",
      "bn5c_branch2b (BatchNormalizati (None, 7, 7, 512)    2048        res5c_branch2b[0][0]             \n",
      "__________________________________________________________________________________________________\n",
      "activation_48 (Activation)      (None, 7, 7, 512)    0           bn5c_branch2b[0][0]              \n",
      "__________________________________________________________________________________________________\n",
      "res5c_branch2c (Conv2D)         (None, 7, 7, 2048)   1050624     activation_48[0][0]              \n",
      "__________________________________________________________________________________________________\n",
      "bn5c_branch2c (BatchNormalizati (None, 7, 7, 2048)   8192        res5c_branch2c[0][0]             \n",
      "__________________________________________________________________________________________________\n",
      "add_16 (Add)                    (None, 7, 7, 2048)   0           bn5c_branch2c[0][0]              \n",
      "                                                                 activation_46[0][0]              \n",
      "__________________________________________________________________________________________________\n",
      "activation_49 (Activation)      (None, 7, 7, 2048)   0           add_16[0][0]                     \n",
      "__________________________________________________________________________________________________\n",
      "center_conv (Conv2D)            (None, 7, 7, 512)    9437696     activation_49[0][0]              \n",
      "__________________________________________________________________________________________________\n",
      "center_bn (BatchNormalization)  (None, 7, 7, 512)    2048        center_conv[0][0]                \n",
      "__________________________________________________________________________________________________\n",
      "center_activation (PReLU)       (None, 7, 7, 512)    25088       center_bn[0][0]                  \n",
      "__________________________________________________________________________________________________\n",
      "concatenate_1 (Concatenate)     (None, 7, 7, 2560)   0           center_activation[0][0]          \n",
      "                                                                 activation_49[0][0]              \n",
      "__________________________________________________________________________________________________\n",
      "decoder4_conv (Conv2D)          (None, 7, 7, 256)    5898496     concatenate_1[0][0]              \n",
      "__________________________________________________________________________________________________\n",
      "decoder4_bn (BatchNormalization (None, 7, 7, 256)    1024        decoder4_conv[0][0]              \n",
      "__________________________________________________________________________________________________\n",
      "decoder4_activation (PReLU)     (None, 7, 7, 256)    12544       decoder4_bn[0][0]                \n",
      "__________________________________________________________________________________________________\n",
      "up_sampling2d_1 (UpSampling2D)  (None, 14, 14, 256)  0           decoder4_activation[0][0]        \n",
      "__________________________________________________________________________________________________\n",
      "concatenate_2 (Concatenate)     (None, 14, 14, 1280) 0           up_sampling2d_1[0][0]            \n",
      "                                                                 activation_40[0][0]              \n",
      "__________________________________________________________________________________________________\n",
      "decoder3_conv (Conv2D)          (None, 14, 14, 128)  1474688     concatenate_2[0][0]              \n",
      "__________________________________________________________________________________________________\n",
      "decoder3_bn (BatchNormalization (None, 14, 14, 128)  512         decoder3_conv[0][0]              \n",
      "__________________________________________________________________________________________________\n",
      "decoder3_activation (PReLU)     (None, 14, 14, 128)  25088       decoder3_bn[0][0]                \n",
      "__________________________________________________________________________________________________\n",
      "up_sampling2d_2 (UpSampling2D)  (None, 28, 28, 128)  0           decoder3_activation[0][0]        \n",
      "__________________________________________________________________________________________________\n",
      "concatenate_3 (Concatenate)     (None, 28, 28, 640)  0           up_sampling2d_2[0][0]            \n",
      "                                                                 activation_22[0][0]              \n",
      "__________________________________________________________________________________________________\n",
      "decoder2_conv (Conv2D)          (None, 28, 28, 64)   368704      concatenate_3[0][0]              \n",
      "__________________________________________________________________________________________________\n",
      "decoder2_bn (BatchNormalization (None, 28, 28, 64)   256         decoder2_conv[0][0]              \n",
      "__________________________________________________________________________________________________\n",
      "decoder2_activation (PReLU)     (None, 28, 28, 64)   50176       decoder2_bn[0][0]                \n",
      "__________________________________________________________________________________________________\n",
      "up_sampling2d_3 (UpSampling2D)  (None, 56, 56, 64)   0           decoder2_activation[0][0]        \n",
      "__________________________________________________________________________________________________\n",
      "concatenate_4 (Concatenate)     (None, 56, 56, 320)  0           up_sampling2d_3[0][0]            \n",
      "                                                                 activation_10[0][0]              \n",
      "__________________________________________________________________________________________________\n",
      "decoder1_conv (Conv2D)          (None, 56, 56, 64)   184384      concatenate_4[0][0]              \n",
      "__________________________________________________________________________________________________\n",
      "decoder1_bn (BatchNormalization (None, 56, 56, 64)   256         decoder1_conv[0][0]              \n",
      "__________________________________________________________________________________________________\n",
      "decoder1_activation (PReLU)     (None, 56, 56, 64)   200704      decoder1_bn[0][0]                \n",
      "__________________________________________________________________________________________________\n",
      "up_sampling2d_4 (UpSampling2D)  (None, 112, 112, 64) 0           decoder1_activation[0][0]        \n",
      "__________________________________________________________________________________________________\n",
      "concatenate_5 (Concatenate)     (None, 112, 112, 128 0           up_sampling2d_4[0][0]            \n",
      "                                                                 activation_1[0][0]               \n",
      "__________________________________________________________________________________________________\n",
      "up_sampling2d_5 (UpSampling2D)  (None, 224, 224, 128 0           concatenate_5[0][0]              \n",
      "__________________________________________________________________________________________________\n",
      "decoder_output_conv (Conv2D)    (None, 224, 224, 32) 36896       up_sampling2d_5[0][0]            \n",
      "__________________________________________________________________________________________________\n",
      "decoder_output_bn (BatchNormali (None, 224, 224, 32) 128         decoder_output_conv[0][0]        \n",
      "__________________________________________________________________________________________________\n",
      "decoder_output_activation (PReL (None, 224, 224, 32) 1605632     decoder_output_bn[0][0]          \n",
      "__________________________________________________________________________________________________\n",
      "prediction (Conv2D)             (None, 224, 224, 1)  33          decoder_output_activation[0][0]  \n",
      "__________________________________________________________________________________________________\n",
      "activation_50 (Activation)      (None, 224, 224, 1)  0           prediction[0][0]                 \n",
      "==================================================================================================\n",
      "Total params: 42,912,065\n",
      "Trainable params: 42,856,833\n",
      "Non-trainable params: 55,232\n",
      "__________________________________________________________________________________________________\n"
     ]
    }
   ],
   "source": [
    "input_size = (224, 224, 3)\n",
    "\n",
    "K.clear_session()\n",
    "model = unet_resnet(\n",
    "        input_size=input_size, decoder_block=decoder_block_simple, weights='imagenet'\n",
    ")\n",
    "model.summary()"
   ]
  },
  {
   "cell_type": "markdown",
   "metadata": {
    "colab_type": "text",
    "id": "n08qROl8IlBB"
   },
   "source": [
    "### Train model"
   ]
  },
  {
   "cell_type": "code",
   "execution_count": 22,
   "metadata": {
    "colab": {
     "base_uri": "https://localhost:8080/",
     "height": 513
    },
    "colab_type": "code",
    "executionInfo": {
     "elapsed": 2427675,
     "status": "ok",
     "timestamp": 1563883526196,
     "user": {
      "displayName": "大木 杜生Morio OHKI",
      "photoUrl": "",
      "userId": "03914199061619137174"
     },
     "user_tz": -540
    },
    "id": "QTs0MWhZIlBC",
    "outputId": "48342710-8910-4dee-b3c8-e94d6115034d"
   },
   "outputs": [
    {
     "name": "stderr",
     "output_type": "stream",
     "text": [
      "/usr/local/lib/python3.6/dist-packages/keras_applications/resnet50.py:265: UserWarning: The output shape of `ResNet50(include_top=False)` has been changed since Keras 2.2.0.\n",
      "  warnings.warn('The output shape of `ResNet50(include_top=False)` '\n",
      "W0723 11:25:08.143246 139858354980736 deprecation.py:506] From /usr/local/lib/python3.6/dist-packages/keras/backend/tensorflow_backend.py:3445: calling dropout (from tensorflow.python.ops.nn_ops) with keep_prob is deprecated and will be removed in a future version.\n",
      "Instructions for updating:\n",
      "Please use `rate` instead of `keep_prob`. Rate should be set to `rate = 1 - keep_prob`.\n"
     ]
    },
    {
     "name": "stdout",
     "output_type": "stream",
     "text": [
      "Train on 3196 samples, validate on 804 samples\n",
      "Epoch 1/10\n",
      "3196/3196 [==============================] - 268s 84ms/step - loss: 0.8099 - my_iou_metric: 0.3086 - val_loss: 1.0345 - val_my_iou_metric: 0.3847\n"
     ]
    },
    {
     "name": "stderr",
     "output_type": "stream",
     "text": [
      "/usr/local/lib/python3.6/dist-packages/keras/callbacks.py:434: RuntimeWarning: Can save best model only with val_my_iou_metrics available, skipping.\n",
      "  'skipping.' % (self.monitor), RuntimeWarning)\n"
     ]
    },
    {
     "name": "stdout",
     "output_type": "stream",
     "text": [
      "Epoch 2/10\n",
      "3196/3196 [==============================] - 237s 74ms/step - loss: 0.6526 - my_iou_metric: 0.4534 - val_loss: 1.5033 - val_my_iou_metric: 0.0985\n",
      "Epoch 3/10\n",
      "3196/3196 [==============================] - 237s 74ms/step - loss: 0.5926 - my_iou_metric: 0.4686 - val_loss: 0.5783 - val_my_iou_metric: 0.5703\n",
      "Epoch 4/10\n",
      "3196/3196 [==============================] - 237s 74ms/step - loss: 0.5078 - my_iou_metric: 0.5410 - val_loss: 0.5332 - val_my_iou_metric: 0.5794\n",
      "Epoch 5/10\n",
      "3196/3196 [==============================] - 237s 74ms/step - loss: 0.4954 - my_iou_metric: 0.5645 - val_loss: 0.4659 - val_my_iou_metric: 0.6301\n",
      "Epoch 6/10\n",
      "3196/3196 [==============================] - 237s 74ms/step - loss: 0.4307 - my_iou_metric: 0.5839 - val_loss: 0.4477 - val_my_iou_metric: 0.6282\n",
      "Epoch 7/10\n",
      "3196/3196 [==============================] - 237s 74ms/step - loss: 0.4209 - my_iou_metric: 0.5890 - val_loss: 0.5471 - val_my_iou_metric: 0.5387\n",
      "Epoch 8/10\n",
      "3196/3196 [==============================] - 237s 74ms/step - loss: 0.3910 - my_iou_metric: 0.6242 - val_loss: 0.4682 - val_my_iou_metric: 0.5719\n",
      "Epoch 9/10\n",
      "3196/3196 [==============================] - 237s 74ms/step - loss: 0.4018 - my_iou_metric: 0.6130 - val_loss: 0.4011 - val_my_iou_metric: 0.6627\n",
      "Epoch 10/10\n",
      "3196/3196 [==============================] - 237s 74ms/step - loss: 0.3522 - my_iou_metric: 0.6522 - val_loss: 0.5946 - val_my_iou_metric: 0.5215\n"
     ]
    }
   ],
   "source": [
    "K.clear_session()\n",
    "\n",
    "#Build mode:\n",
    "#Here you can experiment with various losses.\n",
    "#For dice and BCE(binary_crossentropy), my_iou_metric should be used,\n",
    "#whereas for lovash_loss my_iou_metric2 should be used, because range of value\n",
    "#for  lovash loss is between -infty and + infty, not between 0 and 1, as for BCE and dice\n",
    "#What is more, when lovash loss is used, last layer (sigmoid) should be deleted.\n",
    "#This is controlled by use_lovash parameter.\n",
    "\n",
    "model_depth = unet_resnet(\n",
    "        input_size=input_size, decoder_block=decoder_block_bottleneck,\n",
    "        weights='imagenet', loss_func=bce_dice_loss, metrics_list=[my_iou_metric],\n",
    "        use_lovash=False\n",
    ")\n",
    "\n",
    "#print(model_depth.summary())\n",
    "\n",
    "#bestなepoch回数での結果をcheck_pointに保管するためのModelCheckpointクラスのインスタンス\n",
    "model_checkpoint = ModelCheckpoint(\n",
    "        'unet_resnet.h5', monitor='val_my_iou_metrics', mode='max',\n",
    "        save_best_only=True, save_weights_only=True, verbose=True\n",
    ")\n",
    "#評価値の改善が止まった時に学習率を減少\n",
    "reduce_lr = ReduceLROnPlateau(\n",
    "        monitor='val_my_iou_metric',\n",
    "        mode='max',\n",
    "        factor=0.5,\n",
    "        patience=5,\n",
    "        min_lr=1e-4,\n",
    "        verbose=True\n",
    ")\n",
    "\n",
    "epochs = 10\n",
    "batch_size = 16\n",
    "\n",
    "history = model_depth.fit(\n",
    "        X_tr, y_tr, validation_data=[X_val, y_val],\n",
    "        epochs=epochs, batch_size=batch_size,\n",
    "        callbacks=[model_checkpoint, reduce_lr],\n",
    "        verbose=True\n",
    ")"
   ]
  },
  {
   "cell_type": "markdown",
   "metadata": {
    "colab_type": "text",
    "id": "aPnF11u4IlBI"
   },
   "source": [
    "### Validation set prediction and resizing to original size"
   ]
  },
  {
   "cell_type": "code",
   "execution_count": 0,
   "metadata": {
    "colab": {},
    "colab_type": "code",
    "id": "YIqRWrKPIlBJ"
   },
   "outputs": [],
   "source": [
    "val_preds = model_depth.predict(X_val, batch_size=16)\n",
    "\n",
    "y_val_pred = np.asarray(list(map(lambda x: cv2.resize(x, (101, 101)), val_preds)))\n",
    "y_val_true = np.asarray(list(map(lambda x: cv2.resize(x, (101, 101)), y_val)))"
   ]
  },
  {
   "cell_type": "markdown",
   "metadata": {
    "colab_type": "text",
    "id": "mn7L9UDEIlBQ"
   },
   "source": [
    "### Threshold optimization"
   ]
  },
  {
   "cell_type": "markdown",
   "metadata": {
    "colab_type": "text",
    "id": "PoWU2ZSoIlBR"
   },
   "source": [
    "$$\n",
    "IoU = \\frac{Intersection}{Union}\n",
    "$$\n",
    "<img src='https://mathwords.net/wp-content/uploads/2019/02/iou1.png' width=\"120px\">"
   ]
  },
  {
   "cell_type": "code",
   "execution_count": 0,
   "metadata": {
    "colab": {},
    "colab_type": "code",
    "id": "l4fdfiE4IlBS"
   },
   "outputs": [],
   "source": [
    "# src: https://www.kaggle.com/aglotero/another-iou-metric\n",
    "#IoU = tp/(tp+tn+fn)\n",
    "def iou_metric(y_true_in, y_pred_in, print_table=True):\n",
    "        labels= y_true_in\n",
    "        y_pred = y_pred_in\n",
    "        \n",
    "        true_objects = 2\n",
    "        pred_objects = 2\n",
    "        \n",
    "        intersection = np.histogram2d(\n",
    "            labels.flatten(), y_pred.flatten(),\n",
    "            bins=(true_objects, pred_objects))[0]\n",
    "        \n",
    "        #compute areas (needed for finding the union between all objects)\n",
    "        #ヒストグラム（度数=class数）でカウントしている\n",
    "        area_true = np.histogram(labels, bins=true_objects)[0]\n",
    "        area_pred = np.histogram(y_pred, bins=pred_objects)[0]\n",
    "        area_true = np.expand_dims(area_true,-1)\n",
    "        area_pred = np.expand_dims(area_pred,0)\n",
    "        \n",
    "        #compute union\n",
    "        #(A ∪ B) = A + B - (A ∩ B ) \n",
    "        union = area_true + area_pred - intersection\n",
    "        \n",
    "        #Exclude background from the analysis\n",
    "        intersection = intersection[1:, 1:]\n",
    "        union = union[1:, 1:]\n",
    "        union[union == 0] = 1e-9\n",
    "        \n",
    "        #Compute the intersection over union\n",
    "        iou = intersection / union\n",
    "        \n",
    "        #Precision helper function\n",
    "        def precision_at(threshold, iou):\n",
    "                matches = iou > threshold\n",
    "                true_positives = np.sum(matches, axis=1) == 1\n",
    "                false_positives = np.sum(matches, axis=0) == 0\n",
    "                false_negatives = np.sum(matches, axis=1) == 0\n",
    "                tp, fp, fn = np.sum(true_positives), np.sum(false_positives), np.sum(false_negatives)\n",
    "                return tp, fp, fn\n",
    "\n",
    "        #Loop over IoU thresholds\n",
    "        prec = []\n",
    "\n",
    "        if (print_table):\n",
    "                print(\"Thresh\\tTP\\tFP\\tFN\\tPrec,\")\n",
    "        for t in np.arange(0.5, 1.0, 0.05):\n",
    "                tp, fp, fn = precision_at(t, iou)\n",
    "                if ((tp + fp + fn) > 0):\n",
    "                        p = tp/(tp + fp + fn)\n",
    "                else:\n",
    "                        p = 0\n",
    "                if (print_table):\n",
    "                        print(\"{:1.3f}\\t{}\\t{}\\t{}\\t{:1.3f}\".format(t, tp, fp, fn, p))\n",
    "                prec.append(p)\n",
    "\n",
    "        if (print_table):\n",
    "                print(\"AP\\t-\\t-\\t-\\t{:1.3f}\".format(np.mean(prec)))\n",
    "        return np.mean(prec)\n",
    "def iou_metric_batch(y_true_in, y_pred_in):\n",
    "        batch_size = y_true_in.shape[0]\n",
    "        metric = []\n",
    "        for batch in range(batch_size):\n",
    "                value = iou_metric(y_true_in[batch], y_pred_in[batch], print_table=False)\n",
    "                metric.append(value)\n",
    "        return np.mean(metric)\n",
    "        "
   ]
  },
  {
   "cell_type": "code",
   "execution_count": 25,
   "metadata": {
    "colab": {
     "base_uri": "https://localhost:8080/",
     "height": 34
    },
    "colab_type": "code",
    "executionInfo": {
     "elapsed": 50876,
     "status": "ok",
     "timestamp": 1563883605909,
     "user": {
      "displayName": "大木 杜生Morio OHKI",
      "photoUrl": "",
      "userId": "03914199061619137174"
     },
     "user_tz": -540
    },
    "id": "GLlTMDChIlBV",
    "outputId": "a9bd0d98-938e-4df1-967a-5521f84f7d61"
   },
   "outputs": [
    {
     "name": "stderr",
     "output_type": "stream",
     "text": [
      "100%|██████████| 35/35 [00:49<00:00,  1.42s/it]\n"
     ]
    }
   ],
   "source": [
    "#Threshold range, over which optimization is performed\n",
    "thresholds = np.arange(0.2, 0.9, 0.02)\n",
    "\n",
    "#For every threshold, set predictions to binary arrays,\n",
    "#where values above threshold are treated as 1 and the rest as 0.\n",
    "#Loop over thresholds and compute IoU for them based on IoU function above.\n",
    "ious = np.array(\n",
    "    [iou_metric_batch(y_val_true, np.int32(y_val_pred > threshold)) for threshold in tqdm(thresholds)]\n",
    ")"
   ]
  },
  {
   "cell_type": "code",
   "execution_count": 26,
   "metadata": {
    "colab": {
     "base_uri": "https://localhost:8080/",
     "height": 314
    },
    "colab_type": "code",
    "executionInfo": {
     "elapsed": 881,
     "status": "ok",
     "timestamp": 1563883610207,
     "user": {
      "displayName": "大木 杜生Morio OHKI",
      "photoUrl": "",
      "userId": "03914199061619137174"
     },
     "user_tz": -540
    },
    "id": "_4LtjBRHIlBa",
    "outputId": "0f455a57-8482-4b67-edd4-2aff7c703d1e"
   },
   "outputs": [
    {
     "name": "stdout",
     "output_type": "stream",
     "text": [
      "Best IoU: 0.5910 at threshold: 0.880\n"
     ]
    },
    {
     "data": {
      "text/html": [
       "<div>\n",
       "<style scoped>\n",
       "    .dataframe tbody tr th:only-of-type {\n",
       "        vertical-align: middle;\n",
       "    }\n",
       "\n",
       "    .dataframe tbody tr th {\n",
       "        vertical-align: top;\n",
       "    }\n",
       "\n",
       "    .dataframe thead th {\n",
       "        text-align: right;\n",
       "    }\n",
       "</style>\n",
       "<table border=\"1\" class=\"dataframe\">\n",
       "  <thead>\n",
       "    <tr style=\"text-align: right;\">\n",
       "      <th></th>\n",
       "      <th>threshold</th>\n",
       "      <th>iou</th>\n",
       "    </tr>\n",
       "  </thead>\n",
       "  <tbody>\n",
       "    <tr>\n",
       "      <th>count</th>\n",
       "      <td>35.000000</td>\n",
       "      <td>35.000000</td>\n",
       "    </tr>\n",
       "    <tr>\n",
       "      <th>mean</th>\n",
       "      <td>0.540000</td>\n",
       "      <td>0.541592</td>\n",
       "    </tr>\n",
       "    <tr>\n",
       "      <th>std</th>\n",
       "      <td>0.204939</td>\n",
       "      <td>0.032441</td>\n",
       "    </tr>\n",
       "    <tr>\n",
       "      <th>min</th>\n",
       "      <td>0.200000</td>\n",
       "      <td>0.485075</td>\n",
       "    </tr>\n",
       "    <tr>\n",
       "      <th>25%</th>\n",
       "      <td>0.370000</td>\n",
       "      <td>0.514117</td>\n",
       "    </tr>\n",
       "    <tr>\n",
       "      <th>50%</th>\n",
       "      <td>0.540000</td>\n",
       "      <td>0.539428</td>\n",
       "    </tr>\n",
       "    <tr>\n",
       "      <th>75%</th>\n",
       "      <td>0.710000</td>\n",
       "      <td>0.571020</td>\n",
       "    </tr>\n",
       "    <tr>\n",
       "      <th>max</th>\n",
       "      <td>0.880000</td>\n",
       "      <td>0.591045</td>\n",
       "    </tr>\n",
       "  </tbody>\n",
       "</table>\n",
       "</div>"
      ],
      "text/plain": [
       "       threshold        iou\n",
       "count  35.000000  35.000000\n",
       "mean    0.540000   0.541592\n",
       "std     0.204939   0.032441\n",
       "min     0.200000   0.485075\n",
       "25%     0.370000   0.514117\n",
       "50%     0.540000   0.539428\n",
       "75%     0.710000   0.571020\n",
       "max     0.880000   0.591045"
      ]
     },
     "execution_count": 26,
     "metadata": {
      "tags": []
     },
     "output_type": "execute_result"
    }
   ],
   "source": [
    "df_iou = pd.DataFrame(thresholds, columns=['threshold'])\n",
    "df_iou['iou'] = ious\n",
    "\n",
    "#Get index of best IoU\n",
    "best_index = df_iou['iou'].idxmax()\n",
    "print('Best IoU: {:.4f} at threshold: {:.3f}'.format(\n",
    "    df_iou.iou[best_index], df_iou.threshold[best_index]\n",
    "))\n",
    "\n",
    "#Describe IoU DF\n",
    "df_iou.describe()"
   ]
  },
  {
   "cell_type": "code",
   "execution_count": 27,
   "metadata": {
    "colab": {
     "base_uri": "https://localhost:8080/",
     "height": 592
    },
    "colab_type": "code",
    "executionInfo": {
     "elapsed": 1116,
     "status": "ok",
     "timestamp": 1563883615173,
     "user": {
      "displayName": "大木 杜生Morio OHKI",
      "photoUrl": "",
      "userId": "03914199061619137174"
     },
     "user_tz": -540
    },
    "id": "dgx_nNqKIlBd",
    "outputId": "fc85e372-35a3-4768-ab67-060552b15395"
   },
   "outputs": [
    {
     "data": {
      "text/plain": [
       "<matplotlib.axes._subplots.AxesSubplot at 0x7f328f4cbe48>"
      ]
     },
     "execution_count": 27,
     "metadata": {
      "tags": []
     },
     "output_type": "execute_result"
    },
    {
     "data": {
      "image/png": "[encoded data removed]",
      "text/plain": [
       "<Figure size 864x648 with 1 Axes>"
      ]
     },
     "metadata": {
      "tags": []
     },
     "output_type": "display_data"
    }
   ],
   "source": [
    "#Plot IoU values over threshold range\n",
    "df_iou.plot(x='threshold', y='iou')"
   ]
  },
  {
   "cell_type": "markdown",
   "metadata": {
    "colab_type": "text",
    "id": "CiW_vRcOIlBh"
   },
   "source": [
    "## 【問題2】コードの書き換え\n",
    "エンコーダーにResNetが使用されていたコードをVGGに変更してください。\n"
   ]
  },
  {
   "cell_type": "code",
   "execution_count": 0,
   "metadata": {
    "colab": {},
    "colab_type": "code",
    "id": "kyDAemtQIlBi"
   },
   "outputs": [],
   "source": [
    "from keras.applications.vgg19 import VGG19, preprocess_input\n",
    "\n",
    "#model is parametrized in a way to enable easy change of decoder_block type,\n",
    "#as this is an argument that ccan be given a function, like decoder_block_simple.\n",
    "def unet_vgg19(input_size, decoder_block, weights='imagenet',\n",
    "                loss_func='binary_crossentropy',\n",
    "                metrics_list=[my_iou_metric],\n",
    "                use_lovash=False\n",
    "               ):\n",
    "        # weights='imagenet'でResNetの部分はimagenetを利用しての転移学習\n",
    "        #base model - encoder\n",
    "        \n",
    "        base_model = VGG19(\n",
    "                input_shape=input_size,\n",
    "                include_top=False,\n",
    "                weights=weights\n",
    "        )\n",
    "        \n",
    "        #Layers for feature extraction in the encoder part\n",
    "        encoder1 = base_model.get_layer('block1_conv2').output #224, 224, 64\n",
    "        encoder2 = base_model.get_layer('block2_conv2').output #112, 112, 128\n",
    "        encoder3 = base_model.get_layer('block3_conv4').output #56, 56, 256\n",
    "        encoder4 = base_model.get_layer('block4_conv4').output #28, 28, 512\n",
    "        encoder5 = base_model.get_layer('block5_conv4').output #14, 14, 512\n",
    "        \n",
    "        #Center block\n",
    "        center = decoder_block(#14, 14, 512\n",
    "                layer_name=encoder5, block_name='center',\n",
    "                n_filters=512, conv_dim=(3, 3)\n",
    "        )\n",
    "        concat5 = concatenate([center, encoder5], axis=-1)\n",
    "        \n",
    "        #Decoder part\n",
    "        #Every decoder block processed concatenated output from encoder and decoder part.\n",
    "        #This creates skip connections\n",
    "        #Afterwards, decoder output is upsampled to dimensions equal to encoder output part\n",
    "        decoder4 = decoder_block(#14, 14, 512\n",
    "            layer_name=concat5, block_name='decoder4', n_filters=512, conv_dim=(3, 3)\n",
    "        )\n",
    "        concat4 = concatenate([UpSampling2D()(decoder4), encoder4], axis=-1)\n",
    "        \n",
    "        decoder3 = decoder_block(#28, 28, 256\n",
    "            layer_name=concat4, block_name='decoder3', n_filters=256, conv_dim=(3, 3)\n",
    "        )\n",
    "        concat3 = concatenate([UpSampling2D()(decoder3), encoder3], axis=-1)\n",
    "        \n",
    "        decoder2 = decoder_block(#56, 56, 128\n",
    "            layer_name=concat3, block_name='decoder2', n_filters=128, conv_dim=(3, 3)\n",
    "        )\n",
    "        concat2 = concatenate([UpSampling2D()(decoder2), encoder2], axis=-1)\n",
    "        \n",
    "        decoder1 = decoder_block(#112, 112, 256\n",
    "            layer_name=concat2, block_name='decoder1',  n_filters=64, conv_dim=(3, 3)\n",
    "        )\n",
    "        concat1 = concatenate([UpSampling2D()(decoder1), encoder1], axis=-1)\n",
    "        \n",
    "        #Final upsampling and decoder block for segmentation\n",
    "        \n",
    "        #output = UpSampling2D()(concat1)\n",
    "        output = decoder_block(\n",
    "            #layer_name=output, block_name='decoder_output', n_filters=32, conv_dim=(3, 3)\n",
    "            layer_name=concat1, block_name='decoder_output', n_filters=32, conv_dim=(3, 3)\n",
    "        )\n",
    "        output = Conv2D(\n",
    "             filters=1, kernel_size=(1, 1), activation=None, name='prediction')(output)\n",
    "        \n",
    "        if not use_lovash:\n",
    "                output = Activation('sigmoid')(output)\n",
    "        \n",
    "        model = Model(base_model.input, output)\n",
    "        model.compile(loss=loss_func, optimizer='adam', metrics=metrics_list)\n",
    "        \n",
    "        return model"
   ]
  },
  {
   "cell_type": "code",
   "execution_count": 29,
   "metadata": {
    "colab": {
     "base_uri": "https://localhost:8080/",
     "height": 1000
    },
    "colab_type": "code",
    "executionInfo": {
     "elapsed": 9732,
     "status": "ok",
     "timestamp": 1563883640006,
     "user": {
      "displayName": "大木 杜生Morio OHKI",
      "photoUrl": "",
      "userId": "03914199061619137174"
     },
     "user_tz": -540
    },
    "id": "CTDf3FdMIlBl",
    "outputId": "1789bdba-3967-4365-f2cb-11bc7585d9c7"
   },
   "outputs": [
    {
     "name": "stdout",
     "output_type": "stream",
     "text": [
      "Downloading data from https://github.com/fchollet/deep-learning-models/releases/download/v0.1/vgg19_weights_tf_dim_ordering_tf_kernels_notop.h5\n",
      "80142336/80134624 [==============================] - 6s 0us/step\n",
      "__________________________________________________________________________________________________\n",
      "Layer (type)                    Output Shape         Param #     Connected to                     \n",
      "==================================================================================================\n",
      "input_1 (InputLayer)            (None, 224, 224, 3)  0                                            \n",
      "__________________________________________________________________________________________________\n",
      "block1_conv1 (Conv2D)           (None, 224, 224, 64) 1792        input_1[0][0]                    \n",
      "__________________________________________________________________________________________________\n",
      "block1_conv2 (Conv2D)           (None, 224, 224, 64) 36928       block1_conv1[0][0]               \n",
      "__________________________________________________________________________________________________\n",
      "block1_pool (MaxPooling2D)      (None, 112, 112, 64) 0           block1_conv2[0][0]               \n",
      "__________________________________________________________________________________________________\n",
      "block2_conv1 (Conv2D)           (None, 112, 112, 128 73856       block1_pool[0][0]                \n",
      "__________________________________________________________________________________________________\n",
      "block2_conv2 (Conv2D)           (None, 112, 112, 128 147584      block2_conv1[0][0]               \n",
      "__________________________________________________________________________________________________\n",
      "block2_pool (MaxPooling2D)      (None, 56, 56, 128)  0           block2_conv2[0][0]               \n",
      "__________________________________________________________________________________________________\n",
      "block3_conv1 (Conv2D)           (None, 56, 56, 256)  295168      block2_pool[0][0]                \n",
      "__________________________________________________________________________________________________\n",
      "block3_conv2 (Conv2D)           (None, 56, 56, 256)  590080      block3_conv1[0][0]               \n",
      "__________________________________________________________________________________________________\n",
      "block3_conv3 (Conv2D)           (None, 56, 56, 256)  590080      block3_conv2[0][0]               \n",
      "__________________________________________________________________________________________________\n",
      "block3_conv4 (Conv2D)           (None, 56, 56, 256)  590080      block3_conv3[0][0]               \n",
      "__________________________________________________________________________________________________\n",
      "block3_pool (MaxPooling2D)      (None, 28, 28, 256)  0           block3_conv4[0][0]               \n",
      "__________________________________________________________________________________________________\n",
      "block4_conv1 (Conv2D)           (None, 28, 28, 512)  1180160     block3_pool[0][0]                \n",
      "__________________________________________________________________________________________________\n",
      "block4_conv2 (Conv2D)           (None, 28, 28, 512)  2359808     block4_conv1[0][0]               \n",
      "__________________________________________________________________________________________________\n",
      "block4_conv3 (Conv2D)           (None, 28, 28, 512)  2359808     block4_conv2[0][0]               \n",
      "__________________________________________________________________________________________________\n",
      "block4_conv4 (Conv2D)           (None, 28, 28, 512)  2359808     block4_conv3[0][0]               \n",
      "__________________________________________________________________________________________________\n",
      "block4_pool (MaxPooling2D)      (None, 14, 14, 512)  0           block4_conv4[0][0]               \n",
      "__________________________________________________________________________________________________\n",
      "block5_conv1 (Conv2D)           (None, 14, 14, 512)  2359808     block4_pool[0][0]                \n",
      "__________________________________________________________________________________________________\n",
      "block5_conv2 (Conv2D)           (None, 14, 14, 512)  2359808     block5_conv1[0][0]               \n",
      "__________________________________________________________________________________________________\n",
      "block5_conv3 (Conv2D)           (None, 14, 14, 512)  2359808     block5_conv2[0][0]               \n",
      "__________________________________________________________________________________________________\n",
      "block5_conv4 (Conv2D)           (None, 14, 14, 512)  2359808     block5_conv3[0][0]               \n",
      "__________________________________________________________________________________________________\n",
      "center_conv (Conv2D)            (None, 14, 14, 512)  2359808     block5_conv4[0][0]               \n",
      "__________________________________________________________________________________________________\n",
      "center_bn (BatchNormalization)  (None, 14, 14, 512)  2048        center_conv[0][0]                \n",
      "__________________________________________________________________________________________________\n",
      "center_activation (PReLU)       (None, 14, 14, 512)  100352      center_bn[0][0]                  \n",
      "__________________________________________________________________________________________________\n",
      "concatenate_1 (Concatenate)     (None, 14, 14, 1024) 0           center_activation[0][0]          \n",
      "                                                                 block5_conv4[0][0]               \n",
      "__________________________________________________________________________________________________\n",
      "decoder4_conv (Conv2D)          (None, 14, 14, 512)  4719104     concatenate_1[0][0]              \n",
      "__________________________________________________________________________________________________\n",
      "decoder4_bn (BatchNormalization (None, 14, 14, 512)  2048        decoder4_conv[0][0]              \n",
      "__________________________________________________________________________________________________\n",
      "decoder4_activation (PReLU)     (None, 14, 14, 512)  100352      decoder4_bn[0][0]                \n",
      "__________________________________________________________________________________________________\n",
      "up_sampling2d_1 (UpSampling2D)  (None, 28, 28, 512)  0           decoder4_activation[0][0]        \n",
      "__________________________________________________________________________________________________\n",
      "concatenate_2 (Concatenate)     (None, 28, 28, 1024) 0           up_sampling2d_1[0][0]            \n",
      "                                                                 block4_conv4[0][0]               \n",
      "__________________________________________________________________________________________________\n",
      "decoder3_conv (Conv2D)          (None, 28, 28, 256)  2359552     concatenate_2[0][0]              \n",
      "__________________________________________________________________________________________________\n",
      "decoder3_bn (BatchNormalization (None, 28, 28, 256)  1024        decoder3_conv[0][0]              \n",
      "__________________________________________________________________________________________________\n",
      "decoder3_activation (PReLU)     (None, 28, 28, 256)  200704      decoder3_bn[0][0]                \n",
      "__________________________________________________________________________________________________\n",
      "up_sampling2d_2 (UpSampling2D)  (None, 56, 56, 256)  0           decoder3_activation[0][0]        \n",
      "__________________________________________________________________________________________________\n",
      "concatenate_3 (Concatenate)     (None, 56, 56, 512)  0           up_sampling2d_2[0][0]            \n",
      "                                                                 block3_conv4[0][0]               \n",
      "__________________________________________________________________________________________________\n",
      "decoder2_conv (Conv2D)          (None, 56, 56, 128)  589952      concatenate_3[0][0]              \n",
      "__________________________________________________________________________________________________\n",
      "decoder2_bn (BatchNormalization (None, 56, 56, 128)  512         decoder2_conv[0][0]              \n",
      "__________________________________________________________________________________________________\n",
      "decoder2_activation (PReLU)     (None, 56, 56, 128)  401408      decoder2_bn[0][0]                \n",
      "__________________________________________________________________________________________________\n",
      "up_sampling2d_3 (UpSampling2D)  (None, 112, 112, 128 0           decoder2_activation[0][0]        \n",
      "__________________________________________________________________________________________________\n",
      "concatenate_4 (Concatenate)     (None, 112, 112, 256 0           up_sampling2d_3[0][0]            \n",
      "                                                                 block2_conv2[0][0]               \n",
      "__________________________________________________________________________________________________\n",
      "decoder1_conv (Conv2D)          (None, 112, 112, 64) 147520      concatenate_4[0][0]              \n",
      "__________________________________________________________________________________________________\n",
      "decoder1_bn (BatchNormalization (None, 112, 112, 64) 256         decoder1_conv[0][0]              \n",
      "__________________________________________________________________________________________________\n",
      "decoder1_activation (PReLU)     (None, 112, 112, 64) 802816      decoder1_bn[0][0]                \n",
      "__________________________________________________________________________________________________\n",
      "up_sampling2d_4 (UpSampling2D)  (None, 224, 224, 64) 0           decoder1_activation[0][0]        \n",
      "__________________________________________________________________________________________________\n",
      "concatenate_5 (Concatenate)     (None, 224, 224, 128 0           up_sampling2d_4[0][0]            \n",
      "                                                                 block1_conv2[0][0]               \n",
      "__________________________________________________________________________________________________\n",
      "decoder_output_conv (Conv2D)    (None, 224, 224, 32) 36896       concatenate_5[0][0]              \n",
      "__________________________________________________________________________________________________\n",
      "decoder_output_bn (BatchNormali (None, 224, 224, 32) 128         decoder_output_conv[0][0]        \n",
      "__________________________________________________________________________________________________\n",
      "decoder_output_activation (PReL (None, 224, 224, 32) 1605632     decoder_output_bn[0][0]          \n",
      "__________________________________________________________________________________________________\n",
      "prediction (Conv2D)             (None, 224, 224, 1)  33          decoder_output_activation[0][0]  \n",
      "__________________________________________________________________________________________________\n",
      "activation_1 (Activation)       (None, 224, 224, 1)  0           prediction[0][0]                 \n",
      "==================================================================================================\n",
      "Total params: 33,454,529\n",
      "Trainable params: 33,451,521\n",
      "Non-trainable params: 3,008\n",
      "__________________________________________________________________________________________________\n"
     ]
    }
   ],
   "source": [
    "input_size = (224, 224, 3)\n",
    "\n",
    "K.clear_session()\n",
    "model = unet_vgg19(\n",
    "        input_size=input_size, decoder_block=decoder_block_simple, weights='imagenet'\n",
    ")\n",
    "model.summary()"
   ]
  },
  {
   "cell_type": "code",
   "execution_count": 30,
   "metadata": {
    "colab": {
     "base_uri": "https://localhost:8080/",
     "height": 428
    },
    "colab_type": "code",
    "executionInfo": {
     "elapsed": 1790,
     "status": "ok",
     "timestamp": 1563887303710,
     "user": {
      "displayName": "大木 杜生Morio OHKI",
      "photoUrl": "",
      "userId": "03914199061619137174"
     },
     "user_tz": -540
    },
    "id": "Mr8Alc_nIlBt",
    "outputId": "8bc030f5-01f6-4d0d-dbfd-b5ed337ecaec"
   },
   "outputs": [
    {
     "name": "stdout",
     "output_type": "stream",
     "text": [
      "Train on 3196 samples, validate on 804 samples\n",
      "Epoch 1/10\n",
      "3196/3196 [==============================] - 315s 98ms/step - loss: 0.8989 - my_iou_metric: 0.1498 - val_loss: 2.6237 - val_my_iou_metric: 0.1350\n",
      "Epoch 2/10\n"
     ]
    },
    {
     "name": "stderr",
     "output_type": "stream",
     "text": [
      "/usr/local/lib/python3.6/dist-packages/keras/callbacks.py:434: RuntimeWarning: Can save best model only with val_my_iou_metrics available, skipping.\n",
      "  'skipping.' % (self.monitor), RuntimeWarning)\n"
     ]
    },
    {
     "name": "stdout",
     "output_type": "stream",
     "text": [
      "3196/3196 [==============================] - 292s 91ms/step - loss: 0.7466 - my_iou_metric: 0.2098 - val_loss: 0.8651 - val_my_iou_metric: 0.2330\n",
      "Epoch 3/10\n",
      "3196/3196 [==============================] - 292s 91ms/step - loss: 0.6908 - my_iou_metric: 0.2387 - val_loss: 1.1998 - val_my_iou_metric: 0.2752\n",
      "Epoch 4/10\n",
      "3196/3196 [==============================] - 292s 91ms/step - loss: 0.6428 - my_iou_metric: 0.2741 - val_loss: 1.0373 - val_my_iou_metric: 0.3553\n",
      "Epoch 5/10\n",
      "3196/3196 [==============================] - 292s 91ms/step - loss: 0.6472 - my_iou_metric: 0.2831 - val_loss: 1.3542 - val_my_iou_metric: 0.3590\n",
      "Epoch 6/10\n",
      "3196/3196 [==============================] - 292s 91ms/step - loss: 0.6282 - my_iou_metric: 0.3257 - val_loss: 0.7305 - val_my_iou_metric: 0.3352\n",
      "Epoch 7/10\n",
      "3196/3196 [==============================] - 292s 91ms/step - loss: 0.5813 - my_iou_metric: 0.3903 - val_loss: 0.7407 - val_my_iou_metric: 0.3602\n",
      "Epoch 8/10\n",
      "3196/3196 [==============================] - 292s 91ms/step - loss: 0.5802 - my_iou_metric: 0.4010 - val_loss: 0.6650 - val_my_iou_metric: 0.4481\n",
      "Epoch 9/10\n",
      "3196/3196 [==============================] - 293s 92ms/step - loss: 0.5597 - my_iou_metric: 0.4068 - val_loss: 0.5802 - val_my_iou_metric: 0.4408\n",
      "Epoch 10/10\n",
      "3196/3196 [==============================] - 294s 92ms/step - loss: 0.5285 - my_iou_metric: 0.4098 - val_loss: 0.5983 - val_my_iou_metric: 0.5031\n"
     ]
    }
   ],
   "source": [
    "K.clear_session()\n",
    "\n",
    "#Build mode:\n",
    "#Here you can experiment with various losses.\n",
    "#For dice and BCE(binary_crossentropy), my_iou_metric should be used,\n",
    "#whereas for lovash_loss my_iou_metric2 should be used, because range of value\n",
    "#for  lovash loss is between -infty and + infty, not between 0 and 1, as for BCE and dice\n",
    "#What is more, when lovash loss is used, last layer (sigmoid) should be deleted.\n",
    "#This is controlled by use_lovash parameter.\n",
    "\n",
    "model_depth = unet_vgg19(\n",
    "        input_size=input_size, decoder_block=decoder_block_bottleneck,\n",
    "        weights='imagenet', loss_func=bce_dice_loss, metrics_list=[my_iou_metric],\n",
    "        use_lovash=False\n",
    ")\n",
    "\n",
    "#print(model_depth.summary())\n",
    "\n",
    "#bestなepoch回数での結果をcheck_pointに保管するためのModelCheckpointクラスのインスタンス\n",
    "model_checkpoint = ModelCheckpoint(\n",
    "        'unet_vgg19.h5', monitor='val_my_iou_metrics', mode='max',\n",
    "        save_best_only=True, save_weights_only=True, verbose=True\n",
    ")\n",
    "#評価値の改善が止まった時に学習率を減少\n",
    "reduce_lr = ReduceLROnPlateau(\n",
    "        monitor='val_my_iou_metric',\n",
    "        mode='max',\n",
    "        factor=0.5,\n",
    "        patience=5,\n",
    "        min_lr=1e-4,\n",
    "        verbose=True\n",
    ")\n",
    "\n",
    "epochs = 10\n",
    "batch_size = 16\n",
    "\n",
    "history = model_depth.fit(\n",
    "        X_tr, y_tr, validation_data=[X_val, y_val],\n",
    "        epochs=epochs, batch_size=batch_size,\n",
    "        callbacks=[model_checkpoint, reduce_lr],\n",
    "        verbose=True\n",
    ")"
   ]
  },
  {
   "cell_type": "markdown",
   "metadata": {
    "colab_type": "text",
    "id": "UYXfrN5ZgRSs"
   },
   "source": [
    "### Validation set prediction and resizing to original size\n"
   ]
  },
  {
   "cell_type": "code",
   "execution_count": 0,
   "metadata": {
    "colab": {},
    "colab_type": "code",
    "id": "T-wTHuPtf8Bn"
   },
   "outputs": [],
   "source": [
    "val_preds = model_depth.predict(X_val, batch_size=16)\n",
    "\n",
    "y_val_pred = np.asarray(list(map(lambda x: cv2.resize(x, (101, 101)), val_preds)))\n",
    "y_val_true = np.asarray(list(map(lambda x: cv2.resize(x, (101, 101)), y_val)))"
   ]
  },
  {
   "cell_type": "markdown",
   "metadata": {
    "colab_type": "text",
    "id": "_3NaLMNmhWgH"
   },
   "source": [
    "### Threshold optimization"
   ]
  },
  {
   "cell_type": "code",
   "execution_count": 32,
   "metadata": {
    "colab": {
     "base_uri": "https://localhost:8080/",
     "height": 34
    },
    "colab_type": "code",
    "executionInfo": {
     "elapsed": 52040,
     "status": "ok",
     "timestamp": 1563887504701,
     "user": {
      "displayName": "大木 杜生Morio OHKI",
      "photoUrl": "",
      "userId": "03914199061619137174"
     },
     "user_tz": -540
    },
    "id": "mePnjGhAgBcB",
    "outputId": "20d3b159-90c3-4ab5-d563-9e0d108f9e4e"
   },
   "outputs": [
    {
     "name": "stderr",
     "output_type": "stream",
     "text": [
      "100%|██████████| 35/35 [00:51<00:00,  1.45s/it]\n"
     ]
    }
   ],
   "source": [
    "#Threshold range, over which optimization is performed\n",
    "thresholds = np.arange(0.2, 0.9, 0.02)\n",
    "\n",
    "#For every threshold, set predictions to binary arrays,\n",
    "#where values above threshold are treated as 1 and the rest as 0.\n",
    "#Loop over thresholds and compute IoU for them based on IoU function above.\n",
    "ious = np.array(\n",
    "    [iou_metric_batch(y_val_true, np.int32(y_val_pred > threshold)) for threshold in tqdm(thresholds)]\n",
    ")\n"
   ]
  },
  {
   "cell_type": "code",
   "execution_count": 33,
   "metadata": {
    "colab": {
     "base_uri": "https://localhost:8080/",
     "height": 609
    },
    "colab_type": "code",
    "executionInfo": {
     "elapsed": 1339,
     "status": "ok",
     "timestamp": 1563887511110,
     "user": {
      "displayName": "大木 杜生Morio OHKI",
      "photoUrl": "",
      "userId": "03914199061619137174"
     },
     "user_tz": -540
    },
    "id": "cJ1IpjgkgB2Q",
    "outputId": "66945e8c-73d4-4d4c-d3c7-6d34b2da85d8"
   },
   "outputs": [
    {
     "name": "stdout",
     "output_type": "stream",
     "text": [
      "Best IoU: 0.5413 at threshold: 0.800\n"
     ]
    },
    {
     "data": {
      "text/plain": [
       "<matplotlib.axes._subplots.AxesSubplot at 0x7f3287e90470>"
      ]
     },
     "execution_count": 33,
     "metadata": {
      "tags": []
     },
     "output_type": "execute_result"
    },
    {
     "data": {
      "image/png": "[encoded data removed]",
      "text/plain": [
       "<Figure size 864x648 with 1 Axes>"
      ]
     },
     "metadata": {
      "tags": []
     },
     "output_type": "display_data"
    }
   ],
   "source": [
    "df_iou = pd.DataFrame(thresholds, columns=['threshold'])\n",
    "df_iou['iou'] = ious\n",
    "\n",
    "#Get index of best IoU\n",
    "best_index = df_iou['iou'].idxmax()\n",
    "print('Best IoU: {:.4f} at threshold: {:.3f}'.format(\n",
    "    df_iou.iou[best_index], df_iou.threshold[best_index]\n",
    "))\n",
    "\n",
    "#Describe IoU DF\n",
    "df_iou.describe()\n",
    "#Plot IoU values over threshold range\n",
    "df_iou.plot(x='threshold', y='iou')"
   ]
  },
  {
   "cell_type": "markdown",
   "metadata": {
    "colab_type": "text",
    "id": "0tEGrnYWIlBy"
   },
   "source": [
    "## 【問題3】学習・推定\n",
    "ResNetとVGG双方のコードで学習・推定を行い、結果を比較してください。"
   ]
  },
  {
   "cell_type": "markdown",
   "metadata": {
    "colab_type": "text",
    "id": "hVoXDscIIlBz"
   },
   "source": [
    "問題1, 2の中で実施した。Encoderの層が深いためかResNetの方がIoUが高くなった。"
   ]
  }
 ],
 "metadata": {
  "accelerator": "GPU",
  "colab": {
   "collapsed_sections": [],
   "name": "sprint21-segmentation2.ipynb",
   "provenance": [],
   "toc_visible": true,
   "version": "0.3.2"
  },
  "kernelspec": {
   "display_name": "Python 3",
   "language": "python",
   "name": "python3"
  },
  "language_info": {
   "codemirror_mode": {
    "name": "ipython",
    "version": 3
   },
   "file_extension": ".py",
   "mimetype": "text/x-python",
   "name": "python",
   "nbconvert_exporter": "python",
   "pygments_lexer": "ipython3",
   "version": "3.6.8"
  }
 },
 "nbformat": 4,
 "nbformat_minor": 1
}
