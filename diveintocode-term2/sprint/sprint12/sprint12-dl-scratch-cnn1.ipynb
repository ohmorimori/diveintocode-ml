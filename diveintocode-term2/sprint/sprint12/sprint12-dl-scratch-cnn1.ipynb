{
 "cells": [
  {
   "cell_type": "markdown",
   "metadata": {},
   "source": [
    "# Sprint12課題 深層学習スクラッチ畳み込みニューラルネットワーク1"
   ]
  },
  {
   "cell_type": "markdown",
   "metadata": {},
   "source": [
    "## 【問題1】チャンネル数を1に限定した1次元畳み込み層クラスの作成\n",
    "チャンネル数を1に限定した1次元畳み込み層のクラスSimpleConv1dを作成してください。基本構造はsprint11で作成したFCクラスと同じになります。なお、重みの初期化に関するクラスは必要に応じて作り変えてください。Xavierの初期値などを使う点は全結合層と同様です。\n",
    "\n",
    "ここではパディングは考えず、ストライドも1に固定します。また、複数のデータを同時に処理することも考えなくて良く、バッチサイズは1のみに対応してください。この部分の拡張はアドバンス課題とします。\n",
    "\n",
    "フォワードプロパゲーションの数式は以下のようになります。"
   ]
  },
  {
   "cell_type": "markdown",
   "metadata": {},
   "source": [
    "[こちら](https://github.com/ohmorimori/diveintocode-ml/blob/master/diveintocode-term2/ml-scratch/model/layer.py)にチャンネル数を限定しないConv1として実装<br>"
   ]
  },
  {
   "cell_type": "markdown",
   "metadata": {},
   "source": [
    "## 【問題2】1次元畳み込み後の出力サイズの計算\n",
    "畳み込みを行うと特徴量の数が変化します。どのように変化するかは以下の数式から求められます。パディングやストライドも含めています。この計算を行う関数を作成してください\n",
    "$$\n",
    "N_{out} =  \\frac{N_{in}+2P-F}{S} + 1\\\\\n",
    "$$\n",
    "$N_{out}$: 出力のサイズ（特徴量の数）\n",
    "\n",
    "$N_in$ : 入力のサイズ（特徴量の数）\n",
    "\n",
    "$P$ : ある方向へのパディングの数\n",
    "\n",
    "$F$ : フィルタのサイズ\n",
    "\n",
    "$S$ : ストライドのサイズ"
   ]
  },
  {
   "cell_type": "markdown",
   "metadata": {},
   "source": [
    "[こちら](https://github.com/ohmorimori/diveintocode-ml/blob/master/diveintocode-term2/ml-scratch/utils/change_shape.py)に畳み込み後の出力サイズを求める関数をget_output_sizeとして実装"
   ]
  },
  {
   "cell_type": "markdown",
   "metadata": {},
   "source": [
    "## 【問題3】小さな配列での1次元畳み込み層の実験\n",
    "次に示す小さな配列でフォワードプロパゲーションとバックプロパゲーションが正しく行えているか確認してください。\n",
    "\n",
    "入力x、重みw、バイアスbを次のようにします。"
   ]
  },
  {
   "cell_type": "code",
   "execution_count": 5,
   "metadata": {},
   "outputs": [],
   "source": [
    "import sys\n",
    "dir_str = \"../../ml-scratch/model\"\n",
    "if (dir_str not in sys.path):\n",
    "    sys.path.append(dir_str)\n",
    "\n",
    "import numpy as np    \n",
    "from layer import Conv1D\n",
    "\n",
    "#動作確認\n",
    "x = np.array([[[1,2,3,4]]])\n",
    "W = np.array([[[3, 5, 7]]])\n",
    "b = np.array([1])\n",
    "\n",
    "delta_a = np.array([[[10, 20]]])"
   ]
  },
  {
   "cell_type": "code",
   "execution_count": 6,
   "metadata": {},
   "outputs": [
    {
     "name": "stdout",
     "output_type": "stream",
     "text": [
      "[[[35. 50.]]]\n"
     ]
    }
   ],
   "source": [
    "conv1 = Conv1D(W=W, b=b, stride=1, pad=0)\n",
    "out = conv1.forward(x)\n",
    "print(out)"
   ]
  },
  {
   "cell_type": "code",
   "execution_count": 9,
   "metadata": {},
   "outputs": [
    {
     "name": "stdout",
     "output_type": "stream",
     "text": [
      "[30]\n",
      "[[[ 50.  80. 110.]]]\n",
      "[[[ 30. 110. 170. 140.]]]\n"
     ]
    }
   ],
   "source": [
    "dx = conv1.backward(delta_a)\n",
    "print(conv1.db)\n",
    "print(conv1.dW)\n",
    "print(dx)"
   ]
  },
  {
   "cell_type": "markdown",
   "metadata": {},
   "source": [
    "確認できた。"
   ]
  },
  {
   "cell_type": "markdown",
   "metadata": {},
   "source": [
    "## 【問題4】チャンネル数を限定しない1次元畳み込み層クラスの作成\n",
    "\n",
    "チャンネル数を1に限定しない1次元畳み込み層のクラスConv1dを作成してください。\n",
    "\n",
    "紙やホワイトボードを使い計算グラフを書きながら考えてください。"
   ]
  },
  {
   "cell_type": "markdown",
   "metadata": {},
   "source": [
    "問題1で取り組んだ通り、[こちら](https://github.com/ohmorimori/diveintocode-ml/blob/master/diveintocode-term2/ml-scratch/model/layer.py)にチャンネル数を限定しないConv1として実装<br>"
   ]
  },
  {
   "cell_type": "markdown",
   "metadata": {},
   "source": [
    "## 【問題5】学習・推定\n",
    "これまで使ってきたニューラルネットワークの全結合層の一部をConv1dに置き換えて学習と推定を行ってください。出力層だけは全結合層をそのまま使ってください。\n",
    "\n",
    "チャンネルが複数ある状態では全結合層への入力は行えません。その段階でのチャンネルは1になるようにするか、平滑化を行います。平滑化はNumPyのreshapeが使用できます。\n",
    "\n",
    "numpy.reshape — NumPy v1.15 Manual\n",
    "\n",
    "画像に対しての1次元畳み込みは実用上は行わないことのため、精度は問いません。"
   ]
  },
  {
   "cell_type": "markdown",
   "metadata": {},
   "source": [
    "[こちら](https://github.com/ohmorimori/diveintocode-ml/blob/master/diveintocode-term2/ml-scratch/model/scratch_cnn1d_classifier.py)のpyファイルにScratch1dCNNClassifierクラスを実装"
   ]
  },
  {
   "cell_type": "code",
   "execution_count": 27,
   "metadata": {},
   "outputs": [],
   "source": [
    "#データセットの用意\n",
    "from keras.datasets import mnist\n",
    "import numpy as np\n",
    "(X_train, y_train), (X_test, y_test) = mnist.load_data()\n"
   ]
  },
  {
   "cell_type": "code",
   "execution_count": 28,
   "metadata": {},
   "outputs": [
    {
     "name": "stdout",
     "output_type": "stream",
     "text": [
      "(24000, 1, 784)\n",
      "(6000, 1, 784)\n"
     ]
    }
   ],
   "source": [
    "#data数を絞る\n",
    "X_train = X_train[:30000]\n",
    "y_train = y_train[:30000]\n",
    "X_test = X_test[:500]\n",
    "y_test = y_test[:500]\n",
    "\n",
    "#reshape(N, 28, 28) -> (N, 1, 784)\n",
    "X_train = X_train.reshape(-1, 1, X_train.shape[1]*X_train.shape[2])\n",
    "X_test = X_test.reshape(-1, 1, X_test.shape[1]*X_test.shape[2])\n",
    "\n",
    "#normalize\n",
    "X_train = X_train.astype(np.float)/255\n",
    "X_test = X_test.astype(np.float)/255\n",
    "X_train.shape\n",
    "#one-hot\n",
    "eye = np.eye(len(np.unique(y_train)))\n",
    "y_train = eye[y_train]\n",
    "y_test = eye[y_test]\n",
    "\n",
    "#split into train, val\n",
    "from sklearn.model_selection import train_test_split\n",
    "X_train, X_val, y_train, y_val = train_test_split(X_train, y_train, test_size=0.2)\n",
    "print(X_train.shape) \n",
    "print(X_val.shape) "
   ]
  },
  {
   "cell_type": "code",
   "execution_count": 29,
   "metadata": {},
   "outputs": [
    {
     "name": "stdout",
     "output_type": "stream",
     "text": [
      "epoch: 0\n",
      "train_acc: 0.5514583333333334, val_acc0.541\n",
      "train loss: 1.7614287501493349, val_loss1.7614287501493349\n",
      "epoch: 1\n",
      "train_acc: 0.820875, val_acc0.8135\n",
      "train loss: 0.6095958563446384, val_loss0.6095958563446384\n",
      "epoch: 2\n",
      "train_acc: 0.8866666666666667, val_acc0.8836666666666667\n",
      "train loss: 0.3973413531025308, val_loss0.3973413531025308\n"
     ]
    }
   ],
   "source": [
    "from scratch_cnn1d_classifier import Scratch1dCNNClassifier\n",
    "cnn = Scratch1dCNNClassifier(\n",
    "    conv_param={'n_filters': 30, 'filter_size': 5, 'stride': 1, 'pad': 0},\n",
    "    pool_param={'pool_size': 2},\n",
    "    n_epochs=3,\n",
    "    batch_size=1000,\n",
    "    optimizer='Adam',\n",
    "    optimizer_param={'lr': 0.001},\n",
    "    layer_nodes = {'hidden': 100, 'output': 10},\n",
    "    weight_init_std=0.01,\n",
    "    verbose=True\n",
    ")\n",
    "\n",
    "cnn.fit(x_train=X_train, y_train=y_train, x_val=X_val, y_val=y_val)\n",
    "pred = cnn.predict(X_test)"
   ]
  },
  {
   "cell_type": "code",
   "execution_count": 31,
   "metadata": {
    "scrolled": false
   },
   "outputs": [
    {
     "name": "stdout",
     "output_type": "stream",
     "text": [
      "acuracy:  0.886\n"
     ]
    }
   ],
   "source": [
    "y_actual = np.argmax(y_test, axis=1)\n",
    "print(\"acuracy: \", (pred == y_actual).sum() / len(pred))"
   ]
  },
  {
   "cell_type": "markdown",
   "metadata": {},
   "source": [
    "## 【問題6】（アドバンス課題）パディングの実装\n",
    "畳み込み層にパディングを加えてください。1次元配列の場合、前後にn個特徴量を増やせるようにしてください。\n",
    "\n",
    "最も単純なパディングは全て0で埋めるゼロパディングであり、CNNでは一般的です。他に端の値を繰り返す方法などもあります。\n",
    "\n",
    "フレームワークによっては、元の入力のサイズを保つようにという指定をすることができます。この機能も持たせておくと便利です。\n",
    "\n",
    "なお、NumPyにはパディングの関数が存在します。\n",
    "\n",
    "numpy.pad — NumPy v1.15 Manual"
   ]
  },
  {
   "cell_type": "markdown",
   "metadata": {},
   "source": [
    "問題1で取り組んだ通り、[こちら](https://github.com/ohmorimori/diveintocode-ml/blob/master/diveintocode-term2/ml-scratch/model/layer.py)にパディングを考慮したConv1として実装<br>"
   ]
  },
  {
   "cell_type": "markdown",
   "metadata": {},
   "source": [
    "## 【問題7】（アドバンス課題）ミニバッチへの対応\n",
    "ここまでの課題はバッチサイズ1で良いとしてきました。しかし、実際は全結合層同様にミニバッチ学習が行われます。Conv1dクラスを複数のデータが同時に計算できるように変更してください。"
   ]
  },
  {
   "cell_type": "markdown",
   "metadata": {},
   "source": [
    "問題1で取り組んだ通り、[こちら](https://github.com/ohmorimori/diveintocode-ml/blob/master/diveintocode-term2/ml-scratch/model/layer.py)にミニバッチ学習に対応したConv1として実装<br>\n",
    "問題5でミニバッチ学習した。"
   ]
  },
  {
   "cell_type": "markdown",
   "metadata": {},
   "source": [
    "## 【問題8】（アドバンス課題）任意のストライド数\n",
    "ストライドは1限定の実装をしてきましたが、任意のストライド数に対応できるようにしてください。"
   ]
  }
 ],
 "metadata": {
  "kernelspec": {
   "display_name": "Python 3",
   "language": "python",
   "name": "python3"
  },
  "language_info": {
   "codemirror_mode": {
    "name": "ipython",
    "version": 3
   },
   "file_extension": ".py",
   "mimetype": "text/x-python",
   "name": "python",
   "nbconvert_exporter": "python",
   "pygments_lexer": "ipython3",
   "version": "3.6.8"
  }
 },
 "nbformat": 4,
 "nbformat_minor": 2
}
