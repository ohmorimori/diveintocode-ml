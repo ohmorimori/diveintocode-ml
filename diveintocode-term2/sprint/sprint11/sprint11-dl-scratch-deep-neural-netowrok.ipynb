{
 "cells": [
  {
   "cell_type": "markdown",
   "metadata": {},
   "source": [
    "# Sprint11課題 深層学習スクラッチディープニューラルネットワーク"
   ]
  },
  {
   "cell_type": "markdown",
   "metadata": {},
   "source": [
    "## 【問題1】全結合層のクラス化\n",
    "コーディング\n",
    "\n",
    "全結合層のクラスの雛形を載せました。コンストラクタで重みやバイアスの初期化をして、あとはフォワードとバックワードのメソッドを用意します。\n",
    "\n",
    "重みW、バイアスB、およびフォワード時の入力Xをインスタンス変数として保持しておくことで、煩雑な入出力は不要になります。\n",
    "\n",
    "なお、インスタンスも引数として渡すことができます。そのため、初期化方法のインスタンスinitializerをコンストラクタで受け取れば、それにより初期化が行われます。渡すインスタンスを変えれば、初期化方法が変えられます。\n",
    "\n",
    "また、引数として自身のインスタンスselfを渡すこともできます。これを利用してself = self.optimizer.update(self)という風に層の重みの更新が可能です。更新に必要な値は複数ありますが、全て全結合層が持つインスタンス変数にすることができます。\n",
    "\n",
    "初期化方法と最適化手法のクラスについては後述します。"
   ]
  },
  {
   "cell_type": "markdown",
   "metadata": {},
   "source": [
    "pyファイルは[こちら](https://github.com/ohmorimori/diveintocode-ml/blob/master/diveintocode-term2/ml-scratch/model/layer.py)"
   ]
  },
  {
   "cell_type": "markdown",
   "metadata": {},
   "source": [
    "## 【問題2】初期化方法のクラス化\n",
    "前述のように、全結合層のコンストラクタに初期化方法のインスタンスを渡せるようにします。雛形に必要なコードを書き加えていってください。標準偏差の値（sigma）はコンストラクタで受け取るようにすることで、全結合層のクラス内にこの値（sigma）を渡さなくてすむようになります。\n",
    "\n",
    "これまで扱ってきた初期化方法はSimpleInitializerクラスと名付けることにします。"
   ]
  },
  {
   "cell_type": "markdown",
   "metadata": {},
   "source": [
    "pyファイルは[こちら](https://github.com/ohmorimori/diveintocode-ml/blob/master/diveintocode-term2/ml-scratch/model/initializer.py)"
   ]
  },
  {
   "cell_type": "markdown",
   "metadata": {},
   "source": [
    "## 【問題3】最適化手法のクラス化\n",
    "最適化手法に関しても初期化方法同様に全結合層にインスタンスとして渡します。バックワードのときにself = self.optimizer.update(self)のように更新できるようにします。こちらも雛形を用意しましたので、必要なコードを書き加えていってください。\n",
    "\n",
    "これまで扱ってきた最適化手法はSGDクラス（Stochastic Gradient Descent、確率的勾配降下法）として作成します。"
   ]
  },
  {
   "cell_type": "markdown",
   "metadata": {},
   "source": [
    "pyファイルは[こちら](https://github.com/ohmorimori/diveintocode-ml/blob/master/diveintocode-term2/ml-scratch/model/optimizer.py)"
   ]
  },
  {
   "cell_type": "markdown",
   "metadata": {},
   "source": [
    "## 【問題4】活性化関数のクラス化\n",
    "活性化関数もクラス化を行なってください。\n",
    "\n",
    "上記サンプルコード3ではソフトマックス関数のバックプロパゲーションに交差エントロピー誤差の計算も含む実装を想定しています。"
   ]
  },
  {
   "cell_type": "markdown",
   "metadata": {},
   "source": [
    "pyファイルは[こちら](https://github.com/ohmorimori/diveintocode-ml/blob/master/diveintocode-term2/ml-scratch/model/activator.py)"
   ]
  },
  {
   "cell_type": "markdown",
   "metadata": {},
   "source": [
    "## 【問題5】ReLUクラスの作成\n",
    "現在一般的に使われている活性化関数であるReLU（Rectified Linear Unit）をReLUクラスとして実装します。\n",
    "\n",
    "ReLUは以下の数式です。"
   ]
  },
  {
   "cell_type": "markdown",
   "metadata": {},
   "source": [
    "pyファイルは[こちら](https://github.com/ohmorimori/diveintocode-ml/blob/master/diveintocode-term2/ml-scratch/model/activator.py)"
   ]
  },
  {
   "cell_type": "markdown",
   "metadata": {},
   "source": [
    "## 【問題6】重みの初期値\n",
    "ここまでは重みやバイアスの初期値は単純にガウス分布で、標準偏差をハイパーパラメータとして扱ってきました。しかし、一般的に良い初期値の取り方が知られています。\n",
    "\n",
    "シグモイド関数やハイパボリックタンジェント関数のときはXavierの初期値（またはGlorotの初期値）、ReLUのときはHeの初期値が使われます。\n",
    "\n",
    "XavierInitializerクラスと、HeInitializerクラスを作成します。\n",
    "\n",
    "それぞれの初期化方法における \n",
    "σ\n",
    " は次の式で求められます。\n",
    "\n",
    "「Xavierの初期値」"
   ]
  },
  {
   "cell_type": "markdown",
   "metadata": {},
   "source": [
    "pyファイルは[こちら](https://github.com/ohmorimori/diveintocode-ml/blob/master/diveintocode-term2/ml-scratch/model/initializer.py)"
   ]
  },
  {
   "cell_type": "markdown",
   "metadata": {},
   "source": [
    "## 【問題7】最適化手法\n",
    "コーディング\n",
    "\n",
    "学習率は学習の良し悪しにとって重要なハイパーパラメータであり、これを学習過程で変化させていく方法が現在では一般的です。様々な手法が提案されていますが、今回はその中でも基本的な、AdaGradを実装します。\n",
    "\n",
    "まず、これまで使ってきたSGDを確認します。"
   ]
  },
  {
   "cell_type": "markdown",
   "metadata": {},
   "source": [
    "pyファイルは[こちら](https://github.com/ohmorimori/diveintocode-ml/blob/master/diveintocode-term2/ml-scratch/model/optimizer.py)"
   ]
  },
  {
   "cell_type": "code",
   "execution_count": 1,
   "metadata": {},
   "outputs": [
    {
     "name": "stderr",
     "output_type": "stream",
     "text": [
      "Using TensorFlow backend.\n"
     ]
    }
   ],
   "source": [
    "#データセットの用意\n",
    "from keras.datasets import mnist\n",
    "import numpy as np\n",
    "(X_train, y_train), (X_test, y_test) = mnist.load_data()"
   ]
  },
  {
   "cell_type": "code",
   "execution_count": 2,
   "metadata": {},
   "outputs": [
    {
     "name": "stdout",
     "output_type": "stream",
     "text": [
      "(28, 28)\n",
      "(784, 1)\n"
     ]
    }
   ],
   "source": [
    "#reshape\n",
    "test = X_train[0]\n",
    "print(test.shape)\n",
    "test = test.reshape(-1, 1)\n",
    "print(test.shape)"
   ]
  },
  {
   "cell_type": "code",
   "execution_count": 3,
   "metadata": {},
   "outputs": [],
   "source": [
    "#reshape\n",
    "X_train = X_train.reshape(-1, X_train.shape[1]*X_train.shape[2])\n",
    "X_test = X_test.reshape(-1, X_test.shape[1]*X_test.shape[2])"
   ]
  },
  {
   "cell_type": "code",
   "execution_count": 4,
   "metadata": {},
   "outputs": [
    {
     "name": "stdout",
     "output_type": "stream",
     "text": [
      "1.0\n",
      "0.0\n"
     ]
    }
   ],
   "source": [
    "#前処理\n",
    "X_train = X_train.astype(np.float)\n",
    "X_test = X_test.astype(np.float)\n",
    "X_train /= 255\n",
    "X_test /= 255\n",
    "print(X_train.max())\n",
    "print(X_train.min())"
   ]
  },
  {
   "cell_type": "code",
   "execution_count": 5,
   "metadata": {},
   "outputs": [
    {
     "name": "stdout",
     "output_type": "stream",
     "text": [
      "(48000, 784)\n",
      "(12000, 784)\n"
     ]
    }
   ],
   "source": [
    "#split into train, val\n",
    "from sklearn.model_selection import train_test_split\n",
    "X_train, X_val, y_train, y_val = train_test_split(X_train, y_train, test_size=0.2)\n",
    "print(X_train.shape) \n",
    "print(X_val.shape) "
   ]
  },
  {
   "cell_type": "markdown",
   "metadata": {},
   "source": [
    "modelのインポート<br>\n",
    "[pyファイル](https://github.com/ohmorimori/diveintocode-ml/blob/master/diveintocode-term2/ml-scratch/model/scratch_deep_nn_classifier.py)"
   ]
  },
  {
   "cell_type": "code",
   "execution_count": 7,
   "metadata": {},
   "outputs": [],
   "source": [
    "#modelのインポート\n",
    "import sys\n",
    "model = \"../../ml-scratch/model\"\n",
    "if model not in sys.path:\n",
    "        sys.path.append(model)\n",
    "\n",
    "from scratch_deep_nn_classifier import ScratchDeepNeuralNetrowkClassifier\n"
   ]
  },
  {
   "cell_type": "code",
   "execution_count": 13,
   "metadata": {},
   "outputs": [
    {
     "name": "stdout",
     "output_type": "stream",
     "text": [
      "epoch:  0\n",
      "process time:  10.499972105026245 sec\n",
      "epoch:  1\n",
      "process time:  21.237000942230225 sec\n",
      "epoch:  2\n",
      "process time:  32.06384205818176 sec\n",
      "epoch:  3\n",
      "process time:  46.24880528450012 sec\n",
      "epoch:  4\n",
      "process time:  60.54175591468811 sec\n",
      "epoch:  5\n",
      "process time:  78.38211107254028 sec\n",
      "epoch:  6\n",
      "process time:  96.89339017868042 sec\n",
      "epoch:  7\n",
      "process time:  114.72902202606201 sec\n",
      "epoch:  8\n",
      "process time:  131.29367303848267 sec\n",
      "epoch:  9\n",
      "process time:  148.65427827835083 sec\n",
      "epoch:  10\n",
      "process time:  164.8840880393982 sec\n",
      "epoch:  11\n",
      "process time:  180.59114909172058 sec\n",
      "epoch:  12\n",
      "process time:  194.89581608772278 sec\n",
      "epoch:  13\n",
      "process time:  209.56415104866028 sec\n",
      "epoch:  14\n",
      "process time:  223.66424417495728 sec\n",
      "epoch:  15\n",
      "process time:  238.7555022239685 sec\n",
      "epoch:  16\n",
      "process time:  253.79947233200073 sec\n",
      "epoch:  17\n",
      "process time:  268.2677938938141 sec\n",
      "epoch:  18\n",
      "process time:  282.6084771156311 sec\n",
      "epoch:  19\n",
      "process time:  296.4353621006012 sec\n",
      "epoch:  20\n",
      "process time:  310.32028126716614 sec\n",
      "epoch:  21\n",
      "process time:  324.1994969844818 sec\n",
      "epoch:  22\n",
      "process time:  338.684611082077 sec\n",
      "epoch:  23\n",
      "process time:  353.93336606025696 sec\n",
      "epoch:  24\n",
      "process time:  367.2520372867584 sec\n",
      "epoch:  25\n",
      "process time:  381.6158661842346 sec\n",
      "epoch:  26\n",
      "process time:  396.08482217788696 sec\n",
      "epoch:  27\n",
      "process time:  410.5211851596832 sec\n",
      "epoch:  28\n",
      "process time:  424.83951711654663 sec\n",
      "epoch:  29\n",
      "process time:  439.2143702507019 sec\n",
      "[7 2 1 ... 4 5 6]\n",
      "[7 2 1 ... 4 5 6]\n",
      "[ True  True  True ...  True  True  True]\n",
      "0.8763\n"
     ]
    }
   ],
   "source": [
    "snnc = ScratchDeepNeuralNetrowkClassifier(\n",
    "        batch_size=20,\n",
    "        lr=0.001,\n",
    "        n_epochs=30\n",
    ")\n",
    "\n",
    "cost = snnc.fit(X_train, y_train, X_test, y_test)\n",
    "pred = snnc.predict(X_test)\n",
    "\n",
    "print(y_test)\n",
    "print(pred)\n",
    "print(y_test == pred)\n",
    "print((y_test == pred).sum()/len(y_test))\n",
    "\n"
   ]
  },
  {
   "cell_type": "code",
   "execution_count": 15,
   "metadata": {},
   "outputs": [
    {
     "data": {
      "image/png": "[encoded data removed]",
      "text/plain": [
       "<Figure size 432x288 with 1 Axes>"
      ]
     },
     "metadata": {},
     "output_type": "display_data"
    }
   ],
   "source": [
    "import matplotlib.pyplot as plt\n",
    "plt.style.use('fivethirtyeight')\n",
    "plt.plot(np.arange(len(cost[\"training\"])), cost[\"training\"], label=\"training\")\n",
    "plt.plot(np.arange(len(cost[\"validation\"])), cost[\"validation\"], label=\"validation\")\n",
    "plt.legend();"
   ]
  },
  {
   "cell_type": "code",
   "execution_count": null,
   "metadata": {},
   "outputs": [],
   "source": []
  }
 ],
 "metadata": {
  "kernelspec": {
   "display_name": "Python 3",
   "language": "python",
   "name": "python3"
  },
  "language_info": {
   "codemirror_mode": {
    "name": "ipython",
    "version": 3
   },
   "file_extension": ".py",
   "mimetype": "text/x-python",
   "name": "python",
   "nbconvert_exporter": "python",
   "pygments_lexer": "ipython3",
   "version": "3.6.8"
  }
 },
 "nbformat": 4,
 "nbformat_minor": 2
}
