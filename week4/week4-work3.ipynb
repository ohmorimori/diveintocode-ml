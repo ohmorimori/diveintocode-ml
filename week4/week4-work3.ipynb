{
 "cells": [
  {
   "cell_type": "markdown",
   "metadata": {},
   "source": [
    "# Week4授業前課題3 オブジェクト指向に慣れよう"
   ]
  },
  {
   "cell_type": "markdown",
   "metadata": {},
   "source": [
    "## 【問題1】これまで利用してきたクラスの列挙\n",
    "クラスを使う際はインスタンス化を行うことと、クラスの命名法がわかりました。この情報を元に、これまでの課題で利用してきたコードの中でどのようなクラスがあったかを答えてください。\n",
    "\n",
    "最低でもPandas、matplotlib、scikit-learnからそれぞれ1つ以上見つけてください。\n",
    "\n",
    "メソッド\n",
    "インスタンス化を行った後には、scaler.fit(X)のような メソッド の実行がきます。StandardScalerのfitメソッドは後でスケーリングに使われる平均と標準偏差を計算する機能があります。\n",
    "\n",
    "インスタンス変数（アトリビュート）\n",
    "fitメソッドにより平均と標準偏差が計算されましたが、見た目には変化があるわけではありません。しかし、scalerインスタンスの内部では計算結果が保存されています。こういったインスタンスの中で値を保存するものを インスタンス変数 や アトリビュート（属性） と呼びます。ここで平均がscaler.mean_、標準偏差の2乗した値である分散がscaler.var_に保存されています。"
   ]
  },
  {
   "cell_type": "markdown",
   "metadata": {},
   "source": [
    "|ライブラリ|クラスの例|\n",
    "|:--|:--|\n",
    "|pandas|DataFrame|\n",
    "|matplotlib|ListedColormap|\n",
    "|scikit-learn|LogisticRegression, SVC, KNeighborsClassifier|"
   ]
  },
  {
   "cell_type": "markdown",
   "metadata": {},
   "source": [
    "## 【問題2】これまで利用してきたメソッドやインスタンス変数の列挙\n",
    "これまでの課題で利用してきたコードの中でどのようなメソッドやインスタンス変数があったかを答えてください。\n",
    "\n",
    "最低でもそれぞれ5つ以上答えてください。\n",
    "\n",
    "ndarrayやstrもインスタンス\n",
    "\n",
    "ドットをつけるというと、NumPyのndarrayに対してndarray.shapeやndarray.sum()のような使い方は何度も利用してきたかと思います。これは、ndarrayもインスタンスオブジェクトであり、shapeはインスタンス変数、sumはメソッドだったということです。\n",
    "\n",
    "Pythonのコードに登場するデータはどれもインスタンスオブジェクトであり、listやstrもメソッドを持ちます。"
   ]
  },
  {
   "cell_type": "markdown",
   "metadata": {},
   "source": [
    "|クラス|インスタンス変数の例|メソッドの例|\n",
    "|:--|:--|:--|\n",
    "|DataFrame|dtypes, shape, describe, index, columns|head, tail, drop, |\n",
    "|KNeighborsClassifier|mean_|fit, predict|\n",
    "\n",
    "\n"
   ]
  },
  {
   "cell_type": "markdown",
   "metadata": {},
   "source": [
    "## 【問題3】標準化クラスをスクラッチで作成\n",
    "理解をより深めるため、StandardScalerをスクラッチで作成しましょう。scikit-learnは使わず、NumPyなどを活用して標準化の計算を記述します。具体的にはfitメソッドとtransformメソッドを作ります。\n",
    "\n",
    "今回は雛形を用意しました。クラスの作成方法は関数に近いです。メソッドはクラスの中にさらにインデントを一段下げて記述します。\n",
    "\n",
    "インスタンス変数を作成する際はself.mean_のようにselfを付けます。クラスの外からscaler.mean_と書いていたscalerの部分が自分自身を表すselfになっています。"
   ]
  },
  {
   "cell_type": "code",
   "execution_count": 24,
   "metadata": {},
   "outputs": [],
   "source": [
    "import numpy as np\n",
    "class ScratchStandardScaler():\n",
    "    \"\"\"\n",
    "    標準化のためのクラス\n",
    "\n",
    "    Attributes\n",
    "    ----------\n",
    "    mean_ : 次の形のndarray, shape(n_features,)\n",
    "        平均\n",
    "    var_ : 次の形のndarray, shape(n_features,)\n",
    "        分散\n",
    "    \"\"\"\n",
    "\n",
    "    def fit(self, X):\n",
    "        \"\"\"\n",
    "        標準化のために平均と標準偏差を計算する。\n",
    "\n",
    "        Parameters\n",
    "        ----------\n",
    "        X : 次の形のndarray, shape (n_samples, n_features)\n",
    "            学習データ\n",
    "        \"\"\"\n",
    "        #平均値\n",
    "        self.mean_ = X.mean(axis=0)\n",
    "        #分散\n",
    "        self.var_ = X.var(axis=0)\n",
    "        #標準偏差\n",
    "        self.std_ = X.std(axis=0)\n",
    "\n",
    "        pass\n",
    "\n",
    "    def transform(self, X):\n",
    "        \"\"\"\n",
    "        fitで求めた値を使い標準化を行う。\n",
    "\n",
    "        Parameters\n",
    "        ----------\n",
    "        X : 次の形のndarray, shape (n_samples, n_features)\n",
    "            特徴量\n",
    "\n",
    "        Returns\n",
    "        ----------\n",
    "        X_scaled : 次の形のndarray, shape (n_samples, n_features)\n",
    "            標準化された特緒量\n",
    "        \"\"\"\n",
    "        \n",
    "        X_scaled = (X - self.mean_)/self.std_\n",
    "        \n",
    "        pass\n",
    "        return X_scaled"
   ]
  },
  {
   "cell_type": "code",
   "execution_count": 345,
   "metadata": {},
   "outputs": [
    {
     "name": "stdout",
     "output_type": "stream",
     "text": [
      "平均 : [4.86 3.31 1.45 0.22]\n",
      "分散 : [0.0764 0.0849 0.0105 0.0056]\n",
      "Normalize後のX\n",
      " [[ 0.86828953  0.65207831 -0.48795004 -0.26726124]\n",
      " [ 0.14471492 -1.06391725 -0.48795004 -0.26726124]\n",
      " [-0.57885968 -0.37751902 -1.46385011 -0.26726124]\n",
      " [-0.94064699 -0.72071813  0.48795004 -0.26726124]\n",
      " [ 0.50650222  0.99527742 -0.48795004 -0.26726124]\n",
      " [ 1.95365143  2.02487476  2.43975018  2.40535118]\n",
      " [-0.94064699  0.3088792  -0.48795004  1.06904497]\n",
      " [ 0.50650222  0.3088792   0.48795004 -0.26726124]\n",
      " [-1.66422159 -1.40711636 -0.48795004 -0.26726124]\n",
      " [ 0.14471492 -0.72071813  0.48795004 -1.60356745]]\n"
     ]
    }
   ],
   "source": [
    "#実行するコード\n",
    "import numpy as np\n",
    "from sklearn.datasets import load_iris\n",
    "\n",
    "data = load_iris()\n",
    "X = data.data[:10]\n",
    "\n",
    "scratch_scaler = ScratchStandardScaler()\n",
    "scratch_scaler.fit(X)\n",
    "print(\"平均 :\", scratch_scaler.mean_)\n",
    "print(\"分散 :\", scratch_scaler.var_)\n",
    "X_std = scratch_scaler.transform(X)\n",
    "print(\"Normalize後のX\\n\", X_std)"
   ]
  },
  {
   "cell_type": "markdown",
   "metadata": {},
   "source": [
    "## 【課題4】 四則演算を行うクラスの作成\n",
    "下記ExampleClassは足し算のメソッドを持っていますが、これに引き算、掛け算、割り算のメソッドを加えてください。\n",
    "\n",
    "また、コンストラクタに入力されたvalueが文字列や配列など数値以外だった場合には警告文を出し、self.value=0とするコードを追加してください。\n",
    "\n",
    "クラス名や説明文も適切に書き換えてください。"
   ]
  },
  {
   "cell_type": "code",
   "execution_count": 335,
   "metadata": {},
   "outputs": [],
   "source": [
    "from functools import wraps\n",
    "\n",
    "class CalculateValue():\n",
    "    \"\"\"\n",
    "    説明用の簡単なクラス\n",
    "\n",
    "    Parameters\n",
    "    ----------\n",
    "    value : float or int\n",
    "        初期値\n",
    "\n",
    "    Attributes\n",
    "    ----------\n",
    "    value : float or int\n",
    "        計算結果\n",
    "    \"\"\"\n",
    "    \n",
    "    #Constructor\n",
    "    def __init__(self, value_):\n",
    "        #引数がint or floatの時のみインスタンス変数として受け取る\n",
    "        if (isinstance(value_, int) or isinstance(value_, float)):\n",
    "            self.value = value_\n",
    "        #引数の型がint or float以外の時はインスタンス変数にゼロを代入\n",
    "        else:\n",
    "            self.value = 0\n",
    "            print('\\n初期化のために渡された引数が数値でないので、ゼロで初期化します')\n",
    "\n",
    "        print(\"初期値{}が設定されました\".format(self.value))\n",
    "    \n",
    "    #計算のための引数がint or floatの時のみ計算するようなコールバック関数\n",
    "    #メソッドを引数として受け取って処理する\n",
    "    def check_argument_type(fn):\n",
    "        @wraps(fn)\n",
    "        def wrapper(self, value_):\n",
    "            #引数がint or floatの時\n",
    "            if (isinstance(value_, int) or isinstance(value_, float)):\n",
    "                #引数として受け取ったメソッドを実行\n",
    "                fn(self, value_)\n",
    "            #引数がint or float以外の時\n",
    "            else:\n",
    "                #引数として受け取ったメソッドを実行せずに流す\n",
    "                print('渡された引数が数値でないので計算をスキップしました')            \n",
    "        return wrapper\n",
    "\n",
    "    #printのためのメソッド\n",
    "    def print_value(self):\n",
    "        print(\"value :\", self.value)\n",
    "\n",
    "    #四則演算のメソッド\n",
    "    #計算の前に引数の型チェックを入れる\n",
    "    @check_argument_type    \n",
    "    def add(self, value_):\n",
    "        \n",
    "        \"\"\"\n",
    "        受け取った引数をself.valueに加える\n",
    "        \"\"\"\n",
    "        self.value += value_\n",
    "        self.print_value()\n",
    "\n",
    "    @check_argument_type\n",
    "    def subtract(self, value_):\n",
    "        self.value -= value_\n",
    "        self.print_value()\n",
    "\n",
    "    @check_argument_type\n",
    "    def multiply(self, value_):\n",
    "        self.value *= value_\n",
    "        self.print_value()\n",
    "\n",
    "    @check_argument_type\n",
    "    def divide(self, value_):\n",
    "        #引数が0以外の場合のみに計算を実行\n",
    "        if (value_ != 0):\n",
    "            self.value /= value_\n",
    "            self.print_value()\n",
    "        else:\n",
    "            print(\"0で割ることはできません。計算をスキップしました。\")"
   ]
  },
  {
   "cell_type": "code",
   "execution_count": 336,
   "metadata": {},
   "outputs": [
    {
     "name": "stdout",
     "output_type": "stream",
     "text": [
      "初期値5が設定されました\n",
      "value : 8\n",
      "value : 7\n",
      "value : 14\n",
      "value : 2.0\n",
      "0で割ることはできません。計算をスキップしました。\n"
     ]
    }
   ],
   "source": [
    "#intで初期化した場合\n",
    "example = CalculateValue(5)\n",
    "example.add(3)\n",
    "example.subtract(1)\n",
    "example.multiply(2)\n",
    "example.divide(7)\n",
    "#ゼロで割った場合\n",
    "example.divide(0)"
   ]
  },
  {
   "cell_type": "code",
   "execution_count": 337,
   "metadata": {},
   "outputs": [
    {
     "name": "stdout",
     "output_type": "stream",
     "text": [
      "初期値5.2が設定されました\n",
      "value : 8.2\n"
     ]
    }
   ],
   "source": [
    "#floatで初期化した場合\n",
    "example = CalculateValue(5.2)\n",
    "example.add(3)"
   ]
  },
  {
   "cell_type": "code",
   "execution_count": 338,
   "metadata": {},
   "outputs": [
    {
     "name": "stdout",
     "output_type": "stream",
     "text": [
      "\n",
      "初期化のために渡された引数が数値でないので、ゼロで初期化します\n",
      "初期値0が設定されました\n",
      "value : 3\n"
     ]
    }
   ],
   "source": [
    "# strで初期化した場合\n",
    "example = CalculateValue('moji')\n",
    "example.add(3)"
   ]
  },
  {
   "cell_type": "code",
   "execution_count": 339,
   "metadata": {},
   "outputs": [
    {
     "name": "stdout",
     "output_type": "stream",
     "text": [
      "初期値1が設定されました\n",
      "渡された引数が数値でないので計算をスキップしました\n",
      "value : 2\n"
     ]
    }
   ],
   "source": [
    "#strを演算の引数として渡した場合\n",
    "example = CalculateValue(1)\n",
    "example.add('str')\n",
    "example.add(1)"
   ]
  },
  {
   "cell_type": "code",
   "execution_count": null,
   "metadata": {},
   "outputs": [],
   "source": []
  }
 ],
 "metadata": {
  "kernelspec": {
   "display_name": "Python 3",
   "language": "python",
   "name": "python3"
  },
  "language_info": {
   "codemirror_mode": {
    "name": "ipython",
    "version": 3
   },
   "file_extension": ".py",
   "mimetype": "text/x-python",
   "name": "python",
   "nbconvert_exporter": "python",
   "pygments_lexer": "ipython3",
   "version": "3.6.8"
  }
 },
 "nbformat": 4,
 "nbformat_minor": 2
}
